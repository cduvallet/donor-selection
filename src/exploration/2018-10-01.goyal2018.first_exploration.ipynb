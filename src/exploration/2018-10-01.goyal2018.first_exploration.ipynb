{
 "cells": [
  {
   "cell_type": "markdown",
   "metadata": {},
   "source": [
    "This notebook is my first exploration of the Goyal 2018 data.\n",
    "\n",
    "Specifically, I need to figure out which of the duplicate samples I want to use (some samples were run twice, presumably because they \"failed\" sequencing).\n",
    "\n",
    "Let's keep track of my conclusions up here:\n",
    "- patient 007\n",
    "    - FMT.01.007.P has fewer than 1000 reads\n",
    "    - FMT.01.007.PX has 6700 reads (keep this one)\n",
    "    \n",
    "Samples to remove (the first one for samples with repeat sequencing):\n",
    "\n",
    "'FMT.01.007.P', 'FMT.01.029.D1', 'FMT.01.022.W', 'FMT.01.005.6M', 'FMT.01.010.PA', 'FMT.01.024.P1', 'FMT.01.024.D1', 'FMT.01.024.6M'\n",
    "\n",
    "Rationale: since the duplicate samples have about the same number of reads (differing by ~1000 reads at most, except for patient 007), I am going to keep the second sample in each pair (or at least try to guess which is the second sample...)"
   ]
  },
  {
   "cell_type": "code",
   "execution_count": 1,
   "metadata": {
    "collapsed": true
   },
   "outputs": [],
   "source": [
    "import pandas as pd\n",
    "import numpy as np\n",
    "#import skbio.diversity.alpha as alph\n",
    "#from skbio.diversity import beta_diversity \n",
    "#from sklearn.decomposition import PCA\n",
    "\n",
    "import matplotlib.pyplot as plt\n",
    "import seaborn as sns\n",
    "\n",
    "%matplotlib inline\n",
    "sns.set_style('white')"
   ]
  },
  {
   "cell_type": "code",
   "execution_count": 2,
   "metadata": {
    "collapsed": true
   },
   "outputs": [],
   "source": [
    "fotu = '../../data/qiime-proc/goyal2018/exported_data/goyal2018.feature-table.txt'\n",
    "fmeta = '../../data/clean/goyal2018.metadata.txt'"
   ]
  },
  {
   "cell_type": "code",
   "execution_count": 3,
   "metadata": {
    "collapsed": false
   },
   "outputs": [
    {
     "data": {
      "text/html": [
       "<div>\n",
       "<style scoped>\n",
       "    .dataframe tbody tr th:only-of-type {\n",
       "        vertical-align: middle;\n",
       "    }\n",
       "\n",
       "    .dataframe tbody tr th {\n",
       "        vertical-align: top;\n",
       "    }\n",
       "\n",
       "    .dataframe thead th {\n",
       "        text-align: right;\n",
       "    }\n",
       "</style>\n",
       "<table border=\"1\" class=\"dataframe\">\n",
       "  <thead>\n",
       "    <tr style=\"text-align: right;\">\n",
       "      <th>#OTU ID</th>\n",
       "      <th>90139774f761b15ef73f969b9efd29c7</th>\n",
       "      <th>c3cd39227e9ebd70fee95899f7485e4e</th>\n",
       "      <th>72d0d5bc25a3359c411b0a4b216768d4</th>\n",
       "      <th>2d6840c65916b78bbda71c55c9c47fc2</th>\n",
       "      <th>c87777a2c6afaae4dc36cabf7f0bc928</th>\n",
       "      <th>496f6cd25dd7be563d18574aac235747</th>\n",
       "      <th>86c77007b9d3b2ad0176eb6b6d7b4594</th>\n",
       "      <th>3987e6de21f9d89024d3e329d6fbf443</th>\n",
       "      <th>477dde4c60eb536f9151703d1d7201b0</th>\n",
       "      <th>18cb0bd15c1ac60b2fa0cd93734ef1b3</th>\n",
       "      <th>...</th>\n",
       "      <th>f26848993dc29809d5491c04fd4c5c4a</th>\n",
       "      <th>741af91fc9f1e35745693488fd58cc32</th>\n",
       "      <th>147892512ccaa885b2baf1b6567b54a9</th>\n",
       "      <th>d25888246ccabe0d048877709eabd69e</th>\n",
       "      <th>15fbd641d7b8793b605b376efc349547</th>\n",
       "      <th>3d36879c896515993d72bc9b32e2ec57</th>\n",
       "      <th>e8fe766ab8fa4e367d854c66ef3ce1d8</th>\n",
       "      <th>434105c7b871137b1bdfeb9881fdd358</th>\n",
       "      <th>0dc6392e5cfa24100e54254bdf66bbfe</th>\n",
       "      <th>30f579537c1b617e35e752f02633a9c2</th>\n",
       "    </tr>\n",
       "  </thead>\n",
       "  <tbody>\n",
       "    <tr>\n",
       "      <th>FMT.03.042.W</th>\n",
       "      <td>2194.0</td>\n",
       "      <td>1734.0</td>\n",
       "      <td>1597.0</td>\n",
       "      <td>1457.0</td>\n",
       "      <td>1445.0</td>\n",
       "      <td>1284.0</td>\n",
       "      <td>1281.0</td>\n",
       "      <td>1274.0</td>\n",
       "      <td>1059.0</td>\n",
       "      <td>926.0</td>\n",
       "      <td>...</td>\n",
       "      <td>0.0</td>\n",
       "      <td>0.0</td>\n",
       "      <td>0.0</td>\n",
       "      <td>0.0</td>\n",
       "      <td>0.0</td>\n",
       "      <td>0.0</td>\n",
       "      <td>0.0</td>\n",
       "      <td>0.0</td>\n",
       "      <td>0.0</td>\n",
       "      <td>0.0</td>\n",
       "    </tr>\n",
       "    <tr>\n",
       "      <th>FMT.01.022.W</th>\n",
       "      <td>78.0</td>\n",
       "      <td>152.0</td>\n",
       "      <td>0.0</td>\n",
       "      <td>119.0</td>\n",
       "      <td>0.0</td>\n",
       "      <td>2.0</td>\n",
       "      <td>32.0</td>\n",
       "      <td>0.0</td>\n",
       "      <td>0.0</td>\n",
       "      <td>753.0</td>\n",
       "      <td>...</td>\n",
       "      <td>0.0</td>\n",
       "      <td>0.0</td>\n",
       "      <td>0.0</td>\n",
       "      <td>0.0</td>\n",
       "      <td>0.0</td>\n",
       "      <td>0.0</td>\n",
       "      <td>0.0</td>\n",
       "      <td>0.0</td>\n",
       "      <td>0.0</td>\n",
       "      <td>0.0</td>\n",
       "    </tr>\n",
       "    <tr>\n",
       "      <th>FMT.01.022.6M</th>\n",
       "      <td>0.0</td>\n",
       "      <td>0.0</td>\n",
       "      <td>0.0</td>\n",
       "      <td>0.0</td>\n",
       "      <td>0.0</td>\n",
       "      <td>0.0</td>\n",
       "      <td>0.0</td>\n",
       "      <td>0.0</td>\n",
       "      <td>0.0</td>\n",
       "      <td>6.0</td>\n",
       "      <td>...</td>\n",
       "      <td>0.0</td>\n",
       "      <td>0.0</td>\n",
       "      <td>0.0</td>\n",
       "      <td>0.0</td>\n",
       "      <td>0.0</td>\n",
       "      <td>0.0</td>\n",
       "      <td>0.0</td>\n",
       "      <td>0.0</td>\n",
       "      <td>0.0</td>\n",
       "      <td>0.0</td>\n",
       "    </tr>\n",
       "    <tr>\n",
       "      <th>FMT.03.032.M</th>\n",
       "      <td>2414.0</td>\n",
       "      <td>2039.0</td>\n",
       "      <td>73.0</td>\n",
       "      <td>45.0</td>\n",
       "      <td>33.0</td>\n",
       "      <td>77.0</td>\n",
       "      <td>24.0</td>\n",
       "      <td>28.0</td>\n",
       "      <td>153.0</td>\n",
       "      <td>1116.0</td>\n",
       "      <td>...</td>\n",
       "      <td>0.0</td>\n",
       "      <td>0.0</td>\n",
       "      <td>0.0</td>\n",
       "      <td>0.0</td>\n",
       "      <td>0.0</td>\n",
       "      <td>0.0</td>\n",
       "      <td>0.0</td>\n",
       "      <td>0.0</td>\n",
       "      <td>0.0</td>\n",
       "      <td>0.0</td>\n",
       "    </tr>\n",
       "    <tr>\n",
       "      <th>FMT.01.007.D</th>\n",
       "      <td>15.0</td>\n",
       "      <td>12.0</td>\n",
       "      <td>50.0</td>\n",
       "      <td>37.0</td>\n",
       "      <td>7.0</td>\n",
       "      <td>62.0</td>\n",
       "      <td>22.0</td>\n",
       "      <td>0.0</td>\n",
       "      <td>309.0</td>\n",
       "      <td>27.0</td>\n",
       "      <td>...</td>\n",
       "      <td>0.0</td>\n",
       "      <td>0.0</td>\n",
       "      <td>0.0</td>\n",
       "      <td>0.0</td>\n",
       "      <td>0.0</td>\n",
       "      <td>0.0</td>\n",
       "      <td>0.0</td>\n",
       "      <td>0.0</td>\n",
       "      <td>0.0</td>\n",
       "      <td>0.0</td>\n",
       "    </tr>\n",
       "  </tbody>\n",
       "</table>\n",
       "<p>5 rows × 2087 columns</p>\n",
       "</div>"
      ],
      "text/plain": [
       "#OTU ID        90139774f761b15ef73f969b9efd29c7  \\\n",
       "FMT.03.042.W                             2194.0   \n",
       "FMT.01.022.W                               78.0   \n",
       "FMT.01.022.6M                               0.0   \n",
       "FMT.03.032.M                             2414.0   \n",
       "FMT.01.007.D                               15.0   \n",
       "\n",
       "#OTU ID        c3cd39227e9ebd70fee95899f7485e4e  \\\n",
       "FMT.03.042.W                             1734.0   \n",
       "FMT.01.022.W                              152.0   \n",
       "FMT.01.022.6M                               0.0   \n",
       "FMT.03.032.M                             2039.0   \n",
       "FMT.01.007.D                               12.0   \n",
       "\n",
       "#OTU ID        72d0d5bc25a3359c411b0a4b216768d4  \\\n",
       "FMT.03.042.W                             1597.0   \n",
       "FMT.01.022.W                                0.0   \n",
       "FMT.01.022.6M                               0.0   \n",
       "FMT.03.032.M                               73.0   \n",
       "FMT.01.007.D                               50.0   \n",
       "\n",
       "#OTU ID        2d6840c65916b78bbda71c55c9c47fc2  \\\n",
       "FMT.03.042.W                             1457.0   \n",
       "FMT.01.022.W                              119.0   \n",
       "FMT.01.022.6M                               0.0   \n",
       "FMT.03.032.M                               45.0   \n",
       "FMT.01.007.D                               37.0   \n",
       "\n",
       "#OTU ID        c87777a2c6afaae4dc36cabf7f0bc928  \\\n",
       "FMT.03.042.W                             1445.0   \n",
       "FMT.01.022.W                                0.0   \n",
       "FMT.01.022.6M                               0.0   \n",
       "FMT.03.032.M                               33.0   \n",
       "FMT.01.007.D                                7.0   \n",
       "\n",
       "#OTU ID        496f6cd25dd7be563d18574aac235747  \\\n",
       "FMT.03.042.W                             1284.0   \n",
       "FMT.01.022.W                                2.0   \n",
       "FMT.01.022.6M                               0.0   \n",
       "FMT.03.032.M                               77.0   \n",
       "FMT.01.007.D                               62.0   \n",
       "\n",
       "#OTU ID        86c77007b9d3b2ad0176eb6b6d7b4594  \\\n",
       "FMT.03.042.W                             1281.0   \n",
       "FMT.01.022.W                               32.0   \n",
       "FMT.01.022.6M                               0.0   \n",
       "FMT.03.032.M                               24.0   \n",
       "FMT.01.007.D                               22.0   \n",
       "\n",
       "#OTU ID        3987e6de21f9d89024d3e329d6fbf443  \\\n",
       "FMT.03.042.W                             1274.0   \n",
       "FMT.01.022.W                                0.0   \n",
       "FMT.01.022.6M                               0.0   \n",
       "FMT.03.032.M                               28.0   \n",
       "FMT.01.007.D                                0.0   \n",
       "\n",
       "#OTU ID        477dde4c60eb536f9151703d1d7201b0  \\\n",
       "FMT.03.042.W                             1059.0   \n",
       "FMT.01.022.W                                0.0   \n",
       "FMT.01.022.6M                               0.0   \n",
       "FMT.03.032.M                              153.0   \n",
       "FMT.01.007.D                              309.0   \n",
       "\n",
       "#OTU ID        18cb0bd15c1ac60b2fa0cd93734ef1b3  \\\n",
       "FMT.03.042.W                              926.0   \n",
       "FMT.01.022.W                              753.0   \n",
       "FMT.01.022.6M                               6.0   \n",
       "FMT.03.032.M                             1116.0   \n",
       "FMT.01.007.D                               27.0   \n",
       "\n",
       "#OTU ID                      ...                 \\\n",
       "FMT.03.042.W                 ...                  \n",
       "FMT.01.022.W                 ...                  \n",
       "FMT.01.022.6M                ...                  \n",
       "FMT.03.032.M                 ...                  \n",
       "FMT.01.007.D                 ...                  \n",
       "\n",
       "#OTU ID        f26848993dc29809d5491c04fd4c5c4a  \\\n",
       "FMT.03.042.W                                0.0   \n",
       "FMT.01.022.W                                0.0   \n",
       "FMT.01.022.6M                               0.0   \n",
       "FMT.03.032.M                                0.0   \n",
       "FMT.01.007.D                                0.0   \n",
       "\n",
       "#OTU ID        741af91fc9f1e35745693488fd58cc32  \\\n",
       "FMT.03.042.W                                0.0   \n",
       "FMT.01.022.W                                0.0   \n",
       "FMT.01.022.6M                               0.0   \n",
       "FMT.03.032.M                                0.0   \n",
       "FMT.01.007.D                                0.0   \n",
       "\n",
       "#OTU ID        147892512ccaa885b2baf1b6567b54a9  \\\n",
       "FMT.03.042.W                                0.0   \n",
       "FMT.01.022.W                                0.0   \n",
       "FMT.01.022.6M                               0.0   \n",
       "FMT.03.032.M                                0.0   \n",
       "FMT.01.007.D                                0.0   \n",
       "\n",
       "#OTU ID        d25888246ccabe0d048877709eabd69e  \\\n",
       "FMT.03.042.W                                0.0   \n",
       "FMT.01.022.W                                0.0   \n",
       "FMT.01.022.6M                               0.0   \n",
       "FMT.03.032.M                                0.0   \n",
       "FMT.01.007.D                                0.0   \n",
       "\n",
       "#OTU ID        15fbd641d7b8793b605b376efc349547  \\\n",
       "FMT.03.042.W                                0.0   \n",
       "FMT.01.022.W                                0.0   \n",
       "FMT.01.022.6M                               0.0   \n",
       "FMT.03.032.M                                0.0   \n",
       "FMT.01.007.D                                0.0   \n",
       "\n",
       "#OTU ID        3d36879c896515993d72bc9b32e2ec57  \\\n",
       "FMT.03.042.W                                0.0   \n",
       "FMT.01.022.W                                0.0   \n",
       "FMT.01.022.6M                               0.0   \n",
       "FMT.03.032.M                                0.0   \n",
       "FMT.01.007.D                                0.0   \n",
       "\n",
       "#OTU ID        e8fe766ab8fa4e367d854c66ef3ce1d8  \\\n",
       "FMT.03.042.W                                0.0   \n",
       "FMT.01.022.W                                0.0   \n",
       "FMT.01.022.6M                               0.0   \n",
       "FMT.03.032.M                                0.0   \n",
       "FMT.01.007.D                                0.0   \n",
       "\n",
       "#OTU ID        434105c7b871137b1bdfeb9881fdd358  \\\n",
       "FMT.03.042.W                                0.0   \n",
       "FMT.01.022.W                                0.0   \n",
       "FMT.01.022.6M                               0.0   \n",
       "FMT.03.032.M                                0.0   \n",
       "FMT.01.007.D                                0.0   \n",
       "\n",
       "#OTU ID        0dc6392e5cfa24100e54254bdf66bbfe  \\\n",
       "FMT.03.042.W                                0.0   \n",
       "FMT.01.022.W                                0.0   \n",
       "FMT.01.022.6M                               0.0   \n",
       "FMT.03.032.M                                0.0   \n",
       "FMT.01.007.D                                0.0   \n",
       "\n",
       "#OTU ID        30f579537c1b617e35e752f02633a9c2  \n",
       "FMT.03.042.W                                0.0  \n",
       "FMT.01.022.W                                0.0  \n",
       "FMT.01.022.6M                               0.0  \n",
       "FMT.03.032.M                                0.0  \n",
       "FMT.01.007.D                                0.0  \n",
       "\n",
       "[5 rows x 2087 columns]"
      ]
     },
     "execution_count": 3,
     "metadata": {},
     "output_type": "execute_result"
    }
   ],
   "source": [
    "df = pd.read_csv(fotu, sep='\\t', skiprows=1, index_col=0).T\n",
    "df.head()"
   ]
  },
  {
   "cell_type": "code",
   "execution_count": 4,
   "metadata": {
    "collapsed": false
   },
   "outputs": [
    {
     "data": {
      "text/html": [
       "<div>\n",
       "<style scoped>\n",
       "    .dataframe tbody tr th:only-of-type {\n",
       "        vertical-align: middle;\n",
       "    }\n",
       "\n",
       "    .dataframe tbody tr th {\n",
       "        vertical-align: top;\n",
       "    }\n",
       "\n",
       "    .dataframe thead th {\n",
       "        text-align: right;\n",
       "    }\n",
       "</style>\n",
       "<table border=\"1\" class=\"dataframe\">\n",
       "  <thead>\n",
       "    <tr style=\"text-align: right;\">\n",
       "      <th></th>\n",
       "      <th>study_accession</th>\n",
       "      <th>secondary_study_accession</th>\n",
       "      <th>sample_accession</th>\n",
       "      <th>secondary_sample_accession</th>\n",
       "      <th>experiment_accession</th>\n",
       "      <th>run_accession</th>\n",
       "      <th>submission_accession</th>\n",
       "      <th>tax_id</th>\n",
       "      <th>scientific_name</th>\n",
       "      <th>instrument_platform</th>\n",
       "      <th>...</th>\n",
       "      <th>sequencing_run</th>\n",
       "      <th>patient_id</th>\n",
       "      <th>sample_type</th>\n",
       "      <th>time_point</th>\n",
       "      <th>Patient # dds 1/26/15</th>\n",
       "      <th>Screen</th>\n",
       "      <th>Week 1</th>\n",
       "      <th>Month 1</th>\n",
       "      <th>Month 6</th>\n",
       "      <th>Notes</th>\n",
       "    </tr>\n",
       "  </thead>\n",
       "  <tbody>\n",
       "    <tr>\n",
       "      <th>0</th>\n",
       "      <td>PRJNA380944</td>\n",
       "      <td>SRP102742</td>\n",
       "      <td>SAMN06652281</td>\n",
       "      <td>SRS2088440</td>\n",
       "      <td>SRX2691263</td>\n",
       "      <td>SRR5396454</td>\n",
       "      <td>SRA550516</td>\n",
       "      <td>408170</td>\n",
       "      <td>human gut metagenome</td>\n",
       "      <td>ILLUMINA</td>\n",
       "      <td>...</td>\n",
       "      <td>3</td>\n",
       "      <td>42</td>\n",
       "      <td>W</td>\n",
       "      <td>1_week</td>\n",
       "      <td>042 JJC</td>\n",
       "      <td>10.0</td>\n",
       "      <td>0.0</td>\n",
       "      <td>0.0</td>\n",
       "      <td>NaN</td>\n",
       "      <td>NaN</td>\n",
       "    </tr>\n",
       "    <tr>\n",
       "      <th>1</th>\n",
       "      <td>PRJNA380944</td>\n",
       "      <td>SRP102742</td>\n",
       "      <td>SAMN06652280</td>\n",
       "      <td>SRS2088438</td>\n",
       "      <td>SRX2691264</td>\n",
       "      <td>SRR5396455</td>\n",
       "      <td>SRA550516</td>\n",
       "      <td>408170</td>\n",
       "      <td>human gut metagenome</td>\n",
       "      <td>ILLUMINA</td>\n",
       "      <td>...</td>\n",
       "      <td>3</td>\n",
       "      <td>42</td>\n",
       "      <td>P</td>\n",
       "      <td>pre_fmt</td>\n",
       "      <td>042 JJC</td>\n",
       "      <td>10.0</td>\n",
       "      <td>0.0</td>\n",
       "      <td>0.0</td>\n",
       "      <td>NaN</td>\n",
       "      <td>NaN</td>\n",
       "    </tr>\n",
       "    <tr>\n",
       "      <th>2</th>\n",
       "      <td>PRJNA380944</td>\n",
       "      <td>SRP102742</td>\n",
       "      <td>SAMN06652279</td>\n",
       "      <td>SRS2088439</td>\n",
       "      <td>SRX2691265</td>\n",
       "      <td>SRR5396456</td>\n",
       "      <td>SRA550516</td>\n",
       "      <td>408170</td>\n",
       "      <td>human gut metagenome</td>\n",
       "      <td>ILLUMINA</td>\n",
       "      <td>...</td>\n",
       "      <td>3</td>\n",
       "      <td>42</td>\n",
       "      <td>D</td>\n",
       "      <td>donor</td>\n",
       "      <td>042 JJC</td>\n",
       "      <td>10.0</td>\n",
       "      <td>0.0</td>\n",
       "      <td>0.0</td>\n",
       "      <td>NaN</td>\n",
       "      <td>NaN</td>\n",
       "    </tr>\n",
       "    <tr>\n",
       "      <th>3</th>\n",
       "      <td>PRJNA380944</td>\n",
       "      <td>SRP102742</td>\n",
       "      <td>SAMN06652278</td>\n",
       "      <td>SRS2088441</td>\n",
       "      <td>SRX2691266</td>\n",
       "      <td>SRR5396457</td>\n",
       "      <td>SRA550516</td>\n",
       "      <td>408170</td>\n",
       "      <td>human gut metagenome</td>\n",
       "      <td>ILLUMINA</td>\n",
       "      <td>...</td>\n",
       "      <td>3</td>\n",
       "      <td>40</td>\n",
       "      <td>M</td>\n",
       "      <td>1_month</td>\n",
       "      <td>040 RJ</td>\n",
       "      <td>27.5</td>\n",
       "      <td>10.0</td>\n",
       "      <td>10.0</td>\n",
       "      <td>0</td>\n",
       "      <td>NaN</td>\n",
       "    </tr>\n",
       "    <tr>\n",
       "      <th>4</th>\n",
       "      <td>PRJNA380944</td>\n",
       "      <td>SRP102742</td>\n",
       "      <td>SAMN06652277</td>\n",
       "      <td>SRS2088442</td>\n",
       "      <td>SRX2691267</td>\n",
       "      <td>SRR5396458</td>\n",
       "      <td>SRA550516</td>\n",
       "      <td>408170</td>\n",
       "      <td>human gut metagenome</td>\n",
       "      <td>ILLUMINA</td>\n",
       "      <td>...</td>\n",
       "      <td>3</td>\n",
       "      <td>40</td>\n",
       "      <td>W</td>\n",
       "      <td>1_week</td>\n",
       "      <td>040 RJ</td>\n",
       "      <td>27.5</td>\n",
       "      <td>10.0</td>\n",
       "      <td>10.0</td>\n",
       "      <td>0</td>\n",
       "      <td>NaN</td>\n",
       "    </tr>\n",
       "  </tbody>\n",
       "</table>\n",
       "<p>5 rows × 61 columns</p>\n",
       "</div>"
      ],
      "text/plain": [
       "  study_accession secondary_study_accession sample_accession  \\\n",
       "0     PRJNA380944                 SRP102742     SAMN06652281   \n",
       "1     PRJNA380944                 SRP102742     SAMN06652280   \n",
       "2     PRJNA380944                 SRP102742     SAMN06652279   \n",
       "3     PRJNA380944                 SRP102742     SAMN06652278   \n",
       "4     PRJNA380944                 SRP102742     SAMN06652277   \n",
       "\n",
       "  secondary_sample_accession experiment_accession run_accession  \\\n",
       "0                 SRS2088440           SRX2691263    SRR5396454   \n",
       "1                 SRS2088438           SRX2691264    SRR5396455   \n",
       "2                 SRS2088439           SRX2691265    SRR5396456   \n",
       "3                 SRS2088441           SRX2691266    SRR5396457   \n",
       "4                 SRS2088442           SRX2691267    SRR5396458   \n",
       "\n",
       "  submission_accession  tax_id       scientific_name instrument_platform  \\\n",
       "0            SRA550516  408170  human gut metagenome            ILLUMINA   \n",
       "1            SRA550516  408170  human gut metagenome            ILLUMINA   \n",
       "2            SRA550516  408170  human gut metagenome            ILLUMINA   \n",
       "3            SRA550516  408170  human gut metagenome            ILLUMINA   \n",
       "4            SRA550516  408170  human gut metagenome            ILLUMINA   \n",
       "\n",
       "   ...   sequencing_run patient_id sample_type  time_point  \\\n",
       "0  ...                3         42           W      1_week   \n",
       "1  ...                3         42           P     pre_fmt   \n",
       "2  ...                3         42           D       donor   \n",
       "3  ...                3         40           M     1_month   \n",
       "4  ...                3         40           W      1_week   \n",
       "\n",
       "  Patient # dds 1/26/15 Screen Week 1  Month 1  Month 6  Notes  \n",
       "0               042 JJC   10.0    0.0      0.0      NaN    NaN  \n",
       "1               042 JJC   10.0    0.0      0.0      NaN    NaN  \n",
       "2               042 JJC   10.0    0.0      0.0      NaN    NaN  \n",
       "3                040 RJ   27.5   10.0     10.0        0    NaN  \n",
       "4                040 RJ   27.5   10.0     10.0        0    NaN  \n",
       "\n",
       "[5 rows x 61 columns]"
      ]
     },
     "execution_count": 4,
     "metadata": {},
     "output_type": "execute_result"
    }
   ],
   "source": [
    "meta = pd.read_csv(fmeta, sep='\\t')\n",
    "meta.head()"
   ]
  },
  {
   "cell_type": "code",
   "execution_count": 6,
   "metadata": {
    "collapsed": false
   },
   "outputs": [
    {
     "name": "stdout",
     "output_type": "stream",
     "text": [
      "[]\n",
      "[]\n"
     ]
    }
   ],
   "source": [
    "print([i for i in meta['sample_alias'].tolist() if i not in df.index])\n",
    "print([i for i in df.index if i not in meta['sample_alias'].tolist() ])"
   ]
  },
  {
   "cell_type": "markdown",
   "metadata": {},
   "source": [
    "# OTU table checks\n",
    "\n",
    "- How many reads per sample?\n",
    "- How many OTUs per sample? Per person?\n",
    "- How many OTUs are unique to each sample? Person? (x-axis = N people, y-axis=N OTUs)\n",
    "\n",
    "### Reads per sample"
   ]
  },
  {
   "cell_type": "code",
   "execution_count": 7,
   "metadata": {
    "collapsed": false
   },
   "outputs": [
    {
     "data": {
      "text/plain": [
       "<matplotlib.text.Text at 0x10fcd4d50>"
      ]
     },
     "execution_count": 7,
     "metadata": {},
     "output_type": "execute_result"
    },
    {
     "data": {
      "image/png": "[encoded data removed]",
      "text/plain": [
       "<matplotlib.figure.Figure at 0x1047d1950>"
      ]
     },
     "metadata": {},
     "output_type": "display_data"
    }
   ],
   "source": [
    "df.sum(axis=1).apply(np.log10).plot(kind='hist')\n",
    "plt.title('log10(reads per sample)')\n",
    "plt.xlabel('log10(reads)')\n",
    "plt.ylabel('N samples')"
   ]
  },
  {
   "cell_type": "markdown",
   "metadata": {},
   "source": [
    "Which samples have fewer than 1000 reads?"
   ]
  },
  {
   "cell_type": "code",
   "execution_count": 9,
   "metadata": {
    "collapsed": false
   },
   "outputs": [
    {
     "data": {
      "text/html": [
       "<div>\n",
       "<style scoped>\n",
       "    .dataframe tbody tr th:only-of-type {\n",
       "        vertical-align: middle;\n",
       "    }\n",
       "\n",
       "    .dataframe tbody tr th {\n",
       "        vertical-align: top;\n",
       "    }\n",
       "\n",
       "    .dataframe thead th {\n",
       "        text-align: right;\n",
       "    }\n",
       "</style>\n",
       "<table border=\"1\" class=\"dataframe\">\n",
       "  <thead>\n",
       "    <tr style=\"text-align: right;\">\n",
       "      <th>#OTU ID</th>\n",
       "      <th>90139774f761b15ef73f969b9efd29c7</th>\n",
       "      <th>c3cd39227e9ebd70fee95899f7485e4e</th>\n",
       "      <th>72d0d5bc25a3359c411b0a4b216768d4</th>\n",
       "      <th>2d6840c65916b78bbda71c55c9c47fc2</th>\n",
       "      <th>c87777a2c6afaae4dc36cabf7f0bc928</th>\n",
       "      <th>496f6cd25dd7be563d18574aac235747</th>\n",
       "      <th>86c77007b9d3b2ad0176eb6b6d7b4594</th>\n",
       "      <th>3987e6de21f9d89024d3e329d6fbf443</th>\n",
       "      <th>477dde4c60eb536f9151703d1d7201b0</th>\n",
       "      <th>18cb0bd15c1ac60b2fa0cd93734ef1b3</th>\n",
       "      <th>...</th>\n",
       "      <th>f26848993dc29809d5491c04fd4c5c4a</th>\n",
       "      <th>741af91fc9f1e35745693488fd58cc32</th>\n",
       "      <th>147892512ccaa885b2baf1b6567b54a9</th>\n",
       "      <th>d25888246ccabe0d048877709eabd69e</th>\n",
       "      <th>15fbd641d7b8793b605b376efc349547</th>\n",
       "      <th>3d36879c896515993d72bc9b32e2ec57</th>\n",
       "      <th>e8fe766ab8fa4e367d854c66ef3ce1d8</th>\n",
       "      <th>434105c7b871137b1bdfeb9881fdd358</th>\n",
       "      <th>0dc6392e5cfa24100e54254bdf66bbfe</th>\n",
       "      <th>30f579537c1b617e35e752f02633a9c2</th>\n",
       "    </tr>\n",
       "  </thead>\n",
       "  <tbody>\n",
       "    <tr>\n",
       "      <th>FMT.01.007.P</th>\n",
       "      <td>0.0</td>\n",
       "      <td>0.0</td>\n",
       "      <td>0.0</td>\n",
       "      <td>0.0</td>\n",
       "      <td>0.0</td>\n",
       "      <td>0.0</td>\n",
       "      <td>0.0</td>\n",
       "      <td>0.0</td>\n",
       "      <td>0.0</td>\n",
       "      <td>0.0</td>\n",
       "      <td>...</td>\n",
       "      <td>0.0</td>\n",
       "      <td>0.0</td>\n",
       "      <td>0.0</td>\n",
       "      <td>0.0</td>\n",
       "      <td>0.0</td>\n",
       "      <td>0.0</td>\n",
       "      <td>0.0</td>\n",
       "      <td>0.0</td>\n",
       "      <td>0.0</td>\n",
       "      <td>0.0</td>\n",
       "    </tr>\n",
       "  </tbody>\n",
       "</table>\n",
       "<p>1 rows × 2087 columns</p>\n",
       "</div>"
      ],
      "text/plain": [
       "#OTU ID       90139774f761b15ef73f969b9efd29c7  \\\n",
       "FMT.01.007.P                               0.0   \n",
       "\n",
       "#OTU ID       c3cd39227e9ebd70fee95899f7485e4e  \\\n",
       "FMT.01.007.P                               0.0   \n",
       "\n",
       "#OTU ID       72d0d5bc25a3359c411b0a4b216768d4  \\\n",
       "FMT.01.007.P                               0.0   \n",
       "\n",
       "#OTU ID       2d6840c65916b78bbda71c55c9c47fc2  \\\n",
       "FMT.01.007.P                               0.0   \n",
       "\n",
       "#OTU ID       c87777a2c6afaae4dc36cabf7f0bc928  \\\n",
       "FMT.01.007.P                               0.0   \n",
       "\n",
       "#OTU ID       496f6cd25dd7be563d18574aac235747  \\\n",
       "FMT.01.007.P                               0.0   \n",
       "\n",
       "#OTU ID       86c77007b9d3b2ad0176eb6b6d7b4594  \\\n",
       "FMT.01.007.P                               0.0   \n",
       "\n",
       "#OTU ID       3987e6de21f9d89024d3e329d6fbf443  \\\n",
       "FMT.01.007.P                               0.0   \n",
       "\n",
       "#OTU ID       477dde4c60eb536f9151703d1d7201b0  \\\n",
       "FMT.01.007.P                               0.0   \n",
       "\n",
       "#OTU ID       18cb0bd15c1ac60b2fa0cd93734ef1b3  \\\n",
       "FMT.01.007.P                               0.0   \n",
       "\n",
       "#OTU ID                     ...                 \\\n",
       "FMT.01.007.P                ...                  \n",
       "\n",
       "#OTU ID       f26848993dc29809d5491c04fd4c5c4a  \\\n",
       "FMT.01.007.P                               0.0   \n",
       "\n",
       "#OTU ID       741af91fc9f1e35745693488fd58cc32  \\\n",
       "FMT.01.007.P                               0.0   \n",
       "\n",
       "#OTU ID       147892512ccaa885b2baf1b6567b54a9  \\\n",
       "FMT.01.007.P                               0.0   \n",
       "\n",
       "#OTU ID       d25888246ccabe0d048877709eabd69e  \\\n",
       "FMT.01.007.P                               0.0   \n",
       "\n",
       "#OTU ID       15fbd641d7b8793b605b376efc349547  \\\n",
       "FMT.01.007.P                               0.0   \n",
       "\n",
       "#OTU ID       3d36879c896515993d72bc9b32e2ec57  \\\n",
       "FMT.01.007.P                               0.0   \n",
       "\n",
       "#OTU ID       e8fe766ab8fa4e367d854c66ef3ce1d8  \\\n",
       "FMT.01.007.P                               0.0   \n",
       "\n",
       "#OTU ID       434105c7b871137b1bdfeb9881fdd358  \\\n",
       "FMT.01.007.P                               0.0   \n",
       "\n",
       "#OTU ID       0dc6392e5cfa24100e54254bdf66bbfe  \\\n",
       "FMT.01.007.P                               0.0   \n",
       "\n",
       "#OTU ID       30f579537c1b617e35e752f02633a9c2  \n",
       "FMT.01.007.P                               0.0  \n",
       "\n",
       "[1 rows x 2087 columns]"
      ]
     },
     "execution_count": 9,
     "metadata": {},
     "output_type": "execute_result"
    }
   ],
   "source": [
    "df[df.sum(axis=1) < 1000]"
   ]
  },
  {
   "cell_type": "markdown",
   "metadata": {},
   "source": [
    "Does this patient have another sample?"
   ]
  },
  {
   "cell_type": "code",
   "execution_count": 11,
   "metadata": {
    "collapsed": false
   },
   "outputs": [
    {
     "data": {
      "text/plain": [
       "80    PX\n",
       "81    6M\n",
       "82     M\n",
       "83     W\n",
       "84     P\n",
       "85     D\n",
       "Name: sample_type, dtype: object"
      ]
     },
     "execution_count": 11,
     "metadata": {},
     "output_type": "execute_result"
    }
   ],
   "source": [
    "meta.query('patient_id == \"007\"')['sample_type']"
   ]
  },
  {
   "cell_type": "markdown",
   "metadata": {},
   "source": [
    "Yes, this patient has P and PX. Let's see how many reads the PX sample has:"
   ]
  },
  {
   "cell_type": "code",
   "execution_count": 15,
   "metadata": {
    "collapsed": false
   },
   "outputs": [
    {
     "data": {
      "text/plain": [
       "FMT.01.007.PX    6722.0\n",
       "dtype: float64"
      ]
     },
     "execution_count": 15,
     "metadata": {},
     "output_type": "execute_result"
    }
   ],
   "source": [
    "s = meta.query('patient_id == \"007\"').query('sample_type == \"PX\"')['sample_alias'].values\n",
    "df.loc[s].sum(axis=1)"
   ]
  },
  {
   "cell_type": "markdown",
   "metadata": {},
   "source": [
    "Okay, the resequenced sample has 6000 reads. That should be fine."
   ]
  },
  {
   "cell_type": "markdown",
   "metadata": {},
   "source": [
    "### OTUs per sample\n"
   ]
  },
  {
   "cell_type": "code",
   "execution_count": 16,
   "metadata": {
    "collapsed": false
   },
   "outputs": [
    {
     "data": {
      "text/plain": [
       "<matplotlib.text.Text at 0x11056b990>"
      ]
     },
     "execution_count": 16,
     "metadata": {},
     "output_type": "execute_result"
    },
    {
     "data": {
      "image/png": "[encoded data removed]",
      "text/plain": [
       "<matplotlib.figure.Figure at 0x10f89a690>"
      ]
     },
     "metadata": {},
     "output_type": "display_data"
    }
   ],
   "source": [
    "(df > 0).sum(axis=1).plot(kind='hist')\n",
    "plt.title('OTUs per sample')\n",
    "plt.xlabel('N OTUs > 0 reads')\n",
    "plt.ylabel('N samples')"
   ]
  },
  {
   "cell_type": "markdown",
   "metadata": {},
   "source": [
    "Looks reasonable."
   ]
  },
  {
   "cell_type": "markdown",
   "metadata": {},
   "source": [
    "### OTUs per patient"
   ]
  },
  {
   "cell_type": "code",
   "execution_count": 20,
   "metadata": {
    "collapsed": false
   },
   "outputs": [
    {
     "data": {
      "text/plain": [
       "<matplotlib.text.Text at 0x113f55650>"
      ]
     },
     "execution_count": 20,
     "metadata": {},
     "output_type": "execute_result"
    },
    {
     "data": {
      "image/png": "[encoded data removed]",
      "text/plain": [
       "<matplotlib.figure.Figure at 0x1047d1bd0>"
      ]
     },
     "metadata": {},
     "output_type": "display_data"
    }
   ],
   "source": [
    "time_order = ['donor', 'pre_fmt', '1_week', '1_month', '4_month', '6_month', '9_month']\n",
    "\n",
    "sns.stripplot(\n",
    "    data=((df > 0)\n",
    "        .sum(axis=1)\n",
    "        .reset_index(name='n_otus')\n",
    "        .rename(columns={'index': 'sample_alias'})\n",
    "        .merge(meta, left_on='sample_alias', right_on='sample_alias')\n",
    "     ),\n",
    "    x='patient_id',\n",
    "    y='n_otus',\n",
    "    hue='time_point',\n",
    "    hue_order=time_order\n",
    ")\n",
    "plt.legend(loc='center left', bbox_to_anchor=(1.05, 0.5))\n",
    "plt.title('Number of OTUs > 0 reads per patient')\n"
   ]
  },
  {
   "cell_type": "markdown",
   "metadata": {},
   "source": [
    "Yep, this also looks good - the donor tends to have the most OTUs, and the pre-FMT sample has the fewest."
   ]
  },
  {
   "cell_type": "markdown",
   "metadata": {},
   "source": [
    "### Re-sequenced samples\n",
    "\n",
    "Hm, so which other samples were sequenced multiple times? Andrew said it's because they must have failed sequencing, but their data is here..."
   ]
  },
  {
   "cell_type": "code",
   "execution_count": 25,
   "metadata": {
    "collapsed": false
   },
   "outputs": [
    {
     "data": {
      "text/html": [
       "<div>\n",
       "<style scoped>\n",
       "    .dataframe tbody tr th:only-of-type {\n",
       "        vertical-align: middle;\n",
       "    }\n",
       "\n",
       "    .dataframe tbody tr th {\n",
       "        vertical-align: top;\n",
       "    }\n",
       "\n",
       "    .dataframe thead th {\n",
       "        text-align: right;\n",
       "    }\n",
       "</style>\n",
       "<table border=\"1\" class=\"dataframe\">\n",
       "  <thead>\n",
       "    <tr style=\"text-align: right;\">\n",
       "      <th></th>\n",
       "      <th>patient_id</th>\n",
       "      <th>time_point</th>\n",
       "      <th>n_samples</th>\n",
       "    </tr>\n",
       "  </thead>\n",
       "  <tbody>\n",
       "    <tr>\n",
       "      <th>14</th>\n",
       "      <td>7</td>\n",
       "      <td>pre_fmt</td>\n",
       "      <td>2</td>\n",
       "    </tr>\n",
       "    <tr>\n",
       "      <th>52</th>\n",
       "      <td>29</td>\n",
       "      <td>donor</td>\n",
       "      <td>2</td>\n",
       "    </tr>\n",
       "    <tr>\n",
       "      <th>31</th>\n",
       "      <td>22</td>\n",
       "      <td>1_week</td>\n",
       "      <td>2</td>\n",
       "    </tr>\n",
       "    <tr>\n",
       "      <th>7</th>\n",
       "      <td>5</td>\n",
       "      <td>6_month</td>\n",
       "      <td>2</td>\n",
       "    </tr>\n",
       "    <tr>\n",
       "      <th>19</th>\n",
       "      <td>10</td>\n",
       "      <td>pre_fmt</td>\n",
       "      <td>2</td>\n",
       "    </tr>\n",
       "    <tr>\n",
       "      <th>43</th>\n",
       "      <td>24</td>\n",
       "      <td>pre_fmt</td>\n",
       "      <td>2</td>\n",
       "    </tr>\n",
       "    <tr>\n",
       "      <th>42</th>\n",
       "      <td>24</td>\n",
       "      <td>donor</td>\n",
       "      <td>2</td>\n",
       "    </tr>\n",
       "    <tr>\n",
       "      <th>41</th>\n",
       "      <td>24</td>\n",
       "      <td>6_month</td>\n",
       "      <td>2</td>\n",
       "    </tr>\n",
       "    <tr>\n",
       "      <th>66</th>\n",
       "      <td>32</td>\n",
       "      <td>6_month</td>\n",
       "      <td>1</td>\n",
       "    </tr>\n",
       "    <tr>\n",
       "      <th>73</th>\n",
       "      <td>33</td>\n",
       "      <td>pre_fmt</td>\n",
       "      <td>1</td>\n",
       "    </tr>\n",
       "  </tbody>\n",
       "</table>\n",
       "</div>"
      ],
      "text/plain": [
       "    patient_id time_point  n_samples\n",
       "14           7    pre_fmt          2\n",
       "52          29      donor          2\n",
       "31          22     1_week          2\n",
       "7            5    6_month          2\n",
       "19          10    pre_fmt          2\n",
       "43          24    pre_fmt          2\n",
       "42          24      donor          2\n",
       "41          24    6_month          2\n",
       "66          32    6_month          1\n",
       "73          33    pre_fmt          1"
      ]
     },
     "execution_count": 25,
     "metadata": {},
     "output_type": "execute_result"
    }
   ],
   "source": [
    "(meta\n",
    "    .groupby(['patient_id', 'time_point'])\n",
    "    .size()\n",
    "    .reset_index(name='n_samples')\n",
    "    .sort_values(by='n_samples', ascending=False)\n",
    "    .head(10)\n",
    ")"
   ]
  },
  {
   "cell_type": "markdown",
   "metadata": {},
   "source": [
    "We already figured out patient 007. Let's check the others."
   ]
  },
  {
   "cell_type": "code",
   "execution_count": 38,
   "metadata": {
    "collapsed": false
   },
   "outputs": [],
   "source": [
    "dup_df = (meta\n",
    "    .groupby(['patient_id', 'time_point'])\n",
    "    .size()\n",
    "    .reset_index(name='n_samples')\n",
    "    .sort_values(by='n_samples', ascending=False)\n",
    ")\n",
    "dup_df = dup_df[dup_df['n_samples'] > 1]"
   ]
  },
  {
   "cell_type": "code",
   "execution_count": 41,
   "metadata": {
    "collapsed": false
   },
   "outputs": [
    {
     "name": "stdout",
     "output_type": "stream",
     "text": [
      "['FMT.01.007.PX', 'FMT.01.007.P']\n",
      "['FMT.01.029.D2', 'FMT.01.029.D1']\n",
      "['FMT.01.022.WX', 'FMT.01.022.W']\n",
      "['FMT.01.005.6MX', 'FMT.01.005.6M']\n",
      "['FMT.01.010.PB', 'FMT.01.010.PA']\n",
      "['FMT.01.024.P1', 'FMT.01.024.P2']\n",
      "['FMT.01.024.D2', 'FMT.01.024.D1']\n",
      "['FMT.01.024.6MX', 'FMT.01.024.6M']\n"
     ]
    }
   ],
   "source": [
    "dup_samples = []\n",
    "for idx, row in dup_df.iterrows():\n",
    "    p = row['patient_id']\n",
    "    t = row['time_point']\n",
    "    s = meta.query('patient_id == @p').query('time_point == @t')['sample_alias'].values.tolist()\n",
    "    print(s)\n",
    "    dup_samples += s"
   ]
  },
  {
   "cell_type": "code",
   "execution_count": 45,
   "metadata": {
    "collapsed": false
   },
   "outputs": [
    {
     "data": {
      "text/plain": [
       "FMT.01.007.PX     6722.0\n",
       "FMT.01.007.P       548.0\n",
       "FMT.01.029.D2     7846.0\n",
       "FMT.01.029.D1     7411.0\n",
       "FMT.01.022.WX     8455.0\n",
       "FMT.01.022.W      6342.0\n",
       "FMT.01.005.6MX    8601.0\n",
       "FMT.01.005.6M     6523.0\n",
       "FMT.01.010.PB     8234.0\n",
       "FMT.01.010.PA     9837.0\n",
       "FMT.01.024.P1     7530.0\n",
       "FMT.01.024.P2     6710.0\n",
       "FMT.01.024.D2     8422.0\n",
       "FMT.01.024.D1     7029.0\n",
       "FMT.01.024.6MX    7368.0\n",
       "FMT.01.024.6M     7548.0\n",
       "dtype: float64"
      ]
     },
     "execution_count": 45,
     "metadata": {},
     "output_type": "execute_result"
    }
   ],
   "source": [
    "df.loc[dup_samples].sum(axis=1)"
   ]
  },
  {
   "cell_type": "code",
   "execution_count": 46,
   "metadata": {
    "collapsed": false
   },
   "outputs": [
    {
     "data": {
      "text/plain": [
       "3162.2776601683795"
      ]
     },
     "execution_count": 46,
     "metadata": {},
     "output_type": "execute_result"
    }
   ],
   "source": [
    "10**3.5"
   ]
  },
  {
   "cell_type": "markdown",
   "metadata": {},
   "source": [
    "Hm, this is weird - really can't tell why some of these samples underwent repeat sequencing.\n",
    "\n",
    "Let's be safe rather than sorry and just take the \"second\" sample for each of these.\n",
    "\n",
    "Meh, let's only do that if we end up doing stats on this. For now, let's just lump them all together! #lazy"
   ]
  },
  {
   "cell_type": "code",
   "execution_count": null,
   "metadata": {
    "collapsed": true
   },
   "outputs": [],
   "source": []
  }
 ],
 "metadata": {
  "anaconda-cloud": {},
  "kernelspec": {
   "display_name": "Python [default]",
   "language": "python",
   "name": "python2"
  },
  "language_info": {
   "codemirror_mode": {
    "name": "ipython",
    "version": 2
   },
   "file_extension": ".py",
   "mimetype": "text/x-python",
   "name": "python",
   "nbconvert_exporter": "python",
   "pygments_lexer": "ipython2",
   "version": "2.7.12"
  }
 },
 "nbformat": 4,
 "nbformat_minor": 2
}
