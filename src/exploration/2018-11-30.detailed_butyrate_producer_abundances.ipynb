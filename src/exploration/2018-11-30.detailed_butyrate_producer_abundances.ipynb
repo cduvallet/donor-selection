{
 "cells": [
  {
   "cell_type": "markdown",
   "metadata": {},
   "source": [
    "This notebook explores which genera contribute to the total butyrate producers in the donors (Eric assumes it's just F. prau and I want to confirm or unconfirm that)"
   ]
  },
  {
   "cell_type": "code",
   "execution_count": 18,
   "metadata": {
    "collapsed": true
   },
   "outputs": [],
   "source": [
    "import pandas as pd\n",
    "import numpy as np\n",
    "\n",
    "import matplotlib.pyplot as plt\n",
    "import seaborn as sns\n",
    "%matplotlib inline"
   ]
  },
  {
   "cell_type": "markdown",
   "metadata": {},
   "source": [
    "For now, I'll copy a lot of the code from `calculate_butyrate_producer_abundance.py`, and might eventually put this code into that script (if I decide these figures are worth including in the supplement)."
   ]
  },
  {
   "cell_type": "code",
   "execution_count": 4,
   "metadata": {
    "collapsed": true
   },
   "outputs": [],
   "source": [
    "\n",
    "# Copied from original script, unchanged\n",
    "def get_genera():\n",
    "    \"\"\"\n",
    "    Returns the list of genera we are considering butyrate producers.\n",
    "\n",
    "    The taxa from the \"[Colonic Butyrate-Producing Communities in Humans: an Overview Using Omics Data](https://msystems.asm.org/content/2/6/e00130-17)\" paper are:\n",
    "\n",
    "    - Odoribacter - yes\n",
    "        - Table S2: 5/5 genomes have Acetyl-CoA\n",
    "    - E. ventriosum - not included\n",
    "        - this is part of Lachnospiraceae_incertae_sedis\n",
    "        - 1/1 genomes have Acetyl-CoA\n",
    "    - E. hallii - not included\n",
    "        - 3/3 E. hallii genomes have Acetyl-CoA\n",
    "        - this is one of the Lachno incertae sedis species\n",
    "    - E. rectale - not included\n",
    "        - 7/7 genomes have Acetyl-CoA\n",
    "        - this is one of the Lachno incertae sedis species\n",
    "    - B. crossotus - not included\n",
    "        - this one is not present in >70% of people, it was just added to Fig 1 bc it's high abundance in a few people\n",
    "    - S. variabile - yes\n",
    "        - this was the only subdoligranulum genome (and does have Acetyl-CoA)\n",
    "    - ClostridiumXIVa - considered (but wasn't in my data, strangely)\n",
    "        - 42% of the 75 genomes have Acetyl-CoA\n",
    "        - Paper doesn't address this low percentage, and in fact includes Clostridium XIVa as part of the \"global core community\"\n",
    "    - Coprococcus - yes\n",
    "        - 92% of the 13 genomes have Acetyl-CoA\n",
    "    - Butyricicoccus - yes\n",
    "        - 3/3 genomes have Acetyl-CoA\n",
    "    - Pseudoflavonifractor - yes\n",
    "        - 66% of 3 genomes have Acetyl-Coa\n",
    "    - Flavonifractor - yes\n",
    "        - 10/10 genomes have Acetyl-CoA\n",
    "    - Anaerostipes  - yes\n",
    "        - 14/14 genomes have Acetyl-CoA\n",
    "    - R. intestinalis, R. inulinivorans, and R. faecis - yes, Roseburia\n",
    "        - 12/12 Roseburia genomes have Acetyl-CoA\n",
    "        - \"Manual inspections of major, abundant  genera led us to resolve Roseburia and Lachnospiraceae incertae sedis at the species level, as sequences  of individual species displayed high phylogenetic distances for all pathway genes\"\n",
    "    - Oscillibacter - yes\n",
    "        - 83% of 6 genomes have Acetyl-CoA\n",
    "    - F. prausnitzii - yes\n",
    "        - 7/7 Faecalibacterium genomes have Acetyl-CoA\n",
    "        - \"For genera that encompassed only one species, such as F. prausnitzii and S. variabile, the species name is displayed.\"\n",
    "\n",
    "    We'll use the easy/cleanest ones (genus-level):\n",
    "\n",
    "    Odoribacter\n",
    "    ClostridiumXIVa\n",
    "    Coprococcus\n",
    "    Butyricicoccus\n",
    "    Pseudoflavonifractor\n",
    "    Flavonifractor\n",
    "    Anaerostipes\n",
    "    Roseburia\n",
    "    Oscillibacter\n",
    "    Faecalibacterium\n",
    "    Subdoligranulum\n",
    "\n",
    "    \"\"\"\n",
    "    genera = ['Odoribacter',\n",
    "              'Clostridium_XIVa',\n",
    "              'Coprococcus',\n",
    "              'Butyricicoccus',\n",
    "              'Pseudoflavonifractor',\n",
    "              'Flavonifractor',\n",
    "              'Anaerostipes',\n",
    "              'Roseburia',\n",
    "              'Oscillibacter',\n",
    "              'Faecalibacterium',\n",
    "              'Subdoligranulum'\n",
    "             ]\n",
    "    return genera\n",
    "\n",
    "# Copied from original script, unchanged\n",
    "def get_butyrate_genera(tidydf):\n",
    "    \"\"\"\n",
    "    Get the OTU IDs for butyrate-producing genera in a given dataset.\n",
    "\n",
    "    Note that the list of genera is not an input, it is acquired from\n",
    "    the function get_genera().\n",
    "\n",
    "    Parameters\n",
    "    ----------\n",
    "    tidydf : pandas DataFrame\n",
    "        tidy OTU table, with column labeled 'otu_id_gg' that has the\n",
    "        GreenGenes OTU ID\n",
    "\n",
    "    Returns\n",
    "    -------\n",
    "    but_gg : list\n",
    "        list of OTU IDs which contain a butyrate-producing genus\n",
    "    \"\"\"\n",
    "    genera = get_genera()\n",
    "    alltaxa_gg = tidydf['otu_id_gg'].unique().tolist()\n",
    "\n",
    "    but_gg = []\n",
    "    for g in genera:\n",
    "        but_gg += [i for i in alltaxa_gg if g in i]\n",
    "    but_gg = list(set(but_gg))\n",
    "\n",
    "    return but_gg"
   ]
  },
  {
   "cell_type": "code",
   "execution_count": 3,
   "metadata": {
    "collapsed": true
   },
   "outputs": [],
   "source": [
    "fmeta_jacob = '../../data/clean/jacob2017.metadata.txt'\n",
    "ftidy_jacob = '../../data/clean/jacob2017.tidy_otu_w_taxonomy.txt'\n",
    "\n",
    "fmeta_goyal = '../../data/clean/goyal2018.metadata.txt'\n",
    "ftidy_goyal = '../../data/clean/goyal2018.tidy_otu_w_taxonomy.txt'\n",
    "\n",
    "fmeta_kump = '../../data/raw/kump2018/mapping_file.txt'\n",
    "ftidy_kump = '../../data/clean/kump2018.tidy_otu_w_taxonomy.txt'\n",
    "\n",
    "tidyjacob = pd.read_csv(ftidy_jacob, sep='\\t')\n",
    "metajacob = pd.read_csv(fmeta_jacob, sep='\\t', index_col=0)\n",
    "\n",
    "tidygoyal = pd.read_csv(ftidy_goyal, sep='\\t')\n",
    "metagoyal = pd.read_csv(fmeta_goyal, sep='\\t', index_col=0)\n",
    "\n",
    "tidykump = pd.read_csv(ftidy_kump, sep='\\t')\n",
    "metakump = pd.read_csv(fmeta_kump, sep='\\t', index_col=0)\n",
    "\n",
    "# Combine tidy OTU tables with metadata\n",
    "tidyjacob = pd.merge(tidyjacob, metajacob, left_on='sample_id', right_index=True)\n",
    "tidygoyal = pd.merge(tidygoyal, metagoyal, left_on='sample_id', right_on='sample_alias')\n",
    "tidykump = pd.merge(tidykump, metakump, left_on='sample_id', right_index=True)\n",
    "\n",
    "# Relative abundance\n",
    "tidyjacob['rel_abun'] = tidyjacob['reads'] / tidyjacob['total_reads']\n",
    "tidygoyal['rel_abun'] = tidygoyal['reads'] / tidygoyal['total_reads']\n",
    "tidykump['rel_abun'] = tidykump['reads'] / tidykump['total_reads']"
   ]
  },
  {
   "cell_type": "code",
   "execution_count": 7,
   "metadata": {
    "collapsed": false
   },
   "outputs": [
    {
     "data": {
      "text/html": [
       "<div>\n",
       "<style scoped>\n",
       "    .dataframe tbody tr th:only-of-type {\n",
       "        vertical-align: middle;\n",
       "    }\n",
       "\n",
       "    .dataframe tbody tr th {\n",
       "        vertical-align: top;\n",
       "    }\n",
       "\n",
       "    .dataframe thead th {\n",
       "        text-align: right;\n",
       "    }\n",
       "</style>\n",
       "<table border=\"1\" class=\"dataframe\">\n",
       "  <thead>\n",
       "    <tr style=\"text-align: right;\">\n",
       "      <th></th>\n",
       "      <th>sample_id</th>\n",
       "      <th>total_reads</th>\n",
       "      <th>#OTU ID</th>\n",
       "      <th>reads</th>\n",
       "      <th>Feature ID_gg</th>\n",
       "      <th>Taxon_gg</th>\n",
       "      <th>Confidence_gg</th>\n",
       "      <th>otu_id_gg</th>\n",
       "      <th>Feature ID_silva</th>\n",
       "      <th>Taxon_silva</th>\n",
       "      <th>...</th>\n",
       "      <th>sra_galaxy</th>\n",
       "      <th>cram_index_ftp</th>\n",
       "      <th>cram_index_aspera</th>\n",
       "      <th>cram_index_galaxy</th>\n",
       "      <th>sample_alias</th>\n",
       "      <th>broker_name</th>\n",
       "      <th>nominal_sdev</th>\n",
       "      <th>first_created</th>\n",
       "      <th>Patient</th>\n",
       "      <th>rel_abun</th>\n",
       "    </tr>\n",
       "  </thead>\n",
       "  <tbody>\n",
       "    <tr>\n",
       "      <th>0</th>\n",
       "      <td>SRR5629110</td>\n",
       "      <td>37776.0</td>\n",
       "      <td>355281665bb16bf1045de9cf09b44711</td>\n",
       "      <td>13149.0</td>\n",
       "      <td>355281665bb16bf1045de9cf09b44711</td>\n",
       "      <td>k__Bacteria; p__Bacteroidetes; c__Bacteroidia;...</td>\n",
       "      <td>0.927902</td>\n",
       "      <td>k__Bacteria;p__Bacteroidetes;c__Bacteroidia;o_...</td>\n",
       "      <td>355281665bb16bf1045de9cf09b44711</td>\n",
       "      <td>D_0__Bacteria;D_1__Bacteroidetes;D_2__Bacteroi...</td>\n",
       "      <td>...</td>\n",
       "      <td>ftp.sra.ebi.ac.uk/vol1/srr/SRR562/000/SRR5629110</td>\n",
       "      <td>NaN</td>\n",
       "      <td>NaN</td>\n",
       "      <td>NaN</td>\n",
       "      <td>Longman.FMT.002.W2.Pool253.Integrated</td>\n",
       "      <td>NaN</td>\n",
       "      <td>NaN</td>\n",
       "      <td>2017-11-09</td>\n",
       "      <td>2</td>\n",
       "      <td>0.348078</td>\n",
       "    </tr>\n",
       "    <tr>\n",
       "      <th>78</th>\n",
       "      <td>SRR5629110</td>\n",
       "      <td>37776.0</td>\n",
       "      <td>fb9fff85b91dae8de2154b82cd2ca4b5</td>\n",
       "      <td>5156.0</td>\n",
       "      <td>fb9fff85b91dae8de2154b82cd2ca4b5</td>\n",
       "      <td>k__Bacteria; p__Firmicutes; c__Clostridia; o__...</td>\n",
       "      <td>0.866420</td>\n",
       "      <td>k__Bacteria;p__Firmicutes;c__Clostridia;o__Clo...</td>\n",
       "      <td>fb9fff85b91dae8de2154b82cd2ca4b5</td>\n",
       "      <td>D_0__Bacteria;D_1__Firmicutes;D_2__Clostridia;...</td>\n",
       "      <td>...</td>\n",
       "      <td>ftp.sra.ebi.ac.uk/vol1/srr/SRR562/000/SRR5629110</td>\n",
       "      <td>NaN</td>\n",
       "      <td>NaN</td>\n",
       "      <td>NaN</td>\n",
       "      <td>Longman.FMT.002.W2.Pool253.Integrated</td>\n",
       "      <td>NaN</td>\n",
       "      <td>NaN</td>\n",
       "      <td>2017-11-09</td>\n",
       "      <td>2</td>\n",
       "      <td>0.136489</td>\n",
       "    </tr>\n",
       "    <tr>\n",
       "      <th>156</th>\n",
       "      <td>SRR5629110</td>\n",
       "      <td>37776.0</td>\n",
       "      <td>18f4f0fa87b2d71da0960a0a97789d8a</td>\n",
       "      <td>2394.0</td>\n",
       "      <td>18f4f0fa87b2d71da0960a0a97789d8a</td>\n",
       "      <td>k__Bacteria; p__Bacteroidetes; c__Bacteroidia;...</td>\n",
       "      <td>0.813441</td>\n",
       "      <td>k__Bacteria;p__Bacteroidetes;c__Bacteroidia;o_...</td>\n",
       "      <td>18f4f0fa87b2d71da0960a0a97789d8a</td>\n",
       "      <td>D_0__Bacteria;D_1__Bacteroidetes;D_2__Bacteroi...</td>\n",
       "      <td>...</td>\n",
       "      <td>ftp.sra.ebi.ac.uk/vol1/srr/SRR562/000/SRR5629110</td>\n",
       "      <td>NaN</td>\n",
       "      <td>NaN</td>\n",
       "      <td>NaN</td>\n",
       "      <td>Longman.FMT.002.W2.Pool253.Integrated</td>\n",
       "      <td>NaN</td>\n",
       "      <td>NaN</td>\n",
       "      <td>2017-11-09</td>\n",
       "      <td>2</td>\n",
       "      <td>0.063374</td>\n",
       "    </tr>\n",
       "    <tr>\n",
       "      <th>234</th>\n",
       "      <td>SRR5629110</td>\n",
       "      <td>37776.0</td>\n",
       "      <td>6b0b8441595e1addeb4f99104145712d</td>\n",
       "      <td>2212.0</td>\n",
       "      <td>6b0b8441595e1addeb4f99104145712d</td>\n",
       "      <td>k__Bacteria; p__Firmicutes; c__Clostridia; o__...</td>\n",
       "      <td>0.979358</td>\n",
       "      <td>k__Bacteria;p__Firmicutes;c__Clostridia;o__Clo...</td>\n",
       "      <td>6b0b8441595e1addeb4f99104145712d</td>\n",
       "      <td>D_0__Bacteria;D_1__Firmicutes;D_2__Clostridia;...</td>\n",
       "      <td>...</td>\n",
       "      <td>ftp.sra.ebi.ac.uk/vol1/srr/SRR562/000/SRR5629110</td>\n",
       "      <td>NaN</td>\n",
       "      <td>NaN</td>\n",
       "      <td>NaN</td>\n",
       "      <td>Longman.FMT.002.W2.Pool253.Integrated</td>\n",
       "      <td>NaN</td>\n",
       "      <td>NaN</td>\n",
       "      <td>2017-11-09</td>\n",
       "      <td>2</td>\n",
       "      <td>0.058556</td>\n",
       "    </tr>\n",
       "    <tr>\n",
       "      <th>312</th>\n",
       "      <td>SRR5629110</td>\n",
       "      <td>37776.0</td>\n",
       "      <td>7fba824db92f5ec74a3eec738f374f71</td>\n",
       "      <td>1281.0</td>\n",
       "      <td>7fba824db92f5ec74a3eec738f374f71</td>\n",
       "      <td>k__Bacteria; p__Bacteroidetes; c__Bacteroidia;...</td>\n",
       "      <td>0.928561</td>\n",
       "      <td>k__Bacteria;p__Bacteroidetes;c__Bacteroidia;o_...</td>\n",
       "      <td>7fba824db92f5ec74a3eec738f374f71</td>\n",
       "      <td>D_0__Bacteria;D_1__Bacteroidetes;D_2__Bacteroi...</td>\n",
       "      <td>...</td>\n",
       "      <td>ftp.sra.ebi.ac.uk/vol1/srr/SRR562/000/SRR5629110</td>\n",
       "      <td>NaN</td>\n",
       "      <td>NaN</td>\n",
       "      <td>NaN</td>\n",
       "      <td>Longman.FMT.002.W2.Pool253.Integrated</td>\n",
       "      <td>NaN</td>\n",
       "      <td>NaN</td>\n",
       "      <td>2017-11-09</td>\n",
       "      <td>2</td>\n",
       "      <td>0.033910</td>\n",
       "    </tr>\n",
       "  </tbody>\n",
       "</table>\n",
       "<p>5 rows × 69 columns</p>\n",
       "</div>"
      ],
      "text/plain": [
       "      sample_id  total_reads                           #OTU ID    reads  \\\n",
       "0    SRR5629110      37776.0  355281665bb16bf1045de9cf09b44711  13149.0   \n",
       "78   SRR5629110      37776.0  fb9fff85b91dae8de2154b82cd2ca4b5   5156.0   \n",
       "156  SRR5629110      37776.0  18f4f0fa87b2d71da0960a0a97789d8a   2394.0   \n",
       "234  SRR5629110      37776.0  6b0b8441595e1addeb4f99104145712d   2212.0   \n",
       "312  SRR5629110      37776.0  7fba824db92f5ec74a3eec738f374f71   1281.0   \n",
       "\n",
       "                        Feature ID_gg  \\\n",
       "0    355281665bb16bf1045de9cf09b44711   \n",
       "78   fb9fff85b91dae8de2154b82cd2ca4b5   \n",
       "156  18f4f0fa87b2d71da0960a0a97789d8a   \n",
       "234  6b0b8441595e1addeb4f99104145712d   \n",
       "312  7fba824db92f5ec74a3eec738f374f71   \n",
       "\n",
       "                                              Taxon_gg  Confidence_gg  \\\n",
       "0    k__Bacteria; p__Bacteroidetes; c__Bacteroidia;...       0.927902   \n",
       "78   k__Bacteria; p__Firmicutes; c__Clostridia; o__...       0.866420   \n",
       "156  k__Bacteria; p__Bacteroidetes; c__Bacteroidia;...       0.813441   \n",
       "234  k__Bacteria; p__Firmicutes; c__Clostridia; o__...       0.979358   \n",
       "312  k__Bacteria; p__Bacteroidetes; c__Bacteroidia;...       0.928561   \n",
       "\n",
       "                                             otu_id_gg  \\\n",
       "0    k__Bacteria;p__Bacteroidetes;c__Bacteroidia;o_...   \n",
       "78   k__Bacteria;p__Firmicutes;c__Clostridia;o__Clo...   \n",
       "156  k__Bacteria;p__Bacteroidetes;c__Bacteroidia;o_...   \n",
       "234  k__Bacteria;p__Firmicutes;c__Clostridia;o__Clo...   \n",
       "312  k__Bacteria;p__Bacteroidetes;c__Bacteroidia;o_...   \n",
       "\n",
       "                     Feature ID_silva  \\\n",
       "0    355281665bb16bf1045de9cf09b44711   \n",
       "78   fb9fff85b91dae8de2154b82cd2ca4b5   \n",
       "156  18f4f0fa87b2d71da0960a0a97789d8a   \n",
       "234  6b0b8441595e1addeb4f99104145712d   \n",
       "312  7fba824db92f5ec74a3eec738f374f71   \n",
       "\n",
       "                                           Taxon_silva    ...     \\\n",
       "0    D_0__Bacteria;D_1__Bacteroidetes;D_2__Bacteroi...    ...      \n",
       "78   D_0__Bacteria;D_1__Firmicutes;D_2__Clostridia;...    ...      \n",
       "156  D_0__Bacteria;D_1__Bacteroidetes;D_2__Bacteroi...    ...      \n",
       "234  D_0__Bacteria;D_1__Firmicutes;D_2__Clostridia;...    ...      \n",
       "312  D_0__Bacteria;D_1__Bacteroidetes;D_2__Bacteroi...    ...      \n",
       "\n",
       "                                           sra_galaxy cram_index_ftp  \\\n",
       "0    ftp.sra.ebi.ac.uk/vol1/srr/SRR562/000/SRR5629110            NaN   \n",
       "78   ftp.sra.ebi.ac.uk/vol1/srr/SRR562/000/SRR5629110            NaN   \n",
       "156  ftp.sra.ebi.ac.uk/vol1/srr/SRR562/000/SRR5629110            NaN   \n",
       "234  ftp.sra.ebi.ac.uk/vol1/srr/SRR562/000/SRR5629110            NaN   \n",
       "312  ftp.sra.ebi.ac.uk/vol1/srr/SRR562/000/SRR5629110            NaN   \n",
       "\n",
       "     cram_index_aspera cram_index_galaxy  \\\n",
       "0                  NaN               NaN   \n",
       "78                 NaN               NaN   \n",
       "156                NaN               NaN   \n",
       "234                NaN               NaN   \n",
       "312                NaN               NaN   \n",
       "\n",
       "                              sample_alias broker_name nominal_sdev  \\\n",
       "0    Longman.FMT.002.W2.Pool253.Integrated         NaN          NaN   \n",
       "78   Longman.FMT.002.W2.Pool253.Integrated         NaN          NaN   \n",
       "156  Longman.FMT.002.W2.Pool253.Integrated         NaN          NaN   \n",
       "234  Longman.FMT.002.W2.Pool253.Integrated         NaN          NaN   \n",
       "312  Longman.FMT.002.W2.Pool253.Integrated         NaN          NaN   \n",
       "\n",
       "    first_created Patient  rel_abun  \n",
       "0      2017-11-09       2  0.348078  \n",
       "78     2017-11-09       2  0.136489  \n",
       "156    2017-11-09       2  0.063374  \n",
       "234    2017-11-09       2  0.058556  \n",
       "312    2017-11-09       2  0.033910  \n",
       "\n",
       "[5 rows x 69 columns]"
      ]
     },
     "execution_count": 7,
     "metadata": {},
     "output_type": "execute_result"
    }
   ],
   "source": [
    "tidyjacob.head()"
   ]
  },
  {
   "cell_type": "code",
   "execution_count": 5,
   "metadata": {
    "collapsed": true
   },
   "outputs": [],
   "source": [
    "genera = get_genera()"
   ]
  },
  {
   "cell_type": "code",
   "execution_count": 8,
   "metadata": {
    "collapsed": false
   },
   "outputs": [
    {
     "name": "stdout",
     "output_type": "stream",
     "text": [
      "(83, 177, 167)\n"
     ]
    }
   ],
   "source": [
    "# Find butyrate producing OTUs\n",
    "\n",
    "# Nested list comprehension: keep all OTU IDs which have\n",
    "# any of the genera in them\n",
    "butprod_jacob = [\n",
    "    i for g in genera for i in tidyjacob['otu_id_gg'].unique().tolist() if g in i\n",
    "    ]\n",
    "\n",
    "butprod_goyal = [\n",
    "    i for g in genera for i in tidygoyal['otu_id_gg'].unique().tolist() if g in i\n",
    "    ]\n",
    "\n",
    "butprod_kump = [\n",
    "    i for g in genera for i in tidykump['otu_id_gg'].unique().tolist() if g in i\n",
    "    ]\n",
    "\n",
    "print(len(butprod_jacob), len(butprod_goyal), len(butprod_kump))"
   ]
  },
  {
   "cell_type": "code",
   "execution_count": 9,
   "metadata": {
    "collapsed": false
   },
   "outputs": [],
   "source": [
    "butjacob = tidyjacob.query('otu_id_gg == @butprod_jacob')\n",
    "butkump = tidykump.query('otu_id_gg == @butprod_kump')\n",
    "butgoyal = tidygoyal.query('otu_id_gg == @butprod_goyal')"
   ]
  },
  {
   "cell_type": "code",
   "execution_count": 10,
   "metadata": {
    "collapsed": false
   },
   "outputs": [
    {
     "data": {
      "text/html": [
       "<div>\n",
       "<style scoped>\n",
       "    .dataframe tbody tr th:only-of-type {\n",
       "        vertical-align: middle;\n",
       "    }\n",
       "\n",
       "    .dataframe tbody tr th {\n",
       "        vertical-align: top;\n",
       "    }\n",
       "\n",
       "    .dataframe thead th {\n",
       "        text-align: right;\n",
       "    }\n",
       "</style>\n",
       "<table border=\"1\" class=\"dataframe\">\n",
       "  <thead>\n",
       "    <tr style=\"text-align: right;\">\n",
       "      <th></th>\n",
       "      <th>sample_id</th>\n",
       "      <th>total_reads</th>\n",
       "      <th>#OTU ID</th>\n",
       "      <th>reads</th>\n",
       "      <th>Feature ID_gg</th>\n",
       "      <th>Taxon_gg</th>\n",
       "      <th>Confidence_gg</th>\n",
       "      <th>otu_id_gg</th>\n",
       "      <th>Feature ID_silva</th>\n",
       "      <th>Taxon_silva</th>\n",
       "      <th>...</th>\n",
       "      <th>sra_galaxy</th>\n",
       "      <th>cram_index_ftp</th>\n",
       "      <th>cram_index_aspera</th>\n",
       "      <th>cram_index_galaxy</th>\n",
       "      <th>sample_alias</th>\n",
       "      <th>broker_name</th>\n",
       "      <th>nominal_sdev</th>\n",
       "      <th>first_created</th>\n",
       "      <th>Patient</th>\n",
       "      <th>rel_abun</th>\n",
       "    </tr>\n",
       "  </thead>\n",
       "  <tbody>\n",
       "    <tr>\n",
       "      <th>78</th>\n",
       "      <td>SRR5629110</td>\n",
       "      <td>37776.0</td>\n",
       "      <td>fb9fff85b91dae8de2154b82cd2ca4b5</td>\n",
       "      <td>5156.0</td>\n",
       "      <td>fb9fff85b91dae8de2154b82cd2ca4b5</td>\n",
       "      <td>k__Bacteria; p__Firmicutes; c__Clostridia; o__...</td>\n",
       "      <td>0.866420</td>\n",
       "      <td>k__Bacteria;p__Firmicutes;c__Clostridia;o__Clo...</td>\n",
       "      <td>fb9fff85b91dae8de2154b82cd2ca4b5</td>\n",
       "      <td>D_0__Bacteria;D_1__Firmicutes;D_2__Clostridia;...</td>\n",
       "      <td>...</td>\n",
       "      <td>ftp.sra.ebi.ac.uk/vol1/srr/SRR562/000/SRR5629110</td>\n",
       "      <td>NaN</td>\n",
       "      <td>NaN</td>\n",
       "      <td>NaN</td>\n",
       "      <td>Longman.FMT.002.W2.Pool253.Integrated</td>\n",
       "      <td>NaN</td>\n",
       "      <td>NaN</td>\n",
       "      <td>2017-11-09</td>\n",
       "      <td>2</td>\n",
       "      <td>0.136489</td>\n",
       "    </tr>\n",
       "    <tr>\n",
       "      <th>468</th>\n",
       "      <td>SRR5629110</td>\n",
       "      <td>37776.0</td>\n",
       "      <td>56b419956017b04c1fd0898b14dcf7a2</td>\n",
       "      <td>1031.0</td>\n",
       "      <td>56b419956017b04c1fd0898b14dcf7a2</td>\n",
       "      <td>k__Bacteria; p__Firmicutes; c__Clostridia; o__...</td>\n",
       "      <td>0.990759</td>\n",
       "      <td>k__Bacteria;p__Firmicutes;c__Clostridia;o__Clo...</td>\n",
       "      <td>56b419956017b04c1fd0898b14dcf7a2</td>\n",
       "      <td>D_0__Bacteria;D_1__Firmicutes;D_2__Clostridia;...</td>\n",
       "      <td>...</td>\n",
       "      <td>ftp.sra.ebi.ac.uk/vol1/srr/SRR562/000/SRR5629110</td>\n",
       "      <td>NaN</td>\n",
       "      <td>NaN</td>\n",
       "      <td>NaN</td>\n",
       "      <td>Longman.FMT.002.W2.Pool253.Integrated</td>\n",
       "      <td>NaN</td>\n",
       "      <td>NaN</td>\n",
       "      <td>2017-11-09</td>\n",
       "      <td>2</td>\n",
       "      <td>0.027292</td>\n",
       "    </tr>\n",
       "    <tr>\n",
       "      <th>702</th>\n",
       "      <td>SRR5629110</td>\n",
       "      <td>37776.0</td>\n",
       "      <td>7be3fed5631db826c499e1f0f3d5bff1</td>\n",
       "      <td>804.0</td>\n",
       "      <td>7be3fed5631db826c499e1f0f3d5bff1</td>\n",
       "      <td>k__Bacteria; p__Firmicutes; c__Clostridia; o__...</td>\n",
       "      <td>0.767640</td>\n",
       "      <td>k__Bacteria;p__Firmicutes;c__Clostridia;o__Clo...</td>\n",
       "      <td>7be3fed5631db826c499e1f0f3d5bff1</td>\n",
       "      <td>D_0__Bacteria;D_1__Firmicutes;D_2__Clostridia;...</td>\n",
       "      <td>...</td>\n",
       "      <td>ftp.sra.ebi.ac.uk/vol1/srr/SRR562/000/SRR5629110</td>\n",
       "      <td>NaN</td>\n",
       "      <td>NaN</td>\n",
       "      <td>NaN</td>\n",
       "      <td>Longman.FMT.002.W2.Pool253.Integrated</td>\n",
       "      <td>NaN</td>\n",
       "      <td>NaN</td>\n",
       "      <td>2017-11-09</td>\n",
       "      <td>2</td>\n",
       "      <td>0.021283</td>\n",
       "    </tr>\n",
       "    <tr>\n",
       "      <th>1638</th>\n",
       "      <td>SRR5629110</td>\n",
       "      <td>37776.0</td>\n",
       "      <td>e8afdbb127d2a215680894c17b46ac50</td>\n",
       "      <td>177.0</td>\n",
       "      <td>e8afdbb127d2a215680894c17b46ac50</td>\n",
       "      <td>k__Bacteria; p__Firmicutes; c__Clostridia; o__...</td>\n",
       "      <td>0.809193</td>\n",
       "      <td>k__Bacteria;p__Firmicutes;c__Clostridia;o__Clo...</td>\n",
       "      <td>e8afdbb127d2a215680894c17b46ac50</td>\n",
       "      <td>D_0__Bacteria;D_1__Firmicutes;D_2__Clostridia;...</td>\n",
       "      <td>...</td>\n",
       "      <td>ftp.sra.ebi.ac.uk/vol1/srr/SRR562/000/SRR5629110</td>\n",
       "      <td>NaN</td>\n",
       "      <td>NaN</td>\n",
       "      <td>NaN</td>\n",
       "      <td>Longman.FMT.002.W2.Pool253.Integrated</td>\n",
       "      <td>NaN</td>\n",
       "      <td>NaN</td>\n",
       "      <td>2017-11-09</td>\n",
       "      <td>2</td>\n",
       "      <td>0.004686</td>\n",
       "    </tr>\n",
       "    <tr>\n",
       "      <th>1950</th>\n",
       "      <td>SRR5629110</td>\n",
       "      <td>37776.0</td>\n",
       "      <td>e96d365cd48141668838c3f8121fa21a</td>\n",
       "      <td>117.0</td>\n",
       "      <td>e96d365cd48141668838c3f8121fa21a</td>\n",
       "      <td>k__Bacteria; p__Firmicutes; c__Clostridia; o__...</td>\n",
       "      <td>0.998879</td>\n",
       "      <td>k__Bacteria;p__Firmicutes;c__Clostridia;o__Clo...</td>\n",
       "      <td>e96d365cd48141668838c3f8121fa21a</td>\n",
       "      <td>D_0__Bacteria;D_1__Firmicutes;D_2__Clostridia;...</td>\n",
       "      <td>...</td>\n",
       "      <td>ftp.sra.ebi.ac.uk/vol1/srr/SRR562/000/SRR5629110</td>\n",
       "      <td>NaN</td>\n",
       "      <td>NaN</td>\n",
       "      <td>NaN</td>\n",
       "      <td>Longman.FMT.002.W2.Pool253.Integrated</td>\n",
       "      <td>NaN</td>\n",
       "      <td>NaN</td>\n",
       "      <td>2017-11-09</td>\n",
       "      <td>2</td>\n",
       "      <td>0.003097</td>\n",
       "    </tr>\n",
       "  </tbody>\n",
       "</table>\n",
       "<p>5 rows × 69 columns</p>\n",
       "</div>"
      ],
      "text/plain": [
       "       sample_id  total_reads                           #OTU ID   reads  \\\n",
       "78    SRR5629110      37776.0  fb9fff85b91dae8de2154b82cd2ca4b5  5156.0   \n",
       "468   SRR5629110      37776.0  56b419956017b04c1fd0898b14dcf7a2  1031.0   \n",
       "702   SRR5629110      37776.0  7be3fed5631db826c499e1f0f3d5bff1   804.0   \n",
       "1638  SRR5629110      37776.0  e8afdbb127d2a215680894c17b46ac50   177.0   \n",
       "1950  SRR5629110      37776.0  e96d365cd48141668838c3f8121fa21a   117.0   \n",
       "\n",
       "                         Feature ID_gg  \\\n",
       "78    fb9fff85b91dae8de2154b82cd2ca4b5   \n",
       "468   56b419956017b04c1fd0898b14dcf7a2   \n",
       "702   7be3fed5631db826c499e1f0f3d5bff1   \n",
       "1638  e8afdbb127d2a215680894c17b46ac50   \n",
       "1950  e96d365cd48141668838c3f8121fa21a   \n",
       "\n",
       "                                               Taxon_gg  Confidence_gg  \\\n",
       "78    k__Bacteria; p__Firmicutes; c__Clostridia; o__...       0.866420   \n",
       "468   k__Bacteria; p__Firmicutes; c__Clostridia; o__...       0.990759   \n",
       "702   k__Bacteria; p__Firmicutes; c__Clostridia; o__...       0.767640   \n",
       "1638  k__Bacteria; p__Firmicutes; c__Clostridia; o__...       0.809193   \n",
       "1950  k__Bacteria; p__Firmicutes; c__Clostridia; o__...       0.998879   \n",
       "\n",
       "                                              otu_id_gg  \\\n",
       "78    k__Bacteria;p__Firmicutes;c__Clostridia;o__Clo...   \n",
       "468   k__Bacteria;p__Firmicutes;c__Clostridia;o__Clo...   \n",
       "702   k__Bacteria;p__Firmicutes;c__Clostridia;o__Clo...   \n",
       "1638  k__Bacteria;p__Firmicutes;c__Clostridia;o__Clo...   \n",
       "1950  k__Bacteria;p__Firmicutes;c__Clostridia;o__Clo...   \n",
       "\n",
       "                      Feature ID_silva  \\\n",
       "78    fb9fff85b91dae8de2154b82cd2ca4b5   \n",
       "468   56b419956017b04c1fd0898b14dcf7a2   \n",
       "702   7be3fed5631db826c499e1f0f3d5bff1   \n",
       "1638  e8afdbb127d2a215680894c17b46ac50   \n",
       "1950  e96d365cd48141668838c3f8121fa21a   \n",
       "\n",
       "                                            Taxon_silva    ...     \\\n",
       "78    D_0__Bacteria;D_1__Firmicutes;D_2__Clostridia;...    ...      \n",
       "468   D_0__Bacteria;D_1__Firmicutes;D_2__Clostridia;...    ...      \n",
       "702   D_0__Bacteria;D_1__Firmicutes;D_2__Clostridia;...    ...      \n",
       "1638  D_0__Bacteria;D_1__Firmicutes;D_2__Clostridia;...    ...      \n",
       "1950  D_0__Bacteria;D_1__Firmicutes;D_2__Clostridia;...    ...      \n",
       "\n",
       "                                            sra_galaxy cram_index_ftp  \\\n",
       "78    ftp.sra.ebi.ac.uk/vol1/srr/SRR562/000/SRR5629110            NaN   \n",
       "468   ftp.sra.ebi.ac.uk/vol1/srr/SRR562/000/SRR5629110            NaN   \n",
       "702   ftp.sra.ebi.ac.uk/vol1/srr/SRR562/000/SRR5629110            NaN   \n",
       "1638  ftp.sra.ebi.ac.uk/vol1/srr/SRR562/000/SRR5629110            NaN   \n",
       "1950  ftp.sra.ebi.ac.uk/vol1/srr/SRR562/000/SRR5629110            NaN   \n",
       "\n",
       "      cram_index_aspera cram_index_galaxy  \\\n",
       "78                  NaN               NaN   \n",
       "468                 NaN               NaN   \n",
       "702                 NaN               NaN   \n",
       "1638                NaN               NaN   \n",
       "1950                NaN               NaN   \n",
       "\n",
       "                               sample_alias broker_name nominal_sdev  \\\n",
       "78    Longman.FMT.002.W2.Pool253.Integrated         NaN          NaN   \n",
       "468   Longman.FMT.002.W2.Pool253.Integrated         NaN          NaN   \n",
       "702   Longman.FMT.002.W2.Pool253.Integrated         NaN          NaN   \n",
       "1638  Longman.FMT.002.W2.Pool253.Integrated         NaN          NaN   \n",
       "1950  Longman.FMT.002.W2.Pool253.Integrated         NaN          NaN   \n",
       "\n",
       "     first_created Patient  rel_abun  \n",
       "78      2017-11-09       2  0.136489  \n",
       "468     2017-11-09       2  0.027292  \n",
       "702     2017-11-09       2  0.021283  \n",
       "1638    2017-11-09       2  0.004686  \n",
       "1950    2017-11-09       2  0.003097  \n",
       "\n",
       "[5 rows x 69 columns]"
      ]
     },
     "execution_count": 10,
     "metadata": {},
     "output_type": "execute_result"
    }
   ],
   "source": [
    "butjacob.head()"
   ]
  },
  {
   "cell_type": "code",
   "execution_count": 11,
   "metadata": {
    "collapsed": false
   },
   "outputs": [
    {
     "name": "stdout",
     "output_type": "stream",
     "text": [
      "((6474, 69), (28724, 23), (19293, 77))\n"
     ]
    }
   ],
   "source": [
    "print(butjacob.shape, butkump.shape, butgoyal.shape)"
   ]
  },
  {
   "cell_type": "markdown",
   "metadata": {},
   "source": [
    "# Kump 2018"
   ]
  },
  {
   "cell_type": "code",
   "execution_count": 13,
   "metadata": {
    "collapsed": false
   },
   "outputs": [
    {
     "data": {
      "text/plain": [
       "Index([u'sample_id', u'total_reads', u'#OTU ID', u'reads', u'Feature ID_gg',\n",
       "       u'Taxon_gg', u'Confidence_gg', u'otu_id_gg', u'Feature ID_silva',\n",
       "       u'Taxon_silva', u'Confidence_silva', u'otu_id_silva', u'Forward_read',\n",
       "       u'Reverse_read', u'Matter', u'Identity', u'PatientID', u'DonorID',\n",
       "       u'Response', u'Sampletype', u'prepost', u'Sampling_day', u'rel_abun'],\n",
       "      dtype='object')"
      ]
     },
     "execution_count": 13,
     "metadata": {},
     "output_type": "execute_result"
    }
   ],
   "source": [
    "butkump.columns"
   ]
  },
  {
   "cell_type": "code",
   "execution_count": 16,
   "metadata": {
    "collapsed": false
   },
   "outputs": [
    {
     "data": {
      "text/html": [
       "<div>\n",
       "<style scoped>\n",
       "    .dataframe tbody tr th:only-of-type {\n",
       "        vertical-align: middle;\n",
       "    }\n",
       "\n",
       "    .dataframe tbody tr th {\n",
       "        vertical-align: top;\n",
       "    }\n",
       "\n",
       "    .dataframe thead th {\n",
       "        text-align: right;\n",
       "    }\n",
       "</style>\n",
       "<table border=\"1\" class=\"dataframe\">\n",
       "  <thead>\n",
       "    <tr style=\"text-align: right;\">\n",
       "      <th></th>\n",
       "      <th>otu_id_gg</th>\n",
       "      <th>DonorID</th>\n",
       "      <th>Response</th>\n",
       "      <th>PatientID</th>\n",
       "      <th>rel_abun</th>\n",
       "      <th>Sampling_day</th>\n",
       "    </tr>\n",
       "  </thead>\n",
       "  <tbody>\n",
       "    <tr>\n",
       "      <th>0</th>\n",
       "      <td>k__Bacteria;p__Bacteroidetes;c__Bacteroidia;o_...</td>\n",
       "      <td>DB</td>\n",
       "      <td>NR</td>\n",
       "      <td>PD</td>\n",
       "      <td>0.0</td>\n",
       "      <td>average</td>\n",
       "    </tr>\n",
       "    <tr>\n",
       "      <th>1</th>\n",
       "      <td>k__Bacteria;p__Bacteroidetes;c__Bacteroidia;o_...</td>\n",
       "      <td>DC</td>\n",
       "      <td>PR</td>\n",
       "      <td>PK</td>\n",
       "      <td>0.0</td>\n",
       "      <td>average</td>\n",
       "    </tr>\n",
       "    <tr>\n",
       "      <th>2</th>\n",
       "      <td>k__Bacteria;p__Bacteroidetes;c__Bacteroidia;o_...</td>\n",
       "      <td>DC</td>\n",
       "      <td>RE</td>\n",
       "      <td>PE</td>\n",
       "      <td>0.0</td>\n",
       "      <td>average</td>\n",
       "    </tr>\n",
       "    <tr>\n",
       "      <th>3</th>\n",
       "      <td>k__Bacteria;p__Bacteroidetes;c__Bacteroidia;o_...</td>\n",
       "      <td>DD</td>\n",
       "      <td>PR</td>\n",
       "      <td>PF</td>\n",
       "      <td>0.0</td>\n",
       "      <td>average</td>\n",
       "    </tr>\n",
       "    <tr>\n",
       "      <th>4</th>\n",
       "      <td>k__Bacteria;p__Bacteroidetes;c__Bacteroidia;o_...</td>\n",
       "      <td>DE</td>\n",
       "      <td>PR</td>\n",
       "      <td>PG</td>\n",
       "      <td>0.0</td>\n",
       "      <td>average</td>\n",
       "    </tr>\n",
       "  </tbody>\n",
       "</table>\n",
       "</div>"
      ],
      "text/plain": [
       "                                           otu_id_gg DonorID Response  \\\n",
       "0  k__Bacteria;p__Bacteroidetes;c__Bacteroidia;o_...      DB       NR   \n",
       "1  k__Bacteria;p__Bacteroidetes;c__Bacteroidia;o_...      DC       PR   \n",
       "2  k__Bacteria;p__Bacteroidetes;c__Bacteroidia;o_...      DC       RE   \n",
       "3  k__Bacteria;p__Bacteroidetes;c__Bacteroidia;o_...      DD       PR   \n",
       "4  k__Bacteria;p__Bacteroidetes;c__Bacteroidia;o_...      DE       PR   \n",
       "\n",
       "  PatientID  rel_abun Sampling_day  \n",
       "0        PD       0.0      average  \n",
       "1        PK       0.0      average  \n",
       "2        PE       0.0      average  \n",
       "3        PF       0.0      average  \n",
       "4        PG       0.0      average  "
      ]
     },
     "execution_count": 16,
     "metadata": {},
     "output_type": "execute_result"
    }
   ],
   "source": [
    "# Kump 2018 - get average across all sampling days\n",
    "butkump_avg = (\n",
    "    butkump\n",
    "        .query('Sampletype == \"Donorstool\"')\n",
    "        .groupby(['otu_id_gg', 'DonorID', 'Response', 'PatientID'])\n",
    "        .mean()\n",
    "        ['rel_abun']\n",
    "    ).reset_index()\n",
    "butkump_avg['Sampling_day'] = 'average'\n",
    "butkump_avg.head()"
   ]
  },
  {
   "cell_type": "code",
   "execution_count": 19,
   "metadata": {
    "collapsed": false
   },
   "outputs": [],
   "source": [
    "butkump_avg = butkump_avg.replace(0, np.nan).dropna()"
   ]
  },
  {
   "cell_type": "code",
   "execution_count": 25,
   "metadata": {
    "collapsed": true
   },
   "outputs": [],
   "source": [
    "# One of the donors was given to two patients, need to make unique IDs then\n",
    "butkump_avg['Donor_Patient_IDs'] = butkump_avg['DonorID'] + '_' + butkump_avg['PatientID']"
   ]
  },
  {
   "cell_type": "code",
   "execution_count": 33,
   "metadata": {
    "collapsed": false
   },
   "outputs": [
    {
     "data": {
      "text/plain": [
       "<matplotlib.axes._subplots.AxesSubplot at 0x1a1af36ed0>"
      ]
     },
     "execution_count": 33,
     "metadata": {},
     "output_type": "execute_result"
    },
    {
     "data": {
      "image/png": "[encoded data removed]",
      "text/plain": [
       "<Figure size 432x288 with 1 Axes>"
      ]
     },
     "metadata": {},
     "output_type": "display_data"
    }
   ],
   "source": [
    "butkump_wide = (\n",
    "    butkump_avg\n",
    "        .pivot(index='Donor_Patient_IDs', columns='otu_id_gg', values='rel_abun')\n",
    "    )\n",
    "butkump_wide.plot(kind='bar', stacked=True, legend=False)"
   ]
  },
  {
   "cell_type": "code",
   "execution_count": 34,
   "metadata": {
    "collapsed": false
   },
   "outputs": [],
   "source": [
    "# How many genera are there? Color OTUs by genus\n",
    "gcolordict = {i: j for i, j in zip(genera, sns.color_palette('Set3', n_colors=len(genera)))}\n",
    "\n",
    "colors = []\n",
    "for o in butkump_wide.columns:\n",
    "    g = [i for i in genera if i in o]\n",
    "    if len(g) > 1:\n",
    "        print(o)\n",
    "        raise ValueError('Too many genera in this OTU')\n",
    "    \n",
    "    colors.append(gcolordict[g[0]])"
   ]
  },
  {
   "cell_type": "code",
   "execution_count": 35,
   "metadata": {
    "collapsed": false
   },
   "outputs": [
    {
     "data": {
      "text/plain": [
       "<matplotlib.axes._subplots.AxesSubplot at 0x1a212b16d0>"
      ]
     },
     "execution_count": 35,
     "metadata": {},
     "output_type": "execute_result"
    },
    {
     "data": {
      "image/png": "[encoded data removed]",
      "text/plain": [
       "<Figure size 432x288 with 1 Axes>"
      ]
     },
     "metadata": {},
     "output_type": "display_data"
    }
   ],
   "source": [
    "butkump_wide.plot(kind='bar', stacked=True, legend=False, color=colors)"
   ]
  },
  {
   "cell_type": "code",
   "execution_count": 36,
   "metadata": {
    "collapsed": false
   },
   "outputs": [
    {
     "name": "stdout",
     "output_type": "stream",
     "text": [
      "Odoribacter, Clostridium_XIVa, Coprococcus, Butyricicoccus, Pseudoflavonifractor, Flavonifractor, Anaerostipes, Roseburia, Oscillibacter, Faecalibacterium, Subdoligranulum\n"
     ]
    },
    {
     "data": {
      "image/png": "[encoded data removed]",
      "text/plain": [
       "<Figure size 792x72 with 1 Axes>"
      ]
     },
     "metadata": {},
     "output_type": "display_data"
    }
   ],
   "source": [
    "print(', '.join(genera))\n",
    "sns.palplot(sns.color_palette('Set3', n_colors=len(genera)))"
   ]
  },
  {
   "cell_type": "markdown",
   "metadata": {},
   "source": [
    "So most samples are made up of Coprococcus (light blue), Faecalibacterium (purple), and Roseburia (pink). Some have a little bit of other things, but only very very small amount."
   ]
  },
  {
   "cell_type": "markdown",
   "metadata": {},
   "source": [
    "Let's keep going with the other studies before deciding whether it's worth including in the supplement... "
   ]
  },
  {
   "cell_type": "markdown",
   "metadata": {},
   "source": [
    "# Jacob 2017"
   ]
  },
  {
   "cell_type": "code",
   "execution_count": 43,
   "metadata": {
    "collapsed": false
   },
   "outputs": [
    {
     "data": {
      "text/plain": [
       "Index([u'sample_id', u'total_reads', u'#OTU ID', u'reads', u'Feature ID_gg',\n",
       "       u'Taxon_gg', u'Confidence_gg', u'otu_id_gg', u'Feature ID_silva',\n",
       "       u'Taxon_silva', u'Confidence_silva', u'otu_id_silva', u'patient_id',\n",
       "       u'sample_type', u'donor_patient', u'remission_w4', u'response_w4',\n",
       "       u'sample_title', u'study_accession', u'secondary_study_accession',\n",
       "       u'sample_accession', u'secondary_sample_accession',\n",
       "       u'experiment_accession', u'submission_accession', u'tax_id',\n",
       "       u'scientific_name', u'instrument_platform', u'instrument_model',\n",
       "       u'library_name', u'nominal_length', u'library_layout',\n",
       "       u'library_strategy', u'library_source', u'library_selection',\n",
       "       u'read_count', u'base_count', u'center_name', u'first_public',\n",
       "       u'last_updated', u'experiment_title', u'study_title', u'study_alias',\n",
       "       u'experiment_alias', u'run_alias', u'fastq_bytes', u'fastq_md5',\n",
       "       u'fastq_ftp', u'fastq_aspera', u'fastq_galaxy', u'submitted_bytes',\n",
       "       u'submitted_md5', u'submitted_ftp', u'submitted_aspera',\n",
       "       u'submitted_galaxy', u'submitted_format', u'sra_bytes', u'sra_md5',\n",
       "       u'sra_ftp', u'sra_aspera', u'sra_galaxy', u'cram_index_ftp',\n",
       "       u'cram_index_aspera', u'cram_index_galaxy', u'sample_alias',\n",
       "       u'broker_name', u'nominal_sdev', u'first_created', u'Patient',\n",
       "       u'rel_abun'],\n",
       "      dtype='object')"
      ]
     },
     "execution_count": 43,
     "metadata": {},
     "output_type": "execute_result"
    }
   ],
   "source": [
    "butjacob.columns"
   ]
  },
  {
   "cell_type": "code",
   "execution_count": 37,
   "metadata": {
    "collapsed": false
   },
   "outputs": [
    {
     "data": {
      "text/html": [
       "<div>\n",
       "<style scoped>\n",
       "    .dataframe tbody tr th:only-of-type {\n",
       "        vertical-align: middle;\n",
       "    }\n",
       "\n",
       "    .dataframe tbody tr th {\n",
       "        vertical-align: top;\n",
       "    }\n",
       "\n",
       "    .dataframe thead th {\n",
       "        text-align: right;\n",
       "    }\n",
       "</style>\n",
       "<table border=\"1\" class=\"dataframe\">\n",
       "  <thead>\n",
       "    <tr style=\"text-align: right;\">\n",
       "      <th></th>\n",
       "      <th>sample_id</th>\n",
       "      <th>total_reads</th>\n",
       "      <th>#OTU ID</th>\n",
       "      <th>reads</th>\n",
       "      <th>Feature ID_gg</th>\n",
       "      <th>Taxon_gg</th>\n",
       "      <th>Confidence_gg</th>\n",
       "      <th>otu_id_gg</th>\n",
       "      <th>Feature ID_silva</th>\n",
       "      <th>Taxon_silva</th>\n",
       "      <th>...</th>\n",
       "      <th>sra_galaxy</th>\n",
       "      <th>cram_index_ftp</th>\n",
       "      <th>cram_index_aspera</th>\n",
       "      <th>cram_index_galaxy</th>\n",
       "      <th>sample_alias</th>\n",
       "      <th>broker_name</th>\n",
       "      <th>nominal_sdev</th>\n",
       "      <th>first_created</th>\n",
       "      <th>Patient</th>\n",
       "      <th>rel_abun</th>\n",
       "    </tr>\n",
       "  </thead>\n",
       "  <tbody>\n",
       "    <tr>\n",
       "      <th>78</th>\n",
       "      <td>SRR5629110</td>\n",
       "      <td>37776.0</td>\n",
       "      <td>fb9fff85b91dae8de2154b82cd2ca4b5</td>\n",
       "      <td>5156.0</td>\n",
       "      <td>fb9fff85b91dae8de2154b82cd2ca4b5</td>\n",
       "      <td>k__Bacteria; p__Firmicutes; c__Clostridia; o__...</td>\n",
       "      <td>0.866420</td>\n",
       "      <td>k__Bacteria;p__Firmicutes;c__Clostridia;o__Clo...</td>\n",
       "      <td>fb9fff85b91dae8de2154b82cd2ca4b5</td>\n",
       "      <td>D_0__Bacteria;D_1__Firmicutes;D_2__Clostridia;...</td>\n",
       "      <td>...</td>\n",
       "      <td>ftp.sra.ebi.ac.uk/vol1/srr/SRR562/000/SRR5629110</td>\n",
       "      <td>NaN</td>\n",
       "      <td>NaN</td>\n",
       "      <td>NaN</td>\n",
       "      <td>Longman.FMT.002.W2.Pool253.Integrated</td>\n",
       "      <td>NaN</td>\n",
       "      <td>NaN</td>\n",
       "      <td>2017-11-09</td>\n",
       "      <td>2</td>\n",
       "      <td>0.136489</td>\n",
       "    </tr>\n",
       "    <tr>\n",
       "      <th>468</th>\n",
       "      <td>SRR5629110</td>\n",
       "      <td>37776.0</td>\n",
       "      <td>56b419956017b04c1fd0898b14dcf7a2</td>\n",
       "      <td>1031.0</td>\n",
       "      <td>56b419956017b04c1fd0898b14dcf7a2</td>\n",
       "      <td>k__Bacteria; p__Firmicutes; c__Clostridia; o__...</td>\n",
       "      <td>0.990759</td>\n",
       "      <td>k__Bacteria;p__Firmicutes;c__Clostridia;o__Clo...</td>\n",
       "      <td>56b419956017b04c1fd0898b14dcf7a2</td>\n",
       "      <td>D_0__Bacteria;D_1__Firmicutes;D_2__Clostridia;...</td>\n",
       "      <td>...</td>\n",
       "      <td>ftp.sra.ebi.ac.uk/vol1/srr/SRR562/000/SRR5629110</td>\n",
       "      <td>NaN</td>\n",
       "      <td>NaN</td>\n",
       "      <td>NaN</td>\n",
       "      <td>Longman.FMT.002.W2.Pool253.Integrated</td>\n",
       "      <td>NaN</td>\n",
       "      <td>NaN</td>\n",
       "      <td>2017-11-09</td>\n",
       "      <td>2</td>\n",
       "      <td>0.027292</td>\n",
       "    </tr>\n",
       "    <tr>\n",
       "      <th>702</th>\n",
       "      <td>SRR5629110</td>\n",
       "      <td>37776.0</td>\n",
       "      <td>7be3fed5631db826c499e1f0f3d5bff1</td>\n",
       "      <td>804.0</td>\n",
       "      <td>7be3fed5631db826c499e1f0f3d5bff1</td>\n",
       "      <td>k__Bacteria; p__Firmicutes; c__Clostridia; o__...</td>\n",
       "      <td>0.767640</td>\n",
       "      <td>k__Bacteria;p__Firmicutes;c__Clostridia;o__Clo...</td>\n",
       "      <td>7be3fed5631db826c499e1f0f3d5bff1</td>\n",
       "      <td>D_0__Bacteria;D_1__Firmicutes;D_2__Clostridia;...</td>\n",
       "      <td>...</td>\n",
       "      <td>ftp.sra.ebi.ac.uk/vol1/srr/SRR562/000/SRR5629110</td>\n",
       "      <td>NaN</td>\n",
       "      <td>NaN</td>\n",
       "      <td>NaN</td>\n",
       "      <td>Longman.FMT.002.W2.Pool253.Integrated</td>\n",
       "      <td>NaN</td>\n",
       "      <td>NaN</td>\n",
       "      <td>2017-11-09</td>\n",
       "      <td>2</td>\n",
       "      <td>0.021283</td>\n",
       "    </tr>\n",
       "    <tr>\n",
       "      <th>1638</th>\n",
       "      <td>SRR5629110</td>\n",
       "      <td>37776.0</td>\n",
       "      <td>e8afdbb127d2a215680894c17b46ac50</td>\n",
       "      <td>177.0</td>\n",
       "      <td>e8afdbb127d2a215680894c17b46ac50</td>\n",
       "      <td>k__Bacteria; p__Firmicutes; c__Clostridia; o__...</td>\n",
       "      <td>0.809193</td>\n",
       "      <td>k__Bacteria;p__Firmicutes;c__Clostridia;o__Clo...</td>\n",
       "      <td>e8afdbb127d2a215680894c17b46ac50</td>\n",
       "      <td>D_0__Bacteria;D_1__Firmicutes;D_2__Clostridia;...</td>\n",
       "      <td>...</td>\n",
       "      <td>ftp.sra.ebi.ac.uk/vol1/srr/SRR562/000/SRR5629110</td>\n",
       "      <td>NaN</td>\n",
       "      <td>NaN</td>\n",
       "      <td>NaN</td>\n",
       "      <td>Longman.FMT.002.W2.Pool253.Integrated</td>\n",
       "      <td>NaN</td>\n",
       "      <td>NaN</td>\n",
       "      <td>2017-11-09</td>\n",
       "      <td>2</td>\n",
       "      <td>0.004686</td>\n",
       "    </tr>\n",
       "    <tr>\n",
       "      <th>1950</th>\n",
       "      <td>SRR5629110</td>\n",
       "      <td>37776.0</td>\n",
       "      <td>e96d365cd48141668838c3f8121fa21a</td>\n",
       "      <td>117.0</td>\n",
       "      <td>e96d365cd48141668838c3f8121fa21a</td>\n",
       "      <td>k__Bacteria; p__Firmicutes; c__Clostridia; o__...</td>\n",
       "      <td>0.998879</td>\n",
       "      <td>k__Bacteria;p__Firmicutes;c__Clostridia;o__Clo...</td>\n",
       "      <td>e96d365cd48141668838c3f8121fa21a</td>\n",
       "      <td>D_0__Bacteria;D_1__Firmicutes;D_2__Clostridia;...</td>\n",
       "      <td>...</td>\n",
       "      <td>ftp.sra.ebi.ac.uk/vol1/srr/SRR562/000/SRR5629110</td>\n",
       "      <td>NaN</td>\n",
       "      <td>NaN</td>\n",
       "      <td>NaN</td>\n",
       "      <td>Longman.FMT.002.W2.Pool253.Integrated</td>\n",
       "      <td>NaN</td>\n",
       "      <td>NaN</td>\n",
       "      <td>2017-11-09</td>\n",
       "      <td>2</td>\n",
       "      <td>0.003097</td>\n",
       "    </tr>\n",
       "  </tbody>\n",
       "</table>\n",
       "<p>5 rows × 69 columns</p>\n",
       "</div>"
      ],
      "text/plain": [
       "       sample_id  total_reads                           #OTU ID   reads  \\\n",
       "78    SRR5629110      37776.0  fb9fff85b91dae8de2154b82cd2ca4b5  5156.0   \n",
       "468   SRR5629110      37776.0  56b419956017b04c1fd0898b14dcf7a2  1031.0   \n",
       "702   SRR5629110      37776.0  7be3fed5631db826c499e1f0f3d5bff1   804.0   \n",
       "1638  SRR5629110      37776.0  e8afdbb127d2a215680894c17b46ac50   177.0   \n",
       "1950  SRR5629110      37776.0  e96d365cd48141668838c3f8121fa21a   117.0   \n",
       "\n",
       "                         Feature ID_gg  \\\n",
       "78    fb9fff85b91dae8de2154b82cd2ca4b5   \n",
       "468   56b419956017b04c1fd0898b14dcf7a2   \n",
       "702   7be3fed5631db826c499e1f0f3d5bff1   \n",
       "1638  e8afdbb127d2a215680894c17b46ac50   \n",
       "1950  e96d365cd48141668838c3f8121fa21a   \n",
       "\n",
       "                                               Taxon_gg  Confidence_gg  \\\n",
       "78    k__Bacteria; p__Firmicutes; c__Clostridia; o__...       0.866420   \n",
       "468   k__Bacteria; p__Firmicutes; c__Clostridia; o__...       0.990759   \n",
       "702   k__Bacteria; p__Firmicutes; c__Clostridia; o__...       0.767640   \n",
       "1638  k__Bacteria; p__Firmicutes; c__Clostridia; o__...       0.809193   \n",
       "1950  k__Bacteria; p__Firmicutes; c__Clostridia; o__...       0.998879   \n",
       "\n",
       "                                              otu_id_gg  \\\n",
       "78    k__Bacteria;p__Firmicutes;c__Clostridia;o__Clo...   \n",
       "468   k__Bacteria;p__Firmicutes;c__Clostridia;o__Clo...   \n",
       "702   k__Bacteria;p__Firmicutes;c__Clostridia;o__Clo...   \n",
       "1638  k__Bacteria;p__Firmicutes;c__Clostridia;o__Clo...   \n",
       "1950  k__Bacteria;p__Firmicutes;c__Clostridia;o__Clo...   \n",
       "\n",
       "                      Feature ID_silva  \\\n",
       "78    fb9fff85b91dae8de2154b82cd2ca4b5   \n",
       "468   56b419956017b04c1fd0898b14dcf7a2   \n",
       "702   7be3fed5631db826c499e1f0f3d5bff1   \n",
       "1638  e8afdbb127d2a215680894c17b46ac50   \n",
       "1950  e96d365cd48141668838c3f8121fa21a   \n",
       "\n",
       "                                            Taxon_silva    ...     \\\n",
       "78    D_0__Bacteria;D_1__Firmicutes;D_2__Clostridia;...    ...      \n",
       "468   D_0__Bacteria;D_1__Firmicutes;D_2__Clostridia;...    ...      \n",
       "702   D_0__Bacteria;D_1__Firmicutes;D_2__Clostridia;...    ...      \n",
       "1638  D_0__Bacteria;D_1__Firmicutes;D_2__Clostridia;...    ...      \n",
       "1950  D_0__Bacteria;D_1__Firmicutes;D_2__Clostridia;...    ...      \n",
       "\n",
       "                                            sra_galaxy cram_index_ftp  \\\n",
       "78    ftp.sra.ebi.ac.uk/vol1/srr/SRR562/000/SRR5629110            NaN   \n",
       "468   ftp.sra.ebi.ac.uk/vol1/srr/SRR562/000/SRR5629110            NaN   \n",
       "702   ftp.sra.ebi.ac.uk/vol1/srr/SRR562/000/SRR5629110            NaN   \n",
       "1638  ftp.sra.ebi.ac.uk/vol1/srr/SRR562/000/SRR5629110            NaN   \n",
       "1950  ftp.sra.ebi.ac.uk/vol1/srr/SRR562/000/SRR5629110            NaN   \n",
       "\n",
       "      cram_index_aspera cram_index_galaxy  \\\n",
       "78                  NaN               NaN   \n",
       "468                 NaN               NaN   \n",
       "702                 NaN               NaN   \n",
       "1638                NaN               NaN   \n",
       "1950                NaN               NaN   \n",
       "\n",
       "                               sample_alias broker_name nominal_sdev  \\\n",
       "78    Longman.FMT.002.W2.Pool253.Integrated         NaN          NaN   \n",
       "468   Longman.FMT.002.W2.Pool253.Integrated         NaN          NaN   \n",
       "702   Longman.FMT.002.W2.Pool253.Integrated         NaN          NaN   \n",
       "1638  Longman.FMT.002.W2.Pool253.Integrated         NaN          NaN   \n",
       "1950  Longman.FMT.002.W2.Pool253.Integrated         NaN          NaN   \n",
       "\n",
       "     first_created Patient  rel_abun  \n",
       "78      2017-11-09       2  0.136489  \n",
       "468     2017-11-09       2  0.027292  \n",
       "702     2017-11-09       2  0.021283  \n",
       "1638    2017-11-09       2  0.004686  \n",
       "1950    2017-11-09       2  0.003097  \n",
       "\n",
       "[5 rows x 69 columns]"
      ]
     },
     "execution_count": 37,
     "metadata": {},
     "output_type": "execute_result"
    }
   ],
   "source": [
    "butjacob.head()"
   ]
  },
  {
   "cell_type": "code",
   "execution_count": 41,
   "metadata": {
    "collapsed": false
   },
   "outputs": [
    {
     "data": {
      "text/plain": [
       "sample_id   sample_type  donor_patient  remission_w4  response_w4  patient_id\n",
       "SRR5629088  donor        donor          No            No           1             83\n",
       "SRR5629090  donor        donor          No            No           2             83\n",
       "SRR5629098  donor        donor          No            No           3             83\n",
       "SRR5629104  donor        donor          No            Yes          24            83\n",
       "SRR5629107  donor        donor          No            Yes          4             83\n",
       "SRR5629113  donor        donor          No            No           11            83\n",
       "SRR5629115  donor        donor          No            No           10            83\n",
       "SRR5629116  donor        donor          No            No           6             83\n",
       "SRR5629120  donor        donor          No            Yes          33            83\n",
       "SRR5629122  donor        donor          No            No           21            83\n",
       "SRR5629137  donor        donor          Yes           Yes          12            83\n",
       "SRR5629138  donor        donor          No            No           7             83\n",
       "SRR5629141  donor        donor          Yes           Yes          25            83\n",
       "SRR5629145  donor        donor          No            Yes          27            83\n",
       "SRR5629149  donor        donor          No            No           31            83\n",
       "SRR5629150  donor        donor          No            No           5             83\n",
       "SRR5629151  donor        donor          No            Yes          28            83\n",
       "SRR5629153  donor        donor          Yes           No           19            83\n",
       "SRR5629156  donor        donor          No            No           29            83\n",
       "SRR5629161  donor        donor          No            No           34            83\n",
       "dtype: int64"
      ]
     },
     "execution_count": 41,
     "metadata": {},
     "output_type": "execute_result"
    }
   ],
   "source": [
    "(butjacob\n",
    "     .query('donor_patient == \"donor\"')\n",
    "     .groupby(['sample_id', 'sample_type',\n",
    "               'donor_patient', 'remission_w4',\n",
    "               'response_w4', 'patient_id'])\n",
    "     .size()\n",
    ")"
   ]
  },
  {
   "cell_type": "markdown",
   "metadata": {},
   "source": [
    "Okay good, so querying donor_patient == \"donor\" gets me the samples I need."
   ]
  },
  {
   "cell_type": "code",
   "execution_count": 42,
   "metadata": {
    "collapsed": true
   },
   "outputs": [],
   "source": [
    "butjacob = butjacob.query('donor_patient == \"donor\"')"
   ]
  },
  {
   "cell_type": "code",
   "execution_count": 44,
   "metadata": {
    "collapsed": true
   },
   "outputs": [],
   "source": [
    "butjacob_wide = butjacob.pivot(index='sample_id', columns='otu_id_gg', values='rel_abun')"
   ]
  },
  {
   "cell_type": "code",
   "execution_count": 45,
   "metadata": {
    "collapsed": true
   },
   "outputs": [],
   "source": [
    "colors = []\n",
    "for o in butjacob_wide.columns:\n",
    "    g = [i for i in genera if i in o]\n",
    "    if len(g) > 1:\n",
    "        print(o)\n",
    "        raise ValueError('Too many genera in this OTU')\n",
    "    \n",
    "    colors.append(gcolordict[g[0]])"
   ]
  },
  {
   "cell_type": "code",
   "execution_count": 46,
   "metadata": {
    "collapsed": false
   },
   "outputs": [
    {
     "data": {
      "text/plain": [
       "<matplotlib.axes._subplots.AxesSubplot at 0x1a2a25d390>"
      ]
     },
     "execution_count": 46,
     "metadata": {},
     "output_type": "execute_result"
    },
    {
     "data": {
      "image/png": "[encoded data removed]",
      "text/plain": [
       "<Figure size 432x288 with 1 Axes>"
      ]
     },
     "metadata": {},
     "output_type": "display_data"
    }
   ],
   "source": [
    "butjacob_wide.plot(kind='bar', stacked=True, legend=False, color=colors)"
   ]
  },
  {
   "cell_type": "markdown",
   "metadata": {},
   "source": [
    "Okay, still dominated by Roseburia (pink) and F prau (purple), have much less of the Coprococcus (light blue), but now also have more other stuff: Odoribacter (teal), Butyricicoccus(red), and Anaerostipes (green)"
   ]
  },
  {
   "cell_type": "markdown",
   "metadata": {},
   "source": [
    "# Goyal 2018"
   ]
  },
  {
   "cell_type": "code",
   "execution_count": 47,
   "metadata": {
    "collapsed": false
   },
   "outputs": [
    {
     "data": {
      "text/plain": [
       "Index([u'sample_id', u'total_reads', u'#OTU ID', u'reads', u'Feature ID_gg',\n",
       "       u'Taxon_gg', u'Confidence_gg', u'otu_id_gg', u'Feature ID_silva',\n",
       "       u'Taxon_silva', u'Confidence_silva', u'otu_id_silva',\n",
       "       u'secondary_study_accession', u'sample_accession',\n",
       "       u'secondary_sample_accession', u'experiment_accession',\n",
       "       u'run_accession', u'submission_accession', u'tax_id',\n",
       "       u'scientific_name', u'instrument_platform', u'instrument_model',\n",
       "       u'library_name', u'library_layout', u'nominal_length',\n",
       "       u'library_strategy', u'library_source', u'library_selection',\n",
       "       u'read_count', u'base_count', u'center_name', u'first_public',\n",
       "       u'last_updated', u'experiment_title', u'study_title', u'study_alias',\n",
       "       u'experiment_alias', u'run_alias', u'fastq_bytes', u'fastq_md5',\n",
       "       u'fastq_ftp', u'fastq_aspera', u'fastq_galaxy', u'submitted_bytes',\n",
       "       u'submitted_md5', u'submitted_ftp', u'submitted_aspera',\n",
       "       u'submitted_galaxy', u'submitted_format', u'sra_bytes', u'sra_md5',\n",
       "       u'sra_ftp', u'sra_aspera', u'sra_galaxy', u'cram_index_ftp',\n",
       "       u'cram_index_aspera', u'cram_index_galaxy', u'sample_alias',\n",
       "       u'broker_name', u'nominal_sdev', u'first_created', u'FMT',\n",
       "       u'sequencing_run', u'patient_id', u'sample_type', u'time_point',\n",
       "       u'Patient # dds 1/26/15', u'Screen', u'Week 1', u'Month 1', u'Month 6',\n",
       "       u'Notes', u'remission_m1', u'response_m1', u'remission_m6',\n",
       "       u'response_m6', u'rel_abun'],\n",
       "      dtype='object')"
      ]
     },
     "execution_count": 47,
     "metadata": {},
     "output_type": "execute_result"
    }
   ],
   "source": [
    "butgoyal.columns"
   ]
  },
  {
   "cell_type": "code",
   "execution_count": 48,
   "metadata": {
    "collapsed": false
   },
   "outputs": [
    {
     "data": {
      "text/html": [
       "<div>\n",
       "<style scoped>\n",
       "    .dataframe tbody tr th:only-of-type {\n",
       "        vertical-align: middle;\n",
       "    }\n",
       "\n",
       "    .dataframe tbody tr th {\n",
       "        vertical-align: top;\n",
       "    }\n",
       "\n",
       "    .dataframe thead th {\n",
       "        text-align: right;\n",
       "    }\n",
       "</style>\n",
       "<table border=\"1\" class=\"dataframe\">\n",
       "  <thead>\n",
       "    <tr style=\"text-align: right;\">\n",
       "      <th></th>\n",
       "      <th>sample_id</th>\n",
       "      <th>total_reads</th>\n",
       "      <th>#OTU ID</th>\n",
       "      <th>reads</th>\n",
       "      <th>Feature ID_gg</th>\n",
       "      <th>Taxon_gg</th>\n",
       "      <th>Confidence_gg</th>\n",
       "      <th>otu_id_gg</th>\n",
       "      <th>Feature ID_silva</th>\n",
       "      <th>Taxon_silva</th>\n",
       "      <th>...</th>\n",
       "      <th>Screen</th>\n",
       "      <th>Week 1</th>\n",
       "      <th>Month 1</th>\n",
       "      <th>Month 6</th>\n",
       "      <th>Notes</th>\n",
       "      <th>remission_m1</th>\n",
       "      <th>response_m1</th>\n",
       "      <th>remission_m6</th>\n",
       "      <th>response_m6</th>\n",
       "      <th>rel_abun</th>\n",
       "    </tr>\n",
       "  </thead>\n",
       "  <tbody>\n",
       "    <tr>\n",
       "      <th>0</th>\n",
       "      <td>FMT.03.042.W</td>\n",
       "      <td>38400.0</td>\n",
       "      <td>90139774f761b15ef73f969b9efd29c7</td>\n",
       "      <td>2194.0</td>\n",
       "      <td>90139774f761b15ef73f969b9efd29c7</td>\n",
       "      <td>k__Bacteria; p__Firmicutes; c__Clostridia; o__...</td>\n",
       "      <td>0.901875</td>\n",
       "      <td>k__Bacteria;p__Firmicutes;c__Clostridia;o__Clo...</td>\n",
       "      <td>90139774f761b15ef73f969b9efd29c7</td>\n",
       "      <td>D_0__Bacteria;D_1__Firmicutes;D_2__Clostridia;...</td>\n",
       "      <td>...</td>\n",
       "      <td>10.0</td>\n",
       "      <td>0.0</td>\n",
       "      <td>0.0</td>\n",
       "      <td>NaN</td>\n",
       "      <td>NaN</td>\n",
       "      <td>True</td>\n",
       "      <td>True</td>\n",
       "      <td>False</td>\n",
       "      <td>False</td>\n",
       "      <td>0.057135</td>\n",
       "    </tr>\n",
       "    <tr>\n",
       "      <th>1</th>\n",
       "      <td>FMT.03.042.W</td>\n",
       "      <td>38400.0</td>\n",
       "      <td>c3cd39227e9ebd70fee95899f7485e4e</td>\n",
       "      <td>1734.0</td>\n",
       "      <td>c3cd39227e9ebd70fee95899f7485e4e</td>\n",
       "      <td>k__Bacteria; p__Firmicutes; c__Clostridia; o__...</td>\n",
       "      <td>0.935518</td>\n",
       "      <td>k__Bacteria;p__Firmicutes;c__Clostridia;o__Clo...</td>\n",
       "      <td>c3cd39227e9ebd70fee95899f7485e4e</td>\n",
       "      <td>D_0__Bacteria;D_1__Firmicutes;D_2__Clostridia;...</td>\n",
       "      <td>...</td>\n",
       "      <td>10.0</td>\n",
       "      <td>0.0</td>\n",
       "      <td>0.0</td>\n",
       "      <td>NaN</td>\n",
       "      <td>NaN</td>\n",
       "      <td>True</td>\n",
       "      <td>True</td>\n",
       "      <td>False</td>\n",
       "      <td>False</td>\n",
       "      <td>0.045156</td>\n",
       "    </tr>\n",
       "    <tr>\n",
       "      <th>15</th>\n",
       "      <td>FMT.03.042.W</td>\n",
       "      <td>38400.0</td>\n",
       "      <td>ea4331ab279c6c7756167cd33e119ed7</td>\n",
       "      <td>627.0</td>\n",
       "      <td>ea4331ab279c6c7756167cd33e119ed7</td>\n",
       "      <td>k__Bacteria; p__Firmicutes; c__Clostridia; o__...</td>\n",
       "      <td>0.900978</td>\n",
       "      <td>k__Bacteria;p__Firmicutes;c__Clostridia;o__Clo...</td>\n",
       "      <td>ea4331ab279c6c7756167cd33e119ed7</td>\n",
       "      <td>D_0__Bacteria;D_1__Firmicutes;D_2__Clostridia;...</td>\n",
       "      <td>...</td>\n",
       "      <td>10.0</td>\n",
       "      <td>0.0</td>\n",
       "      <td>0.0</td>\n",
       "      <td>NaN</td>\n",
       "      <td>NaN</td>\n",
       "      <td>True</td>\n",
       "      <td>True</td>\n",
       "      <td>False</td>\n",
       "      <td>False</td>\n",
       "      <td>0.016328</td>\n",
       "    </tr>\n",
       "    <tr>\n",
       "      <th>19</th>\n",
       "      <td>FMT.03.042.W</td>\n",
       "      <td>38400.0</td>\n",
       "      <td>c87a7d6aea8193e4c360c6126e703fb0</td>\n",
       "      <td>480.0</td>\n",
       "      <td>c87a7d6aea8193e4c360c6126e703fb0</td>\n",
       "      <td>k__Bacteria; p__Firmicutes; c__Clostridia; o__...</td>\n",
       "      <td>0.942527</td>\n",
       "      <td>k__Bacteria;p__Firmicutes;c__Clostridia;o__Clo...</td>\n",
       "      <td>c87a7d6aea8193e4c360c6126e703fb0</td>\n",
       "      <td>D_0__Bacteria;D_1__Firmicutes;D_2__Clostridia;...</td>\n",
       "      <td>...</td>\n",
       "      <td>10.0</td>\n",
       "      <td>0.0</td>\n",
       "      <td>0.0</td>\n",
       "      <td>NaN</td>\n",
       "      <td>NaN</td>\n",
       "      <td>True</td>\n",
       "      <td>True</td>\n",
       "      <td>False</td>\n",
       "      <td>False</td>\n",
       "      <td>0.012500</td>\n",
       "    </tr>\n",
       "    <tr>\n",
       "      <th>25</th>\n",
       "      <td>FMT.03.042.W</td>\n",
       "      <td>38400.0</td>\n",
       "      <td>ca8a3b52b3e371c65234f57b1e72702a</td>\n",
       "      <td>424.0</td>\n",
       "      <td>ca8a3b52b3e371c65234f57b1e72702a</td>\n",
       "      <td>k__Bacteria; p__Firmicutes; c__Clostridia; o__...</td>\n",
       "      <td>0.933102</td>\n",
       "      <td>k__Bacteria;p__Firmicutes;c__Clostridia;o__Clo...</td>\n",
       "      <td>ca8a3b52b3e371c65234f57b1e72702a</td>\n",
       "      <td>D_0__Bacteria;D_1__Firmicutes;D_2__Clostridia;...</td>\n",
       "      <td>...</td>\n",
       "      <td>10.0</td>\n",
       "      <td>0.0</td>\n",
       "      <td>0.0</td>\n",
       "      <td>NaN</td>\n",
       "      <td>NaN</td>\n",
       "      <td>True</td>\n",
       "      <td>True</td>\n",
       "      <td>False</td>\n",
       "      <td>False</td>\n",
       "      <td>0.011042</td>\n",
       "    </tr>\n",
       "  </tbody>\n",
       "</table>\n",
       "<p>5 rows × 77 columns</p>\n",
       "</div>"
      ],
      "text/plain": [
       "       sample_id  total_reads                           #OTU ID   reads  \\\n",
       "0   FMT.03.042.W      38400.0  90139774f761b15ef73f969b9efd29c7  2194.0   \n",
       "1   FMT.03.042.W      38400.0  c3cd39227e9ebd70fee95899f7485e4e  1734.0   \n",
       "15  FMT.03.042.W      38400.0  ea4331ab279c6c7756167cd33e119ed7   627.0   \n",
       "19  FMT.03.042.W      38400.0  c87a7d6aea8193e4c360c6126e703fb0   480.0   \n",
       "25  FMT.03.042.W      38400.0  ca8a3b52b3e371c65234f57b1e72702a   424.0   \n",
       "\n",
       "                       Feature ID_gg  \\\n",
       "0   90139774f761b15ef73f969b9efd29c7   \n",
       "1   c3cd39227e9ebd70fee95899f7485e4e   \n",
       "15  ea4331ab279c6c7756167cd33e119ed7   \n",
       "19  c87a7d6aea8193e4c360c6126e703fb0   \n",
       "25  ca8a3b52b3e371c65234f57b1e72702a   \n",
       "\n",
       "                                             Taxon_gg  Confidence_gg  \\\n",
       "0   k__Bacteria; p__Firmicutes; c__Clostridia; o__...       0.901875   \n",
       "1   k__Bacteria; p__Firmicutes; c__Clostridia; o__...       0.935518   \n",
       "15  k__Bacteria; p__Firmicutes; c__Clostridia; o__...       0.900978   \n",
       "19  k__Bacteria; p__Firmicutes; c__Clostridia; o__...       0.942527   \n",
       "25  k__Bacteria; p__Firmicutes; c__Clostridia; o__...       0.933102   \n",
       "\n",
       "                                            otu_id_gg  \\\n",
       "0   k__Bacteria;p__Firmicutes;c__Clostridia;o__Clo...   \n",
       "1   k__Bacteria;p__Firmicutes;c__Clostridia;o__Clo...   \n",
       "15  k__Bacteria;p__Firmicutes;c__Clostridia;o__Clo...   \n",
       "19  k__Bacteria;p__Firmicutes;c__Clostridia;o__Clo...   \n",
       "25  k__Bacteria;p__Firmicutes;c__Clostridia;o__Clo...   \n",
       "\n",
       "                    Feature ID_silva  \\\n",
       "0   90139774f761b15ef73f969b9efd29c7   \n",
       "1   c3cd39227e9ebd70fee95899f7485e4e   \n",
       "15  ea4331ab279c6c7756167cd33e119ed7   \n",
       "19  c87a7d6aea8193e4c360c6126e703fb0   \n",
       "25  ca8a3b52b3e371c65234f57b1e72702a   \n",
       "\n",
       "                                          Taxon_silva    ...     Screen  \\\n",
       "0   D_0__Bacteria;D_1__Firmicutes;D_2__Clostridia;...    ...       10.0   \n",
       "1   D_0__Bacteria;D_1__Firmicutes;D_2__Clostridia;...    ...       10.0   \n",
       "15  D_0__Bacteria;D_1__Firmicutes;D_2__Clostridia;...    ...       10.0   \n",
       "19  D_0__Bacteria;D_1__Firmicutes;D_2__Clostridia;...    ...       10.0   \n",
       "25  D_0__Bacteria;D_1__Firmicutes;D_2__Clostridia;...    ...       10.0   \n",
       "\n",
       "   Week 1 Month 1 Month 6 Notes remission_m1 response_m1 remission_m6  \\\n",
       "0     0.0     0.0     NaN   NaN         True        True        False   \n",
       "1     0.0     0.0     NaN   NaN         True        True        False   \n",
       "15    0.0     0.0     NaN   NaN         True        True        False   \n",
       "19    0.0     0.0     NaN   NaN         True        True        False   \n",
       "25    0.0     0.0     NaN   NaN         True        True        False   \n",
       "\n",
       "    response_m6  rel_abun  \n",
       "0         False  0.057135  \n",
       "1         False  0.045156  \n",
       "15        False  0.016328  \n",
       "19        False  0.012500  \n",
       "25        False  0.011042  \n",
       "\n",
       "[5 rows x 77 columns]"
      ]
     },
     "execution_count": 48,
     "metadata": {},
     "output_type": "execute_result"
    }
   ],
   "source": [
    "butgoyal.head()"
   ]
  },
  {
   "cell_type": "code",
   "execution_count": 50,
   "metadata": {
    "collapsed": false
   },
   "outputs": [
    {
     "data": {
      "text/plain": [
       "sample_id      patient_id  sample_type  time_point  remission_m1  response_m1  remission_m6  response_m6\n",
       "FMT.01.004.D   4           D            donor       False         False        False         False          177\n",
       "FMT.01.005.D   5           D            donor       False         True         False         True           177\n",
       "FMT.01.007.D   7           D            donor       False         True         False         False          177\n",
       "FMT.01.010.D   10          D            donor       True          True         False         False          177\n",
       "FMT.01.011.D   11          D            donor       True          True         True          True           177\n",
       "FMT.01.016.D   16          D            donor       False         True         False         True           177\n",
       "FMT.01.022.D   22          D            donor       False         True         False         True           177\n",
       "FMT.01.023.D   23          D            donor       False         True         False         True           177\n",
       "FMT.01.024.D2  24          D2           donor       False         False        False         False          177\n",
       "FMT.01.028.D   28          D            donor       False         True         False         True           177\n",
       "FMT.01.029.D2  29          D2           donor       False         True         False         True           177\n",
       "FMT.01.030.D   30          D            donor       False         False        False         True           177\n",
       "FMT.03.031.D   31          D            donor       False         True         False         False          177\n",
       "FMT.03.032.D   32          D            donor       False         False        False         False          177\n",
       "FMT.03.033.D   33          D            donor       False         False        False         False          177\n",
       "FMT.03.034.D   34          D            donor       False         True         True          True           177\n",
       "FMT.03.036.D   36          D            donor       False         True         False         True           177\n",
       "FMT.03.038.D   38          D            donor       False         False        False         False          177\n",
       "FMT.03.039.D   39          D            donor       False         False        False         False          177\n",
       "FMT.03.040.D   40          D            donor       False         True         True          True           177\n",
       "FMT.03.042.D   42          D            donor       True          True         False         False          177\n",
       "dtype: int64"
      ]
     },
     "execution_count": 50,
     "metadata": {},
     "output_type": "execute_result"
    }
   ],
   "source": [
    "butgoyal.query('time_point == \"donor\"').groupby(['sample_id', 'patient_id',\n",
    "                  'sample_type', 'time_point',\n",
    "                  'remission_m1', 'response_m1',\n",
    "                  'remission_m6', 'response_m6']).size()"
   ]
  },
  {
   "cell_type": "markdown",
   "metadata": {},
   "source": [
    "Here as well, I can just query time_point == donor and get just one sample per row. Good."
   ]
  },
  {
   "cell_type": "code",
   "execution_count": 51,
   "metadata": {
    "collapsed": true
   },
   "outputs": [],
   "source": [
    "butgoyal = butgoyal.query('time_point == \"donor\"')\n",
    "butgoyal_wide = butgoyal.pivot(index='sample_id', columns='otu_id_gg', values='rel_abun')"
   ]
  },
  {
   "cell_type": "code",
   "execution_count": 52,
   "metadata": {
    "collapsed": true
   },
   "outputs": [],
   "source": [
    "colors = []\n",
    "for o in butgoyal_wide.columns:\n",
    "    g = [i for i in genera if i in o]\n",
    "    if len(g) > 1:\n",
    "        print(o)\n",
    "        raise ValueError('Too many genera in this OTU')\n",
    "    \n",
    "    colors.append(gcolordict[g[0]])"
   ]
  },
  {
   "cell_type": "code",
   "execution_count": 53,
   "metadata": {
    "collapsed": false
   },
   "outputs": [
    {
     "data": {
      "text/plain": [
       "<matplotlib.axes._subplots.AxesSubplot at 0x1a2b699a10>"
      ]
     },
     "execution_count": 53,
     "metadata": {},
     "output_type": "execute_result"
    },
    {
     "data": {
      "image/png": "[encoded data removed]",
      "text/plain": [
       "<Figure size 432x288 with 1 Axes>"
      ]
     },
     "metadata": {},
     "output_type": "display_data"
    }
   ],
   "source": [
    "butgoyal_wide.plot(kind='bar', stacked=True, legend=False, color=colors)"
   ]
  },
  {
   "cell_type": "markdown",
   "metadata": {},
   "source": [
    "This one looks much more like Kump: dominated by F prau (purple), Roseburia (pink), and Coprococcus (blue). Some Odoribacter (teal?) as well."
   ]
  },
  {
   "cell_type": "markdown",
   "metadata": {},
   "source": [
    "# tl'dr\n",
    "\n",
    "I kinda like this, but also don't feel super strongly about it. Future iterations could give each OTU a different shade, but before doing that work I'll ask Eric what he thinks about showing this vs. just the gray bars."
   ]
  },
  {
   "cell_type": "code",
   "execution_count": null,
   "metadata": {
    "collapsed": true
   },
   "outputs": [],
   "source": []
  }
 ],
 "metadata": {
  "anaconda-cloud": {},
  "kernelspec": {
   "display_name": "Python [default]",
   "language": "python",
   "name": "python2"
  },
  "language_info": {
   "codemirror_mode": {
    "name": "ipython",
    "version": 2
   },
   "file_extension": ".py",
   "mimetype": "text/x-python",
   "name": "python",
   "nbconvert_exporter": "python",
   "pygments_lexer": "ipython2",
   "version": "2.7.6"
  }
 },
 "nbformat": 4,
 "nbformat_minor": 2
}
