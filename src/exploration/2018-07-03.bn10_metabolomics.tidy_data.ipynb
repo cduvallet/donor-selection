{
 "cells": [
  {
   "cell_type": "markdown",
   "metadata": {},
   "source": [
    "The goal of this notebook is to tidy up the BN10 metabolomics data. This data is to find donors with high SCFA and secondary bile acids. This is for donor selection for Jas's liver cirrhosis FMT study."
   ]
  },
  {
   "cell_type": "code",
   "execution_count": 1,
   "metadata": {
    "collapsed": true
   },
   "outputs": [],
   "source": [
    "import pandas as pd\n",
    "import feather"
   ]
  },
  {
   "cell_type": "markdown",
   "metadata": {},
   "source": [
    "First, let's read in all the data, convert each sheet into tidy data, and then concatenate them into one clean dataframe.\n",
    "\n",
    "C-18 neg has the bile acids."
   ]
  },
  {
   "cell_type": "code",
   "execution_count": 2,
   "metadata": {
    "collapsed": false
   },
   "outputs": [],
   "source": [
    "fname = '../../data/raw/bn10/16_1028_BN10_openbiome_MxP.xlsx'\n",
    "c18neg = pd.read_excel(fname, sheet_name='C18-neg', skiprows=1)\n",
    "\n",
    "# Tidy dataframe\n",
    "ftidy = '../../data/clean/bn10.tidy_metabolomics.old_data.feather'"
   ]
  },
  {
   "cell_type": "code",
   "execution_count": 3,
   "metadata": {
    "collapsed": false
   },
   "outputs": [
    {
     "data": {
      "text/plain": [
       "(13170, 186)"
      ]
     },
     "execution_count": 3,
     "metadata": {},
     "output_type": "execute_result"
    }
   ],
   "source": [
    "c18neg.shape"
   ]
  },
  {
   "cell_type": "code",
   "execution_count": 4,
   "metadata": {
    "collapsed": false
   },
   "outputs": [
    {
     "data": {
      "text/html": [
       "<div>\n",
       "<style scoped>\n",
       "    .dataframe tbody tr th:only-of-type {\n",
       "        vertical-align: middle;\n",
       "    }\n",
       "\n",
       "    .dataframe tbody tr th {\n",
       "        vertical-align: top;\n",
       "    }\n",
       "\n",
       "    .dataframe thead th {\n",
       "        text-align: right;\n",
       "    }\n",
       "</style>\n",
       "<table border=\"1\" class=\"dataframe\">\n",
       "  <thead>\n",
       "    <tr style=\"text-align: right;\">\n",
       "      <th></th>\n",
       "      <th>Method</th>\n",
       "      <th>Compound</th>\n",
       "      <th>m/z</th>\n",
       "      <th>RT (min)</th>\n",
       "      <th>HMDB ID (*representative ID)</th>\n",
       "      <th>Metabolite</th>\n",
       "      <th>0001-0163</th>\n",
       "      <th>0005-0140</th>\n",
       "      <th>0014-0002</th>\n",
       "      <th>0025-0002</th>\n",
       "      <th>...</th>\n",
       "      <th>0544-0001</th>\n",
       "      <th>0544-0008</th>\n",
       "      <th>0549-0001</th>\n",
       "      <th>0549-0010</th>\n",
       "      <th>0571-0001</th>\n",
       "      <th>0571-0009</th>\n",
       "      <th>0572-0001</th>\n",
       "      <th>0572-0016</th>\n",
       "      <th>0574-0001</th>\n",
       "      <th>0574-0003</th>\n",
       "    </tr>\n",
       "  </thead>\n",
       "  <tbody>\n",
       "    <tr>\n",
       "      <th>0</th>\n",
       "      <td>C18-neg</td>\n",
       "      <td>cmp.QI01</td>\n",
       "      <td>355.242367</td>\n",
       "      <td>7.757533</td>\n",
       "      <td>Internal Standard</td>\n",
       "      <td>PGE2-d4</td>\n",
       "      <td>289686.0</td>\n",
       "      <td>290595.0</td>\n",
       "      <td>302638.0</td>\n",
       "      <td>272843.0</td>\n",
       "      <td>...</td>\n",
       "      <td>296533.0</td>\n",
       "      <td>294045.0</td>\n",
       "      <td>286796.0</td>\n",
       "      <td>319931.0</td>\n",
       "      <td>298972.0</td>\n",
       "      <td>292705.0</td>\n",
       "      <td>300217.0</td>\n",
       "      <td>303752.0</td>\n",
       "      <td>299045.0</td>\n",
       "      <td>289756.0</td>\n",
       "    </tr>\n",
       "    <tr>\n",
       "      <th>1</th>\n",
       "      <td>C18-neg</td>\n",
       "      <td>cmp.QI02</td>\n",
       "      <td>313.238162</td>\n",
       "      <td>9.830450</td>\n",
       "      <td>HMDB04705</td>\n",
       "      <td>12_13-diHOME</td>\n",
       "      <td>191459.0</td>\n",
       "      <td>1256526.0</td>\n",
       "      <td>639131.0</td>\n",
       "      <td>112859.0</td>\n",
       "      <td>...</td>\n",
       "      <td>186940.0</td>\n",
       "      <td>228675.0</td>\n",
       "      <td>471212.0</td>\n",
       "      <td>597694.0</td>\n",
       "      <td>147788.0</td>\n",
       "      <td>94566.0</td>\n",
       "      <td>1323674.0</td>\n",
       "      <td>342138.0</td>\n",
       "      <td>277745.0</td>\n",
       "      <td>206769.0</td>\n",
       "    </tr>\n",
       "    <tr>\n",
       "      <th>2</th>\n",
       "      <td>C18-neg</td>\n",
       "      <td>cmp.QI03</td>\n",
       "      <td>313.238234</td>\n",
       "      <td>10.023333</td>\n",
       "      <td>HMDB04704</td>\n",
       "      <td>9_10-diHOME</td>\n",
       "      <td>196193.0</td>\n",
       "      <td>940243.0</td>\n",
       "      <td>788211.0</td>\n",
       "      <td>87221.0</td>\n",
       "      <td>...</td>\n",
       "      <td>150893.0</td>\n",
       "      <td>194845.0</td>\n",
       "      <td>354305.0</td>\n",
       "      <td>398334.0</td>\n",
       "      <td>114068.0</td>\n",
       "      <td>166261.0</td>\n",
       "      <td>796338.0</td>\n",
       "      <td>454767.0</td>\n",
       "      <td>414934.0</td>\n",
       "      <td>323602.0</td>\n",
       "    </tr>\n",
       "    <tr>\n",
       "      <th>3</th>\n",
       "      <td>C18-neg</td>\n",
       "      <td>cmp.QI04</td>\n",
       "      <td>295.227428</td>\n",
       "      <td>11.289300</td>\n",
       "      <td>HMDB04667</td>\n",
       "      <td>13-HODE</td>\n",
       "      <td>82445.0</td>\n",
       "      <td>1043574.0</td>\n",
       "      <td>95708.0</td>\n",
       "      <td>296132.0</td>\n",
       "      <td>...</td>\n",
       "      <td>77153.0</td>\n",
       "      <td>258187.0</td>\n",
       "      <td>182365.0</td>\n",
       "      <td>152416.0</td>\n",
       "      <td>28902.0</td>\n",
       "      <td>98580.0</td>\n",
       "      <td>355470.0</td>\n",
       "      <td>722006.0</td>\n",
       "      <td>108549.0</td>\n",
       "      <td>147500.0</td>\n",
       "    </tr>\n",
       "    <tr>\n",
       "      <th>4</th>\n",
       "      <td>C18-neg</td>\n",
       "      <td>cmp.QI05</td>\n",
       "      <td>335.222620</td>\n",
       "      <td>11.003983</td>\n",
       "      <td>NaN</td>\n",
       "      <td>5_6 diHETE</td>\n",
       "      <td>32595.0</td>\n",
       "      <td>7213.0</td>\n",
       "      <td>25398.0</td>\n",
       "      <td>68552.0</td>\n",
       "      <td>...</td>\n",
       "      <td>12800.0</td>\n",
       "      <td>16872.0</td>\n",
       "      <td>4310.0</td>\n",
       "      <td>8021.0</td>\n",
       "      <td>1838.0</td>\n",
       "      <td>21655.0</td>\n",
       "      <td>189.0</td>\n",
       "      <td>1360.0</td>\n",
       "      <td>6891.0</td>\n",
       "      <td>26992.0</td>\n",
       "    </tr>\n",
       "  </tbody>\n",
       "</table>\n",
       "<p>5 rows × 186 columns</p>\n",
       "</div>"
      ],
      "text/plain": [
       "    Method  Compound         m/z   RT (min) HMDB ID (*representative ID)  \\\n",
       "0  C18-neg  cmp.QI01  355.242367   7.757533            Internal Standard   \n",
       "1  C18-neg  cmp.QI02  313.238162   9.830450                    HMDB04705   \n",
       "2  C18-neg  cmp.QI03  313.238234  10.023333                    HMDB04704   \n",
       "3  C18-neg  cmp.QI04  295.227428  11.289300                    HMDB04667   \n",
       "4  C18-neg  cmp.QI05  335.222620  11.003983                          NaN   \n",
       "\n",
       "     Metabolite  0001-0163  0005-0140  0014-0002  0025-0002    ...      \\\n",
       "0       PGE2-d4   289686.0   290595.0   302638.0   272843.0    ...       \n",
       "1  12_13-diHOME   191459.0  1256526.0   639131.0   112859.0    ...       \n",
       "2   9_10-diHOME   196193.0   940243.0   788211.0    87221.0    ...       \n",
       "3       13-HODE    82445.0  1043574.0    95708.0   296132.0    ...       \n",
       "4    5_6 diHETE    32595.0     7213.0    25398.0    68552.0    ...       \n",
       "\n",
       "   0544-0001  0544-0008  0549-0001  0549-0010  0571-0001  0571-0009  \\\n",
       "0   296533.0   294045.0   286796.0   319931.0   298972.0   292705.0   \n",
       "1   186940.0   228675.0   471212.0   597694.0   147788.0    94566.0   \n",
       "2   150893.0   194845.0   354305.0   398334.0   114068.0   166261.0   \n",
       "3    77153.0   258187.0   182365.0   152416.0    28902.0    98580.0   \n",
       "4    12800.0    16872.0     4310.0     8021.0     1838.0    21655.0   \n",
       "\n",
       "   0572-0001  0572-0016  0574-0001  0574-0003  \n",
       "0   300217.0   303752.0   299045.0   289756.0  \n",
       "1  1323674.0   342138.0   277745.0   206769.0  \n",
       "2   796338.0   454767.0   414934.0   323602.0  \n",
       "3   355470.0   722006.0   108549.0   147500.0  \n",
       "4      189.0     1360.0     6891.0    26992.0  \n",
       "\n",
       "[5 rows x 186 columns]"
      ]
     },
     "execution_count": 4,
     "metadata": {},
     "output_type": "execute_result"
    }
   ],
   "source": [
    "c18neg.head()"
   ]
  },
  {
   "cell_type": "markdown",
   "metadata": {},
   "source": [
    "Data is in a hybrid tidy and non-tidy data format. Let's transform it to tidy (I guess?)"
   ]
  },
  {
   "cell_type": "code",
   "execution_count": 5,
   "metadata": {
    "collapsed": false
   },
   "outputs": [
    {
     "data": {
      "text/plain": [
       "Index([u'Method', u'Compound', u'm/z', u'RT (min)',\n",
       "       u'HMDB ID (*representative ID)', u'Metabolite', u'0001-0163',\n",
       "       u'0005-0140', u'0014-0002', u'0025-0002',\n",
       "       ...\n",
       "       u'0544-0001', u'0544-0008', u'0549-0001', u'0549-0010', u'0571-0001',\n",
       "       u'0571-0009', u'0572-0001', u'0572-0016', u'0574-0001', u'0574-0003'],\n",
       "      dtype='object', length=186)"
      ]
     },
     "execution_count": 5,
     "metadata": {},
     "output_type": "execute_result"
    }
   ],
   "source": [
    "c18neg.columns"
   ]
  },
  {
   "cell_type": "code",
   "execution_count": 6,
   "metadata": {
    "collapsed": true
   },
   "outputs": [],
   "source": [
    "id_vars = ['Method', 'Compound', 'm/z', 'RT (min)',\n",
    "           'HMDB ID (*representative ID)', 'Metabolite']\n",
    "tidyc18 = pd.melt(c18neg, id_vars=id_vars, var_name='sample', value_name='intensity')"
   ]
  },
  {
   "cell_type": "code",
   "execution_count": 7,
   "metadata": {
    "collapsed": false
   },
   "outputs": [
    {
     "data": {
      "text/plain": [
       "(2370600, 8)"
      ]
     },
     "execution_count": 7,
     "metadata": {},
     "output_type": "execute_result"
    }
   ],
   "source": [
    "tidyc18.shape"
   ]
  },
  {
   "cell_type": "code",
   "execution_count": 8,
   "metadata": {
    "collapsed": false
   },
   "outputs": [
    {
     "data": {
      "text/html": [
       "<div>\n",
       "<style scoped>\n",
       "    .dataframe tbody tr th:only-of-type {\n",
       "        vertical-align: middle;\n",
       "    }\n",
       "\n",
       "    .dataframe tbody tr th {\n",
       "        vertical-align: top;\n",
       "    }\n",
       "\n",
       "    .dataframe thead th {\n",
       "        text-align: right;\n",
       "    }\n",
       "</style>\n",
       "<table border=\"1\" class=\"dataframe\">\n",
       "  <thead>\n",
       "    <tr style=\"text-align: right;\">\n",
       "      <th></th>\n",
       "      <th>Method</th>\n",
       "      <th>Compound</th>\n",
       "      <th>m/z</th>\n",
       "      <th>RT (min)</th>\n",
       "      <th>HMDB ID (*representative ID)</th>\n",
       "      <th>Metabolite</th>\n",
       "      <th>sample</th>\n",
       "      <th>intensity</th>\n",
       "    </tr>\n",
       "  </thead>\n",
       "  <tbody>\n",
       "    <tr>\n",
       "      <th>0</th>\n",
       "      <td>C18-neg</td>\n",
       "      <td>cmp.QI01</td>\n",
       "      <td>355.242367</td>\n",
       "      <td>7.757533</td>\n",
       "      <td>Internal Standard</td>\n",
       "      <td>PGE2-d4</td>\n",
       "      <td>0001-0163</td>\n",
       "      <td>289686.0</td>\n",
       "    </tr>\n",
       "    <tr>\n",
       "      <th>1</th>\n",
       "      <td>C18-neg</td>\n",
       "      <td>cmp.QI02</td>\n",
       "      <td>313.238162</td>\n",
       "      <td>9.830450</td>\n",
       "      <td>HMDB04705</td>\n",
       "      <td>12_13-diHOME</td>\n",
       "      <td>0001-0163</td>\n",
       "      <td>191459.0</td>\n",
       "    </tr>\n",
       "    <tr>\n",
       "      <th>2</th>\n",
       "      <td>C18-neg</td>\n",
       "      <td>cmp.QI03</td>\n",
       "      <td>313.238234</td>\n",
       "      <td>10.023333</td>\n",
       "      <td>HMDB04704</td>\n",
       "      <td>9_10-diHOME</td>\n",
       "      <td>0001-0163</td>\n",
       "      <td>196193.0</td>\n",
       "    </tr>\n",
       "    <tr>\n",
       "      <th>3</th>\n",
       "      <td>C18-neg</td>\n",
       "      <td>cmp.QI04</td>\n",
       "      <td>295.227428</td>\n",
       "      <td>11.289300</td>\n",
       "      <td>HMDB04667</td>\n",
       "      <td>13-HODE</td>\n",
       "      <td>0001-0163</td>\n",
       "      <td>82445.0</td>\n",
       "    </tr>\n",
       "    <tr>\n",
       "      <th>4</th>\n",
       "      <td>C18-neg</td>\n",
       "      <td>cmp.QI05</td>\n",
       "      <td>335.222620</td>\n",
       "      <td>11.003983</td>\n",
       "      <td>NaN</td>\n",
       "      <td>5_6 diHETE</td>\n",
       "      <td>0001-0163</td>\n",
       "      <td>32595.0</td>\n",
       "    </tr>\n",
       "  </tbody>\n",
       "</table>\n",
       "</div>"
      ],
      "text/plain": [
       "    Method  Compound         m/z   RT (min) HMDB ID (*representative ID)  \\\n",
       "0  C18-neg  cmp.QI01  355.242367   7.757533            Internal Standard   \n",
       "1  C18-neg  cmp.QI02  313.238162   9.830450                    HMDB04705   \n",
       "2  C18-neg  cmp.QI03  313.238234  10.023333                    HMDB04704   \n",
       "3  C18-neg  cmp.QI04  295.227428  11.289300                    HMDB04667   \n",
       "4  C18-neg  cmp.QI05  335.222620  11.003983                          NaN   \n",
       "\n",
       "     Metabolite     sample  intensity  \n",
       "0       PGE2-d4  0001-0163   289686.0  \n",
       "1  12_13-diHOME  0001-0163   191459.0  \n",
       "2   9_10-diHOME  0001-0163   196193.0  \n",
       "3       13-HODE  0001-0163    82445.0  \n",
       "4    5_6 diHETE  0001-0163    32595.0  "
      ]
     },
     "execution_count": 8,
     "metadata": {},
     "output_type": "execute_result"
    }
   ],
   "source": [
    "tidyc18.head()"
   ]
  },
  {
   "cell_type": "code",
   "execution_count": 9,
   "metadata": {
    "collapsed": false
   },
   "outputs": [
    {
     "data": {
      "text/plain": [
       "196215"
      ]
     },
     "execution_count": 9,
     "metadata": {},
     "output_type": "execute_result"
    }
   ],
   "source": [
    "tidyc18['intensity'].isna().sum()"
   ]
  },
  {
   "cell_type": "code",
   "execution_count": 10,
   "metadata": {
    "collapsed": true
   },
   "outputs": [],
   "source": [
    "tidyc18['intensity'] = tidyc18['intensity'].fillna(0.0)"
   ]
  },
  {
   "cell_type": "markdown",
   "metadata": {},
   "source": [
    "HILIC-neg sheet has the SCFAs"
   ]
  },
  {
   "cell_type": "code",
   "execution_count": 11,
   "metadata": {
    "collapsed": true
   },
   "outputs": [],
   "source": [
    "hilicneg = pd.read_excel(fname, sheet_name='HILIC-neg', skiprows=1)"
   ]
  },
  {
   "cell_type": "code",
   "execution_count": 12,
   "metadata": {
    "collapsed": false
   },
   "outputs": [
    {
     "data": {
      "text/plain": [
       "Index([u'Method', u'Compound ID', u'm/z', u'RT (min)',\n",
       "       u'HMDB ID (*representative)', u'Metabolite', u'0001-0163', u'0005-0140',\n",
       "       u'0014-0002', u'0025-0002',\n",
       "       ...\n",
       "       u'0544-0001', u'0544-0008', u'0549-0001', u'0549-0010', u'0571-0001',\n",
       "       u'0571-0009', u'0572-0001', u'0572-0016', u'0574-0001', u'0574-0003'],\n",
       "      dtype='object', length=186)"
      ]
     },
     "execution_count": 12,
     "metadata": {},
     "output_type": "execute_result"
    }
   ],
   "source": [
    "hilicneg.columns"
   ]
  },
  {
   "cell_type": "code",
   "execution_count": 13,
   "metadata": {
    "collapsed": false
   },
   "outputs": [
    {
     "name": "stdout",
     "output_type": "stream",
     "text": [
      "(10203, 186)\n",
      "(1836540, 8)\n"
     ]
    }
   ],
   "source": [
    "print(hilicneg.shape)\n",
    "id_vars = ['Method', 'Compound ID', 'm/z', 'RT (min)',\n",
    "           'HMDB ID (*representative)', 'Metabolite']\n",
    "tidyhilic = pd.melt(hilicneg, id_vars=id_vars, var_name='sample', value_name='intensity')\n",
    "tidyhilic = tidyhilic.rename(columns={'Compound ID': 'Compound',\n",
    "                                      'HMDB ID (*representative)': 'HMDB ID (*representative ID)'})\n",
    "tidyhilic['intensity'] = tidyhilic['intensity'].fillna(0.0)\n",
    "print(tidyhilic.shape)"
   ]
  },
  {
   "cell_type": "code",
   "execution_count": 14,
   "metadata": {
    "collapsed": false
   },
   "outputs": [
    {
     "data": {
      "text/html": [
       "<div>\n",
       "<style scoped>\n",
       "    .dataframe tbody tr th:only-of-type {\n",
       "        vertical-align: middle;\n",
       "    }\n",
       "\n",
       "    .dataframe tbody tr th {\n",
       "        vertical-align: top;\n",
       "    }\n",
       "\n",
       "    .dataframe thead th {\n",
       "        text-align: right;\n",
       "    }\n",
       "</style>\n",
       "<table border=\"1\" class=\"dataframe\">\n",
       "  <thead>\n",
       "    <tr style=\"text-align: right;\">\n",
       "      <th></th>\n",
       "      <th>Method</th>\n",
       "      <th>Compound</th>\n",
       "      <th>m/z</th>\n",
       "      <th>RT (min)</th>\n",
       "      <th>HMDB ID (*representative ID)</th>\n",
       "      <th>Metabolite</th>\n",
       "      <th>sample</th>\n",
       "      <th>intensity</th>\n",
       "    </tr>\n",
       "  </thead>\n",
       "  <tbody>\n",
       "    <tr>\n",
       "      <th>0</th>\n",
       "      <td>HILIC-neg</td>\n",
       "      <td>cmp.TF86</td>\n",
       "      <td>468.326868</td>\n",
       "      <td>3.90</td>\n",
       "      <td>Internal Standard</td>\n",
       "      <td>glycocholate-d4</td>\n",
       "      <td>0001-0163</td>\n",
       "      <td>5929344.0</td>\n",
       "    </tr>\n",
       "    <tr>\n",
       "      <th>1</th>\n",
       "      <td>HILIC-neg</td>\n",
       "      <td>cmp.TF166</td>\n",
       "      <td>129.060758</td>\n",
       "      <td>1.35</td>\n",
       "      <td>Internal Standard</td>\n",
       "      <td>thymine-d4</td>\n",
       "      <td>0001-0163</td>\n",
       "      <td>64564945.0</td>\n",
       "    </tr>\n",
       "    <tr>\n",
       "      <th>2</th>\n",
       "      <td>HILIC-neg</td>\n",
       "      <td>cmp.TF1</td>\n",
       "      <td>160.061531</td>\n",
       "      <td>5.25</td>\n",
       "      <td>HMDB00510</td>\n",
       "      <td>2-aminoadipate</td>\n",
       "      <td>0001-0163</td>\n",
       "      <td>2658543.0</td>\n",
       "    </tr>\n",
       "    <tr>\n",
       "      <th>3</th>\n",
       "      <td>HILIC-neg</td>\n",
       "      <td>cmp.TF2</td>\n",
       "      <td>168.030231</td>\n",
       "      <td>3.80</td>\n",
       "      <td>HMDB00439</td>\n",
       "      <td>2-furoylglycine</td>\n",
       "      <td>0001-0163</td>\n",
       "      <td>448600.0</td>\n",
       "    </tr>\n",
       "    <tr>\n",
       "      <th>4</th>\n",
       "      <td>HILIC-neg</td>\n",
       "      <td>cmp.TF4</td>\n",
       "      <td>147.029897</td>\n",
       "      <td>7.00</td>\n",
       "      <td>HMDB00694</td>\n",
       "      <td>2-hydroxyglutarate</td>\n",
       "      <td>0001-0163</td>\n",
       "      <td>19722832.0</td>\n",
       "    </tr>\n",
       "  </tbody>\n",
       "</table>\n",
       "</div>"
      ],
      "text/plain": [
       "      Method   Compound         m/z  RT (min) HMDB ID (*representative ID)  \\\n",
       "0  HILIC-neg   cmp.TF86  468.326868      3.90            Internal Standard   \n",
       "1  HILIC-neg  cmp.TF166  129.060758      1.35            Internal Standard   \n",
       "2  HILIC-neg    cmp.TF1  160.061531      5.25                    HMDB00510   \n",
       "3  HILIC-neg    cmp.TF2  168.030231      3.80                    HMDB00439   \n",
       "4  HILIC-neg    cmp.TF4  147.029897      7.00                    HMDB00694   \n",
       "\n",
       "           Metabolite     sample   intensity  \n",
       "0     glycocholate-d4  0001-0163   5929344.0  \n",
       "1          thymine-d4  0001-0163  64564945.0  \n",
       "2      2-aminoadipate  0001-0163   2658543.0  \n",
       "3     2-furoylglycine  0001-0163    448600.0  \n",
       "4  2-hydroxyglutarate  0001-0163  19722832.0  "
      ]
     },
     "execution_count": 14,
     "metadata": {},
     "output_type": "execute_result"
    }
   ],
   "source": [
    "tidyhilic.head()"
   ]
  },
  {
   "cell_type": "code",
   "execution_count": 15,
   "metadata": {
    "collapsed": false
   },
   "outputs": [
    {
     "name": "stdout",
     "output_type": "stream",
     "text": [
      "(17792, 186)\n",
      "Index([u'Method', u'Compound', u'm/z', u'RT (min)',\n",
      "       u'HMDB ID (*representative ID)', u'Metabolite', u'0001-0163',\n",
      "       u'0005-0140', u'0014-0002', u'0025-0002',\n",
      "       ...\n",
      "       u'0544-0001', u'0544-0008', u'0549-0001', u'0549-0010', u'0571-0001',\n",
      "       u'0571-0009', u'0572-0001', u'0572-0016', u'0574-0001', u'0574-0003'],\n",
      "      dtype='object', length=186)\n"
     ]
    }
   ],
   "source": [
    "hilicpos = pd.read_excel(fname, sheet_name='HILIC-pos', skiprows=1)\n",
    "print(hilicpos.shape)\n",
    "print(hilicpos.columns)"
   ]
  },
  {
   "cell_type": "code",
   "execution_count": 16,
   "metadata": {
    "collapsed": false
   },
   "outputs": [
    {
     "name": "stdout",
     "output_type": "stream",
     "text": [
      "(3202560, 8)\n"
     ]
    }
   ],
   "source": [
    "id_vars = ['Method', 'Compound', 'm/z', 'RT (min)',\n",
    "           'HMDB ID (*representative ID)', 'Metabolite']\n",
    "tidyhilicpos = pd.melt(hilicpos, id_vars=id_vars, var_name='sample', value_name='intensity')\n",
    "tidyhilicpos['intensity'] = tidyhilicpos['intensity'].fillna(0.0)\n",
    "print(tidyhilicpos.shape)"
   ]
  },
  {
   "cell_type": "code",
   "execution_count": 17,
   "metadata": {
    "collapsed": false
   },
   "outputs": [
    {
     "data": {
      "text/html": [
       "<div>\n",
       "<style scoped>\n",
       "    .dataframe tbody tr th:only-of-type {\n",
       "        vertical-align: middle;\n",
       "    }\n",
       "\n",
       "    .dataframe tbody tr th {\n",
       "        vertical-align: top;\n",
       "    }\n",
       "\n",
       "    .dataframe thead th {\n",
       "        text-align: right;\n",
       "    }\n",
       "</style>\n",
       "<table border=\"1\" class=\"dataframe\">\n",
       "  <thead>\n",
       "    <tr style=\"text-align: right;\">\n",
       "      <th></th>\n",
       "      <th>Method</th>\n",
       "      <th>Compound</th>\n",
       "      <th>m/z</th>\n",
       "      <th>RT (min)</th>\n",
       "      <th>HMDB ID (*representative ID)</th>\n",
       "      <th>Metabolite</th>\n",
       "      <th>sample</th>\n",
       "      <th>intensity</th>\n",
       "    </tr>\n",
       "  </thead>\n",
       "  <tbody>\n",
       "    <tr>\n",
       "      <th>0</th>\n",
       "      <td>HILIC-pos</td>\n",
       "      <td>cmp.QI144</td>\n",
       "      <td>126.136488</td>\n",
       "      <td>7.316333</td>\n",
       "      <td>Internal Standard</td>\n",
       "      <td>valine-d8</td>\n",
       "      <td>0001-0163</td>\n",
       "      <td>60311.0</td>\n",
       "    </tr>\n",
       "    <tr>\n",
       "      <th>1</th>\n",
       "      <td>HILIC-pos</td>\n",
       "      <td>cmp.QI118</td>\n",
       "      <td>174.136519</td>\n",
       "      <td>6.609700</td>\n",
       "      <td>Internal Standard</td>\n",
       "      <td>phenylalanine-d8</td>\n",
       "      <td>0001-0163</td>\n",
       "      <td>166033.0</td>\n",
       "    </tr>\n",
       "    <tr>\n",
       "      <th>2</th>\n",
       "      <td>HILIC-pos</td>\n",
       "      <td>cmp.QI82</td>\n",
       "      <td>76.039339</td>\n",
       "      <td>7.822333</td>\n",
       "      <td>HMDB00123</td>\n",
       "      <td>glycine</td>\n",
       "      <td>0001-0163</td>\n",
       "      <td>641.0</td>\n",
       "    </tr>\n",
       "    <tr>\n",
       "      <th>3</th>\n",
       "      <td>HILIC-pos</td>\n",
       "      <td>cmp.QI23</td>\n",
       "      <td>90.054971</td>\n",
       "      <td>7.700183</td>\n",
       "      <td>HMDB00161</td>\n",
       "      <td>alanine</td>\n",
       "      <td>0001-0163</td>\n",
       "      <td>6781.0</td>\n",
       "    </tr>\n",
       "    <tr>\n",
       "      <th>4</th>\n",
       "      <td>HILIC-pos</td>\n",
       "      <td>cmp.QI130</td>\n",
       "      <td>106.049833</td>\n",
       "      <td>7.578050</td>\n",
       "      <td>HMDB00187</td>\n",
       "      <td>serine</td>\n",
       "      <td>0001-0163</td>\n",
       "      <td>3315.0</td>\n",
       "    </tr>\n",
       "  </tbody>\n",
       "</table>\n",
       "</div>"
      ],
      "text/plain": [
       "      Method   Compound         m/z  RT (min) HMDB ID (*representative ID)  \\\n",
       "0  HILIC-pos  cmp.QI144  126.136488  7.316333            Internal Standard   \n",
       "1  HILIC-pos  cmp.QI118  174.136519  6.609700            Internal Standard   \n",
       "2  HILIC-pos   cmp.QI82   76.039339  7.822333                    HMDB00123   \n",
       "3  HILIC-pos   cmp.QI23   90.054971  7.700183                    HMDB00161   \n",
       "4  HILIC-pos  cmp.QI130  106.049833  7.578050                    HMDB00187   \n",
       "\n",
       "         Metabolite     sample  intensity  \n",
       "0         valine-d8  0001-0163    60311.0  \n",
       "1  phenylalanine-d8  0001-0163   166033.0  \n",
       "2           glycine  0001-0163      641.0  \n",
       "3           alanine  0001-0163     6781.0  \n",
       "4            serine  0001-0163     3315.0  "
      ]
     },
     "execution_count": 17,
     "metadata": {},
     "output_type": "execute_result"
    }
   ],
   "source": [
    "tidyhilicpos.head()"
   ]
  },
  {
   "cell_type": "markdown",
   "metadata": {},
   "source": [
    "Concatenate them all."
   ]
  },
  {
   "cell_type": "code",
   "execution_count": 18,
   "metadata": {
    "collapsed": false
   },
   "outputs": [
    {
     "name": "stdout",
     "output_type": "stream",
     "text": [
      "(7409700, 8)\n"
     ]
    },
    {
     "data": {
      "text/html": [
       "<div>\n",
       "<style scoped>\n",
       "    .dataframe tbody tr th:only-of-type {\n",
       "        vertical-align: middle;\n",
       "    }\n",
       "\n",
       "    .dataframe tbody tr th {\n",
       "        vertical-align: top;\n",
       "    }\n",
       "\n",
       "    .dataframe thead th {\n",
       "        text-align: right;\n",
       "    }\n",
       "</style>\n",
       "<table border=\"1\" class=\"dataframe\">\n",
       "  <thead>\n",
       "    <tr style=\"text-align: right;\">\n",
       "      <th></th>\n",
       "      <th>Method</th>\n",
       "      <th>Compound</th>\n",
       "      <th>m/z</th>\n",
       "      <th>RT (min)</th>\n",
       "      <th>HMDB ID (*representative ID)</th>\n",
       "      <th>Metabolite</th>\n",
       "      <th>sample</th>\n",
       "      <th>intensity</th>\n",
       "    </tr>\n",
       "  </thead>\n",
       "  <tbody>\n",
       "    <tr>\n",
       "      <th>0</th>\n",
       "      <td>C18-neg</td>\n",
       "      <td>cmp.QI01</td>\n",
       "      <td>355.242367</td>\n",
       "      <td>7.757533</td>\n",
       "      <td>Internal Standard</td>\n",
       "      <td>PGE2-d4</td>\n",
       "      <td>0001-0163</td>\n",
       "      <td>289686.0</td>\n",
       "    </tr>\n",
       "    <tr>\n",
       "      <th>1</th>\n",
       "      <td>C18-neg</td>\n",
       "      <td>cmp.QI02</td>\n",
       "      <td>313.238162</td>\n",
       "      <td>9.830450</td>\n",
       "      <td>HMDB04705</td>\n",
       "      <td>12_13-diHOME</td>\n",
       "      <td>0001-0163</td>\n",
       "      <td>191459.0</td>\n",
       "    </tr>\n",
       "    <tr>\n",
       "      <th>2</th>\n",
       "      <td>C18-neg</td>\n",
       "      <td>cmp.QI03</td>\n",
       "      <td>313.238234</td>\n",
       "      <td>10.023333</td>\n",
       "      <td>HMDB04704</td>\n",
       "      <td>9_10-diHOME</td>\n",
       "      <td>0001-0163</td>\n",
       "      <td>196193.0</td>\n",
       "    </tr>\n",
       "    <tr>\n",
       "      <th>3</th>\n",
       "      <td>C18-neg</td>\n",
       "      <td>cmp.QI04</td>\n",
       "      <td>295.227428</td>\n",
       "      <td>11.289300</td>\n",
       "      <td>HMDB04667</td>\n",
       "      <td>13-HODE</td>\n",
       "      <td>0001-0163</td>\n",
       "      <td>82445.0</td>\n",
       "    </tr>\n",
       "    <tr>\n",
       "      <th>4</th>\n",
       "      <td>C18-neg</td>\n",
       "      <td>cmp.QI05</td>\n",
       "      <td>335.222620</td>\n",
       "      <td>11.003983</td>\n",
       "      <td>NaN</td>\n",
       "      <td>5_6 diHETE</td>\n",
       "      <td>0001-0163</td>\n",
       "      <td>32595.0</td>\n",
       "    </tr>\n",
       "  </tbody>\n",
       "</table>\n",
       "</div>"
      ],
      "text/plain": [
       "    Method  Compound         m/z   RT (min) HMDB ID (*representative ID)  \\\n",
       "0  C18-neg  cmp.QI01  355.242367   7.757533            Internal Standard   \n",
       "1  C18-neg  cmp.QI02  313.238162   9.830450                    HMDB04705   \n",
       "2  C18-neg  cmp.QI03  313.238234  10.023333                    HMDB04704   \n",
       "3  C18-neg  cmp.QI04  295.227428  11.289300                    HMDB04667   \n",
       "4  C18-neg  cmp.QI05  335.222620  11.003983                          NaN   \n",
       "\n",
       "     Metabolite     sample  intensity  \n",
       "0       PGE2-d4  0001-0163   289686.0  \n",
       "1  12_13-diHOME  0001-0163   191459.0  \n",
       "2   9_10-diHOME  0001-0163   196193.0  \n",
       "3       13-HODE  0001-0163    82445.0  \n",
       "4    5_6 diHETE  0001-0163    32595.0  "
      ]
     },
     "execution_count": 18,
     "metadata": {},
     "output_type": "execute_result"
    }
   ],
   "source": [
    "tidyall = pd.concat((tidyc18, tidyhilic, tidyhilicpos))\n",
    "print(tidyall.shape)\n",
    "tidyall.head()"
   ]
  },
  {
   "cell_type": "code",
   "execution_count": 19,
   "metadata": {
    "collapsed": false
   },
   "outputs": [
    {
     "data": {
      "text/html": [
       "<div>\n",
       "<style scoped>\n",
       "    .dataframe tbody tr th:only-of-type {\n",
       "        vertical-align: middle;\n",
       "    }\n",
       "\n",
       "    .dataframe tbody tr th {\n",
       "        vertical-align: top;\n",
       "    }\n",
       "\n",
       "    .dataframe thead th {\n",
       "        text-align: right;\n",
       "    }\n",
       "</style>\n",
       "<table border=\"1\" class=\"dataframe\">\n",
       "  <thead>\n",
       "    <tr style=\"text-align: right;\">\n",
       "      <th></th>\n",
       "      <th>method</th>\n",
       "      <th>compound</th>\n",
       "      <th>mz</th>\n",
       "      <th>rt</th>\n",
       "      <th>hmdb_id</th>\n",
       "      <th>metabolite</th>\n",
       "      <th>sample</th>\n",
       "      <th>intensity</th>\n",
       "    </tr>\n",
       "  </thead>\n",
       "  <tbody>\n",
       "    <tr>\n",
       "      <th>0</th>\n",
       "      <td>C18-neg</td>\n",
       "      <td>cmp.QI01</td>\n",
       "      <td>355.242367</td>\n",
       "      <td>7.757533</td>\n",
       "      <td>Internal Standard</td>\n",
       "      <td>PGE2-d4</td>\n",
       "      <td>0001-0163</td>\n",
       "      <td>289686.0</td>\n",
       "    </tr>\n",
       "    <tr>\n",
       "      <th>1</th>\n",
       "      <td>C18-neg</td>\n",
       "      <td>cmp.QI02</td>\n",
       "      <td>313.238162</td>\n",
       "      <td>9.830450</td>\n",
       "      <td>HMDB04705</td>\n",
       "      <td>12_13-diHOME</td>\n",
       "      <td>0001-0163</td>\n",
       "      <td>191459.0</td>\n",
       "    </tr>\n",
       "    <tr>\n",
       "      <th>2</th>\n",
       "      <td>C18-neg</td>\n",
       "      <td>cmp.QI03</td>\n",
       "      <td>313.238234</td>\n",
       "      <td>10.023333</td>\n",
       "      <td>HMDB04704</td>\n",
       "      <td>9_10-diHOME</td>\n",
       "      <td>0001-0163</td>\n",
       "      <td>196193.0</td>\n",
       "    </tr>\n",
       "    <tr>\n",
       "      <th>3</th>\n",
       "      <td>C18-neg</td>\n",
       "      <td>cmp.QI04</td>\n",
       "      <td>295.227428</td>\n",
       "      <td>11.289300</td>\n",
       "      <td>HMDB04667</td>\n",
       "      <td>13-HODE</td>\n",
       "      <td>0001-0163</td>\n",
       "      <td>82445.0</td>\n",
       "    </tr>\n",
       "    <tr>\n",
       "      <th>4</th>\n",
       "      <td>C18-neg</td>\n",
       "      <td>cmp.QI05</td>\n",
       "      <td>335.222620</td>\n",
       "      <td>11.003983</td>\n",
       "      <td>NaN</td>\n",
       "      <td>5_6 diHETE</td>\n",
       "      <td>0001-0163</td>\n",
       "      <td>32595.0</td>\n",
       "    </tr>\n",
       "  </tbody>\n",
       "</table>\n",
       "</div>"
      ],
      "text/plain": [
       "    method  compound          mz         rt            hmdb_id    metabolite  \\\n",
       "0  C18-neg  cmp.QI01  355.242367   7.757533  Internal Standard       PGE2-d4   \n",
       "1  C18-neg  cmp.QI02  313.238162   9.830450          HMDB04705  12_13-diHOME   \n",
       "2  C18-neg  cmp.QI03  313.238234  10.023333          HMDB04704   9_10-diHOME   \n",
       "3  C18-neg  cmp.QI04  295.227428  11.289300          HMDB04667       13-HODE   \n",
       "4  C18-neg  cmp.QI05  335.222620  11.003983                NaN    5_6 diHETE   \n",
       "\n",
       "      sample  intensity  \n",
       "0  0001-0163   289686.0  \n",
       "1  0001-0163   191459.0  \n",
       "2  0001-0163   196193.0  \n",
       "3  0001-0163    82445.0  \n",
       "4  0001-0163    32595.0  "
      ]
     },
     "execution_count": 19,
     "metadata": {},
     "output_type": "execute_result"
    }
   ],
   "source": [
    "# Clean up column names\n",
    "tidyall = tidyall.rename(\n",
    "    columns={'Method': 'method', 'Compound': 'compound',\n",
    "             'm/z': 'mz', 'RT (min)': 'rt',\n",
    "             'HMDB ID (*representative ID)': 'hmdb_id',\n",
    "             'Metabolite': 'metabolite'})\n",
    "tidyall.head()"
   ]
  },
  {
   "cell_type": "markdown",
   "metadata": {},
   "source": [
    "Let's split the \"sample\" column into \"donor ID\" and \"sample_number\""
   ]
  },
  {
   "cell_type": "code",
   "execution_count": 20,
   "metadata": {
    "collapsed": false
   },
   "outputs": [],
   "source": [
    "tidyall[['donor', 'sample_number']] = tidyall['sample'].str.split('-', expand=True)"
   ]
  },
  {
   "cell_type": "code",
   "execution_count": 21,
   "metadata": {
    "collapsed": false
   },
   "outputs": [
    {
     "data": {
      "text/html": [
       "<div>\n",
       "<style scoped>\n",
       "    .dataframe tbody tr th:only-of-type {\n",
       "        vertical-align: middle;\n",
       "    }\n",
       "\n",
       "    .dataframe tbody tr th {\n",
       "        vertical-align: top;\n",
       "    }\n",
       "\n",
       "    .dataframe thead th {\n",
       "        text-align: right;\n",
       "    }\n",
       "</style>\n",
       "<table border=\"1\" class=\"dataframe\">\n",
       "  <thead>\n",
       "    <tr style=\"text-align: right;\">\n",
       "      <th></th>\n",
       "      <th>method</th>\n",
       "      <th>compound</th>\n",
       "      <th>mz</th>\n",
       "      <th>rt</th>\n",
       "      <th>hmdb_id</th>\n",
       "      <th>metabolite</th>\n",
       "      <th>sample</th>\n",
       "      <th>intensity</th>\n",
       "      <th>donor</th>\n",
       "      <th>sample_number</th>\n",
       "    </tr>\n",
       "  </thead>\n",
       "  <tbody>\n",
       "    <tr>\n",
       "      <th>0</th>\n",
       "      <td>C18-neg</td>\n",
       "      <td>cmp.QI01</td>\n",
       "      <td>355.242367</td>\n",
       "      <td>7.757533</td>\n",
       "      <td>Internal Standard</td>\n",
       "      <td>PGE2-d4</td>\n",
       "      <td>0001-0163</td>\n",
       "      <td>289686.0</td>\n",
       "      <td>0001</td>\n",
       "      <td>0163</td>\n",
       "    </tr>\n",
       "    <tr>\n",
       "      <th>1</th>\n",
       "      <td>C18-neg</td>\n",
       "      <td>cmp.QI02</td>\n",
       "      <td>313.238162</td>\n",
       "      <td>9.830450</td>\n",
       "      <td>HMDB04705</td>\n",
       "      <td>12_13-diHOME</td>\n",
       "      <td>0001-0163</td>\n",
       "      <td>191459.0</td>\n",
       "      <td>0001</td>\n",
       "      <td>0163</td>\n",
       "    </tr>\n",
       "    <tr>\n",
       "      <th>2</th>\n",
       "      <td>C18-neg</td>\n",
       "      <td>cmp.QI03</td>\n",
       "      <td>313.238234</td>\n",
       "      <td>10.023333</td>\n",
       "      <td>HMDB04704</td>\n",
       "      <td>9_10-diHOME</td>\n",
       "      <td>0001-0163</td>\n",
       "      <td>196193.0</td>\n",
       "      <td>0001</td>\n",
       "      <td>0163</td>\n",
       "    </tr>\n",
       "    <tr>\n",
       "      <th>3</th>\n",
       "      <td>C18-neg</td>\n",
       "      <td>cmp.QI04</td>\n",
       "      <td>295.227428</td>\n",
       "      <td>11.289300</td>\n",
       "      <td>HMDB04667</td>\n",
       "      <td>13-HODE</td>\n",
       "      <td>0001-0163</td>\n",
       "      <td>82445.0</td>\n",
       "      <td>0001</td>\n",
       "      <td>0163</td>\n",
       "    </tr>\n",
       "    <tr>\n",
       "      <th>4</th>\n",
       "      <td>C18-neg</td>\n",
       "      <td>cmp.QI05</td>\n",
       "      <td>335.222620</td>\n",
       "      <td>11.003983</td>\n",
       "      <td>NaN</td>\n",
       "      <td>5_6 diHETE</td>\n",
       "      <td>0001-0163</td>\n",
       "      <td>32595.0</td>\n",
       "      <td>0001</td>\n",
       "      <td>0163</td>\n",
       "    </tr>\n",
       "  </tbody>\n",
       "</table>\n",
       "</div>"
      ],
      "text/plain": [
       "    method  compound          mz         rt            hmdb_id    metabolite  \\\n",
       "0  C18-neg  cmp.QI01  355.242367   7.757533  Internal Standard       PGE2-d4   \n",
       "1  C18-neg  cmp.QI02  313.238162   9.830450          HMDB04705  12_13-diHOME   \n",
       "2  C18-neg  cmp.QI03  313.238234  10.023333          HMDB04704   9_10-diHOME   \n",
       "3  C18-neg  cmp.QI04  295.227428  11.289300          HMDB04667       13-HODE   \n",
       "4  C18-neg  cmp.QI05  335.222620  11.003983                NaN    5_6 diHETE   \n",
       "\n",
       "      sample  intensity donor sample_number  \n",
       "0  0001-0163   289686.0  0001          0163  \n",
       "1  0001-0163   191459.0  0001          0163  \n",
       "2  0001-0163   196193.0  0001          0163  \n",
       "3  0001-0163    82445.0  0001          0163  \n",
       "4  0001-0163    32595.0  0001          0163  "
      ]
     },
     "execution_count": 21,
     "metadata": {},
     "output_type": "execute_result"
    }
   ],
   "source": [
    "tidyall.head()"
   ]
  },
  {
   "cell_type": "markdown",
   "metadata": {},
   "source": [
    "This is a very large dataframe. Let's use feather format to read/write the tidy data."
   ]
  },
  {
   "cell_type": "code",
   "execution_count": 22,
   "metadata": {
    "collapsed": false
   },
   "outputs": [],
   "source": [
    "feather.write_dataframe(tidyall, ftidy)"
   ]
  },
  {
   "cell_type": "code",
   "execution_count": null,
   "metadata": {
    "collapsed": true
   },
   "outputs": [],
   "source": []
  }
 ],
 "metadata": {
  "anaconda-cloud": {},
  "kernelspec": {
   "display_name": "Python [default]",
   "language": "python",
   "name": "python2"
  },
  "language_info": {
   "codemirror_mode": {
    "name": "ipython",
    "version": 2
   },
   "file_extension": ".py",
   "mimetype": "text/x-python",
   "name": "python",
   "nbconvert_exporter": "python",
   "pygments_lexer": "ipython2",
   "version": "2.7.6"
  }
 },
 "nbformat": 4,
 "nbformat_minor": 2
}
