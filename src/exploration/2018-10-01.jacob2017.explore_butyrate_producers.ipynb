{
 "cells": [
  {
   "cell_type": "markdown",
   "metadata": {},
   "source": [
    "This notebook looks at the abundance of \"butyrate producers\" in the donor samples and if that correlates with FMT outcome.\n",
    "\n",
    "I'll mostly be following similar analyses as what I did in the Kump 2018 data."
   ]
  },
  {
   "cell_type": "code",
   "execution_count": 1,
   "metadata": {
    "collapsed": true
   },
   "outputs": [],
   "source": [
    "import pandas as pd\n",
    "\n",
    "import matplotlib.pyplot as plt\n",
    "import seaborn as sns\n",
    "%matplotlib inline\n",
    "\n",
    "sns.set_style('white')"
   ]
  },
  {
   "cell_type": "code",
   "execution_count": 29,
   "metadata": {
    "collapsed": true
   },
   "outputs": [],
   "source": [
    "fotu = '../../data/qiime-proc/jacob2017/exported_data/jacob2017.feature-table.txt'\n",
    "fmeta = '../../data/clean/jacob2017.metadata.txt'\n",
    "ftidy = '../../data/clean/jacob2017.tidy_otu_w_taxonomy.txt'"
   ]
  },
  {
   "cell_type": "code",
   "execution_count": 30,
   "metadata": {
    "collapsed": false
   },
   "outputs": [
    {
     "data": {
      "text/html": [
       "<div>\n",
       "<style scoped>\n",
       "    .dataframe tbody tr th:only-of-type {\n",
       "        vertical-align: middle;\n",
       "    }\n",
       "\n",
       "    .dataframe tbody tr th {\n",
       "        vertical-align: top;\n",
       "    }\n",
       "\n",
       "    .dataframe thead th {\n",
       "        text-align: right;\n",
       "    }\n",
       "</style>\n",
       "<table border=\"1\" class=\"dataframe\">\n",
       "  <thead>\n",
       "    <tr style=\"text-align: right;\">\n",
       "      <th></th>\n",
       "      <th>sample_id</th>\n",
       "      <th>total_reads</th>\n",
       "      <th>#OTU ID</th>\n",
       "      <th>reads</th>\n",
       "      <th>Feature ID_gg</th>\n",
       "      <th>Taxon_gg</th>\n",
       "      <th>Confidence_gg</th>\n",
       "      <th>otu_id_gg</th>\n",
       "      <th>Feature ID_silva</th>\n",
       "      <th>Taxon_silva</th>\n",
       "      <th>Confidence_silva</th>\n",
       "      <th>otu_id_silva</th>\n",
       "      <th>rel_abun</th>\n",
       "    </tr>\n",
       "  </thead>\n",
       "  <tbody>\n",
       "    <tr>\n",
       "      <th>0</th>\n",
       "      <td>SRR5629110</td>\n",
       "      <td>37776.0</td>\n",
       "      <td>355281665bb16bf1045de9cf09b44711</td>\n",
       "      <td>13149.0</td>\n",
       "      <td>355281665bb16bf1045de9cf09b44711</td>\n",
       "      <td>k__Bacteria; p__Bacteroidetes; c__Bacteroidia;...</td>\n",
       "      <td>0.927902</td>\n",
       "      <td>k__Bacteria;p__Bacteroidetes;c__Bacteroidia;o_...</td>\n",
       "      <td>355281665bb16bf1045de9cf09b44711</td>\n",
       "      <td>D_0__Bacteria;D_1__Bacteroidetes;D_2__Bacteroi...</td>\n",
       "      <td>0.92043</td>\n",
       "      <td>D_0__Bacteria;D_1__Bacteroidetes;D_2__Bacteroi...</td>\n",
       "      <td>0.348078</td>\n",
       "    </tr>\n",
       "    <tr>\n",
       "      <th>1</th>\n",
       "      <td>SRR5629162</td>\n",
       "      <td>16359.0</td>\n",
       "      <td>355281665bb16bf1045de9cf09b44711</td>\n",
       "      <td>0.0</td>\n",
       "      <td>355281665bb16bf1045de9cf09b44711</td>\n",
       "      <td>k__Bacteria; p__Bacteroidetes; c__Bacteroidia;...</td>\n",
       "      <td>0.927902</td>\n",
       "      <td>k__Bacteria;p__Bacteroidetes;c__Bacteroidia;o_...</td>\n",
       "      <td>355281665bb16bf1045de9cf09b44711</td>\n",
       "      <td>D_0__Bacteria;D_1__Bacteroidetes;D_2__Bacteroi...</td>\n",
       "      <td>0.92043</td>\n",
       "      <td>D_0__Bacteria;D_1__Bacteroidetes;D_2__Bacteroi...</td>\n",
       "      <td>0.000000</td>\n",
       "    </tr>\n",
       "    <tr>\n",
       "      <th>2</th>\n",
       "      <td>SRR5629141</td>\n",
       "      <td>18039.0</td>\n",
       "      <td>355281665bb16bf1045de9cf09b44711</td>\n",
       "      <td>0.0</td>\n",
       "      <td>355281665bb16bf1045de9cf09b44711</td>\n",
       "      <td>k__Bacteria; p__Bacteroidetes; c__Bacteroidia;...</td>\n",
       "      <td>0.927902</td>\n",
       "      <td>k__Bacteria;p__Bacteroidetes;c__Bacteroidia;o_...</td>\n",
       "      <td>355281665bb16bf1045de9cf09b44711</td>\n",
       "      <td>D_0__Bacteria;D_1__Bacteroidetes;D_2__Bacteroi...</td>\n",
       "      <td>0.92043</td>\n",
       "      <td>D_0__Bacteria;D_1__Bacteroidetes;D_2__Bacteroi...</td>\n",
       "      <td>0.000000</td>\n",
       "    </tr>\n",
       "    <tr>\n",
       "      <th>3</th>\n",
       "      <td>SRR5629092</td>\n",
       "      <td>32542.0</td>\n",
       "      <td>355281665bb16bf1045de9cf09b44711</td>\n",
       "      <td>0.0</td>\n",
       "      <td>355281665bb16bf1045de9cf09b44711</td>\n",
       "      <td>k__Bacteria; p__Bacteroidetes; c__Bacteroidia;...</td>\n",
       "      <td>0.927902</td>\n",
       "      <td>k__Bacteria;p__Bacteroidetes;c__Bacteroidia;o_...</td>\n",
       "      <td>355281665bb16bf1045de9cf09b44711</td>\n",
       "      <td>D_0__Bacteria;D_1__Bacteroidetes;D_2__Bacteroi...</td>\n",
       "      <td>0.92043</td>\n",
       "      <td>D_0__Bacteria;D_1__Bacteroidetes;D_2__Bacteroi...</td>\n",
       "      <td>0.000000</td>\n",
       "    </tr>\n",
       "    <tr>\n",
       "      <th>4</th>\n",
       "      <td>SRR5629118</td>\n",
       "      <td>13522.0</td>\n",
       "      <td>355281665bb16bf1045de9cf09b44711</td>\n",
       "      <td>0.0</td>\n",
       "      <td>355281665bb16bf1045de9cf09b44711</td>\n",
       "      <td>k__Bacteria; p__Bacteroidetes; c__Bacteroidia;...</td>\n",
       "      <td>0.927902</td>\n",
       "      <td>k__Bacteria;p__Bacteroidetes;c__Bacteroidia;o_...</td>\n",
       "      <td>355281665bb16bf1045de9cf09b44711</td>\n",
       "      <td>D_0__Bacteria;D_1__Bacteroidetes;D_2__Bacteroi...</td>\n",
       "      <td>0.92043</td>\n",
       "      <td>D_0__Bacteria;D_1__Bacteroidetes;D_2__Bacteroi...</td>\n",
       "      <td>0.000000</td>\n",
       "    </tr>\n",
       "  </tbody>\n",
       "</table>\n",
       "</div>"
      ],
      "text/plain": [
       "    sample_id  total_reads                           #OTU ID    reads  \\\n",
       "0  SRR5629110      37776.0  355281665bb16bf1045de9cf09b44711  13149.0   \n",
       "1  SRR5629162      16359.0  355281665bb16bf1045de9cf09b44711      0.0   \n",
       "2  SRR5629141      18039.0  355281665bb16bf1045de9cf09b44711      0.0   \n",
       "3  SRR5629092      32542.0  355281665bb16bf1045de9cf09b44711      0.0   \n",
       "4  SRR5629118      13522.0  355281665bb16bf1045de9cf09b44711      0.0   \n",
       "\n",
       "                      Feature ID_gg  \\\n",
       "0  355281665bb16bf1045de9cf09b44711   \n",
       "1  355281665bb16bf1045de9cf09b44711   \n",
       "2  355281665bb16bf1045de9cf09b44711   \n",
       "3  355281665bb16bf1045de9cf09b44711   \n",
       "4  355281665bb16bf1045de9cf09b44711   \n",
       "\n",
       "                                            Taxon_gg  Confidence_gg  \\\n",
       "0  k__Bacteria; p__Bacteroidetes; c__Bacteroidia;...       0.927902   \n",
       "1  k__Bacteria; p__Bacteroidetes; c__Bacteroidia;...       0.927902   \n",
       "2  k__Bacteria; p__Bacteroidetes; c__Bacteroidia;...       0.927902   \n",
       "3  k__Bacteria; p__Bacteroidetes; c__Bacteroidia;...       0.927902   \n",
       "4  k__Bacteria; p__Bacteroidetes; c__Bacteroidia;...       0.927902   \n",
       "\n",
       "                                           otu_id_gg  \\\n",
       "0  k__Bacteria;p__Bacteroidetes;c__Bacteroidia;o_...   \n",
       "1  k__Bacteria;p__Bacteroidetes;c__Bacteroidia;o_...   \n",
       "2  k__Bacteria;p__Bacteroidetes;c__Bacteroidia;o_...   \n",
       "3  k__Bacteria;p__Bacteroidetes;c__Bacteroidia;o_...   \n",
       "4  k__Bacteria;p__Bacteroidetes;c__Bacteroidia;o_...   \n",
       "\n",
       "                   Feature ID_silva  \\\n",
       "0  355281665bb16bf1045de9cf09b44711   \n",
       "1  355281665bb16bf1045de9cf09b44711   \n",
       "2  355281665bb16bf1045de9cf09b44711   \n",
       "3  355281665bb16bf1045de9cf09b44711   \n",
       "4  355281665bb16bf1045de9cf09b44711   \n",
       "\n",
       "                                         Taxon_silva  Confidence_silva  \\\n",
       "0  D_0__Bacteria;D_1__Bacteroidetes;D_2__Bacteroi...           0.92043   \n",
       "1  D_0__Bacteria;D_1__Bacteroidetes;D_2__Bacteroi...           0.92043   \n",
       "2  D_0__Bacteria;D_1__Bacteroidetes;D_2__Bacteroi...           0.92043   \n",
       "3  D_0__Bacteria;D_1__Bacteroidetes;D_2__Bacteroi...           0.92043   \n",
       "4  D_0__Bacteria;D_1__Bacteroidetes;D_2__Bacteroi...           0.92043   \n",
       "\n",
       "                                        otu_id_silva  rel_abun  \n",
       "0  D_0__Bacteria;D_1__Bacteroidetes;D_2__Bacteroi...  0.348078  \n",
       "1  D_0__Bacteria;D_1__Bacteroidetes;D_2__Bacteroi...  0.000000  \n",
       "2  D_0__Bacteria;D_1__Bacteroidetes;D_2__Bacteroi...  0.000000  \n",
       "3  D_0__Bacteria;D_1__Bacteroidetes;D_2__Bacteroi...  0.000000  \n",
       "4  D_0__Bacteria;D_1__Bacteroidetes;D_2__Bacteroi...  0.000000  "
      ]
     },
     "execution_count": 30,
     "metadata": {},
     "output_type": "execute_result"
    }
   ],
   "source": [
    "tidydf = pd.read_csv(ftidy, sep='\\t')\n",
    "# Add relative abundance column\n",
    "tidydf['rel_abun'] = tidydf['reads'] / tidydf['total_reads']\n",
    "tidydf.head()"
   ]
  },
  {
   "cell_type": "markdown",
   "metadata": {},
   "source": [
    "# Find butyrate producers\n",
    "\n",
    "As before, we'll use the list from the mSystems paper (see the Kump 2018 notebook for more info).\n"
   ]
  },
  {
   "cell_type": "code",
   "execution_count": 31,
   "metadata": {
    "collapsed": true
   },
   "outputs": [],
   "source": [
    "genera = ['Odoribacter', \n",
    "          'Clostridium_XIVa',\n",
    "          'Coprococcus',\n",
    "          'Butyricicoccus',\n",
    "          'Pseudoflavonifractor',\n",
    "          'Flavonifractor',\n",
    "          'Anaerostipes',\n",
    "          'Roseburia',\n",
    "          'Oscillibacter',\n",
    "          'Faecalibacterium',\n",
    "          'Subdoligranulum'\n",
    "         ]"
   ]
  },
  {
   "cell_type": "markdown",
   "metadata": {},
   "source": [
    "## Compare SILVA vs GG\n",
    "\n",
    "How many of the GreenGenes taxonomic identifiers have one of these?"
   ]
  },
  {
   "cell_type": "code",
   "execution_count": 32,
   "metadata": {
    "collapsed": false
   },
   "outputs": [
    {
     "name": "stdout",
     "output_type": "stream",
     "text": [
      "Odoribacter\n",
      "k__Bacteria;p__Bacteroidetes;c__Bacteroidia;o__Bacteroidales;f__[Odoribacteraceae];g__Odoribacter;s__\n",
      "\n",
      "Clostridium_XIVa\n",
      "\n",
      "\n",
      "Coprococcus\n",
      "k__Bacteria;p__Firmicutes;c__Clostridia;o__Clostridiales;f__Lachnospiraceae;g__Coprococcus;s__\n",
      "k__Bacteria;p__Firmicutes;c__Clostridia;o__Clostridiales;f__Lachnospiraceae;g__Coprococcus;s__catus\n",
      "k__Bacteria;p__Firmicutes;c__Clostridia;o__Clostridiales;f__Lachnospiraceae;g__Coprococcus;s__eutactus\n",
      "\n",
      "Butyricicoccus\n",
      "k__Bacteria;p__Firmicutes;c__Clostridia;o__Clostridiales;f__Ruminococcaceae;g__Butyricicoccus;s__pullicaecorum\n",
      "\n",
      "Pseudoflavonifractor\n",
      "\n",
      "\n",
      "Flavonifractor\n",
      "\n",
      "\n",
      "Anaerostipes\n",
      "k__Bacteria;p__Firmicutes;c__Clostridia;o__Clostridiales;f__Lachnospiraceae;g__Anaerostipes;s__\n",
      "\n",
      "Roseburia\n",
      "k__Bacteria;p__Firmicutes;c__Clostridia;o__Clostridiales;f__Lachnospiraceae;g__Roseburia;s__faecis\n",
      "k__Bacteria;p__Firmicutes;c__Clostridia;o__Clostridiales;f__Lachnospiraceae;g__Roseburia;s__\n",
      "\n",
      "Oscillibacter\n",
      "\n",
      "\n",
      "Faecalibacterium\n",
      "k__Bacteria;p__Firmicutes;c__Clostridia;o__Clostridiales;f__Ruminococcaceae;g__Faecalibacterium;s__prausnitzii\n",
      "k__Bacteria;p__Firmicutes;c__Clostridia;o__Clostridiales;f__Ruminococcaceae;g__Faecalibacterium;s__\n",
      "\n",
      "Subdoligranulum\n",
      "\n",
      "\n"
     ]
    }
   ],
   "source": [
    "alltaxa_gg = tidydf['otu_id_gg'].unique().tolist()\n",
    "\n",
    "for g in genera:\n",
    "    print(g)\n",
    "    tmp = [i for i in alltaxa_gg if 'g__' + g in i]\n",
    "    tmp = set([i.rsplit(';', 1)[0] for i in tmp])\n",
    "    print('\\n'.join(tmp) + '\\n')"
   ]
  },
  {
   "cell_type": "markdown",
   "metadata": {},
   "source": [
    "And SILVA?"
   ]
  },
  {
   "cell_type": "code",
   "execution_count": 33,
   "metadata": {
    "collapsed": false
   },
   "outputs": [
    {
     "name": "stdout",
     "output_type": "stream",
     "text": [
      "Odoribacter\n",
      "D_0__Bacteria;D_1__Bacteroidetes;D_2__Bacteroidia;D_3__Bacteroidales;D_4__Marinifilaceae;D_5__Odoribacter;D_6__gutmetagenome\n",
      "D_0__Bacteria;D_1__Bacteroidetes;D_2__Bacteroidia;D_3__Bacteroidales;D_4__Marinifilaceae;D_5__Odoribacter;D_6__unculturedorganism\n",
      "D_0__Bacteria;D_1__Bacteroidetes;D_2__Bacteroidia;D_3__Bacteroidales;D_4__Marinifilaceae;D_5__Odoribacter;D_6__\n",
      "\n",
      "Clostridium_XIVa\n",
      "\n",
      "\n",
      "Coprococcus\n",
      "D_0__Bacteria;D_1__Firmicutes;D_2__Clostridia;D_3__Clostridiales;D_4__Lachnospiraceae;D_5__Coprococcus2;D_6__\n",
      "D_0__Bacteria;D_1__Firmicutes;D_2__Clostridia;D_3__Clostridiales;D_4__Lachnospiraceae;D_5__Coprococcus3;D_6__\n",
      "D_0__Bacteria;D_1__Firmicutes;D_2__Clostridia;D_3__Clostridiales;D_4__Lachnospiraceae;D_5__Coprococcus2;D_6__unculturedCoprococcussp.\n",
      "D_0__Bacteria;D_1__Firmicutes;D_2__Clostridia;D_3__Clostridiales;D_4__Lachnospiraceae;D_5__Coprococcus3;D_6__unculturedbacterium\n",
      "D_0__Bacteria;D_1__Firmicutes;D_2__Clostridia;D_3__Clostridiales;D_4__Lachnospiraceae;D_5__Coprococcus1;D_6__\n",
      "\n",
      "Butyricicoccus\n",
      "D_0__Bacteria;D_1__Firmicutes;D_2__Clostridia;D_3__Clostridiales;D_4__Ruminococcaceae;D_5__Butyricicoccus;D_6__Butyricicoccuspullicaecorum1.2\n",
      "D_0__Bacteria;D_1__Firmicutes;D_2__Clostridia;D_3__Clostridiales;D_4__Ruminococcaceae;D_5__Butyricicoccus;D_6__Butyricicoccussp.K4410.MGS-46\n",
      "D_0__Bacteria;D_1__Firmicutes;D_2__Clostridia;D_3__Clostridiales;D_4__Ruminococcaceae;D_5__Butyricicoccus;D_6__\n",
      "\n",
      "Pseudoflavonifractor\n",
      "D_0__Bacteria;D_1__Firmicutes;D_2__Clostridia;D_3__Clostridiales;D_4__Ruminococcaceae;D_5__Pseudoflavonifractor;D_6__unculturedbacterium\n",
      "\n",
      "Flavonifractor\n",
      "D_0__Bacteria;D_1__Firmicutes;D_2__Clostridia;D_3__Clostridiales;D_4__Ruminococcaceae;D_5__Ruminiclostridium9;D_6__unculturedFlavonifractorsp.\n",
      "D_0__Bacteria;D_1__Firmicutes;D_2__Clostridia;D_3__Clostridiales;D_4__Ruminococcaceae;D_5__Flavonifractor;D_6__\n",
      "\n",
      "Anaerostipes\n",
      "D_0__Bacteria;D_1__Firmicutes;D_2__Clostridia;D_3__Clostridiales;D_4__Ruminococcaceae;D_5__Ruminiclostridium9;D_6__Anaerostipeshadrus\n",
      "D_0__Bacteria;D_1__Firmicutes;D_2__Clostridia;D_3__Clostridiales;D_4__Lachnospiraceae;D_5__Anaerostipes;D_6__Anaerostipesbutyraticus\n",
      "D_0__Bacteria;D_1__Firmicutes;D_2__Clostridia;D_3__Clostridiales;D_4__Lachnospiraceae;D_5__Anaerostipes;D_6__\n",
      "\n",
      "Roseburia\n",
      "D_0__Bacteria;D_1__Firmicutes;D_2__Clostridia;D_3__Clostridiales;D_4__Lachnospiraceae;D_5__Roseburia;D_6__gutmetagenome\n",
      "D_0__Bacteria;D_1__Firmicutes;D_2__Clostridia;D_3__Clostridiales;D_4__Lachnospiraceae;D_5__Roseburia;D_6__unculturedRoseburiasp.\n",
      "D_0__Bacteria;D_1__Firmicutes;D_2__Clostridia;D_3__Clostridiales;D_4__Lachnospiraceae;D_5__Roseburia;D_6__\n",
      "\n",
      "Oscillibacter\n",
      "D_0__Bacteria;D_1__Firmicutes;D_2__Clostridia;D_3__Clostridiales;D_4__Ruminococcaceae;D_5__Oscillibacter;D_6__humangutmetagenome\n",
      "D_0__Bacteria;D_1__Firmicutes;D_2__Clostridia;D_3__Clostridiales;D_4__Ruminococcaceae;D_5__Oscillibacter;D_6__Oscillibactersp.Marseille-P3260\n",
      "D_0__Bacteria;D_1__Firmicutes;D_2__Clostridia;D_3__Clostridiales;D_4__Ruminococcaceae;D_5__Oscillibacter;D_6__unculturedorganism\n",
      "D_0__Bacteria;D_1__Firmicutes;D_2__Clostridia;D_3__Clostridiales;D_4__Ruminococcaceae;D_5__Oscillibacter;D_6__\n",
      "D_0__Bacteria;D_1__Firmicutes;D_2__Clostridia;D_3__Clostridiales;D_4__Ruminococcaceae;D_5__Oscillibacter;D_6__unculturedbacterium\n",
      "D_0__Bacteria;D_1__Firmicutes;D_2__Clostridia;D_3__Clostridiales;D_4__Ruminococcaceae;D_5__Oscillibacter;D_6__Oscillibactersp.PC13\n",
      "\n",
      "Faecalibacterium\n",
      "D_0__Bacteria;D_1__Firmicutes;D_2__Clostridia;D_3__Clostridiales;D_4__Ruminococcaceae;D_5__Faecalibacterium;D_6__\n",
      "D_0__Bacteria;D_1__Bacteroidetes;D_2__Bacteroidia;D_3__Bacteroidales;D_4__Rikenellaceae;D_5__Alistipes;D_6__Faecalibacteriumprausnitzii\n",
      "\n",
      "Subdoligranulum\n",
      "D_0__Bacteria;D_1__Firmicutes;D_2__Clostridia;D_3__Clostridiales;D_4__Ruminococcaceae;D_5__Subdoligranulum;D_6__\n",
      "\n"
     ]
    }
   ],
   "source": [
    "alltaxa_silva = tidydf['otu_id_silva'].unique().tolist()\n",
    "\n",
    "for g in genera:\n",
    "    print(g)\n",
    "    tmp = [i for i in alltaxa_silva if g in i]\n",
    "    tmp = set([i.rsplit(';', 1)[0] for i in tmp])\n",
    "    print('\\n'.join(tmp) + '\\n') "
   ]
  },
  {
   "cell_type": "markdown",
   "metadata": {},
   "source": [
    "Compare number and abundances of GG vs SILVA butyrate producers."
   ]
  },
  {
   "cell_type": "code",
   "execution_count": 34,
   "metadata": {
    "collapsed": false
   },
   "outputs": [
    {
     "name": "stdout",
     "output_type": "stream",
     "text": [
      "(83, 80)\n"
     ]
    }
   ],
   "source": [
    "# Make a list of the OTUs that are butyrate producing genera\n",
    "but_silva = []\n",
    "for g in genera:\n",
    "    but_silva += [i for i in alltaxa_silva if g in i]\n",
    "but_silva = list(set(but_silva))\n",
    "\n",
    "but_gg = []\n",
    "for g in genera:\n",
    "    but_gg += [i for i in alltaxa_gg if g in i]\n",
    "but_gg = list(set(but_gg))\n",
    "\n",
    "print(len(but_gg), len(but_silva))"
   ]
  },
  {
   "cell_type": "code",
   "execution_count": 35,
   "metadata": {
    "collapsed": true
   },
   "outputs": [],
   "source": [
    "but_abun_gg = tidydf.query('otu_id_gg == @but_gg').groupby('sample_id').sum()['rel_abun']\n",
    "but_abun_silva = tidydf.query('otu_id_silva == @but_silva').groupby('sample_id').sum()['rel_abun']"
   ]
  },
  {
   "cell_type": "code",
   "execution_count": 36,
   "metadata": {
    "collapsed": false
   },
   "outputs": [
    {
     "data": {
      "text/plain": [
       "(0, 0.7)"
      ]
     },
     "execution_count": 36,
     "metadata": {},
     "output_type": "execute_result"
    },
    {
     "data": {
      "image/png": "[encoded data removed]",
      "text/plain": [
       "<matplotlib.figure.Figure at 0x10fbf3510>"
      ]
     },
     "metadata": {},
     "output_type": "display_data"
    }
   ],
   "source": [
    "data = pd.merge(\n",
    "    but_abun_gg.reset_index(name='gg_abun'), \n",
    "    but_abun_silva.reset_index(name='silva_abun'))\n",
    "\n",
    "plt.scatter(data['gg_abun'], data['silva_abun'])\n",
    "plt.xlabel('GG taxonomy')\n",
    "plt.ylabel('SILVA taxonomy')\n",
    "plt.title('Abundance of butyrate producers per sample')\n",
    "plt.ylim([0, 0.7])\n",
    "plt.xlim([0, 0.7])"
   ]
  },
  {
   "cell_type": "markdown",
   "metadata": {},
   "source": [
    "Oh, this is much better than Kump. Let's go with the GG taxonomy (since it tends to represent more of the samples)"
   ]
  },
  {
   "cell_type": "markdown",
   "metadata": {},
   "source": [
    "# Butyrate producers in donors\n",
    "\n",
    "Next, let's look at the abundance of these bugs in the donors, stratified by whether their patient was a responder or non-responder."
   ]
  },
  {
   "cell_type": "code",
   "execution_count": 37,
   "metadata": {
    "collapsed": false
   },
   "outputs": [
    {
     "data": {
      "text/html": [
       "<div>\n",
       "<style scoped>\n",
       "    .dataframe tbody tr th:only-of-type {\n",
       "        vertical-align: middle;\n",
       "    }\n",
       "\n",
       "    .dataframe tbody tr th {\n",
       "        vertical-align: top;\n",
       "    }\n",
       "\n",
       "    .dataframe thead th {\n",
       "        text-align: right;\n",
       "    }\n",
       "</style>\n",
       "<table border=\"1\" class=\"dataframe\">\n",
       "  <thead>\n",
       "    <tr style=\"text-align: right;\">\n",
       "      <th></th>\n",
       "      <th>patient_id</th>\n",
       "      <th>sample_type</th>\n",
       "      <th>donor_patient</th>\n",
       "      <th>remission_w4</th>\n",
       "      <th>response_w4</th>\n",
       "      <th>sample_title</th>\n",
       "      <th>study_accession</th>\n",
       "      <th>secondary_study_accession</th>\n",
       "      <th>sample_accession</th>\n",
       "      <th>secondary_sample_accession</th>\n",
       "      <th>...</th>\n",
       "      <th>sra_aspera</th>\n",
       "      <th>sra_galaxy</th>\n",
       "      <th>cram_index_ftp</th>\n",
       "      <th>cram_index_aspera</th>\n",
       "      <th>cram_index_galaxy</th>\n",
       "      <th>sample_alias</th>\n",
       "      <th>broker_name</th>\n",
       "      <th>nominal_sdev</th>\n",
       "      <th>first_created</th>\n",
       "      <th>Patient</th>\n",
       "    </tr>\n",
       "    <tr>\n",
       "      <th>run_accession</th>\n",
       "      <th></th>\n",
       "      <th></th>\n",
       "      <th></th>\n",
       "      <th></th>\n",
       "      <th></th>\n",
       "      <th></th>\n",
       "      <th></th>\n",
       "      <th></th>\n",
       "      <th></th>\n",
       "      <th></th>\n",
       "      <th></th>\n",
       "      <th></th>\n",
       "      <th></th>\n",
       "      <th></th>\n",
       "      <th></th>\n",
       "      <th></th>\n",
       "      <th></th>\n",
       "      <th></th>\n",
       "      <th></th>\n",
       "      <th></th>\n",
       "      <th></th>\n",
       "    </tr>\n",
       "  </thead>\n",
       "  <tbody>\n",
       "    <tr>\n",
       "      <th>SRR5629088</th>\n",
       "      <td>1</td>\n",
       "      <td>donor</td>\n",
       "      <td>donor</td>\n",
       "      <td>No</td>\n",
       "      <td>No</td>\n",
       "      <td>Longman.FMT.001.Donor.Pool253.Integrated</td>\n",
       "      <td>PRJNA388210</td>\n",
       "      <td>SRP108284</td>\n",
       "      <td>SAMN07173004</td>\n",
       "      <td>SRS2240022</td>\n",
       "      <td>...</td>\n",
       "      <td>fasp.sra.ebi.ac.uk:/vol1/srr/SRR562/008/SRR562...</td>\n",
       "      <td>ftp.sra.ebi.ac.uk/vol1/srr/SRR562/008/SRR5629088</td>\n",
       "      <td>NaN</td>\n",
       "      <td>NaN</td>\n",
       "      <td>NaN</td>\n",
       "      <td>Longman.FMT.001.Donor.Pool253.Integrated</td>\n",
       "      <td>NaN</td>\n",
       "      <td>NaN</td>\n",
       "      <td>2017-11-09</td>\n",
       "      <td>1</td>\n",
       "    </tr>\n",
       "    <tr>\n",
       "      <th>SRR5629096</th>\n",
       "      <td>1</td>\n",
       "      <td>W2</td>\n",
       "      <td>patient</td>\n",
       "      <td>No</td>\n",
       "      <td>No</td>\n",
       "      <td>Longman.FMT.001.W2.Pool253.Integrated</td>\n",
       "      <td>PRJNA388210</td>\n",
       "      <td>SRP108284</td>\n",
       "      <td>SAMN07172996</td>\n",
       "      <td>SRS2240014</td>\n",
       "      <td>...</td>\n",
       "      <td>fasp.sra.ebi.ac.uk:/vol1/srr/SRR562/006/SRR562...</td>\n",
       "      <td>ftp.sra.ebi.ac.uk/vol1/srr/SRR562/006/SRR5629096</td>\n",
       "      <td>NaN</td>\n",
       "      <td>NaN</td>\n",
       "      <td>NaN</td>\n",
       "      <td>Longman.FMT.001.W2.Pool253.Integrated</td>\n",
       "      <td>NaN</td>\n",
       "      <td>NaN</td>\n",
       "      <td>2017-11-09</td>\n",
       "      <td>1</td>\n",
       "    </tr>\n",
       "    <tr>\n",
       "      <th>SRR5629135</th>\n",
       "      <td>1</td>\n",
       "      <td>W4</td>\n",
       "      <td>patient</td>\n",
       "      <td>No</td>\n",
       "      <td>No</td>\n",
       "      <td>Longman.FMT.001.W4.Pool253.Integrated</td>\n",
       "      <td>PRJNA388210</td>\n",
       "      <td>SRP108284</td>\n",
       "      <td>SAMN07173013</td>\n",
       "      <td>SRS2239975</td>\n",
       "      <td>...</td>\n",
       "      <td>fasp.sra.ebi.ac.uk:/vol1/srr/SRR562/005/SRR562...</td>\n",
       "      <td>ftp.sra.ebi.ac.uk/vol1/srr/SRR562/005/SRR5629135</td>\n",
       "      <td>NaN</td>\n",
       "      <td>NaN</td>\n",
       "      <td>NaN</td>\n",
       "      <td>Longman.FMT.001.W4.Pool253.Integrated</td>\n",
       "      <td>NaN</td>\n",
       "      <td>NaN</td>\n",
       "      <td>2017-11-09</td>\n",
       "      <td>1</td>\n",
       "    </tr>\n",
       "    <tr>\n",
       "      <th>SRR5629089</th>\n",
       "      <td>7</td>\n",
       "      <td>W2</td>\n",
       "      <td>patient</td>\n",
       "      <td>No</td>\n",
       "      <td>No</td>\n",
       "      <td>Longman.FMT.007.W2.Pool253.Integrated</td>\n",
       "      <td>PRJNA388210</td>\n",
       "      <td>SRP108284</td>\n",
       "      <td>SAMN07173005</td>\n",
       "      <td>SRS2240021</td>\n",
       "      <td>...</td>\n",
       "      <td>fasp.sra.ebi.ac.uk:/vol1/srr/SRR562/009/SRR562...</td>\n",
       "      <td>ftp.sra.ebi.ac.uk/vol1/srr/SRR562/009/SRR5629089</td>\n",
       "      <td>NaN</td>\n",
       "      <td>NaN</td>\n",
       "      <td>NaN</td>\n",
       "      <td>Longman.FMT.007.W2.Pool253.Integrated</td>\n",
       "      <td>NaN</td>\n",
       "      <td>NaN</td>\n",
       "      <td>2017-11-09</td>\n",
       "      <td>7</td>\n",
       "    </tr>\n",
       "    <tr>\n",
       "      <th>SRR5629094</th>\n",
       "      <td>7</td>\n",
       "      <td>W4</td>\n",
       "      <td>patient</td>\n",
       "      <td>No</td>\n",
       "      <td>No</td>\n",
       "      <td>Longman.FMT.007.W4.Pool253.Integrated</td>\n",
       "      <td>PRJNA388210</td>\n",
       "      <td>SRP108284</td>\n",
       "      <td>SAMN07173016</td>\n",
       "      <td>SRS2240016</td>\n",
       "      <td>...</td>\n",
       "      <td>fasp.sra.ebi.ac.uk:/vol1/srr/SRR562/004/SRR562...</td>\n",
       "      <td>ftp.sra.ebi.ac.uk/vol1/srr/SRR562/004/SRR5629094</td>\n",
       "      <td>NaN</td>\n",
       "      <td>NaN</td>\n",
       "      <td>NaN</td>\n",
       "      <td>Longman.FMT.007.W4.Pool253.Integrated</td>\n",
       "      <td>NaN</td>\n",
       "      <td>NaN</td>\n",
       "      <td>2017-11-09</td>\n",
       "      <td>7</td>\n",
       "    </tr>\n",
       "  </tbody>\n",
       "</table>\n",
       "<p>5 rows × 56 columns</p>\n",
       "</div>"
      ],
      "text/plain": [
       "               patient_id sample_type donor_patient remission_w4 response_w4  \\\n",
       "run_accession                                                                  \n",
       "SRR5629088              1       donor         donor           No          No   \n",
       "SRR5629096              1          W2       patient           No          No   \n",
       "SRR5629135              1          W4       patient           No          No   \n",
       "SRR5629089              7          W2       patient           No          No   \n",
       "SRR5629094              7          W4       patient           No          No   \n",
       "\n",
       "                                           sample_title study_accession  \\\n",
       "run_accession                                                             \n",
       "SRR5629088     Longman.FMT.001.Donor.Pool253.Integrated     PRJNA388210   \n",
       "SRR5629096        Longman.FMT.001.W2.Pool253.Integrated     PRJNA388210   \n",
       "SRR5629135        Longman.FMT.001.W4.Pool253.Integrated     PRJNA388210   \n",
       "SRR5629089        Longman.FMT.007.W2.Pool253.Integrated     PRJNA388210   \n",
       "SRR5629094        Longman.FMT.007.W4.Pool253.Integrated     PRJNA388210   \n",
       "\n",
       "              secondary_study_accession sample_accession  \\\n",
       "run_accession                                              \n",
       "SRR5629088                    SRP108284     SAMN07173004   \n",
       "SRR5629096                    SRP108284     SAMN07172996   \n",
       "SRR5629135                    SRP108284     SAMN07173013   \n",
       "SRR5629089                    SRP108284     SAMN07173005   \n",
       "SRR5629094                    SRP108284     SAMN07173016   \n",
       "\n",
       "              secondary_sample_accession   ...    \\\n",
       "run_accession                              ...     \n",
       "SRR5629088                    SRS2240022   ...     \n",
       "SRR5629096                    SRS2240014   ...     \n",
       "SRR5629135                    SRS2239975   ...     \n",
       "SRR5629089                    SRS2240021   ...     \n",
       "SRR5629094                    SRS2240016   ...     \n",
       "\n",
       "                                                      sra_aspera  \\\n",
       "run_accession                                                      \n",
       "SRR5629088     fasp.sra.ebi.ac.uk:/vol1/srr/SRR562/008/SRR562...   \n",
       "SRR5629096     fasp.sra.ebi.ac.uk:/vol1/srr/SRR562/006/SRR562...   \n",
       "SRR5629135     fasp.sra.ebi.ac.uk:/vol1/srr/SRR562/005/SRR562...   \n",
       "SRR5629089     fasp.sra.ebi.ac.uk:/vol1/srr/SRR562/009/SRR562...   \n",
       "SRR5629094     fasp.sra.ebi.ac.uk:/vol1/srr/SRR562/004/SRR562...   \n",
       "\n",
       "                                                     sra_galaxy  \\\n",
       "run_accession                                                     \n",
       "SRR5629088     ftp.sra.ebi.ac.uk/vol1/srr/SRR562/008/SRR5629088   \n",
       "SRR5629096     ftp.sra.ebi.ac.uk/vol1/srr/SRR562/006/SRR5629096   \n",
       "SRR5629135     ftp.sra.ebi.ac.uk/vol1/srr/SRR562/005/SRR5629135   \n",
       "SRR5629089     ftp.sra.ebi.ac.uk/vol1/srr/SRR562/009/SRR5629089   \n",
       "SRR5629094     ftp.sra.ebi.ac.uk/vol1/srr/SRR562/004/SRR5629094   \n",
       "\n",
       "               cram_index_ftp cram_index_aspera cram_index_galaxy  \\\n",
       "run_accession                                                       \n",
       "SRR5629088                NaN               NaN               NaN   \n",
       "SRR5629096                NaN               NaN               NaN   \n",
       "SRR5629135                NaN               NaN               NaN   \n",
       "SRR5629089                NaN               NaN               NaN   \n",
       "SRR5629094                NaN               NaN               NaN   \n",
       "\n",
       "                                           sample_alias broker_name  \\\n",
       "run_accession                                                         \n",
       "SRR5629088     Longman.FMT.001.Donor.Pool253.Integrated         NaN   \n",
       "SRR5629096        Longman.FMT.001.W2.Pool253.Integrated         NaN   \n",
       "SRR5629135        Longman.FMT.001.W4.Pool253.Integrated         NaN   \n",
       "SRR5629089        Longman.FMT.007.W2.Pool253.Integrated         NaN   \n",
       "SRR5629094        Longman.FMT.007.W4.Pool253.Integrated         NaN   \n",
       "\n",
       "               nominal_sdev first_created Patient  \n",
       "run_accession                                      \n",
       "SRR5629088              NaN    2017-11-09       1  \n",
       "SRR5629096              NaN    2017-11-09       1  \n",
       "SRR5629135              NaN    2017-11-09       1  \n",
       "SRR5629089              NaN    2017-11-09       7  \n",
       "SRR5629094              NaN    2017-11-09       7  \n",
       "\n",
       "[5 rows x 56 columns]"
      ]
     },
     "execution_count": 37,
     "metadata": {},
     "output_type": "execute_result"
    }
   ],
   "source": [
    "meta = pd.read_csv(fmeta, sep='\\t', index_col=0)\n",
    "meta.head()"
   ]
  },
  {
   "cell_type": "code",
   "execution_count": 38,
   "metadata": {
    "collapsed": false
   },
   "outputs": [],
   "source": [
    "# Combine tidy OTU table with metadata\n",
    "tidydf = pd.merge(tidydf, meta, left_on='sample_id', right_index=True)"
   ]
  },
  {
   "cell_type": "code",
   "execution_count": null,
   "metadata": {
    "collapsed": true
   },
   "outputs": [],
   "source": [
    "tidy"
   ]
  },
  {
   "cell_type": "code",
   "execution_count": 43,
   "metadata": {
    "collapsed": false
   },
   "outputs": [
    {
     "data": {
      "text/html": [
       "<div>\n",
       "<style scoped>\n",
       "    .dataframe tbody tr th:only-of-type {\n",
       "        vertical-align: middle;\n",
       "    }\n",
       "\n",
       "    .dataframe tbody tr th {\n",
       "        vertical-align: top;\n",
       "    }\n",
       "\n",
       "    .dataframe thead th {\n",
       "        text-align: right;\n",
       "    }\n",
       "</style>\n",
       "<table border=\"1\" class=\"dataframe\">\n",
       "  <thead>\n",
       "    <tr style=\"text-align: right;\">\n",
       "      <th></th>\n",
       "      <th>sample_id</th>\n",
       "      <th>sample_type</th>\n",
       "      <th>donor_patient</th>\n",
       "      <th>remission_w4</th>\n",
       "      <th>response_w4</th>\n",
       "      <th>patient_id</th>\n",
       "      <th>rel_abun</th>\n",
       "    </tr>\n",
       "  </thead>\n",
       "  <tbody>\n",
       "    <tr>\n",
       "      <th>0</th>\n",
       "      <td>SRR5629088</td>\n",
       "      <td>donor</td>\n",
       "      <td>donor</td>\n",
       "      <td>No</td>\n",
       "      <td>No</td>\n",
       "      <td>1</td>\n",
       "      <td>0.168825</td>\n",
       "    </tr>\n",
       "    <tr>\n",
       "      <th>1</th>\n",
       "      <td>SRR5629090</td>\n",
       "      <td>donor</td>\n",
       "      <td>donor</td>\n",
       "      <td>No</td>\n",
       "      <td>No</td>\n",
       "      <td>2</td>\n",
       "      <td>0.142246</td>\n",
       "    </tr>\n",
       "    <tr>\n",
       "      <th>2</th>\n",
       "      <td>SRR5629098</td>\n",
       "      <td>donor</td>\n",
       "      <td>donor</td>\n",
       "      <td>No</td>\n",
       "      <td>No</td>\n",
       "      <td>3</td>\n",
       "      <td>0.164350</td>\n",
       "    </tr>\n",
       "    <tr>\n",
       "      <th>3</th>\n",
       "      <td>SRR5629104</td>\n",
       "      <td>donor</td>\n",
       "      <td>donor</td>\n",
       "      <td>No</td>\n",
       "      <td>Yes</td>\n",
       "      <td>24</td>\n",
       "      <td>0.135703</td>\n",
       "    </tr>\n",
       "    <tr>\n",
       "      <th>4</th>\n",
       "      <td>SRR5629107</td>\n",
       "      <td>donor</td>\n",
       "      <td>donor</td>\n",
       "      <td>No</td>\n",
       "      <td>Yes</td>\n",
       "      <td>4</td>\n",
       "      <td>0.130846</td>\n",
       "    </tr>\n",
       "  </tbody>\n",
       "</table>\n",
       "</div>"
      ],
      "text/plain": [
       "    sample_id sample_type donor_patient remission_w4 response_w4  patient_id  \\\n",
       "0  SRR5629088       donor         donor           No          No           1   \n",
       "1  SRR5629090       donor         donor           No          No           2   \n",
       "2  SRR5629098       donor         donor           No          No           3   \n",
       "3  SRR5629104       donor         donor           No         Yes          24   \n",
       "4  SRR5629107       donor         donor           No         Yes           4   \n",
       "\n",
       "   rel_abun  \n",
       "0  0.168825  \n",
       "1  0.142246  \n",
       "2  0.164350  \n",
       "3  0.135703  \n",
       "4  0.130846  "
      ]
     },
     "execution_count": 43,
     "metadata": {},
     "output_type": "execute_result"
    }
   ],
   "source": [
    "# Total abundance of butyrate producers per donor stool\n",
    "# (The groupby is to keep track of other metadata of interest)\n",
    "donor_but = (tidydf\n",
    "    .query('otu_id_gg == @but_gg')\n",
    "    .query('donor_patient == \"donor\"')\n",
    "    .groupby(['sample_id', 'sample_type', 'donor_patient', 'remission_w4', 'response_w4', 'patient_id'])\n",
    "    .sum()\n",
    "    ['rel_abun']\n",
    ").reset_index()\n",
    "donor_but.head()"
   ]
  },
  {
   "cell_type": "code",
   "execution_count": 45,
   "metadata": {
    "collapsed": false
   },
   "outputs": [
    {
     "data": {
      "text/plain": [
       "<matplotlib.text.Text at 0x10f2db550>"
      ]
     },
     "execution_count": 45,
     "metadata": {},
     "output_type": "execute_result"
    },
    {
     "data": {
      "image/png": "[encoded data removed]",
      "text/plain": [
       "<matplotlib.figure.Figure at 0x10f59ce90>"
      ]
     },
     "metadata": {},
     "output_type": "display_data"
    }
   ],
   "source": [
    "sns.stripplot(data=donor_but, x='response_w4', y='rel_abun')\n",
    "plt.title('Abundance of butyrate producers in donor samples')"
   ]
  },
  {
   "cell_type": "code",
   "execution_count": 46,
   "metadata": {
    "collapsed": false
   },
   "outputs": [
    {
     "data": {
      "text/plain": [
       "<matplotlib.text.Text at 0x10f3e0f90>"
      ]
     },
     "execution_count": 46,
     "metadata": {},
     "output_type": "execute_result"
    },
    {
     "data": {
      "image/png": "[encoded data removed]",
      "text/plain": [
       "<matplotlib.figure.Figure at 0x10f2d2ed0>"
      ]
     },
     "metadata": {},
     "output_type": "display_data"
    }
   ],
   "source": [
    "sns.stripplot(data=donor_but, x='remission_w4', y='rel_abun')\n",
    "plt.title('Abundance of butyrate producers in donor samples')"
   ]
  },
  {
   "cell_type": "code",
   "execution_count": null,
   "metadata": {
    "collapsed": true
   },
   "outputs": [],
   "source": []
  }
 ],
 "metadata": {
  "anaconda-cloud": {},
  "kernelspec": {
   "display_name": "Python [default]",
   "language": "python",
   "name": "python2"
  },
  "language_info": {
   "codemirror_mode": {
    "name": "ipython",
    "version": 2
   },
   "file_extension": ".py",
   "mimetype": "text/x-python",
   "name": "python",
   "nbconvert_exporter": "python",
   "pygments_lexer": "ipython2",
   "version": "2.7.12"
  }
 },
 "nbformat": 4,
 "nbformat_minor": 2
}
