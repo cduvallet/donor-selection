{
 "cells": [
  {
   "cell_type": "markdown",
   "metadata": {},
   "source": [
    "This is my first exploration of the Hsiao dataset."
   ]
  },
  {
   "cell_type": "code",
   "execution_count": 24,
   "metadata": {
    "collapsed": true
   },
   "outputs": [],
   "source": [
    "import pandas as pd\n",
    "import numpy as np\n",
    "\n",
    "from sklearn.decomposition import PCA\n",
    "\n",
    "from skbio.diversity import beta_diversity\n",
    "from sklearn.metrics import pairwise_distances\n",
    "\n",
    "import matplotlib.pyplot as plt\n",
    "import seaborn as sns\n",
    "%matplotlib inline\n",
    "\n",
    "sns.set_style('white')"
   ]
  },
  {
   "cell_type": "markdown",
   "metadata": {},
   "source": [
    "# Read in + investigate data\n",
    "\n",
    "Now, what do we have here..?"
   ]
  },
  {
   "cell_type": "code",
   "execution_count": 25,
   "metadata": {
    "collapsed": false
   },
   "outputs": [],
   "source": [
    "fotu = '../../data/raw/hsiao/qiime/hsiao_export/hsiao.feature_table.txt'\n",
    "fmeta = '../../data/raw/hsiao/TableS3_human16S_tidy.xlsx'\n",
    "\n",
    "df = pd.read_csv(fotu, sep='\\t', skiprows=1, index_col=0)\n",
    "meta = pd.read_excel(fmeta)"
   ]
  },
  {
   "cell_type": "code",
   "execution_count": 26,
   "metadata": {
    "collapsed": false
   },
   "outputs": [
    {
     "data": {
      "text/plain": [
       "((2851, 474), (1704, 17))"
      ]
     },
     "execution_count": 26,
     "metadata": {},
     "output_type": "execute_result"
    }
   ],
   "source": [
    "df.shape, meta.shape"
   ]
  },
  {
   "cell_type": "code",
   "execution_count": 27,
   "metadata": {
    "collapsed": false
   },
   "outputs": [
    {
     "data": {
      "text/html": [
       "<div>\n",
       "<style scoped>\n",
       "    .dataframe tbody tr th:only-of-type {\n",
       "        vertical-align: middle;\n",
       "    }\n",
       "\n",
       "    .dataframe tbody tr th {\n",
       "        vertical-align: top;\n",
       "    }\n",
       "\n",
       "    .dataframe thead th {\n",
       "        text-align: right;\n",
       "    }\n",
       "</style>\n",
       "<table border=\"1\" class=\"dataframe\">\n",
       "  <thead>\n",
       "    <tr style=\"text-align: right;\">\n",
       "      <th></th>\n",
       "      <th>A.diarrhea.062</th>\n",
       "      <th>Bgsng7052.m26</th>\n",
       "      <th>Bgsng7071.m32</th>\n",
       "      <th>Bgsng7150.m36</th>\n",
       "      <th>Bgsng7192.m28</th>\n",
       "      <th>G.recovery.d003</th>\n",
       "      <th>Bgsng7204.m29</th>\n",
       "      <th>G.diarrhea.026</th>\n",
       "      <th>G.recovery.d037</th>\n",
       "      <th>A.diarrhea.098</th>\n",
       "      <th>...</th>\n",
       "      <th>A.recovery.d014</th>\n",
       "      <th>C.recovery.d009</th>\n",
       "      <th>Bgsng7090.m31</th>\n",
       "      <th>Bgsng7150.m31</th>\n",
       "      <th>Bgsng7128.m27</th>\n",
       "      <th>Bgsng7192.m25</th>\n",
       "      <th>C.recovery.d052</th>\n",
       "      <th>F.diarrhea.020</th>\n",
       "      <th>A.recovery.d004</th>\n",
       "      <th>Bgsng7052.m25</th>\n",
       "    </tr>\n",
       "    <tr>\n",
       "      <th>#OTU ID</th>\n",
       "      <th></th>\n",
       "      <th></th>\n",
       "      <th></th>\n",
       "      <th></th>\n",
       "      <th></th>\n",
       "      <th></th>\n",
       "      <th></th>\n",
       "      <th></th>\n",
       "      <th></th>\n",
       "      <th></th>\n",
       "      <th></th>\n",
       "      <th></th>\n",
       "      <th></th>\n",
       "      <th></th>\n",
       "      <th></th>\n",
       "      <th></th>\n",
       "      <th></th>\n",
       "      <th></th>\n",
       "      <th></th>\n",
       "      <th></th>\n",
       "      <th></th>\n",
       "    </tr>\n",
       "  </thead>\n",
       "  <tbody>\n",
       "    <tr>\n",
       "      <th>bbe1b6abd7b8765bdb44601cea259ef0</th>\n",
       "      <td>10645.0</td>\n",
       "      <td>15.0</td>\n",
       "      <td>0.0</td>\n",
       "      <td>400.0</td>\n",
       "      <td>144.0</td>\n",
       "      <td>0.0</td>\n",
       "      <td>730.0</td>\n",
       "      <td>0.0</td>\n",
       "      <td>0.0</td>\n",
       "      <td>44.0</td>\n",
       "      <td>...</td>\n",
       "      <td>1.0</td>\n",
       "      <td>0.0</td>\n",
       "      <td>72.0</td>\n",
       "      <td>768.0</td>\n",
       "      <td>6.0</td>\n",
       "      <td>68.0</td>\n",
       "      <td>54.0</td>\n",
       "      <td>0.0</td>\n",
       "      <td>0.0</td>\n",
       "      <td>82.0</td>\n",
       "    </tr>\n",
       "    <tr>\n",
       "      <th>c90c3a8c4950b89e6e285afa2c05b3e3</th>\n",
       "      <td>2709.0</td>\n",
       "      <td>74.0</td>\n",
       "      <td>3.0</td>\n",
       "      <td>981.0</td>\n",
       "      <td>1259.0</td>\n",
       "      <td>6677.0</td>\n",
       "      <td>0.0</td>\n",
       "      <td>13729.0</td>\n",
       "      <td>9.0</td>\n",
       "      <td>2252.0</td>\n",
       "      <td>...</td>\n",
       "      <td>47.0</td>\n",
       "      <td>1462.0</td>\n",
       "      <td>121.0</td>\n",
       "      <td>0.0</td>\n",
       "      <td>2.0</td>\n",
       "      <td>4336.0</td>\n",
       "      <td>1069.0</td>\n",
       "      <td>12659.0</td>\n",
       "      <td>1246.0</td>\n",
       "      <td>6.0</td>\n",
       "    </tr>\n",
       "    <tr>\n",
       "      <th>ddc7466d073c844eeb86db871e43f205</th>\n",
       "      <td>1002.0</td>\n",
       "      <td>0.0</td>\n",
       "      <td>0.0</td>\n",
       "      <td>0.0</td>\n",
       "      <td>0.0</td>\n",
       "      <td>0.0</td>\n",
       "      <td>0.0</td>\n",
       "      <td>0.0</td>\n",
       "      <td>2.0</td>\n",
       "      <td>2.0</td>\n",
       "      <td>...</td>\n",
       "      <td>0.0</td>\n",
       "      <td>0.0</td>\n",
       "      <td>0.0</td>\n",
       "      <td>0.0</td>\n",
       "      <td>0.0</td>\n",
       "      <td>0.0</td>\n",
       "      <td>0.0</td>\n",
       "      <td>0.0</td>\n",
       "      <td>0.0</td>\n",
       "      <td>0.0</td>\n",
       "    </tr>\n",
       "    <tr>\n",
       "      <th>6bf1a63f1d1b1de9479fb487edb3c077</th>\n",
       "      <td>626.0</td>\n",
       "      <td>4.0</td>\n",
       "      <td>447.0</td>\n",
       "      <td>105.0</td>\n",
       "      <td>234.0</td>\n",
       "      <td>207.0</td>\n",
       "      <td>20.0</td>\n",
       "      <td>3.0</td>\n",
       "      <td>4387.0</td>\n",
       "      <td>5936.0</td>\n",
       "      <td>...</td>\n",
       "      <td>15.0</td>\n",
       "      <td>120.0</td>\n",
       "      <td>267.0</td>\n",
       "      <td>7.0</td>\n",
       "      <td>0.0</td>\n",
       "      <td>3.0</td>\n",
       "      <td>36.0</td>\n",
       "      <td>2186.0</td>\n",
       "      <td>2944.0</td>\n",
       "      <td>540.0</td>\n",
       "    </tr>\n",
       "    <tr>\n",
       "      <th>7e7a16ce216f4ed1d626e25a0f144911</th>\n",
       "      <td>178.0</td>\n",
       "      <td>0.0</td>\n",
       "      <td>0.0</td>\n",
       "      <td>0.0</td>\n",
       "      <td>10.0</td>\n",
       "      <td>0.0</td>\n",
       "      <td>0.0</td>\n",
       "      <td>0.0</td>\n",
       "      <td>0.0</td>\n",
       "      <td>425.0</td>\n",
       "      <td>...</td>\n",
       "      <td>0.0</td>\n",
       "      <td>0.0</td>\n",
       "      <td>0.0</td>\n",
       "      <td>0.0</td>\n",
       "      <td>0.0</td>\n",
       "      <td>0.0</td>\n",
       "      <td>0.0</td>\n",
       "      <td>0.0</td>\n",
       "      <td>0.0</td>\n",
       "      <td>0.0</td>\n",
       "    </tr>\n",
       "  </tbody>\n",
       "</table>\n",
       "<p>5 rows × 474 columns</p>\n",
       "</div>"
      ],
      "text/plain": [
       "                                  A.diarrhea.062  Bgsng7052.m26  \\\n",
       "#OTU ID                                                           \n",
       "bbe1b6abd7b8765bdb44601cea259ef0         10645.0           15.0   \n",
       "c90c3a8c4950b89e6e285afa2c05b3e3          2709.0           74.0   \n",
       "ddc7466d073c844eeb86db871e43f205          1002.0            0.0   \n",
       "6bf1a63f1d1b1de9479fb487edb3c077           626.0            4.0   \n",
       "7e7a16ce216f4ed1d626e25a0f144911           178.0            0.0   \n",
       "\n",
       "                                  Bgsng7071.m32  Bgsng7150.m36  Bgsng7192.m28  \\\n",
       "#OTU ID                                                                         \n",
       "bbe1b6abd7b8765bdb44601cea259ef0            0.0          400.0          144.0   \n",
       "c90c3a8c4950b89e6e285afa2c05b3e3            3.0          981.0         1259.0   \n",
       "ddc7466d073c844eeb86db871e43f205            0.0            0.0            0.0   \n",
       "6bf1a63f1d1b1de9479fb487edb3c077          447.0          105.0          234.0   \n",
       "7e7a16ce216f4ed1d626e25a0f144911            0.0            0.0           10.0   \n",
       "\n",
       "                                  G.recovery.d003  Bgsng7204.m29  \\\n",
       "#OTU ID                                                            \n",
       "bbe1b6abd7b8765bdb44601cea259ef0              0.0          730.0   \n",
       "c90c3a8c4950b89e6e285afa2c05b3e3           6677.0            0.0   \n",
       "ddc7466d073c844eeb86db871e43f205              0.0            0.0   \n",
       "6bf1a63f1d1b1de9479fb487edb3c077            207.0           20.0   \n",
       "7e7a16ce216f4ed1d626e25a0f144911              0.0            0.0   \n",
       "\n",
       "                                  G.diarrhea.026  G.recovery.d037  \\\n",
       "#OTU ID                                                             \n",
       "bbe1b6abd7b8765bdb44601cea259ef0             0.0              0.0   \n",
       "c90c3a8c4950b89e6e285afa2c05b3e3         13729.0              9.0   \n",
       "ddc7466d073c844eeb86db871e43f205             0.0              2.0   \n",
       "6bf1a63f1d1b1de9479fb487edb3c077             3.0           4387.0   \n",
       "7e7a16ce216f4ed1d626e25a0f144911             0.0              0.0   \n",
       "\n",
       "                                  A.diarrhea.098      ...        \\\n",
       "#OTU ID                                               ...         \n",
       "bbe1b6abd7b8765bdb44601cea259ef0            44.0      ...         \n",
       "c90c3a8c4950b89e6e285afa2c05b3e3          2252.0      ...         \n",
       "ddc7466d073c844eeb86db871e43f205             2.0      ...         \n",
       "6bf1a63f1d1b1de9479fb487edb3c077          5936.0      ...         \n",
       "7e7a16ce216f4ed1d626e25a0f144911           425.0      ...         \n",
       "\n",
       "                                  A.recovery.d014  C.recovery.d009  \\\n",
       "#OTU ID                                                              \n",
       "bbe1b6abd7b8765bdb44601cea259ef0              1.0              0.0   \n",
       "c90c3a8c4950b89e6e285afa2c05b3e3             47.0           1462.0   \n",
       "ddc7466d073c844eeb86db871e43f205              0.0              0.0   \n",
       "6bf1a63f1d1b1de9479fb487edb3c077             15.0            120.0   \n",
       "7e7a16ce216f4ed1d626e25a0f144911              0.0              0.0   \n",
       "\n",
       "                                  Bgsng7090.m31  Bgsng7150.m31  Bgsng7128.m27  \\\n",
       "#OTU ID                                                                         \n",
       "bbe1b6abd7b8765bdb44601cea259ef0           72.0          768.0            6.0   \n",
       "c90c3a8c4950b89e6e285afa2c05b3e3          121.0            0.0            2.0   \n",
       "ddc7466d073c844eeb86db871e43f205            0.0            0.0            0.0   \n",
       "6bf1a63f1d1b1de9479fb487edb3c077          267.0            7.0            0.0   \n",
       "7e7a16ce216f4ed1d626e25a0f144911            0.0            0.0            0.0   \n",
       "\n",
       "                                  Bgsng7192.m25  C.recovery.d052  \\\n",
       "#OTU ID                                                            \n",
       "bbe1b6abd7b8765bdb44601cea259ef0           68.0             54.0   \n",
       "c90c3a8c4950b89e6e285afa2c05b3e3         4336.0           1069.0   \n",
       "ddc7466d073c844eeb86db871e43f205            0.0              0.0   \n",
       "6bf1a63f1d1b1de9479fb487edb3c077            3.0             36.0   \n",
       "7e7a16ce216f4ed1d626e25a0f144911            0.0              0.0   \n",
       "\n",
       "                                  F.diarrhea.020  A.recovery.d004  \\\n",
       "#OTU ID                                                             \n",
       "bbe1b6abd7b8765bdb44601cea259ef0             0.0              0.0   \n",
       "c90c3a8c4950b89e6e285afa2c05b3e3         12659.0           1246.0   \n",
       "ddc7466d073c844eeb86db871e43f205             0.0              0.0   \n",
       "6bf1a63f1d1b1de9479fb487edb3c077          2186.0           2944.0   \n",
       "7e7a16ce216f4ed1d626e25a0f144911             0.0              0.0   \n",
       "\n",
       "                                  Bgsng7052.m25  \n",
       "#OTU ID                                          \n",
       "bbe1b6abd7b8765bdb44601cea259ef0           82.0  \n",
       "c90c3a8c4950b89e6e285afa2c05b3e3            6.0  \n",
       "ddc7466d073c844eeb86db871e43f205            0.0  \n",
       "6bf1a63f1d1b1de9479fb487edb3c077          540.0  \n",
       "7e7a16ce216f4ed1d626e25a0f144911            0.0  \n",
       "\n",
       "[5 rows x 474 columns]"
      ]
     },
     "execution_count": 27,
     "metadata": {},
     "output_type": "execute_result"
    }
   ],
   "source": [
    "df.head()"
   ]
  },
  {
   "cell_type": "code",
   "execution_count": 28,
   "metadata": {
    "collapsed": false
   },
   "outputs": [
    {
     "data": {
      "text/html": [
       "<div>\n",
       "<style scoped>\n",
       "    .dataframe tbody tr th:only-of-type {\n",
       "        vertical-align: middle;\n",
       "    }\n",
       "\n",
       "    .dataframe tbody tr th {\n",
       "        vertical-align: top;\n",
       "    }\n",
       "\n",
       "    .dataframe thead th {\n",
       "        text-align: right;\n",
       "    }\n",
       "</style>\n",
       "<table border=\"1\" class=\"dataframe\">\n",
       "  <thead>\n",
       "    <tr style=\"text-align: right;\">\n",
       "      <th></th>\n",
       "      <th>Subject ID</th>\n",
       "      <th>Fecal SampleID*</th>\n",
       "      <th>Fecal SampleID bold?</th>\n",
       "      <th>Barcode Sequence</th>\n",
       "      <th>Number of V4-16S rRNA sequences</th>\n",
       "      <th>Age of subject at time of fecal sample collection, years</th>\n",
       "      <th>Age, days</th>\n",
       "      <th>Age, months</th>\n",
       "      <th>16S rRNA Sequencing Run ID</th>\n",
       "      <th>Group description</th>\n",
       "      <th>SampleID description</th>\n",
       "      <th>Diet at time of fecal sample collection - Breast Milk</th>\n",
       "      <th>Diet at time of fecal sample collection - Formula</th>\n",
       "      <th>Diet at time of fecal sample collection - Solid Foods</th>\n",
       "      <th>Diarrhoea within 7 days prior to sample collection</th>\n",
       "      <th>Antibiotics within 7 days prior to sample collection</th>\n",
       "      <th>Medications (Antibiotics and other)</th>\n",
       "    </tr>\n",
       "  </thead>\n",
       "  <tbody>\n",
       "    <tr>\n",
       "      <th>0</th>\n",
       "      <td>A</td>\n",
       "      <td>A.diarrhea.016</td>\n",
       "      <td>NaN</td>\n",
       "      <td>CGTACCAGATCC</td>\n",
       "      <td>125054</td>\n",
       "      <td>NaN</td>\n",
       "      <td>NaN</td>\n",
       "      <td>NaN</td>\n",
       "      <td>NaN</td>\n",
       "      <td>a. Human fecal cholera study V4-16S rRNA seque...</td>\n",
       "      <td>* SubjectID.Study Phase.Sample Number</td>\n",
       "      <td>NaN</td>\n",
       "      <td>NaN</td>\n",
       "      <td>NaN</td>\n",
       "      <td>NaN</td>\n",
       "      <td>NaN</td>\n",
       "      <td>NaN</td>\n",
       "    </tr>\n",
       "    <tr>\n",
       "      <th>1</th>\n",
       "      <td>A</td>\n",
       "      <td>A.diarrhea.020</td>\n",
       "      <td>NaN</td>\n",
       "      <td>GTTCTGCTTGTT</td>\n",
       "      <td>72820</td>\n",
       "      <td>NaN</td>\n",
       "      <td>NaN</td>\n",
       "      <td>NaN</td>\n",
       "      <td>NaN</td>\n",
       "      <td>a. Human fecal cholera study V4-16S rRNA seque...</td>\n",
       "      <td>* SubjectID.Study Phase.Sample Number</td>\n",
       "      <td>NaN</td>\n",
       "      <td>NaN</td>\n",
       "      <td>NaN</td>\n",
       "      <td>NaN</td>\n",
       "      <td>NaN</td>\n",
       "      <td>NaN</td>\n",
       "    </tr>\n",
       "    <tr>\n",
       "      <th>2</th>\n",
       "      <td>A</td>\n",
       "      <td>A.diarrhea.021</td>\n",
       "      <td>NaN</td>\n",
       "      <td>GGCGAACTGAAG</td>\n",
       "      <td>126678</td>\n",
       "      <td>NaN</td>\n",
       "      <td>NaN</td>\n",
       "      <td>NaN</td>\n",
       "      <td>NaN</td>\n",
       "      <td>a. Human fecal cholera study V4-16S rRNA seque...</td>\n",
       "      <td>* SubjectID.Study Phase.Sample Number</td>\n",
       "      <td>NaN</td>\n",
       "      <td>NaN</td>\n",
       "      <td>NaN</td>\n",
       "      <td>NaN</td>\n",
       "      <td>NaN</td>\n",
       "      <td>NaN</td>\n",
       "    </tr>\n",
       "    <tr>\n",
       "      <th>3</th>\n",
       "      <td>A</td>\n",
       "      <td>A.diarrhea.024</td>\n",
       "      <td>NaN</td>\n",
       "      <td>CTATCGGAAGAT</td>\n",
       "      <td>122440</td>\n",
       "      <td>NaN</td>\n",
       "      <td>NaN</td>\n",
       "      <td>NaN</td>\n",
       "      <td>NaN</td>\n",
       "      <td>a. Human fecal cholera study V4-16S rRNA seque...</td>\n",
       "      <td>* SubjectID.Study Phase.Sample Number</td>\n",
       "      <td>NaN</td>\n",
       "      <td>NaN</td>\n",
       "      <td>NaN</td>\n",
       "      <td>NaN</td>\n",
       "      <td>NaN</td>\n",
       "      <td>NaN</td>\n",
       "    </tr>\n",
       "    <tr>\n",
       "      <th>4</th>\n",
       "      <td>A</td>\n",
       "      <td>A.diarrhea.027</td>\n",
       "      <td>NaN</td>\n",
       "      <td>TTGGAACGGCTT</td>\n",
       "      <td>105048</td>\n",
       "      <td>NaN</td>\n",
       "      <td>NaN</td>\n",
       "      <td>NaN</td>\n",
       "      <td>NaN</td>\n",
       "      <td>a. Human fecal cholera study V4-16S rRNA seque...</td>\n",
       "      <td>* SubjectID.Study Phase.Sample Number</td>\n",
       "      <td>NaN</td>\n",
       "      <td>NaN</td>\n",
       "      <td>NaN</td>\n",
       "      <td>NaN</td>\n",
       "      <td>NaN</td>\n",
       "      <td>NaN</td>\n",
       "    </tr>\n",
       "  </tbody>\n",
       "</table>\n",
       "</div>"
      ],
      "text/plain": [
       "  Subject ID Fecal SampleID* Fecal SampleID bold? Barcode Sequence  \\\n",
       "0          A  A.diarrhea.016                  NaN     CGTACCAGATCC   \n",
       "1          A  A.diarrhea.020                  NaN     GTTCTGCTTGTT   \n",
       "2          A  A.diarrhea.021                  NaN     GGCGAACTGAAG   \n",
       "3          A  A.diarrhea.024                  NaN     CTATCGGAAGAT   \n",
       "4          A  A.diarrhea.027                  NaN     TTGGAACGGCTT   \n",
       "\n",
       "   Number of V4-16S rRNA sequences  \\\n",
       "0                           125054   \n",
       "1                            72820   \n",
       "2                           126678   \n",
       "3                           122440   \n",
       "4                           105048   \n",
       "\n",
       "   Age of subject at time of fecal sample collection, years  Age, days  \\\n",
       "0                                                NaN               NaN   \n",
       "1                                                NaN               NaN   \n",
       "2                                                NaN               NaN   \n",
       "3                                                NaN               NaN   \n",
       "4                                                NaN               NaN   \n",
       "\n",
       "   Age, months 16S rRNA Sequencing Run ID  \\\n",
       "0          NaN                        NaN   \n",
       "1          NaN                        NaN   \n",
       "2          NaN                        NaN   \n",
       "3          NaN                        NaN   \n",
       "4          NaN                        NaN   \n",
       "\n",
       "                                   Group description  \\\n",
       "0  a. Human fecal cholera study V4-16S rRNA seque...   \n",
       "1  a. Human fecal cholera study V4-16S rRNA seque...   \n",
       "2  a. Human fecal cholera study V4-16S rRNA seque...   \n",
       "3  a. Human fecal cholera study V4-16S rRNA seque...   \n",
       "4  a. Human fecal cholera study V4-16S rRNA seque...   \n",
       "\n",
       "                    SampleID description  \\\n",
       "0  * SubjectID.Study Phase.Sample Number   \n",
       "1  * SubjectID.Study Phase.Sample Number   \n",
       "2  * SubjectID.Study Phase.Sample Number   \n",
       "3  * SubjectID.Study Phase.Sample Number   \n",
       "4  * SubjectID.Study Phase.Sample Number   \n",
       "\n",
       "  Diet at time of fecal sample collection - Breast Milk  \\\n",
       "0                                                NaN      \n",
       "1                                                NaN      \n",
       "2                                                NaN      \n",
       "3                                                NaN      \n",
       "4                                                NaN      \n",
       "\n",
       "  Diet at time of fecal sample collection - Formula  \\\n",
       "0                                               NaN   \n",
       "1                                               NaN   \n",
       "2                                               NaN   \n",
       "3                                               NaN   \n",
       "4                                               NaN   \n",
       "\n",
       "  Diet at time of fecal sample collection - Solid Foods  \\\n",
       "0                                                NaN      \n",
       "1                                                NaN      \n",
       "2                                                NaN      \n",
       "3                                                NaN      \n",
       "4                                                NaN      \n",
       "\n",
       "  Diarrhoea within 7 days prior to sample collection  \\\n",
       "0                                                NaN   \n",
       "1                                                NaN   \n",
       "2                                                NaN   \n",
       "3                                                NaN   \n",
       "4                                                NaN   \n",
       "\n",
       "  Antibiotics within 7 days prior to sample collection  \\\n",
       "0                                                NaN     \n",
       "1                                                NaN     \n",
       "2                                                NaN     \n",
       "3                                                NaN     \n",
       "4                                                NaN     \n",
       "\n",
       "  Medications (Antibiotics and other)  \n",
       "0                                 NaN  \n",
       "1                                 NaN  \n",
       "2                                 NaN  \n",
       "3                                 NaN  \n",
       "4                                 NaN  "
      ]
     },
     "execution_count": 28,
     "metadata": {},
     "output_type": "execute_result"
    }
   ],
   "source": [
    "meta.head()"
   ]
  },
  {
   "cell_type": "code",
   "execution_count": 29,
   "metadata": {
    "collapsed": false
   },
   "outputs": [
    {
     "data": {
      "text/plain": [
       "[]"
      ]
     },
     "execution_count": 29,
     "metadata": {},
     "output_type": "execute_result"
    }
   ],
   "source": [
    "[i for i in df.columns if i not in meta['Fecal SampleID*'].values]"
   ]
  },
  {
   "cell_type": "markdown",
   "metadata": {},
   "source": [
    "Great, all of the samples that we have data for also have metadata (I think this is obvious from which files I pulled down from the ENA - but still, that also means that no samples failed processing woop!)"
   ]
  },
  {
   "cell_type": "code",
   "execution_count": 30,
   "metadata": {
    "collapsed": true
   },
   "outputs": [],
   "source": [
    "samples = df.columns.tolist()\n",
    "meta['sample_id'] = meta['Fecal SampleID*']\n",
    "meta = meta.query('sample_id == @samples')"
   ]
  },
  {
   "cell_type": "code",
   "execution_count": 31,
   "metadata": {
    "collapsed": false
   },
   "outputs": [
    {
     "data": {
      "text/plain": [
       "Group description\n",
       "a. Human fecal cholera study V4-16S rRNA sequencing    236\n",
       "g. Healthy children controls V4-16S rRNA sequencing    238\n",
       "dtype: int64"
      ]
     },
     "execution_count": 31,
     "metadata": {},
     "output_type": "execute_result"
    }
   ],
   "source": [
    "meta.groupby('Group description').size()"
   ]
  },
  {
   "cell_type": "markdown",
   "metadata": {},
   "source": [
    "### Add some wrangled metadata categories"
   ]
  },
  {
   "cell_type": "code",
   "execution_count": 32,
   "metadata": {
    "collapsed": false
   },
   "outputs": [],
   "source": [
    "# Add disease label. \n",
    "# Group A children are coded in the sample ID\n",
    "a_group = meta['Group description'].str.startswith('a')\n",
    "meta.loc[a_group, 'disease'] = meta.loc[a_group, 'sample_id'].str.split('.').str[1]\n",
    "\n",
    "# Group G children are all healthy\n",
    "g_group = meta['Group description'].str.startswith('g')\n",
    "meta.loc[g_group, 'disease'] = 'healthy'"
   ]
  },
  {
   "cell_type": "code",
   "execution_count": 33,
   "metadata": {
    "collapsed": false
   },
   "outputs": [],
   "source": [
    "# Add day\n",
    "# Group G is coded in sample ID, but is in months\n",
    "meta.loc[g_group, 'day'] = meta.loc[g_group, 'sample_id'].str.split('.').str[-1].str[1:].astype(float)*30"
   ]
  },
  {
   "cell_type": "code",
   "execution_count": 34,
   "metadata": {
    "collapsed": false
   },
   "outputs": [],
   "source": [
    "# Group A day is coded in sample ID\n",
    "# The diarrheal period goes from zero to N days, with the last sample being coded \"end\"\n",
    "# Then the recovery samples are dNNN\n",
    "\n",
    "for subj, subdf in meta.loc[a_group].groupby('Subject ID'):\n",
    "    tmp = subdf['Fecal SampleID*'].tolist()\n",
    "    tmp_days = []\n",
    "    day = 0\n",
    "    last_diarrhea = 0\n",
    "    for i in tmp:\n",
    "        if i.split('.')[1] == \"diarrhea\":\n",
    "            if i.split('.')[-1] != \"end\":\n",
    "                day = float(i.split('.')[-1])\n",
    "            else:\n",
    "                day += 1\n",
    "        elif i.split('.')[1] == \"recovery\":\n",
    "            # Grab final day\n",
    "            if last_diarrhea == 0:\n",
    "                last_diarrhea = day\n",
    "            day = last_diarrhea + float(i.split('.')[-1][1:])\n",
    "        tmp_days.append(day)\n",
    "    meta.loc[subdf.index, 'day'] = tmp_days"
   ]
  },
  {
   "cell_type": "markdown",
   "metadata": {},
   "source": [
    "Okay, but actually re-code all recovery samples to be the \"same\" time point (equal to the first one... I guess?)"
   ]
  },
  {
   "cell_type": "code",
   "execution_count": 35,
   "metadata": {
    "collapsed": false
   },
   "outputs": [
    {
     "data": {
      "text/plain": [
       "Subject ID\n",
       "A    107.0\n",
       "B     61.0\n",
       "C    118.0\n",
       "D     23.0\n",
       "E     71.0\n",
       "F     39.0\n",
       "G     31.0\n",
       "Name: day, dtype: float64"
      ]
     },
     "execution_count": 35,
     "metadata": {},
     "output_type": "execute_result"
    }
   ],
   "source": [
    "meta.query('disease == \"recovery\"').groupby('Subject ID').min()['day']"
   ]
  },
  {
   "cell_type": "code",
   "execution_count": 36,
   "metadata": {
    "collapsed": false
   },
   "outputs": [],
   "source": [
    "for subj, subdf in meta.loc[a_group].groupby('Subject ID'):\n",
    "    first_recovery = subdf.query('disease == \"recovery\"').min()['day']\n",
    "    meta.loc[subdf.query('disease == \"recovery\"').index, 'day'] = first_recovery"
   ]
  },
  {
   "cell_type": "code",
   "execution_count": 37,
   "metadata": {
    "collapsed": false
   },
   "outputs": [
    {
     "data": {
      "text/plain": [
       "Subject ID\n",
       "A    107.0\n",
       "B     61.0\n",
       "C    118.0\n",
       "D     23.0\n",
       "E     71.0\n",
       "F     39.0\n",
       "G     31.0\n",
       "Name: day, dtype: float64"
      ]
     },
     "execution_count": 37,
     "metadata": {},
     "output_type": "execute_result"
    }
   ],
   "source": [
    "meta.query('disease == \"recovery\"').groupby('Subject ID').min()['day']"
   ]
  },
  {
   "cell_type": "code",
   "execution_count": 38,
   "metadata": {
    "collapsed": false
   },
   "outputs": [
    {
     "data": {
      "text/plain": [
       "Subject ID\n",
       "A    107.0\n",
       "B     61.0\n",
       "C    118.0\n",
       "D     23.0\n",
       "E     71.0\n",
       "F     39.0\n",
       "G     31.0\n",
       "Name: day, dtype: float64"
      ]
     },
     "execution_count": 38,
     "metadata": {},
     "output_type": "execute_result"
    }
   ],
   "source": [
    "meta.query('disease == \"recovery\"').groupby('Subject ID').max()['day']"
   ]
  },
  {
   "cell_type": "code",
   "execution_count": 39,
   "metadata": {
    "collapsed": false
   },
   "outputs": [
    {
     "data": {
      "text/html": [
       "<div>\n",
       "<style scoped>\n",
       "    .dataframe tbody tr th:only-of-type {\n",
       "        vertical-align: middle;\n",
       "    }\n",
       "\n",
       "    .dataframe tbody tr th {\n",
       "        vertical-align: top;\n",
       "    }\n",
       "\n",
       "    .dataframe thead th {\n",
       "        text-align: right;\n",
       "    }\n",
       "</style>\n",
       "<table border=\"1\" class=\"dataframe\">\n",
       "  <thead>\n",
       "    <tr style=\"text-align: right;\">\n",
       "      <th></th>\n",
       "      <th>sample_id</th>\n",
       "      <th>disease</th>\n",
       "      <th>day</th>\n",
       "    </tr>\n",
       "  </thead>\n",
       "  <tbody>\n",
       "    <tr>\n",
       "      <th>0</th>\n",
       "      <td>A.diarrhea.016</td>\n",
       "      <td>diarrhea</td>\n",
       "      <td>16.0</td>\n",
       "    </tr>\n",
       "    <tr>\n",
       "      <th>1</th>\n",
       "      <td>A.diarrhea.020</td>\n",
       "      <td>diarrhea</td>\n",
       "      <td>20.0</td>\n",
       "    </tr>\n",
       "    <tr>\n",
       "      <th>2</th>\n",
       "      <td>A.diarrhea.021</td>\n",
       "      <td>diarrhea</td>\n",
       "      <td>21.0</td>\n",
       "    </tr>\n",
       "    <tr>\n",
       "      <th>3</th>\n",
       "      <td>A.diarrhea.024</td>\n",
       "      <td>diarrhea</td>\n",
       "      <td>24.0</td>\n",
       "    </tr>\n",
       "    <tr>\n",
       "      <th>4</th>\n",
       "      <td>A.diarrhea.027</td>\n",
       "      <td>diarrhea</td>\n",
       "      <td>27.0</td>\n",
       "    </tr>\n",
       "  </tbody>\n",
       "</table>\n",
       "</div>"
      ],
      "text/plain": [
       "        sample_id   disease   day\n",
       "0  A.diarrhea.016  diarrhea  16.0\n",
       "1  A.diarrhea.020  diarrhea  20.0\n",
       "2  A.diarrhea.021  diarrhea  21.0\n",
       "3  A.diarrhea.024  diarrhea  24.0\n",
       "4  A.diarrhea.027  diarrhea  27.0"
      ]
     },
     "execution_count": 39,
     "metadata": {},
     "output_type": "execute_result"
    }
   ],
   "source": [
    "meta[['sample_id', 'disease', 'day']].head()"
   ]
  },
  {
   "cell_type": "code",
   "execution_count": 40,
   "metadata": {
    "collapsed": false
   },
   "outputs": [
    {
     "data": {
      "text/html": [
       "<div>\n",
       "<style scoped>\n",
       "    .dataframe tbody tr th:only-of-type {\n",
       "        vertical-align: middle;\n",
       "    }\n",
       "\n",
       "    .dataframe tbody tr th {\n",
       "        vertical-align: top;\n",
       "    }\n",
       "\n",
       "    .dataframe thead th {\n",
       "        text-align: right;\n",
       "    }\n",
       "</style>\n",
       "<table border=\"1\" class=\"dataframe\">\n",
       "  <thead>\n",
       "    <tr style=\"text-align: right;\">\n",
       "      <th></th>\n",
       "      <th>sample_id</th>\n",
       "      <th>disease</th>\n",
       "      <th>day</th>\n",
       "    </tr>\n",
       "  </thead>\n",
       "  <tbody>\n",
       "    <tr>\n",
       "      <th>703</th>\n",
       "      <td>Bgsng8169.m32</td>\n",
       "      <td>healthy</td>\n",
       "      <td>960.0</td>\n",
       "    </tr>\n",
       "    <tr>\n",
       "      <th>704</th>\n",
       "      <td>Bgsng8169.m33</td>\n",
       "      <td>healthy</td>\n",
       "      <td>990.0</td>\n",
       "    </tr>\n",
       "    <tr>\n",
       "      <th>705</th>\n",
       "      <td>Bgsng8169.m34</td>\n",
       "      <td>healthy</td>\n",
       "      <td>1020.0</td>\n",
       "    </tr>\n",
       "    <tr>\n",
       "      <th>706</th>\n",
       "      <td>Bgsng8169.m35</td>\n",
       "      <td>healthy</td>\n",
       "      <td>1050.0</td>\n",
       "    </tr>\n",
       "    <tr>\n",
       "      <th>707</th>\n",
       "      <td>Bgsng8169.m36</td>\n",
       "      <td>healthy</td>\n",
       "      <td>1080.0</td>\n",
       "    </tr>\n",
       "  </tbody>\n",
       "</table>\n",
       "</div>"
      ],
      "text/plain": [
       "         sample_id  disease     day\n",
       "703  Bgsng8169.m32  healthy   960.0\n",
       "704  Bgsng8169.m33  healthy   990.0\n",
       "705  Bgsng8169.m34  healthy  1020.0\n",
       "706  Bgsng8169.m35  healthy  1050.0\n",
       "707  Bgsng8169.m36  healthy  1080.0"
      ]
     },
     "execution_count": 40,
     "metadata": {},
     "output_type": "execute_result"
    }
   ],
   "source": [
    "meta[['sample_id', 'disease', 'day']].tail()"
   ]
  },
  {
   "cell_type": "markdown",
   "metadata": {},
   "source": [
    "# Data investigation\n",
    "\n",
    "Ok fine, before PCA let's check out the OTU table we made..."
   ]
  },
  {
   "cell_type": "code",
   "execution_count": 41,
   "metadata": {
    "collapsed": false
   },
   "outputs": [
    {
     "data": {
      "text/plain": [
       "<matplotlib.text.Text at 0x111647410>"
      ]
     },
     "execution_count": 41,
     "metadata": {},
     "output_type": "execute_result"
    },
    {
     "data": {
      "image/png": "[encoded data removed]",
      "text/plain": [
       "<matplotlib.figure.Figure at 0x106a95ad0>"
      ]
     },
     "metadata": {},
     "output_type": "display_data"
    }
   ],
   "source": [
    "# Reads per sample\n",
    "plt.hist(np.log10(df.sum() + 1))\n",
    "plt.title('log10 Reads per sample')"
   ]
  },
  {
   "cell_type": "markdown",
   "metadata": {},
   "source": [
    "Looks like min sample has 10,000 reads (this is same as in the David dataset... an artifact of DADA2, or just two deeply sequenced datasets...?)"
   ]
  },
  {
   "cell_type": "code",
   "execution_count": 42,
   "metadata": {
    "collapsed": false
   },
   "outputs": [
    {
     "data": {
      "text/plain": [
       "<matplotlib.text.Text at 0x1119aebd0>"
      ]
     },
     "execution_count": 42,
     "metadata": {},
     "output_type": "execute_result"
    },
    {
     "data": {
      "image/png": "[encoded data removed]",
      "text/plain": [
       "<matplotlib.figure.Figure at 0x1116f62d0>"
      ]
     },
     "metadata": {},
     "output_type": "display_data"
    }
   ],
   "source": [
    "plt.hist(np.log10(df.sum(axis=1) + 1))\n",
    "plt.title('log10 Reads per OTU')"
   ]
  },
  {
   "cell_type": "markdown",
   "metadata": {},
   "source": [
    "# PCA!"
   ]
  },
  {
   "cell_type": "code",
   "execution_count": 43,
   "metadata": {
    "collapsed": false
   },
   "outputs": [
    {
     "data": {
      "text/html": [
       "<div>\n",
       "<style scoped>\n",
       "    .dataframe tbody tr th:only-of-type {\n",
       "        vertical-align: middle;\n",
       "    }\n",
       "\n",
       "    .dataframe tbody tr th {\n",
       "        vertical-align: top;\n",
       "    }\n",
       "\n",
       "    .dataframe thead th {\n",
       "        text-align: right;\n",
       "    }\n",
       "</style>\n",
       "<table border=\"1\" class=\"dataframe\">\n",
       "  <thead>\n",
       "    <tr style=\"text-align: right;\">\n",
       "      <th>#OTU ID</th>\n",
       "      <th>bbe1b6abd7b8765bdb44601cea259ef0</th>\n",
       "      <th>c90c3a8c4950b89e6e285afa2c05b3e3</th>\n",
       "      <th>ddc7466d073c844eeb86db871e43f205</th>\n",
       "      <th>6bf1a63f1d1b1de9479fb487edb3c077</th>\n",
       "      <th>7e7a16ce216f4ed1d626e25a0f144911</th>\n",
       "      <th>bda9644fa1bec6c0e75cee105e869d42</th>\n",
       "      <th>dac5ca8f20f8291f145c1fd866681218</th>\n",
       "      <th>e6c455846421d3fddd93b1960f78ab08</th>\n",
       "      <th>de4489de0ed2c7a9a8f449164b335fea</th>\n",
       "      <th>e61ce464762adef827e605922b2946e5</th>\n",
       "      <th>...</th>\n",
       "      <th>eeacf6793e9c483cae7f48d295f0cf66</th>\n",
       "      <th>7a38d0bda720a66891722966f63cf6b7</th>\n",
       "      <th>cc9805d9b9ed24f88d0443a69f6029e6</th>\n",
       "      <th>af982c4332b8714c1e48a63ad9588ac7</th>\n",
       "      <th>0a7df920b573f927d17cbd067b9c6fd5</th>\n",
       "      <th>759fe850f2ce516d28a81d9022e64558</th>\n",
       "      <th>fdd1731a9695493c09fd0dac29c57940</th>\n",
       "      <th>19e05c133a36c8fad1b8aae68b8db0e2</th>\n",
       "      <th>29b43dab144ef0ad9c96b826c1af057a</th>\n",
       "      <th>93c8179db48df83d4d5f50e786a4fc3d</th>\n",
       "    </tr>\n",
       "  </thead>\n",
       "  <tbody>\n",
       "    <tr>\n",
       "      <th>A.diarrhea.062</th>\n",
       "      <td>10645.0</td>\n",
       "      <td>2709.0</td>\n",
       "      <td>1002.0</td>\n",
       "      <td>626.0</td>\n",
       "      <td>178.0</td>\n",
       "      <td>161.0</td>\n",
       "      <td>69.0</td>\n",
       "      <td>67.0</td>\n",
       "      <td>35.0</td>\n",
       "      <td>16.0</td>\n",
       "      <td>...</td>\n",
       "      <td>0.0</td>\n",
       "      <td>0.0</td>\n",
       "      <td>0.0</td>\n",
       "      <td>0.0</td>\n",
       "      <td>0.0</td>\n",
       "      <td>0.0</td>\n",
       "      <td>0.0</td>\n",
       "      <td>0.0</td>\n",
       "      <td>0.0</td>\n",
       "      <td>0.0</td>\n",
       "    </tr>\n",
       "    <tr>\n",
       "      <th>Bgsng7052.m26</th>\n",
       "      <td>15.0</td>\n",
       "      <td>74.0</td>\n",
       "      <td>0.0</td>\n",
       "      <td>4.0</td>\n",
       "      <td>0.0</td>\n",
       "      <td>0.0</td>\n",
       "      <td>0.0</td>\n",
       "      <td>2.0</td>\n",
       "      <td>0.0</td>\n",
       "      <td>0.0</td>\n",
       "      <td>...</td>\n",
       "      <td>0.0</td>\n",
       "      <td>0.0</td>\n",
       "      <td>0.0</td>\n",
       "      <td>0.0</td>\n",
       "      <td>0.0</td>\n",
       "      <td>0.0</td>\n",
       "      <td>0.0</td>\n",
       "      <td>0.0</td>\n",
       "      <td>0.0</td>\n",
       "      <td>0.0</td>\n",
       "    </tr>\n",
       "    <tr>\n",
       "      <th>Bgsng7071.m32</th>\n",
       "      <td>0.0</td>\n",
       "      <td>3.0</td>\n",
       "      <td>0.0</td>\n",
       "      <td>447.0</td>\n",
       "      <td>0.0</td>\n",
       "      <td>0.0</td>\n",
       "      <td>0.0</td>\n",
       "      <td>4.0</td>\n",
       "      <td>0.0</td>\n",
       "      <td>0.0</td>\n",
       "      <td>...</td>\n",
       "      <td>0.0</td>\n",
       "      <td>0.0</td>\n",
       "      <td>0.0</td>\n",
       "      <td>0.0</td>\n",
       "      <td>0.0</td>\n",
       "      <td>0.0</td>\n",
       "      <td>0.0</td>\n",
       "      <td>0.0</td>\n",
       "      <td>0.0</td>\n",
       "      <td>0.0</td>\n",
       "    </tr>\n",
       "    <tr>\n",
       "      <th>Bgsng7150.m36</th>\n",
       "      <td>400.0</td>\n",
       "      <td>981.0</td>\n",
       "      <td>0.0</td>\n",
       "      <td>105.0</td>\n",
       "      <td>0.0</td>\n",
       "      <td>6.0</td>\n",
       "      <td>0.0</td>\n",
       "      <td>0.0</td>\n",
       "      <td>0.0</td>\n",
       "      <td>0.0</td>\n",
       "      <td>...</td>\n",
       "      <td>0.0</td>\n",
       "      <td>0.0</td>\n",
       "      <td>0.0</td>\n",
       "      <td>0.0</td>\n",
       "      <td>0.0</td>\n",
       "      <td>0.0</td>\n",
       "      <td>0.0</td>\n",
       "      <td>0.0</td>\n",
       "      <td>0.0</td>\n",
       "      <td>0.0</td>\n",
       "    </tr>\n",
       "    <tr>\n",
       "      <th>Bgsng7192.m28</th>\n",
       "      <td>144.0</td>\n",
       "      <td>1259.0</td>\n",
       "      <td>0.0</td>\n",
       "      <td>234.0</td>\n",
       "      <td>10.0</td>\n",
       "      <td>1.0</td>\n",
       "      <td>2.0</td>\n",
       "      <td>0.0</td>\n",
       "      <td>0.0</td>\n",
       "      <td>10.0</td>\n",
       "      <td>...</td>\n",
       "      <td>0.0</td>\n",
       "      <td>0.0</td>\n",
       "      <td>0.0</td>\n",
       "      <td>0.0</td>\n",
       "      <td>0.0</td>\n",
       "      <td>0.0</td>\n",
       "      <td>0.0</td>\n",
       "      <td>0.0</td>\n",
       "      <td>0.0</td>\n",
       "      <td>0.0</td>\n",
       "    </tr>\n",
       "  </tbody>\n",
       "</table>\n",
       "<p>5 rows × 2851 columns</p>\n",
       "</div>"
      ],
      "text/plain": [
       "#OTU ID         bbe1b6abd7b8765bdb44601cea259ef0  \\\n",
       "A.diarrhea.062                           10645.0   \n",
       "Bgsng7052.m26                               15.0   \n",
       "Bgsng7071.m32                                0.0   \n",
       "Bgsng7150.m36                              400.0   \n",
       "Bgsng7192.m28                              144.0   \n",
       "\n",
       "#OTU ID         c90c3a8c4950b89e6e285afa2c05b3e3  \\\n",
       "A.diarrhea.062                            2709.0   \n",
       "Bgsng7052.m26                               74.0   \n",
       "Bgsng7071.m32                                3.0   \n",
       "Bgsng7150.m36                              981.0   \n",
       "Bgsng7192.m28                             1259.0   \n",
       "\n",
       "#OTU ID         ddc7466d073c844eeb86db871e43f205  \\\n",
       "A.diarrhea.062                            1002.0   \n",
       "Bgsng7052.m26                                0.0   \n",
       "Bgsng7071.m32                                0.0   \n",
       "Bgsng7150.m36                                0.0   \n",
       "Bgsng7192.m28                                0.0   \n",
       "\n",
       "#OTU ID         6bf1a63f1d1b1de9479fb487edb3c077  \\\n",
       "A.diarrhea.062                             626.0   \n",
       "Bgsng7052.m26                                4.0   \n",
       "Bgsng7071.m32                              447.0   \n",
       "Bgsng7150.m36                              105.0   \n",
       "Bgsng7192.m28                              234.0   \n",
       "\n",
       "#OTU ID         7e7a16ce216f4ed1d626e25a0f144911  \\\n",
       "A.diarrhea.062                             178.0   \n",
       "Bgsng7052.m26                                0.0   \n",
       "Bgsng7071.m32                                0.0   \n",
       "Bgsng7150.m36                                0.0   \n",
       "Bgsng7192.m28                               10.0   \n",
       "\n",
       "#OTU ID         bda9644fa1bec6c0e75cee105e869d42  \\\n",
       "A.diarrhea.062                             161.0   \n",
       "Bgsng7052.m26                                0.0   \n",
       "Bgsng7071.m32                                0.0   \n",
       "Bgsng7150.m36                                6.0   \n",
       "Bgsng7192.m28                                1.0   \n",
       "\n",
       "#OTU ID         dac5ca8f20f8291f145c1fd866681218  \\\n",
       "A.diarrhea.062                              69.0   \n",
       "Bgsng7052.m26                                0.0   \n",
       "Bgsng7071.m32                                0.0   \n",
       "Bgsng7150.m36                                0.0   \n",
       "Bgsng7192.m28                                2.0   \n",
       "\n",
       "#OTU ID         e6c455846421d3fddd93b1960f78ab08  \\\n",
       "A.diarrhea.062                              67.0   \n",
       "Bgsng7052.m26                                2.0   \n",
       "Bgsng7071.m32                                4.0   \n",
       "Bgsng7150.m36                                0.0   \n",
       "Bgsng7192.m28                                0.0   \n",
       "\n",
       "#OTU ID         de4489de0ed2c7a9a8f449164b335fea  \\\n",
       "A.diarrhea.062                              35.0   \n",
       "Bgsng7052.m26                                0.0   \n",
       "Bgsng7071.m32                                0.0   \n",
       "Bgsng7150.m36                                0.0   \n",
       "Bgsng7192.m28                                0.0   \n",
       "\n",
       "#OTU ID         e61ce464762adef827e605922b2946e5  \\\n",
       "A.diarrhea.062                              16.0   \n",
       "Bgsng7052.m26                                0.0   \n",
       "Bgsng7071.m32                                0.0   \n",
       "Bgsng7150.m36                                0.0   \n",
       "Bgsng7192.m28                               10.0   \n",
       "\n",
       "#OTU ID                       ...                 \\\n",
       "A.diarrhea.062                ...                  \n",
       "Bgsng7052.m26                 ...                  \n",
       "Bgsng7071.m32                 ...                  \n",
       "Bgsng7150.m36                 ...                  \n",
       "Bgsng7192.m28                 ...                  \n",
       "\n",
       "#OTU ID         eeacf6793e9c483cae7f48d295f0cf66  \\\n",
       "A.diarrhea.062                               0.0   \n",
       "Bgsng7052.m26                                0.0   \n",
       "Bgsng7071.m32                                0.0   \n",
       "Bgsng7150.m36                                0.0   \n",
       "Bgsng7192.m28                                0.0   \n",
       "\n",
       "#OTU ID         7a38d0bda720a66891722966f63cf6b7  \\\n",
       "A.diarrhea.062                               0.0   \n",
       "Bgsng7052.m26                                0.0   \n",
       "Bgsng7071.m32                                0.0   \n",
       "Bgsng7150.m36                                0.0   \n",
       "Bgsng7192.m28                                0.0   \n",
       "\n",
       "#OTU ID         cc9805d9b9ed24f88d0443a69f6029e6  \\\n",
       "A.diarrhea.062                               0.0   \n",
       "Bgsng7052.m26                                0.0   \n",
       "Bgsng7071.m32                                0.0   \n",
       "Bgsng7150.m36                                0.0   \n",
       "Bgsng7192.m28                                0.0   \n",
       "\n",
       "#OTU ID         af982c4332b8714c1e48a63ad9588ac7  \\\n",
       "A.diarrhea.062                               0.0   \n",
       "Bgsng7052.m26                                0.0   \n",
       "Bgsng7071.m32                                0.0   \n",
       "Bgsng7150.m36                                0.0   \n",
       "Bgsng7192.m28                                0.0   \n",
       "\n",
       "#OTU ID         0a7df920b573f927d17cbd067b9c6fd5  \\\n",
       "A.diarrhea.062                               0.0   \n",
       "Bgsng7052.m26                                0.0   \n",
       "Bgsng7071.m32                                0.0   \n",
       "Bgsng7150.m36                                0.0   \n",
       "Bgsng7192.m28                                0.0   \n",
       "\n",
       "#OTU ID         759fe850f2ce516d28a81d9022e64558  \\\n",
       "A.diarrhea.062                               0.0   \n",
       "Bgsng7052.m26                                0.0   \n",
       "Bgsng7071.m32                                0.0   \n",
       "Bgsng7150.m36                                0.0   \n",
       "Bgsng7192.m28                                0.0   \n",
       "\n",
       "#OTU ID         fdd1731a9695493c09fd0dac29c57940  \\\n",
       "A.diarrhea.062                               0.0   \n",
       "Bgsng7052.m26                                0.0   \n",
       "Bgsng7071.m32                                0.0   \n",
       "Bgsng7150.m36                                0.0   \n",
       "Bgsng7192.m28                                0.0   \n",
       "\n",
       "#OTU ID         19e05c133a36c8fad1b8aae68b8db0e2  \\\n",
       "A.diarrhea.062                               0.0   \n",
       "Bgsng7052.m26                                0.0   \n",
       "Bgsng7071.m32                                0.0   \n",
       "Bgsng7150.m36                                0.0   \n",
       "Bgsng7192.m28                                0.0   \n",
       "\n",
       "#OTU ID         29b43dab144ef0ad9c96b826c1af057a  \\\n",
       "A.diarrhea.062                               0.0   \n",
       "Bgsng7052.m26                                0.0   \n",
       "Bgsng7071.m32                                0.0   \n",
       "Bgsng7150.m36                                0.0   \n",
       "Bgsng7192.m28                                0.0   \n",
       "\n",
       "#OTU ID         93c8179db48df83d4d5f50e786a4fc3d  \n",
       "A.diarrhea.062                               0.0  \n",
       "Bgsng7052.m26                                0.0  \n",
       "Bgsng7071.m32                                0.0  \n",
       "Bgsng7150.m36                                0.0  \n",
       "Bgsng7192.m28                                0.0  \n",
       "\n",
       "[5 rows x 2851 columns]"
      ]
     },
     "execution_count": 43,
     "metadata": {},
     "output_type": "execute_result"
    }
   ],
   "source": [
    "# Rows should contain samples, columns should have OTUs\n",
    "df = df.T\n",
    "df.head()"
   ]
  },
  {
   "cell_type": "code",
   "execution_count": 44,
   "metadata": {
    "collapsed": true
   },
   "outputs": [],
   "source": [
    "# Calculate beta diversity\n",
    "metric = 'braycurtis'\n",
    "counts = df.astype(int).values\n",
    "sample_ids = df.index.tolist()\n",
    "\n",
    "results = beta_diversity(\n",
    "    metric=metric,\n",
    "    counts=counts,\n",
    "    ids=sample_ids)"
   ]
  },
  {
   "cell_type": "code",
   "execution_count": 45,
   "metadata": {
    "collapsed": false
   },
   "outputs": [
    {
     "data": {
      "text/html": [
       "<div>\n",
       "<style scoped>\n",
       "    .dataframe tbody tr th:only-of-type {\n",
       "        vertical-align: middle;\n",
       "    }\n",
       "\n",
       "    .dataframe tbody tr th {\n",
       "        vertical-align: top;\n",
       "    }\n",
       "\n",
       "    .dataframe thead th {\n",
       "        text-align: right;\n",
       "    }\n",
       "</style>\n",
       "<table border=\"1\" class=\"dataframe\">\n",
       "  <thead>\n",
       "    <tr style=\"text-align: right;\">\n",
       "      <th></th>\n",
       "      <th>A.diarrhea.062</th>\n",
       "      <th>Bgsng7052.m26</th>\n",
       "      <th>Bgsng7071.m32</th>\n",
       "      <th>Bgsng7150.m36</th>\n",
       "      <th>Bgsng7192.m28</th>\n",
       "      <th>G.recovery.d003</th>\n",
       "      <th>Bgsng7204.m29</th>\n",
       "      <th>G.diarrhea.026</th>\n",
       "      <th>G.recovery.d037</th>\n",
       "      <th>A.diarrhea.098</th>\n",
       "      <th>...</th>\n",
       "      <th>A.recovery.d014</th>\n",
       "      <th>C.recovery.d009</th>\n",
       "      <th>Bgsng7090.m31</th>\n",
       "      <th>Bgsng7150.m31</th>\n",
       "      <th>Bgsng7128.m27</th>\n",
       "      <th>Bgsng7192.m25</th>\n",
       "      <th>C.recovery.d052</th>\n",
       "      <th>F.diarrhea.020</th>\n",
       "      <th>A.recovery.d004</th>\n",
       "      <th>Bgsng7052.m25</th>\n",
       "    </tr>\n",
       "  </thead>\n",
       "  <tbody>\n",
       "    <tr>\n",
       "      <th>A.diarrhea.062</th>\n",
       "      <td>0.000000</td>\n",
       "      <td>0.996578</td>\n",
       "      <td>0.982653</td>\n",
       "      <td>0.942008</td>\n",
       "      <td>0.926796</td>\n",
       "      <td>0.832563</td>\n",
       "      <td>0.972883</td>\n",
       "      <td>0.829880</td>\n",
       "      <td>0.962042</td>\n",
       "      <td>0.796583</td>\n",
       "      <td>...</td>\n",
       "      <td>0.994822</td>\n",
       "      <td>0.895437</td>\n",
       "      <td>0.981014</td>\n",
       "      <td>0.973414</td>\n",
       "      <td>0.999654</td>\n",
       "      <td>0.894065</td>\n",
       "      <td>0.915262</td>\n",
       "      <td>0.785161</td>\n",
       "      <td>0.887986</td>\n",
       "      <td>0.977227</td>\n",
       "    </tr>\n",
       "    <tr>\n",
       "      <th>Bgsng7052.m26</th>\n",
       "      <td>0.996578</td>\n",
       "      <td>0.000000</td>\n",
       "      <td>0.948847</td>\n",
       "      <td>0.764805</td>\n",
       "      <td>0.706233</td>\n",
       "      <td>0.880897</td>\n",
       "      <td>0.716857</td>\n",
       "      <td>0.996198</td>\n",
       "      <td>0.926103</td>\n",
       "      <td>0.994091</td>\n",
       "      <td>...</td>\n",
       "      <td>0.991903</td>\n",
       "      <td>0.901612</td>\n",
       "      <td>0.585485</td>\n",
       "      <td>0.834728</td>\n",
       "      <td>0.663854</td>\n",
       "      <td>0.718459</td>\n",
       "      <td>0.809730</td>\n",
       "      <td>0.997050</td>\n",
       "      <td>0.938902</td>\n",
       "      <td>0.920169</td>\n",
       "    </tr>\n",
       "    <tr>\n",
       "      <th>Bgsng7071.m32</th>\n",
       "      <td>0.982653</td>\n",
       "      <td>0.948847</td>\n",
       "      <td>0.000000</td>\n",
       "      <td>0.849999</td>\n",
       "      <td>0.871269</td>\n",
       "      <td>0.942544</td>\n",
       "      <td>0.894267</td>\n",
       "      <td>0.976646</td>\n",
       "      <td>0.835920</td>\n",
       "      <td>0.980071</td>\n",
       "      <td>...</td>\n",
       "      <td>0.978230</td>\n",
       "      <td>0.957334</td>\n",
       "      <td>0.848129</td>\n",
       "      <td>0.740590</td>\n",
       "      <td>0.940232</td>\n",
       "      <td>0.960938</td>\n",
       "      <td>0.952818</td>\n",
       "      <td>0.982523</td>\n",
       "      <td>0.966983</td>\n",
       "      <td>0.949307</td>\n",
       "    </tr>\n",
       "    <tr>\n",
       "      <th>Bgsng7150.m36</th>\n",
       "      <td>0.942008</td>\n",
       "      <td>0.764805</td>\n",
       "      <td>0.849999</td>\n",
       "      <td>0.000000</td>\n",
       "      <td>0.701295</td>\n",
       "      <td>0.824525</td>\n",
       "      <td>0.704041</td>\n",
       "      <td>0.953784</td>\n",
       "      <td>0.825666</td>\n",
       "      <td>0.953093</td>\n",
       "      <td>...</td>\n",
       "      <td>0.898827</td>\n",
       "      <td>0.828981</td>\n",
       "      <td>0.592324</td>\n",
       "      <td>0.723973</td>\n",
       "      <td>0.882794</td>\n",
       "      <td>0.760930</td>\n",
       "      <td>0.850623</td>\n",
       "      <td>0.956621</td>\n",
       "      <td>0.912503</td>\n",
       "      <td>0.938858</td>\n",
       "    </tr>\n",
       "    <tr>\n",
       "      <th>Bgsng7192.m28</th>\n",
       "      <td>0.926796</td>\n",
       "      <td>0.706233</td>\n",
       "      <td>0.871269</td>\n",
       "      <td>0.701295</td>\n",
       "      <td>0.000000</td>\n",
       "      <td>0.878226</td>\n",
       "      <td>0.610443</td>\n",
       "      <td>0.943048</td>\n",
       "      <td>0.877047</td>\n",
       "      <td>0.921646</td>\n",
       "      <td>...</td>\n",
       "      <td>0.985956</td>\n",
       "      <td>0.846037</td>\n",
       "      <td>0.723075</td>\n",
       "      <td>0.828576</td>\n",
       "      <td>0.776288</td>\n",
       "      <td>0.604974</td>\n",
       "      <td>0.784244</td>\n",
       "      <td>0.930551</td>\n",
       "      <td>0.865931</td>\n",
       "      <td>0.756950</td>\n",
       "    </tr>\n",
       "  </tbody>\n",
       "</table>\n",
       "<p>5 rows × 474 columns</p>\n",
       "</div>"
      ],
      "text/plain": [
       "                A.diarrhea.062  Bgsng7052.m26  Bgsng7071.m32  Bgsng7150.m36  \\\n",
       "A.diarrhea.062        0.000000       0.996578       0.982653       0.942008   \n",
       "Bgsng7052.m26         0.996578       0.000000       0.948847       0.764805   \n",
       "Bgsng7071.m32         0.982653       0.948847       0.000000       0.849999   \n",
       "Bgsng7150.m36         0.942008       0.764805       0.849999       0.000000   \n",
       "Bgsng7192.m28         0.926796       0.706233       0.871269       0.701295   \n",
       "\n",
       "                Bgsng7192.m28  G.recovery.d003  Bgsng7204.m29  G.diarrhea.026  \\\n",
       "A.diarrhea.062       0.926796         0.832563       0.972883        0.829880   \n",
       "Bgsng7052.m26        0.706233         0.880897       0.716857        0.996198   \n",
       "Bgsng7071.m32        0.871269         0.942544       0.894267        0.976646   \n",
       "Bgsng7150.m36        0.701295         0.824525       0.704041        0.953784   \n",
       "Bgsng7192.m28        0.000000         0.878226       0.610443        0.943048   \n",
       "\n",
       "                G.recovery.d037  A.diarrhea.098      ...        \\\n",
       "A.diarrhea.062         0.962042        0.796583      ...         \n",
       "Bgsng7052.m26          0.926103        0.994091      ...         \n",
       "Bgsng7071.m32          0.835920        0.980071      ...         \n",
       "Bgsng7150.m36          0.825666        0.953093      ...         \n",
       "Bgsng7192.m28          0.877047        0.921646      ...         \n",
       "\n",
       "                A.recovery.d014  C.recovery.d009  Bgsng7090.m31  \\\n",
       "A.diarrhea.062         0.994822         0.895437       0.981014   \n",
       "Bgsng7052.m26          0.991903         0.901612       0.585485   \n",
       "Bgsng7071.m32          0.978230         0.957334       0.848129   \n",
       "Bgsng7150.m36          0.898827         0.828981       0.592324   \n",
       "Bgsng7192.m28          0.985956         0.846037       0.723075   \n",
       "\n",
       "                Bgsng7150.m31  Bgsng7128.m27  Bgsng7192.m25  C.recovery.d052  \\\n",
       "A.diarrhea.062       0.973414       0.999654       0.894065         0.915262   \n",
       "Bgsng7052.m26        0.834728       0.663854       0.718459         0.809730   \n",
       "Bgsng7071.m32        0.740590       0.940232       0.960938         0.952818   \n",
       "Bgsng7150.m36        0.723973       0.882794       0.760930         0.850623   \n",
       "Bgsng7192.m28        0.828576       0.776288       0.604974         0.784244   \n",
       "\n",
       "                F.diarrhea.020  A.recovery.d004  Bgsng7052.m25  \n",
       "A.diarrhea.062        0.785161         0.887986       0.977227  \n",
       "Bgsng7052.m26         0.997050         0.938902       0.920169  \n",
       "Bgsng7071.m32         0.982523         0.966983       0.949307  \n",
       "Bgsng7150.m36         0.956621         0.912503       0.938858  \n",
       "Bgsng7192.m28         0.930551         0.865931       0.756950  \n",
       "\n",
       "[5 rows x 474 columns]"
      ]
     },
     "execution_count": 45,
     "metadata": {},
     "output_type": "execute_result"
    }
   ],
   "source": [
    "results.to_data_frame().head()"
   ]
  },
  {
   "cell_type": "code",
   "execution_count": 46,
   "metadata": {
    "collapsed": true
   },
   "outputs": [],
   "source": [
    "# Do PCA\n",
    "dada_pca = PCA(random_state=12345).fit(results.to_data_frame().values)\n",
    "ypca_dada = dada_pca.transform(results.to_data_frame().values)"
   ]
  },
  {
   "cell_type": "code",
   "execution_count": 47,
   "metadata": {
    "collapsed": false
   },
   "outputs": [
    {
     "data": {
      "text/plain": [
       "1.0"
      ]
     },
     "execution_count": 47,
     "metadata": {},
     "output_type": "execute_result"
    }
   ],
   "source": [
    "dada_pca.explained_variance_ratio_.sum()"
   ]
  },
  {
   "cell_type": "code",
   "execution_count": 48,
   "metadata": {
    "collapsed": false
   },
   "outputs": [
    {
     "data": {
      "text/html": [
       "<div>\n",
       "<style scoped>\n",
       "    .dataframe tbody tr th:only-of-type {\n",
       "        vertical-align: middle;\n",
       "    }\n",
       "\n",
       "    .dataframe tbody tr th {\n",
       "        vertical-align: top;\n",
       "    }\n",
       "\n",
       "    .dataframe thead th {\n",
       "        text-align: right;\n",
       "    }\n",
       "</style>\n",
       "<table border=\"1\" class=\"dataframe\">\n",
       "  <thead>\n",
       "    <tr style=\"text-align: right;\">\n",
       "      <th></th>\n",
       "      <th>sample</th>\n",
       "      <th>PC0</th>\n",
       "      <th>PC1</th>\n",
       "    </tr>\n",
       "  </thead>\n",
       "  <tbody>\n",
       "    <tr>\n",
       "      <th>0</th>\n",
       "      <td>A.diarrhea.062</td>\n",
       "      <td>1.849497</td>\n",
       "      <td>1.012835</td>\n",
       "    </tr>\n",
       "    <tr>\n",
       "      <th>1</th>\n",
       "      <td>Bgsng7052.m26</td>\n",
       "      <td>-2.466575</td>\n",
       "      <td>-0.980531</td>\n",
       "    </tr>\n",
       "    <tr>\n",
       "      <th>2</th>\n",
       "      <td>Bgsng7071.m32</td>\n",
       "      <td>-0.670900</td>\n",
       "      <td>1.228093</td>\n",
       "    </tr>\n",
       "    <tr>\n",
       "      <th>3</th>\n",
       "      <td>Bgsng7150.m36</td>\n",
       "      <td>-1.482100</td>\n",
       "      <td>-0.202321</td>\n",
       "    </tr>\n",
       "    <tr>\n",
       "      <th>4</th>\n",
       "      <td>Bgsng7192.m28</td>\n",
       "      <td>-2.141084</td>\n",
       "      <td>-1.649366</td>\n",
       "    </tr>\n",
       "  </tbody>\n",
       "</table>\n",
       "</div>"
      ],
      "text/plain": [
       "           sample       PC0       PC1\n",
       "0  A.diarrhea.062  1.849497  1.012835\n",
       "1   Bgsng7052.m26 -2.466575 -0.980531\n",
       "2   Bgsng7071.m32 -0.670900  1.228093\n",
       "3   Bgsng7150.m36 -1.482100 -0.202321\n",
       "4   Bgsng7192.m28 -2.141084 -1.649366"
      ]
     },
     "execution_count": 48,
     "metadata": {},
     "output_type": "execute_result"
    }
   ],
   "source": [
    "# Make dataframe for plotting\n",
    "dfpca = pd.DataFrame(data=ypca_dada, index=sample_ids, columns=['PC' + str(i) for i in range(ypca_dada.shape[1])])\n",
    "\n",
    "dada_pca_toplot = pd.DataFrame(columns=['sample', 'PC0', 'PC1'])\n",
    "dada_pca_toplot['sample'] = dfpca.index\n",
    "dada_pca_toplot['PC0'] = dfpca['PC0'].values\n",
    "dada_pca_toplot['PC1'] = dfpca['PC1'].values\n",
    "dada_pca_toplot.head()"
   ]
  },
  {
   "cell_type": "code",
   "execution_count": 49,
   "metadata": {
    "collapsed": false
   },
   "outputs": [
    {
     "data": {
      "text/plain": [
       "Index([                                                  u'sample',\n",
       "                                                            u'PC0',\n",
       "                                                            u'PC1',\n",
       "                                                     u'Subject ID',\n",
       "                                                u'Fecal SampleID*',\n",
       "                                           u'Fecal SampleID bold?',\n",
       "                                               u'Barcode Sequence',\n",
       "                                u'Number of V4-16S rRNA sequences',\n",
       "       u'Age of subject at time of fecal sample collection, years',\n",
       "                                                      u'Age, days',\n",
       "                                                    u'Age, months',\n",
       "                                     u'16S rRNA Sequencing Run ID',\n",
       "                                              u'Group description',\n",
       "                                           u'SampleID description',\n",
       "          u'Diet at time of fecal sample collection - Breast Milk',\n",
       "              u'Diet at time of fecal sample collection - Formula',\n",
       "          u'Diet at time of fecal sample collection - Solid Foods',\n",
       "             u'Diarrhoea within 7 days prior to sample collection',\n",
       "           u'Antibiotics within 7 days prior to sample collection',\n",
       "                            u'Medications (Antibiotics and other)',\n",
       "                                                      u'sample_id',\n",
       "                                                        u'disease',\n",
       "                                                            u'day'],\n",
       "      dtype='object')"
      ]
     },
     "execution_count": 49,
     "metadata": {},
     "output_type": "execute_result"
    }
   ],
   "source": [
    "dada_pca_toplot = pd.merge(dada_pca_toplot, meta, left_on='sample', right_on='sample_id')\n",
    "dada_pca_toplot.columns"
   ]
  },
  {
   "cell_type": "code",
   "execution_count": 50,
   "metadata": {
    "collapsed": false
   },
   "outputs": [],
   "source": [
    "cdict = {'diarrhea': 'red', 'recovery': 'purple', 'healthy': 'blue'}\n",
    "dada_pca_toplot['disease_color'] = dada_pca_toplot['disease'].apply(lambda x: cdict[x])"
   ]
  },
  {
   "cell_type": "code",
   "execution_count": 51,
   "metadata": {
    "collapsed": false
   },
   "outputs": [
    {
     "data": {
      "text/plain": [
       "<matplotlib.text.Text at 0x1135c1e90>"
      ]
     },
     "execution_count": 51,
     "metadata": {},
     "output_type": "execute_result"
    },
    {
     "data": {
      "image/png": "[encoded data removed]",
      "text/plain": [
       "<matplotlib.figure.Figure at 0x1134faad0>"
      ]
     },
     "metadata": {},
     "output_type": "display_data"
    }
   ],
   "source": [
    "plt.scatter(dada_pca_toplot['PC0'], dada_pca_toplot['PC1'], c=dada_pca_toplot['disease_color'])\n",
    "plt.title(\"PCA of all samples\")\n",
    "plt.xlabel('{:.2f}%'.format(dada_pca.explained_variance_ratio_[0]*100))\n",
    "plt.ylabel('{:.2f}%'.format(dada_pca.explained_variance_ratio_[1]*100))"
   ]
  },
  {
   "cell_type": "markdown",
   "metadata": {},
   "source": [
    "Hm, that looks suspiciously batchy... Gr. I need to go dig into the original paper and see if they made any PCA plots or something similar. Or at least see if they directly combined/compared these two cohorts?"
   ]
  },
  {
   "cell_type": "markdown",
   "metadata": {},
   "source": [
    "## PCA on just the diarrhea/recovery patients\n",
    "\n",
    "Looks like there is at least some separation in the diarrhea/recovery kids. Let's just look at these samples."
   ]
  },
  {
   "cell_type": "code",
   "execution_count": 52,
   "metadata": {
    "collapsed": false
   },
   "outputs": [],
   "source": [
    "a_samples = meta.loc[a_group, 'sample_id'].values\n",
    "\n",
    "dada_pca_agroup = PCA(random_state=12345).fit(results.to_data_frame().loc[a_samples, a_samples].values)\n",
    "ypca_dada_agroup = dada_pca_agroup.transform(results.to_data_frame().loc[a_samples, a_samples].values)"
   ]
  },
  {
   "cell_type": "code",
   "execution_count": 53,
   "metadata": {
    "collapsed": false
   },
   "outputs": [
    {
     "data": {
      "text/html": [
       "<div>\n",
       "<style scoped>\n",
       "    .dataframe tbody tr th:only-of-type {\n",
       "        vertical-align: middle;\n",
       "    }\n",
       "\n",
       "    .dataframe tbody tr th {\n",
       "        vertical-align: top;\n",
       "    }\n",
       "\n",
       "    .dataframe thead th {\n",
       "        text-align: right;\n",
       "    }\n",
       "</style>\n",
       "<table border=\"1\" class=\"dataframe\">\n",
       "  <thead>\n",
       "    <tr style=\"text-align: right;\">\n",
       "      <th></th>\n",
       "      <th>sample</th>\n",
       "      <th>PC0</th>\n",
       "      <th>PC1</th>\n",
       "      <th>Subject ID</th>\n",
       "      <th>Fecal SampleID*</th>\n",
       "      <th>Fecal SampleID bold?</th>\n",
       "      <th>Barcode Sequence</th>\n",
       "      <th>Number of V4-16S rRNA sequences</th>\n",
       "      <th>Age of subject at time of fecal sample collection, years</th>\n",
       "      <th>Age, days</th>\n",
       "      <th>...</th>\n",
       "      <th>Diet at time of fecal sample collection - Breast Milk</th>\n",
       "      <th>Diet at time of fecal sample collection - Formula</th>\n",
       "      <th>Diet at time of fecal sample collection - Solid Foods</th>\n",
       "      <th>Diarrhoea within 7 days prior to sample collection</th>\n",
       "      <th>Antibiotics within 7 days prior to sample collection</th>\n",
       "      <th>Medications (Antibiotics and other)</th>\n",
       "      <th>sample_id</th>\n",
       "      <th>disease</th>\n",
       "      <th>day</th>\n",
       "      <th>disease_color</th>\n",
       "    </tr>\n",
       "  </thead>\n",
       "  <tbody>\n",
       "    <tr>\n",
       "      <th>0</th>\n",
       "      <td>A.diarrhea.016</td>\n",
       "      <td>-2.017714</td>\n",
       "      <td>0.152791</td>\n",
       "      <td>A</td>\n",
       "      <td>A.diarrhea.016</td>\n",
       "      <td>NaN</td>\n",
       "      <td>CGTACCAGATCC</td>\n",
       "      <td>125054</td>\n",
       "      <td>NaN</td>\n",
       "      <td>NaN</td>\n",
       "      <td>...</td>\n",
       "      <td>NaN</td>\n",
       "      <td>NaN</td>\n",
       "      <td>NaN</td>\n",
       "      <td>NaN</td>\n",
       "      <td>NaN</td>\n",
       "      <td>NaN</td>\n",
       "      <td>A.diarrhea.016</td>\n",
       "      <td>diarrhea</td>\n",
       "      <td>16.0</td>\n",
       "      <td>red</td>\n",
       "    </tr>\n",
       "    <tr>\n",
       "      <th>1</th>\n",
       "      <td>A.diarrhea.020</td>\n",
       "      <td>-1.159835</td>\n",
       "      <td>0.505538</td>\n",
       "      <td>A</td>\n",
       "      <td>A.diarrhea.020</td>\n",
       "      <td>NaN</td>\n",
       "      <td>GTTCTGCTTGTT</td>\n",
       "      <td>72820</td>\n",
       "      <td>NaN</td>\n",
       "      <td>NaN</td>\n",
       "      <td>...</td>\n",
       "      <td>NaN</td>\n",
       "      <td>NaN</td>\n",
       "      <td>NaN</td>\n",
       "      <td>NaN</td>\n",
       "      <td>NaN</td>\n",
       "      <td>NaN</td>\n",
       "      <td>A.diarrhea.020</td>\n",
       "      <td>diarrhea</td>\n",
       "      <td>20.0</td>\n",
       "      <td>red</td>\n",
       "    </tr>\n",
       "    <tr>\n",
       "      <th>2</th>\n",
       "      <td>A.diarrhea.021</td>\n",
       "      <td>-1.431443</td>\n",
       "      <td>0.237672</td>\n",
       "      <td>A</td>\n",
       "      <td>A.diarrhea.021</td>\n",
       "      <td>NaN</td>\n",
       "      <td>GGCGAACTGAAG</td>\n",
       "      <td>126678</td>\n",
       "      <td>NaN</td>\n",
       "      <td>NaN</td>\n",
       "      <td>...</td>\n",
       "      <td>NaN</td>\n",
       "      <td>NaN</td>\n",
       "      <td>NaN</td>\n",
       "      <td>NaN</td>\n",
       "      <td>NaN</td>\n",
       "      <td>NaN</td>\n",
       "      <td>A.diarrhea.021</td>\n",
       "      <td>diarrhea</td>\n",
       "      <td>21.0</td>\n",
       "      <td>red</td>\n",
       "    </tr>\n",
       "    <tr>\n",
       "      <th>3</th>\n",
       "      <td>A.diarrhea.024</td>\n",
       "      <td>3.047537</td>\n",
       "      <td>-0.332423</td>\n",
       "      <td>A</td>\n",
       "      <td>A.diarrhea.024</td>\n",
       "      <td>NaN</td>\n",
       "      <td>CTATCGGAAGAT</td>\n",
       "      <td>122440</td>\n",
       "      <td>NaN</td>\n",
       "      <td>NaN</td>\n",
       "      <td>...</td>\n",
       "      <td>NaN</td>\n",
       "      <td>NaN</td>\n",
       "      <td>NaN</td>\n",
       "      <td>NaN</td>\n",
       "      <td>NaN</td>\n",
       "      <td>NaN</td>\n",
       "      <td>A.diarrhea.024</td>\n",
       "      <td>diarrhea</td>\n",
       "      <td>24.0</td>\n",
       "      <td>red</td>\n",
       "    </tr>\n",
       "    <tr>\n",
       "      <th>4</th>\n",
       "      <td>A.diarrhea.027</td>\n",
       "      <td>3.896305</td>\n",
       "      <td>-0.544270</td>\n",
       "      <td>A</td>\n",
       "      <td>A.diarrhea.027</td>\n",
       "      <td>NaN</td>\n",
       "      <td>TTGGAACGGCTT</td>\n",
       "      <td>105048</td>\n",
       "      <td>NaN</td>\n",
       "      <td>NaN</td>\n",
       "      <td>...</td>\n",
       "      <td>NaN</td>\n",
       "      <td>NaN</td>\n",
       "      <td>NaN</td>\n",
       "      <td>NaN</td>\n",
       "      <td>NaN</td>\n",
       "      <td>NaN</td>\n",
       "      <td>A.diarrhea.027</td>\n",
       "      <td>diarrhea</td>\n",
       "      <td>27.0</td>\n",
       "      <td>red</td>\n",
       "    </tr>\n",
       "  </tbody>\n",
       "</table>\n",
       "<p>5 rows × 24 columns</p>\n",
       "</div>"
      ],
      "text/plain": [
       "           sample       PC0       PC1 Subject ID Fecal SampleID*  \\\n",
       "0  A.diarrhea.016 -2.017714  0.152791          A  A.diarrhea.016   \n",
       "1  A.diarrhea.020 -1.159835  0.505538          A  A.diarrhea.020   \n",
       "2  A.diarrhea.021 -1.431443  0.237672          A  A.diarrhea.021   \n",
       "3  A.diarrhea.024  3.047537 -0.332423          A  A.diarrhea.024   \n",
       "4  A.diarrhea.027  3.896305 -0.544270          A  A.diarrhea.027   \n",
       "\n",
       "  Fecal SampleID bold? Barcode Sequence  Number of V4-16S rRNA sequences  \\\n",
       "0                  NaN     CGTACCAGATCC                           125054   \n",
       "1                  NaN     GTTCTGCTTGTT                            72820   \n",
       "2                  NaN     GGCGAACTGAAG                           126678   \n",
       "3                  NaN     CTATCGGAAGAT                           122440   \n",
       "4                  NaN     TTGGAACGGCTT                           105048   \n",
       "\n",
       "   Age of subject at time of fecal sample collection, years  Age, days  \\\n",
       "0                                                NaN               NaN   \n",
       "1                                                NaN               NaN   \n",
       "2                                                NaN               NaN   \n",
       "3                                                NaN               NaN   \n",
       "4                                                NaN               NaN   \n",
       "\n",
       "       ...       Diet at time of fecal sample collection - Breast Milk  \\\n",
       "0      ...                                                     NaN       \n",
       "1      ...                                                     NaN       \n",
       "2      ...                                                     NaN       \n",
       "3      ...                                                     NaN       \n",
       "4      ...                                                     NaN       \n",
       "\n",
       "  Diet at time of fecal sample collection - Formula  \\\n",
       "0                                               NaN   \n",
       "1                                               NaN   \n",
       "2                                               NaN   \n",
       "3                                               NaN   \n",
       "4                                               NaN   \n",
       "\n",
       "  Diet at time of fecal sample collection - Solid Foods  \\\n",
       "0                                                NaN      \n",
       "1                                                NaN      \n",
       "2                                                NaN      \n",
       "3                                                NaN      \n",
       "4                                                NaN      \n",
       "\n",
       "  Diarrhoea within 7 days prior to sample collection  \\\n",
       "0                                                NaN   \n",
       "1                                                NaN   \n",
       "2                                                NaN   \n",
       "3                                                NaN   \n",
       "4                                                NaN   \n",
       "\n",
       "  Antibiotics within 7 days prior to sample collection  \\\n",
       "0                                                NaN     \n",
       "1                                                NaN     \n",
       "2                                                NaN     \n",
       "3                                                NaN     \n",
       "4                                                NaN     \n",
       "\n",
       "  Medications (Antibiotics and other)       sample_id   disease   day  \\\n",
       "0                                 NaN  A.diarrhea.016  diarrhea  16.0   \n",
       "1                                 NaN  A.diarrhea.020  diarrhea  20.0   \n",
       "2                                 NaN  A.diarrhea.021  diarrhea  21.0   \n",
       "3                                 NaN  A.diarrhea.024  diarrhea  24.0   \n",
       "4                                 NaN  A.diarrhea.027  diarrhea  27.0   \n",
       "\n",
       "  disease_color  \n",
       "0           red  \n",
       "1           red  \n",
       "2           red  \n",
       "3           red  \n",
       "4           red  \n",
       "\n",
       "[5 rows x 24 columns]"
      ]
     },
     "execution_count": 53,
     "metadata": {},
     "output_type": "execute_result"
    }
   ],
   "source": [
    "# Make dataframe for plotting\n",
    "dfpca_agroup = pd.DataFrame(data=ypca_dada_agroup, \n",
    "                            index=a_samples, \n",
    "                            columns=['PC' + str(i) for i in range(ypca_dada_agroup.shape[1])])\n",
    "\n",
    "dada_pca_toplot_agroup = pd.DataFrame(columns=['sample', 'PC0', 'PC1'])\n",
    "dada_pca_toplot_agroup['sample'] = dfpca_agroup.index\n",
    "dada_pca_toplot_agroup['PC0'] = dfpca_agroup['PC0'].values\n",
    "dada_pca_toplot_agroup['PC1'] = dfpca_agroup['PC1'].values\n",
    "dada_pca_toplot_agroup = pd.merge(dada_pca_toplot_agroup, meta, left_on='sample', right_on='sample_id', how='left')\n",
    "dada_pca_toplot_agroup['disease_color'] = dada_pca_toplot_agroup['disease'].apply(lambda x: cdict[x])\n",
    "dada_pca_toplot_agroup.head()"
   ]
  },
  {
   "cell_type": "code",
   "execution_count": 54,
   "metadata": {
    "collapsed": false
   },
   "outputs": [
    {
     "data": {
      "text/plain": [
       "<matplotlib.text.Text at 0x11cf0f490>"
      ]
     },
     "execution_count": 54,
     "metadata": {},
     "output_type": "execute_result"
    },
    {
     "data": {
      "image/png": "[encoded data removed]",
      "text/plain": [
       "<matplotlib.figure.Figure at 0x1134eee50>"
      ]
     },
     "metadata": {},
     "output_type": "display_data"
    }
   ],
   "source": [
    "plt.scatter(dada_pca_toplot_agroup['PC0'], dada_pca_toplot_agroup['PC1'], c=dada_pca_toplot_agroup['disease_color'])\n",
    "plt.title(\"PCA of A group samples (diarrhea + recovery)\")\n",
    "plt.xlabel('{:.2f}%'.format(dada_pca_agroup.explained_variance_ratio_[0]*100))\n",
    "plt.ylabel('{:.2f}%'.format(dada_pca_agroup.explained_variance_ratio_[1]*100))"
   ]
  },
  {
   "cell_type": "markdown",
   "metadata": {},
   "source": [
    "Whoa, what's going on here?? Weird. I wonder what that cluser over the right is - perhaps the early-infection kids? Need to clean up the day column and group it to see..."
   ]
  },
  {
   "cell_type": "code",
   "execution_count": 55,
   "metadata": {
    "collapsed": false
   },
   "outputs": [
    {
     "data": {
      "text/plain": [
       "<matplotlib.text.Text at 0x11193c810>"
      ]
     },
     "execution_count": 55,
     "metadata": {},
     "output_type": "execute_result"
    },
    {
     "data": {
      "image/png": "[encoded data removed]",
      "text/plain": [
       "<matplotlib.figure.Figure at 0x11cf28d90>"
      ]
     },
     "metadata": {},
     "output_type": "display_data"
    }
   ],
   "source": [
    "dada_pca_toplot_agroup['day_truncated'] = dada_pca_toplot_agroup['day'].apply(lambda x: 100 if x >= 100 else x)\n",
    "\n",
    "plt.scatter(dada_pca_toplot_agroup['PC0'], dada_pca_toplot_agroup['PC1'], c=dada_pca_toplot_agroup['day_truncated'])\n",
    "plt.title(\"PCA of A group samples (diarrhea + recovery)\")\n",
    "plt.xlabel('{:.2f}%'.format(dada_pca_agroup.explained_variance_ratio_[0]*100))\n",
    "plt.ylabel('{:.2f}%'.format(dada_pca_agroup.explained_variance_ratio_[1]*100))"
   ]
  },
  {
   "cell_type": "markdown",
   "metadata": {},
   "source": [
    "Maybe it's a subject-wise difference?"
   ]
  },
  {
   "cell_type": "code",
   "execution_count": 56,
   "metadata": {
    "collapsed": false
   },
   "outputs": [
    {
     "data": {
      "text/plain": [
       "<matplotlib.text.Text at 0x104833c90>"
      ]
     },
     "execution_count": 56,
     "metadata": {},
     "output_type": "execute_result"
    },
    {
     "data": {
      "image/png": "[encoded data removed]",
      "text/plain": [
       "<matplotlib.figure.Figure at 0x11cf28ed0>"
      ]
     },
     "metadata": {},
     "output_type": "display_data"
    }
   ],
   "source": [
    "sdict = {'A': 'b', 'B': 'g', 'C': 'r', 'D': 'purple', 'E': 'black', 'F': 'cyan', 'G': 'yellow'}\n",
    "\n",
    "dada_pca_toplot_agroup['subject_color'] = dada_pca_toplot_agroup['Subject ID'].apply(lambda x: sdict[x])\n",
    "\n",
    "plt.scatter(dada_pca_toplot_agroup['PC0'], dada_pca_toplot_agroup['PC1'], c=dada_pca_toplot_agroup['subject_color'])\n",
    "plt.title(\"PCA of A group samples (diarrhea + recovery)\")\n",
    "plt.xlabel('{:.2f}%'.format(dada_pca_agroup.explained_variance_ratio_[0]*100))\n",
    "plt.ylabel('{:.2f}%'.format(dada_pca_agroup.explained_variance_ratio_[1]*100))"
   ]
  },
  {
   "cell_type": "markdown",
   "metadata": {},
   "source": [
    "Next steps: which taxa correlate with PC1? What is this business?? \n",
    "\n",
    "But actually first next steps: be less lazy about my coloring scheme. Actually categorize patients by diarrheal \"stage\" (rather than day) so I can have distinct categories that are comparable across the different patients..."
   ]
  },
  {
   "cell_type": "code",
   "execution_count": null,
   "metadata": {
    "collapsed": true
   },
   "outputs": [],
   "source": []
  }
 ],
 "metadata": {
  "anaconda-cloud": {},
  "kernelspec": {
   "display_name": "Python [default]",
   "language": "python",
   "name": "python2"
  },
  "language_info": {
   "codemirror_mode": {
    "name": "ipython",
    "version": 2
   },
   "file_extension": ".py",
   "mimetype": "text/x-python",
   "name": "python",
   "nbconvert_exporter": "python",
   "pygments_lexer": "ipython2",
   "version": "2.7.12"
  }
 },
 "nbformat": 4,
 "nbformat_minor": 2
}
