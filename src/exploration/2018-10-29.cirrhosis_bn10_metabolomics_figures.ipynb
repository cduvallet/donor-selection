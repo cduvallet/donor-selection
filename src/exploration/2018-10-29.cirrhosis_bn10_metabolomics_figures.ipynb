{
 "cells": [
  {
   "cell_type": "markdown",
   "metadata": {},
   "source": [
    "This notebook makes the figures for the liver cirrhosis case study.\n",
    "\n",
    "Note: I wrote this before writing the `calculate_donor_ranks.py` script, so this notebook will make the same figures as in the final notebook but starting from different data. :)"
   ]
  },
  {
   "cell_type": "code",
   "execution_count": 10,
   "metadata": {
    "collapsed": true
   },
   "outputs": [],
   "source": [
    "import pandas as pd\n",
    "import numpy as np\n",
    "import feather\n",
    "\n",
    "import matplotlib.pyplot as plt\n",
    "import seaborn as sns\n",
    "%matplotlib inline\n",
    "\n",
    "plt.style.use('seaborn-white')\n",
    "sns.set_palette(sns.color_palette('muted', n_colors=9)[4:])"
   ]
  },
  {
   "cell_type": "code",
   "execution_count": 11,
   "metadata": {
    "collapsed": false
   },
   "outputs": [
    {
     "data": {
      "text/html": [
       "<div>\n",
       "<style scoped>\n",
       "    .dataframe tbody tr th:only-of-type {\n",
       "        vertical-align: middle;\n",
       "    }\n",
       "\n",
       "    .dataframe tbody tr th {\n",
       "        vertical-align: top;\n",
       "    }\n",
       "\n",
       "    .dataframe thead th {\n",
       "        text-align: right;\n",
       "    }\n",
       "</style>\n",
       "<table border=\"1\" class=\"dataframe\">\n",
       "  <thead>\n",
       "    <tr style=\"text-align: right;\">\n",
       "      <th></th>\n",
       "      <th>compound</th>\n",
       "      <th>mz</th>\n",
       "      <th>rt</th>\n",
       "      <th>method</th>\n",
       "      <th>compound_id</th>\n",
       "      <th>hmdb_id</th>\n",
       "      <th>metabolite</th>\n",
       "      <th>n_members</th>\n",
       "      <th>cluster_name</th>\n",
       "      <th>cluster_number</th>\n",
       "      <th>cluster_major_ion</th>\n",
       "      <th>potential_adduct</th>\n",
       "      <th>sample</th>\n",
       "      <th>intensity</th>\n",
       "      <th>donor</th>\n",
       "      <th>sample_number</th>\n",
       "    </tr>\n",
       "  </thead>\n",
       "  <tbody>\n",
       "    <tr>\n",
       "      <th>0</th>\n",
       "      <td>C18n_cmp.QI01</td>\n",
       "      <td>355.2424</td>\n",
       "      <td>7.76</td>\n",
       "      <td>C18n</td>\n",
       "      <td>cmp.QI01</td>\n",
       "      <td>Internal Standard</td>\n",
       "      <td>PGE2-d4</td>\n",
       "      <td>3</td>\n",
       "      <td>PGE2-d4__</td>\n",
       "      <td>759</td>\n",
       "      <td>Major</td>\n",
       "      <td>None</td>\n",
       "      <td>aa.0163</td>\n",
       "      <td>289686.0</td>\n",
       "      <td>aa</td>\n",
       "      <td>0163</td>\n",
       "    </tr>\n",
       "    <tr>\n",
       "      <th>1</th>\n",
       "      <td>C18n_cmp.QI02</td>\n",
       "      <td>313.2382</td>\n",
       "      <td>9.83</td>\n",
       "      <td>C18n</td>\n",
       "      <td>cmp.QI02</td>\n",
       "      <td>HMDB04705</td>\n",
       "      <td>12_13-diHOME</td>\n",
       "      <td>3</td>\n",
       "      <td>12_13-diHOME__</td>\n",
       "      <td>495</td>\n",
       "      <td>Major</td>\n",
       "      <td>None</td>\n",
       "      <td>aa.0163</td>\n",
       "      <td>191459.0</td>\n",
       "      <td>aa</td>\n",
       "      <td>0163</td>\n",
       "    </tr>\n",
       "    <tr>\n",
       "      <th>2</th>\n",
       "      <td>C18n_cmp.QI03</td>\n",
       "      <td>313.2382</td>\n",
       "      <td>10.02</td>\n",
       "      <td>C18n</td>\n",
       "      <td>cmp.QI03</td>\n",
       "      <td>HMDB04704</td>\n",
       "      <td>9_10-diHOME</td>\n",
       "      <td>2</td>\n",
       "      <td>9_10-diHOME__</td>\n",
       "      <td>855</td>\n",
       "      <td>Major</td>\n",
       "      <td>None</td>\n",
       "      <td>aa.0163</td>\n",
       "      <td>196193.0</td>\n",
       "      <td>aa</td>\n",
       "      <td>0163</td>\n",
       "    </tr>\n",
       "    <tr>\n",
       "      <th>3</th>\n",
       "      <td>C18n_cmp.QI04</td>\n",
       "      <td>295.2274</td>\n",
       "      <td>11.29</td>\n",
       "      <td>C18n</td>\n",
       "      <td>cmp.QI04</td>\n",
       "      <td>HMDB04667</td>\n",
       "      <td>13-HODE</td>\n",
       "      <td>3</td>\n",
       "      <td>13-HODE__</td>\n",
       "      <td>533</td>\n",
       "      <td>Major</td>\n",
       "      <td>None</td>\n",
       "      <td>aa.0163</td>\n",
       "      <td>82445.0</td>\n",
       "      <td>aa</td>\n",
       "      <td>0163</td>\n",
       "    </tr>\n",
       "    <tr>\n",
       "      <th>4</th>\n",
       "      <td>C18n_cmp.QI05</td>\n",
       "      <td>335.2226</td>\n",
       "      <td>11.00</td>\n",
       "      <td>C18n</td>\n",
       "      <td>cmp.QI05</td>\n",
       "      <td>None</td>\n",
       "      <td>5_6 diHETE</td>\n",
       "      <td>1</td>\n",
       "      <td>5_6 diHETE__</td>\n",
       "      <td>5202</td>\n",
       "      <td>Unclustered</td>\n",
       "      <td>None</td>\n",
       "      <td>aa.0163</td>\n",
       "      <td>32595.0</td>\n",
       "      <td>aa</td>\n",
       "      <td>0163</td>\n",
       "    </tr>\n",
       "  </tbody>\n",
       "</table>\n",
       "</div>"
      ],
      "text/plain": [
       "        compound        mz     rt method compound_id            hmdb_id  \\\n",
       "0  C18n_cmp.QI01  355.2424   7.76   C18n    cmp.QI01  Internal Standard   \n",
       "1  C18n_cmp.QI02  313.2382   9.83   C18n    cmp.QI02          HMDB04705   \n",
       "2  C18n_cmp.QI03  313.2382  10.02   C18n    cmp.QI03          HMDB04704   \n",
       "3  C18n_cmp.QI04  295.2274  11.29   C18n    cmp.QI04          HMDB04667   \n",
       "4  C18n_cmp.QI05  335.2226  11.00   C18n    cmp.QI05               None   \n",
       "\n",
       "     metabolite  n_members    cluster_name  cluster_number cluster_major_ion  \\\n",
       "0       PGE2-d4          3       PGE2-d4__             759             Major   \n",
       "1  12_13-diHOME          3  12_13-diHOME__             495             Major   \n",
       "2   9_10-diHOME          2   9_10-diHOME__             855             Major   \n",
       "3       13-HODE          3       13-HODE__             533             Major   \n",
       "4    5_6 diHETE          1    5_6 diHETE__            5202       Unclustered   \n",
       "\n",
       "  potential_adduct   sample  intensity donor sample_number  \n",
       "0             None  aa.0163   289686.0    aa          0163  \n",
       "1             None  aa.0163   191459.0    aa          0163  \n",
       "2             None  aa.0163   196193.0    aa          0163  \n",
       "3             None  aa.0163    82445.0    aa          0163  \n",
       "4             None  aa.0163    32595.0    aa          0163  "
      ]
     },
     "execution_count": 11,
     "metadata": {},
     "output_type": "execute_result"
    }
   ],
   "source": [
    "ftidy = '../../data/clean/bn10.tidy_metabolomics.feather'\n",
    "DF = feather.read_dataframe(ftidy)\n",
    "DF.head()"
   ]
  },
  {
   "cell_type": "code",
   "execution_count": 12,
   "metadata": {
    "collapsed": true
   },
   "outputs": [],
   "source": [
    "scfas = ['propionate', 'butyrate', 'isovalerate']\n",
    "primary_bile = ['cholate', 'chenodeoxycholate']\n",
    "secondary_bile = ['deoxycholate', 'lithocholate']\n",
    "\n",
    "all_mlcls = scfas + primary_bile + secondary_bile\n",
    "\n",
    "df = DF.query('metabolite == @all_mlcls')"
   ]
  },
  {
   "cell_type": "code",
   "execution_count": 13,
   "metadata": {
    "collapsed": false
   },
   "outputs": [],
   "source": [
    "# Some donors have multiple samples; take the mean abundance\n",
    "df = (\n",
    "    df.groupby(['donor', 'metabolite', ])\n",
    "      ['intensity']\n",
    "      .mean()\n",
    "      .reset_index(name='mean_intensity')\n",
    ")\n",
    "\n",
    "# And log it\n",
    "df['log_intensity'] = np.log10(df['mean_intensity'] + 1.0)"
   ]
  },
  {
   "cell_type": "markdown",
   "metadata": {},
   "source": [
    "# Distribution of metabolite abundances in all donors"
   ]
  },
  {
   "cell_type": "code",
   "execution_count": 14,
   "metadata": {
    "collapsed": false
   },
   "outputs": [
    {
     "data": {
      "image/png": "[encoded data removed]",
      "text/plain": [
       "<Figure size 864x144 with 7 Axes>"
      ]
     },
     "metadata": {},
     "output_type": "display_data"
    }
   ],
   "source": [
    "# For paper\n",
    "fig, ax = plt.subplots(1, 7, figsize=(12, 2))\n",
    "\n",
    "mlcls = scfas + primary_bile + secondary_bile\n",
    "#colors = sns.color_palette('muted', n_colors=12)[4:12]\n",
    "\n",
    "i = 0\n",
    "for s in mlcls:\n",
    "    subdf = df.query('metabolite == @s')\n",
    "    \n",
    "    ax[i].hist(subdf['log_intensity'], color='gray')\n",
    "    ax[i].set_title(s)\n",
    "    \n",
    "    ax[i].set_xlabel('log10(intensity)')\n",
    "\n",
    "    if i == 0:\n",
    "        ax[i].set_ylabel('N donors')\n",
    "\n",
    "    ax[i].set_xticks(ax[i].get_xticks()[::2])\n",
    "    i += 1\n",
    "\n",
    "fig.tight_layout()\n",
    "#fig.savefig('../../figures/final/fig3.scfas_bile_acid_conversion_bn10_donors.distribution.png')"
   ]
  },
  {
   "cell_type": "code",
   "execution_count": 15,
   "metadata": {
    "collapsed": false
   },
   "outputs": [
    {
     "data": {
      "image/png": "[encoded data removed]",
      "text/plain": [
       "<Figure size 576x576 with 9 Axes>"
      ]
     },
     "metadata": {},
     "output_type": "display_data"
    }
   ],
   "source": [
    "# For presentation slides\n",
    "fig, ax = plt.subplots(3, 3, figsize=(8, 8))\n",
    "ax = ax.flatten()\n",
    "\n",
    "i = 0\n",
    "for s in scfas + primary_bile + secondary_bile:\n",
    "    subdf = df.query('metabolite == @s')\n",
    "    \n",
    "    ax[i].hist(subdf['log_intensity'], color='gray')\n",
    "    ax[i].set_title(s)\n",
    "    \n",
    "    if i in [6, 7]:\n",
    "        ax[i].set_xlabel('log10(intensity)')\n",
    "\n",
    "    if i in [0, 3, 6]:\n",
    "        ax[i].set_ylabel('N donors')\n",
    "\n",
    "    i += 1\n",
    "    if s == \"chenodeoxycholate\":\n",
    "        ax[i].set_axis_off()\n",
    "        i += 1 \n",
    "\n",
    "ax[i].set_axis_off()\n",
    "fig.tight_layout()\n",
    "#fig.savefig('../../figures/presentation/fig3.scfas_bile_acid_conversion_bn10_donors.distribution.png')"
   ]
  },
  {
   "cell_type": "markdown",
   "metadata": {},
   "source": [
    "# Calculate bile acid conversion ranks"
   ]
  },
  {
   "cell_type": "code",
   "execution_count": 16,
   "metadata": {
    "collapsed": false
   },
   "outputs": [
    {
     "data": {
      "text/html": [
       "<div>\n",
       "<style scoped>\n",
       "    .dataframe tbody tr th:only-of-type {\n",
       "        vertical-align: middle;\n",
       "    }\n",
       "\n",
       "    .dataframe tbody tr th {\n",
       "        vertical-align: top;\n",
       "    }\n",
       "\n",
       "    .dataframe thead th {\n",
       "        text-align: right;\n",
       "    }\n",
       "</style>\n",
       "<table border=\"1\" class=\"dataframe\">\n",
       "  <thead>\n",
       "    <tr style=\"text-align: right;\">\n",
       "      <th></th>\n",
       "      <th>donor</th>\n",
       "      <th>total_primary</th>\n",
       "      <th>total_secondary</th>\n",
       "      <th>secondary_to_primary</th>\n",
       "      <th>chenodeoxycholate</th>\n",
       "      <th>lithocholate</th>\n",
       "      <th>lithocholate_chenodeoxycholate</th>\n",
       "      <th>cholate</th>\n",
       "      <th>deoxycholate</th>\n",
       "      <th>deoxycholate_cholate</th>\n",
       "    </tr>\n",
       "  </thead>\n",
       "  <tbody>\n",
       "    <tr>\n",
       "      <th>0</th>\n",
       "      <td>aa</td>\n",
       "      <td>334637.0</td>\n",
       "      <td>37543130.0</td>\n",
       "      <td>112.190613</td>\n",
       "      <td>184061.0</td>\n",
       "      <td>12237963.0</td>\n",
       "      <td>66.488626</td>\n",
       "      <td>150576.0</td>\n",
       "      <td>25305167.0</td>\n",
       "      <td>168.055779</td>\n",
       "    </tr>\n",
       "    <tr>\n",
       "      <th>1</th>\n",
       "      <td>ab</td>\n",
       "      <td>19465381.0</td>\n",
       "      <td>87420150.0</td>\n",
       "      <td>4.491058</td>\n",
       "      <td>5392116.0</td>\n",
       "      <td>18310021.0</td>\n",
       "      <td>3.395702</td>\n",
       "      <td>14073265.0</td>\n",
       "      <td>69110129.0</td>\n",
       "      <td>4.910739</td>\n",
       "    </tr>\n",
       "    <tr>\n",
       "      <th>2</th>\n",
       "      <td>ac</td>\n",
       "      <td>3960029.0</td>\n",
       "      <td>121167477.0</td>\n",
       "      <td>30.597624</td>\n",
       "      <td>2515267.0</td>\n",
       "      <td>32769482.0</td>\n",
       "      <td>13.028232</td>\n",
       "      <td>1444762.0</td>\n",
       "      <td>88397995.0</td>\n",
       "      <td>61.185161</td>\n",
       "    </tr>\n",
       "    <tr>\n",
       "      <th>3</th>\n",
       "      <td>ad</td>\n",
       "      <td>1351986.0</td>\n",
       "      <td>41428909.0</td>\n",
       "      <td>30.643001</td>\n",
       "      <td>330303.5</td>\n",
       "      <td>13652777.0</td>\n",
       "      <td>41.334037</td>\n",
       "      <td>1021682.5</td>\n",
       "      <td>27776132.0</td>\n",
       "      <td>27.186657</td>\n",
       "    </tr>\n",
       "    <tr>\n",
       "      <th>4</th>\n",
       "      <td>ae</td>\n",
       "      <td>7680949.6</td>\n",
       "      <td>47474293.8</td>\n",
       "      <td>6.180784</td>\n",
       "      <td>2374302.0</td>\n",
       "      <td>12352527.6</td>\n",
       "      <td>5.202593</td>\n",
       "      <td>5306647.6</td>\n",
       "      <td>35121766.2</td>\n",
       "      <td>6.618447</td>\n",
       "    </tr>\n",
       "  </tbody>\n",
       "</table>\n",
       "</div>"
      ],
      "text/plain": [
       "  donor  total_primary  total_secondary  secondary_to_primary  \\\n",
       "0    aa       334637.0       37543130.0            112.190613   \n",
       "1    ab     19465381.0       87420150.0              4.491058   \n",
       "2    ac      3960029.0      121167477.0             30.597624   \n",
       "3    ad      1351986.0       41428909.0             30.643001   \n",
       "4    ae      7680949.6       47474293.8              6.180784   \n",
       "\n",
       "   chenodeoxycholate  lithocholate  lithocholate_chenodeoxycholate  \\\n",
       "0           184061.0    12237963.0                       66.488626   \n",
       "1          5392116.0    18310021.0                        3.395702   \n",
       "2          2515267.0    32769482.0                       13.028232   \n",
       "3           330303.5    13652777.0                       41.334037   \n",
       "4          2374302.0    12352527.6                        5.202593   \n",
       "\n",
       "      cholate  deoxycholate  deoxycholate_cholate  \n",
       "0    150576.0    25305167.0            168.055779  \n",
       "1  14073265.0    69110129.0              4.910739  \n",
       "2   1444762.0    88397995.0             61.185161  \n",
       "3   1021682.5    27776132.0             27.186657  \n",
       "4   5306647.6    35121766.2              6.618447  "
      ]
     },
     "execution_count": 16,
     "metadata": {},
     "output_type": "execute_result"
    }
   ],
   "source": [
    "# LCA + DCA / CDCA + CA\n",
    "tmp = []\n",
    "for d, subdf in df.groupby('donor'):\n",
    "    total_primary = subdf.query('metabolite == @primary_bile').sum()['mean_intensity']\n",
    "    total_secondary = subdf.query('metabolite == @secondary_bile').sum()['mean_intensity']\n",
    "    tmp.append([d, total_primary, total_secondary])\n",
    "\n",
    "bile_comp = pd.DataFrame(tmp, columns=['donor', 'total_primary', 'total_secondary'])\n",
    "bile_comp['secondary_to_primary'] = bile_comp['total_secondary']/bile_comp['total_primary']\n",
    "\n",
    "# LCA / CDCA\n",
    "m2 = \"lithocholate\"\n",
    "m1 = 'chenodeoxycholate'\n",
    "col = m2 + '_' + m1\n",
    "tmp_ratio = (df\n",
    "     .query('(metabolite == @m2) | metabolite == @m1')\n",
    "     .pivot(index='donor', columns='metabolite', values='mean_intensity')\n",
    ")\n",
    "tmp_ratio[col] = tmp_ratio[m2] / tmp_ratio[m1]\n",
    "bile_comp = pd.merge(bile_comp, tmp_ratio, left_on='donor', right_index=True)\n",
    "\n",
    "# DCA / CA\n",
    "m2 = \"deoxycholate\"\n",
    "m1 = 'cholate'\n",
    "col = m2 + '_' + m1\n",
    "tmp_ratio = (df\n",
    "     .query('(metabolite == @m2) | metabolite == @m1')\n",
    "     .pivot(index='donor', columns='metabolite', values='mean_intensity')\n",
    ")\n",
    "tmp_ratio[col] = tmp_ratio[m2] / tmp_ratio[m1]\n",
    "bile_comp = pd.merge(bile_comp, tmp_ratio, left_on='donor', right_index=True)\n",
    "bile_comp.head()"
   ]
  },
  {
   "cell_type": "code",
   "execution_count": 17,
   "metadata": {
    "collapsed": true
   },
   "outputs": [],
   "source": [
    "# Get back into tidy format for easier plotting\n",
    "# Get back into tidy format\n",
    "bile_tidy = bile_comp.melt(id_vars='donor', value_name='value')"
   ]
  },
  {
   "cell_type": "code",
   "execution_count": 18,
   "metadata": {
    "collapsed": true
   },
   "outputs": [],
   "source": [
    "# Order donors based on their total bile conversion\n",
    "donor_order_ratio = bile_comp.sort_values(by='secondary_to_primary')['donor']\n",
    "\n",
    "# And list the ratios we'll plot later\n",
    "ratios = ['secondary_to_primary', 'lithocholate_chenodeoxycholate', 'deoxycholate_cholate']"
   ]
  },
  {
   "cell_type": "markdown",
   "metadata": {},
   "source": [
    "# Rank donors based on SCFA amounts"
   ]
  },
  {
   "cell_type": "code",
   "execution_count": 19,
   "metadata": {
    "collapsed": false
   },
   "outputs": [
    {
     "data": {
      "text/html": [
       "<div>\n",
       "<style scoped>\n",
       "    .dataframe tbody tr th:only-of-type {\n",
       "        vertical-align: middle;\n",
       "    }\n",
       "\n",
       "    .dataframe tbody tr th {\n",
       "        vertical-align: top;\n",
       "    }\n",
       "\n",
       "    .dataframe thead th {\n",
       "        text-align: right;\n",
       "    }\n",
       "</style>\n",
       "<table border=\"1\" class=\"dataframe\">\n",
       "  <thead>\n",
       "    <tr style=\"text-align: right;\">\n",
       "      <th></th>\n",
       "      <th>donor</th>\n",
       "      <th>metabolite</th>\n",
       "      <th>rank</th>\n",
       "    </tr>\n",
       "  </thead>\n",
       "  <tbody>\n",
       "    <tr>\n",
       "      <th>0</th>\n",
       "      <td>aa</td>\n",
       "      <td>butyrate</td>\n",
       "      <td>61.0</td>\n",
       "    </tr>\n",
       "    <tr>\n",
       "      <th>1</th>\n",
       "      <td>ab</td>\n",
       "      <td>butyrate</td>\n",
       "      <td>83.0</td>\n",
       "    </tr>\n",
       "    <tr>\n",
       "      <th>2</th>\n",
       "      <td>ac</td>\n",
       "      <td>butyrate</td>\n",
       "      <td>78.0</td>\n",
       "    </tr>\n",
       "    <tr>\n",
       "      <th>3</th>\n",
       "      <td>ad</td>\n",
       "      <td>butyrate</td>\n",
       "      <td>21.0</td>\n",
       "    </tr>\n",
       "    <tr>\n",
       "      <th>4</th>\n",
       "      <td>ae</td>\n",
       "      <td>butyrate</td>\n",
       "      <td>75.0</td>\n",
       "    </tr>\n",
       "  </tbody>\n",
       "</table>\n",
       "</div>"
      ],
      "text/plain": [
       "  donor metabolite  rank\n",
       "0    aa   butyrate  61.0\n",
       "1    ab   butyrate  83.0\n",
       "2    ac   butyrate  78.0\n",
       "3    ad   butyrate  21.0\n",
       "4    ae   butyrate  75.0"
      ]
     },
     "execution_count": 19,
     "metadata": {},
     "output_type": "execute_result"
    }
   ],
   "source": [
    "# Convert to wide dataframe for easy ranking\n",
    "df_wide = df.pivot(index='donor', columns='metabolite', values='mean_intensity')\n",
    "\n",
    "# Convert ion intensities to ranks\n",
    "# method=dense: like ‘min’, but rank always increases by 1 between groups\n",
    "df_ranks = df_wide.rank(axis=0, method='dense')\n",
    "\n",
    "# Re-melt into tidy form\n",
    "tidy_ranks = pd.melt(df_ranks.reset_index(), id_vars='donor', value_name='rank')\n",
    "tidy_ranks.head()"
   ]
  },
  {
   "cell_type": "code",
   "execution_count": 20,
   "metadata": {
    "collapsed": false
   },
   "outputs": [],
   "source": [
    "# Order donors by mean rank in the SCFAs\n",
    "scfa_order = (\n",
    "    tidy_ranks\n",
    "        .query('metabolite == @scfas')\n",
    "        .groupby('donor')\n",
    "        .mean()\n",
    "        .reset_index()\n",
    "        .sort_values(by='rank')\n",
    "        ['donor']\n",
    "    )"
   ]
  },
  {
   "cell_type": "markdown",
   "metadata": {},
   "source": [
    "# Make plots"
   ]
  },
  {
   "cell_type": "code",
   "execution_count": 21,
   "metadata": {
    "collapsed": false
   },
   "outputs": [
    {
     "data": {
      "image/png": "[encoded data removed]",
      "text/plain": [
       "<Figure size 720x288 with 2 Axes>"
      ]
     },
     "metadata": {},
     "output_type": "display_data"
    }
   ],
   "source": [
    "fig, ax = plt.subplots(1, 2, figsize=(10, 4))\n",
    "\n",
    "sns.stripplot(\n",
    "    data=df.query('metabolite == @scfas'), \n",
    "    x='donor', y='mean_intensity',\n",
    "    order=scfa_order,\n",
    "    hue='metabolite',\n",
    "    ax=ax[0],\n",
    "    palette=sns.color_palette('muted', n_colors=9)[4:])\n",
    "ax[0].legend(loc='upper left')\n",
    "ax[0].set_ylim([-100, None])\n",
    "ax[0].set_ylabel('Ion intensity', fontsize='large')\n",
    "ax[0].set_xlabel('Donor', fontsize='large')\n",
    "ax[0].set_xticklabels('')\n",
    "ax[0].set_title('SCFAs', fontsize='x-large')\n",
    "\n",
    "## Bile acid conversion\n",
    "sns.stripplot(\n",
    "    data=bile_tidy.query('variable == @ratios'), \n",
    "    x='donor', y='value',\n",
    "    order=donor_order_ratio,\n",
    "    hue='variable',\n",
    "    ax=ax[1],\n",
    "    palette=sns.color_palette('muted', n_colors=10)[7:])\n",
    "\n",
    "newlabels = ['LCA + DCA / CDCA + CA', 'LCA / CDCA', 'DCA / CA']\n",
    "handles, _ = ax[1].get_legend_handles_labels()\n",
    "ax[1].legend(handles, newlabels,\n",
    "             loc='upper left')\n",
    "#          loc='center left', bbox_to_anchor=(1.0, 0.5))\n",
    "ax[1].set_ylim([-1, None])\n",
    "ax[1].set_xticklabels('')\n",
    "ax[1].set_xlabel('Donor', fontsize='large')\n",
    "ax[1].set_ylabel('Ratio value', fontsize='large')\n",
    "ax[1].set_title('Bile acid conversion', fontsize='x-large')\n",
    "\n",
    "fig.tight_layout(rect=[0, 0.03, 1, 0.95], w_pad=5.0)\n",
    "#fig.savefig('../../figures/final/fig3.scfas_bile_acid_conversion_bn10_donors.ranked.png')"
   ]
  },
  {
   "cell_type": "markdown",
   "metadata": {},
   "source": [
    "# Plot rank in SCFAs vs. rank in bile acid conversion\n",
    "\n",
    "Once I make the tidy data with each value and rank, I won't need to do any of the data wrangling below and can just plot directly."
   ]
  },
  {
   "cell_type": "code",
   "execution_count": 22,
   "metadata": {
    "collapsed": false
   },
   "outputs": [
    {
     "data": {
      "text/html": [
       "<div>\n",
       "<style scoped>\n",
       "    .dataframe tbody tr th:only-of-type {\n",
       "        vertical-align: middle;\n",
       "    }\n",
       "\n",
       "    .dataframe tbody tr th {\n",
       "        vertical-align: top;\n",
       "    }\n",
       "\n",
       "    .dataframe thead th {\n",
       "        text-align: right;\n",
       "    }\n",
       "</style>\n",
       "<table border=\"1\" class=\"dataframe\">\n",
       "  <thead>\n",
       "    <tr style=\"text-align: right;\">\n",
       "      <th></th>\n",
       "      <th>donor</th>\n",
       "      <th>avg_scfa_rank</th>\n",
       "    </tr>\n",
       "  </thead>\n",
       "  <tbody>\n",
       "    <tr>\n",
       "      <th>55</th>\n",
       "      <td>cf</td>\n",
       "      <td>1.666667</td>\n",
       "    </tr>\n",
       "    <tr>\n",
       "      <th>42</th>\n",
       "      <td>bs</td>\n",
       "      <td>3.000000</td>\n",
       "    </tr>\n",
       "    <tr>\n",
       "      <th>36</th>\n",
       "      <td>bm</td>\n",
       "      <td>7.666667</td>\n",
       "    </tr>\n",
       "    <tr>\n",
       "      <th>7</th>\n",
       "      <td>ah</td>\n",
       "      <td>10.000000</td>\n",
       "    </tr>\n",
       "    <tr>\n",
       "      <th>45</th>\n",
       "      <td>bv</td>\n",
       "      <td>10.333333</td>\n",
       "    </tr>\n",
       "  </tbody>\n",
       "</table>\n",
       "</div>"
      ],
      "text/plain": [
       "   donor  avg_scfa_rank\n",
       "55    cf       1.666667\n",
       "42    bs       3.000000\n",
       "36    bm       7.666667\n",
       "7     ah      10.000000\n",
       "45    bv      10.333333"
      ]
     },
     "execution_count": 22,
     "metadata": {},
     "output_type": "execute_result"
    }
   ],
   "source": [
    "scfa_ranked = (\n",
    "    tidy_ranks\n",
    "        .query('metabolite == @scfas')\n",
    "        .groupby('donor')\n",
    "        .mean()\n",
    "        .reset_index()\n",
    "        .sort_values(by='rank')\n",
    "    )\n",
    "scfa_ranked = scfa_ranked.rename(columns={'rank': 'avg_scfa_rank'})\n",
    "scfa_ranked.head()"
   ]
  },
  {
   "cell_type": "code",
   "execution_count": 23,
   "metadata": {
    "collapsed": false
   },
   "outputs": [
    {
     "data": {
      "text/html": [
       "<div>\n",
       "<style scoped>\n",
       "    .dataframe tbody tr th:only-of-type {\n",
       "        vertical-align: middle;\n",
       "    }\n",
       "\n",
       "    .dataframe tbody tr th {\n",
       "        vertical-align: top;\n",
       "    }\n",
       "\n",
       "    .dataframe thead th {\n",
       "        text-align: right;\n",
       "    }\n",
       "</style>\n",
       "<table border=\"1\" class=\"dataframe\">\n",
       "  <thead>\n",
       "    <tr style=\"text-align: right;\">\n",
       "      <th></th>\n",
       "      <th>donor</th>\n",
       "      <th>total_primary</th>\n",
       "      <th>total_secondary</th>\n",
       "      <th>secondary_to_primary</th>\n",
       "      <th>chenodeoxycholate</th>\n",
       "      <th>lithocholate</th>\n",
       "      <th>lithocholate_chenodeoxycholate</th>\n",
       "      <th>cholate</th>\n",
       "      <th>deoxycholate</th>\n",
       "      <th>deoxycholate_cholate</th>\n",
       "      <th>secondary_to_primary_rank</th>\n",
       "    </tr>\n",
       "  </thead>\n",
       "  <tbody>\n",
       "    <tr>\n",
       "      <th>0</th>\n",
       "      <td>aa</td>\n",
       "      <td>334637.0</td>\n",
       "      <td>37543130.0</td>\n",
       "      <td>112.190613</td>\n",
       "      <td>184061.0</td>\n",
       "      <td>12237963.0</td>\n",
       "      <td>66.488626</td>\n",
       "      <td>150576.0</td>\n",
       "      <td>25305167.0</td>\n",
       "      <td>168.055779</td>\n",
       "      <td>83.0</td>\n",
       "    </tr>\n",
       "    <tr>\n",
       "      <th>1</th>\n",
       "      <td>ab</td>\n",
       "      <td>19465381.0</td>\n",
       "      <td>87420150.0</td>\n",
       "      <td>4.491058</td>\n",
       "      <td>5392116.0</td>\n",
       "      <td>18310021.0</td>\n",
       "      <td>3.395702</td>\n",
       "      <td>14073265.0</td>\n",
       "      <td>69110129.0</td>\n",
       "      <td>4.910739</td>\n",
       "      <td>15.0</td>\n",
       "    </tr>\n",
       "    <tr>\n",
       "      <th>2</th>\n",
       "      <td>ac</td>\n",
       "      <td>3960029.0</td>\n",
       "      <td>121167477.0</td>\n",
       "      <td>30.597624</td>\n",
       "      <td>2515267.0</td>\n",
       "      <td>32769482.0</td>\n",
       "      <td>13.028232</td>\n",
       "      <td>1444762.0</td>\n",
       "      <td>88397995.0</td>\n",
       "      <td>61.185161</td>\n",
       "      <td>37.0</td>\n",
       "    </tr>\n",
       "    <tr>\n",
       "      <th>3</th>\n",
       "      <td>ad</td>\n",
       "      <td>1351986.0</td>\n",
       "      <td>41428909.0</td>\n",
       "      <td>30.643001</td>\n",
       "      <td>330303.5</td>\n",
       "      <td>13652777.0</td>\n",
       "      <td>41.334037</td>\n",
       "      <td>1021682.5</td>\n",
       "      <td>27776132.0</td>\n",
       "      <td>27.186657</td>\n",
       "      <td>38.0</td>\n",
       "    </tr>\n",
       "    <tr>\n",
       "      <th>4</th>\n",
       "      <td>ae</td>\n",
       "      <td>7680949.6</td>\n",
       "      <td>47474293.8</td>\n",
       "      <td>6.180784</td>\n",
       "      <td>2374302.0</td>\n",
       "      <td>12352527.6</td>\n",
       "      <td>5.202593</td>\n",
       "      <td>5306647.6</td>\n",
       "      <td>35121766.2</td>\n",
       "      <td>6.618447</td>\n",
       "      <td>18.0</td>\n",
       "    </tr>\n",
       "  </tbody>\n",
       "</table>\n",
       "</div>"
      ],
      "text/plain": [
       "  donor  total_primary  total_secondary  secondary_to_primary  \\\n",
       "0    aa       334637.0       37543130.0            112.190613   \n",
       "1    ab     19465381.0       87420150.0              4.491058   \n",
       "2    ac      3960029.0      121167477.0             30.597624   \n",
       "3    ad      1351986.0       41428909.0             30.643001   \n",
       "4    ae      7680949.6       47474293.8              6.180784   \n",
       "\n",
       "   chenodeoxycholate  lithocholate  lithocholate_chenodeoxycholate  \\\n",
       "0           184061.0    12237963.0                       66.488626   \n",
       "1          5392116.0    18310021.0                        3.395702   \n",
       "2          2515267.0    32769482.0                       13.028232   \n",
       "3           330303.5    13652777.0                       41.334037   \n",
       "4          2374302.0    12352527.6                        5.202593   \n",
       "\n",
       "      cholate  deoxycholate  deoxycholate_cholate  secondary_to_primary_rank  \n",
       "0    150576.0    25305167.0            168.055779                       83.0  \n",
       "1  14073265.0    69110129.0              4.910739                       15.0  \n",
       "2   1444762.0    88397995.0             61.185161                       37.0  \n",
       "3   1021682.5    27776132.0             27.186657                       38.0  \n",
       "4   5306647.6    35121766.2              6.618447                       18.0  "
      ]
     },
     "execution_count": 23,
     "metadata": {},
     "output_type": "execute_result"
    }
   ],
   "source": [
    "bile_comp['secondary_to_primary_rank'] = bile_comp['secondary_to_primary'].rank(method='dense')\n",
    "bile_comp.head()"
   ]
  },
  {
   "cell_type": "code",
   "execution_count": 24,
   "metadata": {
    "collapsed": false
   },
   "outputs": [],
   "source": [
    "donors_ranked = pd.merge(scfa_ranked, bile_comp[['donor', 'secondary_to_primary_rank']])"
   ]
  },
  {
   "cell_type": "markdown",
   "metadata": {},
   "source": [
    "## Plot"
   ]
  },
  {
   "cell_type": "code",
   "execution_count": 25,
   "metadata": {
    "collapsed": false
   },
   "outputs": [
    {
     "data": {
      "image/png": "[encoded data removed]",
      "text/plain": [
       "<Figure size 360x288 with 1 Axes>"
      ]
     },
     "metadata": {},
     "output_type": "display_data"
    }
   ],
   "source": [
    "fig, ax = plt.subplots(figsize=(5, 4))\n",
    "\n",
    "# Prepare cutoff values\n",
    "percent_cutoff = 0.75\n",
    "scfa_cutoff = percent_cutoff * donors_ranked['avg_scfa_rank'].max()\n",
    "bile_cutoff = percent_cutoff * donors_ranked['secondary_to_primary_rank'].max()\n",
    "\n",
    "\n",
    "ax.scatter(donors_ranked['avg_scfa_rank'], donors_ranked['secondary_to_primary_rank'],\n",
    "           s=20)\n",
    "\n",
    "ax.axvline(scfa_cutoff, alpha=0.5, linestyle='--', c='gray', linewidth=3)\n",
    "ax.axhline(bile_cutoff, alpha=0.5, linestyle='--', c='gray', linewidth=3)\n",
    "\n",
    "ax.set_xlim([-1, 65])\n",
    "ax.set_ylim([-1, 90])\n",
    "\n",
    "ax.set_xlabel('Ranked SCFA production', fontsize='x-large')\n",
    "ax.set_ylabel('Ranked bile acid conversion', fontsize='x-large')\n",
    "\n",
    "fig.tight_layout()\n",
    "#fig.savefig('../../figures/final/fig3.scfas_bile_acid_conversion_bn10_donors.bile_acid_vs_scfa.png')"
   ]
  },
  {
   "cell_type": "code",
   "execution_count": null,
   "metadata": {
    "collapsed": true
   },
   "outputs": [],
   "source": []
  }
 ],
 "metadata": {
  "anaconda-cloud": {},
  "kernelspec": {
   "display_name": "Python [default]",
   "language": "python",
   "name": "python2"
  },
  "language_info": {
   "codemirror_mode": {
    "name": "ipython",
    "version": 2
   },
   "file_extension": ".py",
   "mimetype": "text/x-python",
   "name": "python",
   "nbconvert_exporter": "python",
   "pygments_lexer": "ipython2",
   "version": "2.7.6"
  }
 },
 "nbformat": 4,
 "nbformat_minor": 2
}
