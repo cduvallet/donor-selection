{
 "cells": [
  {
   "cell_type": "markdown",
   "metadata": {},
   "source": [
    "This notebook makes the figures for the liver cirrhosis case study.\n",
    "\n",
    "Note: I wrote this before writing the `calculate_donor_ranks.py` script, so this notebook will make the same figures as in the final notebook but starting from different data. :)"
   ]
  },
  {
   "cell_type": "code",
   "execution_count": 1,
   "metadata": {
    "collapsed": true
   },
   "outputs": [],
   "source": [
    "import pandas as pd\n",
    "import numpy as np\n",
    "import feather\n",
    "\n",
    "import matplotlib.pyplot as plt\n",
    "import seaborn as sns\n",
    "%matplotlib inline\n",
    "\n",
    "plt.style.use('seaborn-white')\n",
    "sns.set_palette(sns.color_palette('muted', n_colors=9)[4:])"
   ]
  },
  {
   "cell_type": "code",
   "execution_count": 2,
   "metadata": {
    "collapsed": false
   },
   "outputs": [
    {
     "data": {
      "text/html": [
       "<div>\n",
       "<style scoped>\n",
       "    .dataframe tbody tr th:only-of-type {\n",
       "        vertical-align: middle;\n",
       "    }\n",
       "\n",
       "    .dataframe tbody tr th {\n",
       "        vertical-align: top;\n",
       "    }\n",
       "\n",
       "    .dataframe thead th {\n",
       "        text-align: right;\n",
       "    }\n",
       "</style>\n",
       "<table border=\"1\" class=\"dataframe\">\n",
       "  <thead>\n",
       "    <tr style=\"text-align: right;\">\n",
       "      <th></th>\n",
       "      <th>compound</th>\n",
       "      <th>mz</th>\n",
       "      <th>rt</th>\n",
       "      <th>method</th>\n",
       "      <th>compound_id</th>\n",
       "      <th>hmdb_id</th>\n",
       "      <th>metabolite</th>\n",
       "      <th>n_members</th>\n",
       "      <th>cluster_name</th>\n",
       "      <th>cluster_number</th>\n",
       "      <th>cluster_major_ion</th>\n",
       "      <th>potential_adduct</th>\n",
       "      <th>sample</th>\n",
       "      <th>intensity</th>\n",
       "      <th>donor</th>\n",
       "      <th>sample_number</th>\n",
       "    </tr>\n",
       "  </thead>\n",
       "  <tbody>\n",
       "    <tr>\n",
       "      <th>0</th>\n",
       "      <td>C18n_cmp.QI01</td>\n",
       "      <td>355.2424</td>\n",
       "      <td>7.76</td>\n",
       "      <td>C18n</td>\n",
       "      <td>cmp.QI01</td>\n",
       "      <td>Internal Standard</td>\n",
       "      <td>PGE2-d4</td>\n",
       "      <td>3</td>\n",
       "      <td>PGE2-d4__</td>\n",
       "      <td>759</td>\n",
       "      <td>Major</td>\n",
       "      <td>None</td>\n",
       "      <td>aa.0163</td>\n",
       "      <td>289686.0</td>\n",
       "      <td>aa</td>\n",
       "      <td>0163</td>\n",
       "    </tr>\n",
       "    <tr>\n",
       "      <th>1</th>\n",
       "      <td>C18n_cmp.QI02</td>\n",
       "      <td>313.2382</td>\n",
       "      <td>9.83</td>\n",
       "      <td>C18n</td>\n",
       "      <td>cmp.QI02</td>\n",
       "      <td>HMDB04705</td>\n",
       "      <td>12_13-diHOME</td>\n",
       "      <td>3</td>\n",
       "      <td>12_13-diHOME__</td>\n",
       "      <td>495</td>\n",
       "      <td>Major</td>\n",
       "      <td>None</td>\n",
       "      <td>aa.0163</td>\n",
       "      <td>191459.0</td>\n",
       "      <td>aa</td>\n",
       "      <td>0163</td>\n",
       "    </tr>\n",
       "    <tr>\n",
       "      <th>2</th>\n",
       "      <td>C18n_cmp.QI03</td>\n",
       "      <td>313.2382</td>\n",
       "      <td>10.02</td>\n",
       "      <td>C18n</td>\n",
       "      <td>cmp.QI03</td>\n",
       "      <td>HMDB04704</td>\n",
       "      <td>9_10-diHOME</td>\n",
       "      <td>2</td>\n",
       "      <td>9_10-diHOME__</td>\n",
       "      <td>855</td>\n",
       "      <td>Major</td>\n",
       "      <td>None</td>\n",
       "      <td>aa.0163</td>\n",
       "      <td>196193.0</td>\n",
       "      <td>aa</td>\n",
       "      <td>0163</td>\n",
       "    </tr>\n",
       "    <tr>\n",
       "      <th>3</th>\n",
       "      <td>C18n_cmp.QI04</td>\n",
       "      <td>295.2274</td>\n",
       "      <td>11.29</td>\n",
       "      <td>C18n</td>\n",
       "      <td>cmp.QI04</td>\n",
       "      <td>HMDB04667</td>\n",
       "      <td>13-HODE</td>\n",
       "      <td>3</td>\n",
       "      <td>13-HODE__</td>\n",
       "      <td>533</td>\n",
       "      <td>Major</td>\n",
       "      <td>None</td>\n",
       "      <td>aa.0163</td>\n",
       "      <td>82445.0</td>\n",
       "      <td>aa</td>\n",
       "      <td>0163</td>\n",
       "    </tr>\n",
       "    <tr>\n",
       "      <th>4</th>\n",
       "      <td>C18n_cmp.QI05</td>\n",
       "      <td>335.2226</td>\n",
       "      <td>11.00</td>\n",
       "      <td>C18n</td>\n",
       "      <td>cmp.QI05</td>\n",
       "      <td>None</td>\n",
       "      <td>5_6 diHETE</td>\n",
       "      <td>1</td>\n",
       "      <td>5_6 diHETE__</td>\n",
       "      <td>5202</td>\n",
       "      <td>Unclustered</td>\n",
       "      <td>None</td>\n",
       "      <td>aa.0163</td>\n",
       "      <td>32595.0</td>\n",
       "      <td>aa</td>\n",
       "      <td>0163</td>\n",
       "    </tr>\n",
       "  </tbody>\n",
       "</table>\n",
       "</div>"
      ],
      "text/plain": [
       "        compound        mz     rt method compound_id            hmdb_id  \\\n",
       "0  C18n_cmp.QI01  355.2424   7.76   C18n    cmp.QI01  Internal Standard   \n",
       "1  C18n_cmp.QI02  313.2382   9.83   C18n    cmp.QI02          HMDB04705   \n",
       "2  C18n_cmp.QI03  313.2382  10.02   C18n    cmp.QI03          HMDB04704   \n",
       "3  C18n_cmp.QI04  295.2274  11.29   C18n    cmp.QI04          HMDB04667   \n",
       "4  C18n_cmp.QI05  335.2226  11.00   C18n    cmp.QI05               None   \n",
       "\n",
       "     metabolite  n_members    cluster_name  cluster_number cluster_major_ion  \\\n",
       "0       PGE2-d4          3       PGE2-d4__             759             Major   \n",
       "1  12_13-diHOME          3  12_13-diHOME__             495             Major   \n",
       "2   9_10-diHOME          2   9_10-diHOME__             855             Major   \n",
       "3       13-HODE          3       13-HODE__             533             Major   \n",
       "4    5_6 diHETE          1    5_6 diHETE__            5202       Unclustered   \n",
       "\n",
       "  potential_adduct   sample  intensity donor sample_number  \n",
       "0             None  aa.0163   289686.0    aa          0163  \n",
       "1             None  aa.0163   191459.0    aa          0163  \n",
       "2             None  aa.0163   196193.0    aa          0163  \n",
       "3             None  aa.0163    82445.0    aa          0163  \n",
       "4             None  aa.0163    32595.0    aa          0163  "
      ]
     },
     "execution_count": 2,
     "metadata": {},
     "output_type": "execute_result"
    }
   ],
   "source": [
    "ftidy = '../../data/clean/bn10.tidy_metabolomics.feather'\n",
    "DF = feather.read_dataframe(ftidy)\n",
    "DF.head()"
   ]
  },
  {
   "cell_type": "code",
   "execution_count": 3,
   "metadata": {
    "collapsed": true
   },
   "outputs": [],
   "source": [
    "scfas = ['propionate', 'butyrate', 'isovalerate']\n",
    "primary_bile = ['cholate', 'chenodeoxycholate']\n",
    "secondary_bile = ['deoxycholate', 'lithocholate']\n",
    "\n",
    "all_mlcls = scfas + primary_bile + secondary_bile\n",
    "\n",
    "df = DF.query('metabolite == @all_mlcls')"
   ]
  },
  {
   "cell_type": "code",
   "execution_count": 4,
   "metadata": {
    "collapsed": false
   },
   "outputs": [],
   "source": [
    "# Some donors have multiple samples; take the mean abundance\n",
    "df = (\n",
    "    df.groupby(['donor', 'metabolite', ])\n",
    "      ['intensity']\n",
    "      .mean()\n",
    "      .reset_index(name='mean_intensity')\n",
    ")\n",
    "\n",
    "# And log it\n",
    "df['log_intensity'] = np.log10(df['mean_intensity'] + 1.0)"
   ]
  },
  {
   "cell_type": "markdown",
   "metadata": {},
   "source": [
    "# Distribution of metabolite abundances in all donors"
   ]
  },
  {
   "cell_type": "code",
   "execution_count": 8,
   "metadata": {
    "collapsed": false
   },
   "outputs": [
    {
     "data": {
      "image/png": "[encoded data removed]",
      "text/plain": [
       "<Figure size 864x144 with 7 Axes>"
      ]
     },
     "metadata": {},
     "output_type": "display_data"
    }
   ],
   "source": [
    "# For paper\n",
    "fig, ax = plt.subplots(1, 7, figsize=(12, 2))\n",
    "\n",
    "mlcls = scfas + primary_bile + secondary_bile\n",
    "#colors = sns.color_palette('muted', n_colors=12)[4:12]\n",
    "\n",
    "i = 0\n",
    "for s in mlcls:\n",
    "    subdf = df.query('metabolite == @s')\n",
    "    \n",
    "    ax[i].hist(subdf['log_intensity'], color='gray')\n",
    "    ax[i].set_title(s)\n",
    "    \n",
    "    ax[i].set_xlabel('log10(intensity)')\n",
    "\n",
    "    if i == 0:\n",
    "        ax[i].set_ylabel('N donors')\n",
    "\n",
    "    ax[i].set_xticks(ax[i].get_xticks()[::2])\n",
    "    i += 1\n",
    "\n",
    "fig.tight_layout()\n",
    "#fig.savefig('../../figures/final/fig3.scfas_bile_acid_conversion_bn10_donors.distribution.png')"
   ]
  },
  {
   "cell_type": "code",
   "execution_count": null,
   "metadata": {
    "collapsed": false
   },
   "outputs": [],
   "source": [
    "# For presentation slides\n",
    "fig, ax = plt.subplots(3, 3, figsize=(8, 8))\n",
    "ax = ax.flatten()\n",
    "\n",
    "i = 0\n",
    "for s in scfas + primary_bile + secondary_bile:\n",
    "    subdf = df.query('metabolite == @s')\n",
    "    \n",
    "    ax[i].hist(subdf['log_intensity'], color='gray')\n",
    "    ax[i].set_title(s)\n",
    "    \n",
    "    if i in [6, 7]:\n",
    "        ax[i].set_xlabel('log10(intensity)')\n",
    "\n",
    "    if i in [0, 3, 6]:\n",
    "        ax[i].set_ylabel('N donors')\n",
    "\n",
    "    i += 1\n",
    "    if s == \"chenodeoxycholate\":\n",
    "        ax[i].set_axis_off()\n",
    "        i += 1 \n",
    "\n",
    "ax[i].set_axis_off()\n",
    "fig.tight_layout()\n",
    "#fig.savefig('../../figures/presentation/fig3.scfas_bile_acid_conversion_bn10_donors.distribution.png')"
   ]
  },
  {
   "cell_type": "markdown",
   "metadata": {},
   "source": [
    "# Calculate bile acid conversion ranks"
   ]
  },
  {
   "cell_type": "code",
   "execution_count": null,
   "metadata": {
    "collapsed": false
   },
   "outputs": [],
   "source": [
    "# LCA + DCA / CDCA + CA\n",
    "tmp = []\n",
    "for d, subdf in df.groupby('donor'):\n",
    "    total_primary = subdf.query('metabolite == @primary_bile').sum()['mean_intensity']\n",
    "    total_secondary = subdf.query('metabolite == @secondary_bile').sum()['mean_intensity']\n",
    "    tmp.append([d, total_primary, total_secondary])\n",
    "\n",
    "bile_comp = pd.DataFrame(tmp, columns=['donor', 'total_primary', 'total_secondary'])\n",
    "bile_comp['secondary_to_primary'] = bile_comp['total_secondary']/bile_comp['total_primary']\n",
    "\n",
    "# LCA / CDCA\n",
    "m2 = \"lithocholate\"\n",
    "m1 = 'chenodeoxycholate'\n",
    "col = m2 + '_' + m1\n",
    "tmp_ratio = (df\n",
    "     .query('(metabolite == @m2) | metabolite == @m1')\n",
    "     .pivot(index='donor', columns='metabolite', values='mean_intensity')\n",
    ")\n",
    "tmp_ratio[col] = tmp_ratio[m2] / tmp_ratio[m1]\n",
    "bile_comp = pd.merge(bile_comp, tmp_ratio, left_on='donor', right_index=True)\n",
    "\n",
    "# DCA / CA\n",
    "m2 = \"deoxycholate\"\n",
    "m1 = 'cholate'\n",
    "col = m2 + '_' + m1\n",
    "tmp_ratio = (df\n",
    "     .query('(metabolite == @m2) | metabolite == @m1')\n",
    "     .pivot(index='donor', columns='metabolite', values='mean_intensity')\n",
    ")\n",
    "tmp_ratio[col] = tmp_ratio[m2] / tmp_ratio[m1]\n",
    "bile_comp = pd.merge(bile_comp, tmp_ratio, left_on='donor', right_index=True)\n",
    "bile_comp.head()"
   ]
  },
  {
   "cell_type": "code",
   "execution_count": null,
   "metadata": {
    "collapsed": true
   },
   "outputs": [],
   "source": [
    "# Get back into tidy format for easier plotting\n",
    "# Get back into tidy format\n",
    "bile_tidy = bile_comp.melt(id_vars='donor', value_name='value')"
   ]
  },
  {
   "cell_type": "code",
   "execution_count": null,
   "metadata": {
    "collapsed": true
   },
   "outputs": [],
   "source": [
    "# Order donors based on their total bile conversion\n",
    "donor_order_ratio = bile_comp.sort_values(by='secondary_to_primary')['donor']\n",
    "\n",
    "# And list the ratios we'll plot later\n",
    "ratios = ['secondary_to_primary', 'lithocholate_chenodeoxycholate', 'deoxycholate_cholate']"
   ]
  },
  {
   "cell_type": "markdown",
   "metadata": {},
   "source": [
    "# Rank donors based on SCFA amounts"
   ]
  },
  {
   "cell_type": "code",
   "execution_count": null,
   "metadata": {
    "collapsed": false
   },
   "outputs": [],
   "source": [
    "# Convert to wide dataframe for easy ranking\n",
    "df_wide = df.pivot(index='donor', columns='metabolite', values='mean_intensity')\n",
    "\n",
    "# Convert ion intensities to ranks\n",
    "# method=dense: like ‘min’, but rank always increases by 1 between groups\n",
    "df_ranks = df_wide.rank(axis=0, method='dense')\n",
    "\n",
    "# Re-melt into tidy form\n",
    "tidy_ranks = pd.melt(df_ranks.reset_index(), id_vars='donor', value_name='rank')\n",
    "tidy_ranks.head()"
   ]
  },
  {
   "cell_type": "code",
   "execution_count": null,
   "metadata": {
    "collapsed": false
   },
   "outputs": [],
   "source": [
    "# Order donors by mean rank in the SCFAs\n",
    "scfa_order = (\n",
    "    tidy_ranks\n",
    "        .query('metabolite == @scfas')\n",
    "        .groupby('donor')\n",
    "        .mean()\n",
    "        .reset_index()\n",
    "        .sort_values(by='rank')\n",
    "        ['donor']\n",
    "    )"
   ]
  },
  {
   "cell_type": "markdown",
   "metadata": {},
   "source": [
    "# Make plots"
   ]
  },
  {
   "cell_type": "code",
   "execution_count": null,
   "metadata": {
    "collapsed": false
   },
   "outputs": [],
   "source": [
    "fig, ax = plt.subplots(1, 2, figsize=(10, 4))\n",
    "\n",
    "sns.stripplot(\n",
    "    data=df.query('metabolite == @scfas'), \n",
    "    x='donor', y='mean_intensity',\n",
    "    order=scfa_order,\n",
    "    hue='metabolite',\n",
    "    ax=ax[0],\n",
    "    palette=sns.color_palette('muted', n_colors=9)[4:])\n",
    "ax[0].legend(loc='upper left')\n",
    "ax[0].set_ylim([-100, None])\n",
    "ax[0].set_ylabel('Ion intensity', fontsize='large')\n",
    "ax[0].set_xlabel('Donor', fontsize='large')\n",
    "ax[0].set_xticklabels('')\n",
    "ax[0].set_title('SCFAs', fontsize='x-large')\n",
    "\n",
    "## Bile acid conversion\n",
    "sns.stripplot(\n",
    "    data=bile_tidy.query('variable == @ratios'), \n",
    "    x='donor', y='value',\n",
    "    order=donor_order_ratio,\n",
    "    hue='variable',\n",
    "    ax=ax[1],\n",
    "    palette=sns.color_palette('muted', n_colors=10)[7:])\n",
    "\n",
    "newlabels = ['LCA + DCA / CDCA + CA', 'LCA / CDCA', 'DCA / CA']\n",
    "handles, _ = ax[1].get_legend_handles_labels()\n",
    "ax[1].legend(handles, newlabels,\n",
    "             loc='upper left')\n",
    "#          loc='center left', bbox_to_anchor=(1.0, 0.5))\n",
    "ax[1].set_ylim([-1, None])\n",
    "ax[1].set_xticklabels('')\n",
    "ax[1].set_xlabel('Donor', fontsize='large')\n",
    "ax[1].set_ylabel('Ratio value', fontsize='large')\n",
    "ax[1].set_title('Bile acid conversion', fontsize='x-large')\n",
    "\n",
    "fig.tight_layout(rect=[0, 0.03, 1, 0.95], w_pad=5.0)\n",
    "#fig.savefig('../../figures/final/fig3.scfas_bile_acid_conversion_bn10_donors.ranked.png')"
   ]
  },
  {
   "cell_type": "markdown",
   "metadata": {},
   "source": [
    "# Plot rank in SCFAs vs. rank in bile acid conversion\n",
    "\n",
    "Once I make the tidy data with each value and rank, I won't need to do any of the data wrangling below and can just plot directly."
   ]
  },
  {
   "cell_type": "code",
   "execution_count": null,
   "metadata": {
    "collapsed": false
   },
   "outputs": [],
   "source": [
    "scfa_ranked = (\n",
    "    tidy_ranks\n",
    "        .query('metabolite == @scfas')\n",
    "        .groupby('donor')\n",
    "        .mean()\n",
    "        .reset_index()\n",
    "        .sort_values(by='rank')\n",
    "    )\n",
    "scfa_ranked = scfa_ranked.rename(columns={'rank': 'avg_scfa_rank'})\n",
    "scfa_ranked.head()"
   ]
  },
  {
   "cell_type": "code",
   "execution_count": null,
   "metadata": {
    "collapsed": false
   },
   "outputs": [],
   "source": [
    "bile_comp['secondary_to_primary_rank'] = bile_comp['secondary_to_primary'].rank(method='dense')\n",
    "bile_comp.head()"
   ]
  },
  {
   "cell_type": "code",
   "execution_count": null,
   "metadata": {
    "collapsed": false
   },
   "outputs": [],
   "source": [
    "donors_ranked = pd.merge(scfa_ranked, bile_comp[['donor', 'secondary_to_primary_rank']])"
   ]
  },
  {
   "cell_type": "markdown",
   "metadata": {},
   "source": [
    "## Plot"
   ]
  },
  {
   "cell_type": "code",
   "execution_count": null,
   "metadata": {
    "collapsed": false
   },
   "outputs": [],
   "source": [
    "fig, ax = plt.subplots(figsize=(5, 4))\n",
    "\n",
    "# Prepare cutoff values\n",
    "percent_cutoff = 0.75\n",
    "scfa_cutoff = percent_cutoff * donors_ranked['avg_scfa_rank'].max()\n",
    "bile_cutoff = percent_cutoff * donors_ranked['secondary_to_primary_rank'].max()\n",
    "\n",
    "\n",
    "ax.scatter(donors_ranked['avg_scfa_rank'], donors_ranked['secondary_to_primary_rank'],\n",
    "           s=20)\n",
    "\n",
    "ax.axvline(scfa_cutoff, alpha=0.5, linestyle='--', c='gray', linewidth=3)\n",
    "ax.axhline(bile_cutoff, alpha=0.5, linestyle='--', c='gray', linewidth=3)\n",
    "\n",
    "ax.set_xlim([-1, 65])\n",
    "ax.set_ylim([-1, 90])\n",
    "\n",
    "ax.set_xlabel('Ranked SCFA production', fontsize='x-large')\n",
    "ax.set_ylabel('Ranked bile acid conversion', fontsize='x-large')\n",
    "\n",
    "fig.tight_layout()\n",
    "#fig.savefig('../../figures/final/fig3.scfas_bile_acid_conversion_bn10_donors.bile_acid_vs_scfa.png')"
   ]
  },
  {
   "cell_type": "code",
   "execution_count": null,
   "metadata": {
    "collapsed": true
   },
   "outputs": [],
   "source": []
  }
 ],
 "metadata": {
  "anaconda-cloud": {},
  "kernelspec": {
   "display_name": "Python [default]",
   "language": "python",
   "name": "python2"
  },
  "language_info": {
   "codemirror_mode": {
    "name": "ipython",
    "version": 2
   },
   "file_extension": ".py",
   "mimetype": "text/x-python",
   "name": "python",
   "nbconvert_exporter": "python",
   "pygments_lexer": "ipython2",
   "version": "2.7.6"
  }
 },
 "nbformat": 4,
 "nbformat_minor": 2
}
