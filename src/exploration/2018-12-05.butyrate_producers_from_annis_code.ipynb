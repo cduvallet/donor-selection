{
 "cells": [
  {
   "cell_type": "markdown",
   "metadata": {},
   "source": [
    "This notebook looks at butyrate producers from Anni's annotation results."
   ]
  },
  {
   "cell_type": "code",
   "execution_count": 1,
   "metadata": {
    "collapsed": true
   },
   "outputs": [],
   "source": [
    "import pandas as pd\n",
    "\n",
    "import matplotlib.pyplot as plt\n",
    "import seaborn as sns\n",
    "%matplotlib inline"
   ]
  },
  {
   "cell_type": "code",
   "execution_count": 19,
   "metadata": {
    "collapsed": false
   },
   "outputs": [],
   "source": [
    "d = 'goyal2018'\n",
    "fgoyal = '../../data/raw/Results_to_Claire/{}/Bayers_model/{}.dna-sequences.fasta.filter.align.16S.nwk.infertraits.abu'.format(d, d)\n",
    "fgoyalmeta = '../../data/clean/{}.metadata.txt'.format(d)\n",
    "\n",
    "d = 'kump2018'\n",
    "fkump = '../../data/raw/Results_to_Claire/{}/Bayers_model/{}.dna-sequences.fasta.filter.align.16S.nwk.infertraits.abu'.format(d, d)\n",
    "fkumpmeta = '../../data/clean/{}.metadata.txt'.format(d)\n",
    "\n",
    "d = 'jacob2017'\n",
    "fjacob = '../../data/raw/Results_to_Claire/{}/Bayers_model/{}.dna-sequences.fasta.filter.align.16S.nwk.infertraits.abu'.format(d, d)\n",
    "fjacobmeta = '../../data/clean/{}.metadata.txt'.format(d)\n",
    "\n",
    "df_goyal = pd.read_csv(fgoyal, sep='\\t', index_col=0)\n",
    "meta_goyal = pd.read_csv(fgoyalmeta, sep='\\t')\n",
    "\n",
    "df_kump = pd.read_csv(fkump, sep='\\t', index_col=0)\n",
    "meta_kump = pd.read_csv(fkumpmeta, sep='\\t')\n",
    "\n",
    "df_jacob = pd.read_csv(fjacob, sep='\\t', index_col=0)\n",
    "meta_jacob = pd.read_csv(fjacobmeta, sep='\\t')"
   ]
  },
  {
   "cell_type": "code",
   "execution_count": 30,
   "metadata": {
    "collapsed": false
   },
   "outputs": [
    {
     "data": {
      "text/html": [
       "<div>\n",
       "<style scoped>\n",
       "    .dataframe tbody tr th:only-of-type {\n",
       "        vertical-align: middle;\n",
       "    }\n",
       "\n",
       "    .dataframe tbody tr th {\n",
       "        vertical-align: top;\n",
       "    }\n",
       "\n",
       "    .dataframe thead th {\n",
       "        text-align: right;\n",
       "    }\n",
       "</style>\n",
       "<table border=\"1\" class=\"dataframe\">\n",
       "  <thead>\n",
       "    <tr style=\"text-align: right;\">\n",
       "      <th></th>\n",
       "      <th>#SampleID</th>\n",
       "      <th>Forward_read</th>\n",
       "      <th>Reverse_read</th>\n",
       "      <th>Matter</th>\n",
       "      <th>Identity</th>\n",
       "      <th>PatientID</th>\n",
       "      <th>DonorID</th>\n",
       "      <th>Response</th>\n",
       "      <th>Sampletype</th>\n",
       "      <th>prepost</th>\n",
       "      <th>Sampling_day</th>\n",
       "    </tr>\n",
       "  </thead>\n",
       "  <tbody>\n",
       "    <tr>\n",
       "      <th>0</th>\n",
       "      <td>34</td>\n",
       "      <td>34_S35_L001_R1_001.fastq</td>\n",
       "      <td>34_S35_L001_R2_001.fastq</td>\n",
       "      <td>Stool Patient</td>\n",
       "      <td>PD_S-10</td>\n",
       "      <td>PD</td>\n",
       "      <td>DB</td>\n",
       "      <td>NR</td>\n",
       "      <td>Patientstool</td>\n",
       "      <td>preABX</td>\n",
       "      <td>d-10</td>\n",
       "    </tr>\n",
       "    <tr>\n",
       "      <th>1</th>\n",
       "      <td>35</td>\n",
       "      <td>35_S36_L001_R1_001.fastq</td>\n",
       "      <td>35_S36_L001_R2_001.fastq</td>\n",
       "      <td>Stool Patient</td>\n",
       "      <td>PD_S1</td>\n",
       "      <td>PD</td>\n",
       "      <td>DB</td>\n",
       "      <td>NR</td>\n",
       "      <td>Patientstool</td>\n",
       "      <td>postABX</td>\n",
       "      <td>d1</td>\n",
       "    </tr>\n",
       "    <tr>\n",
       "      <th>2</th>\n",
       "      <td>36</td>\n",
       "      <td>36_S37_L001_R1_001.fastq</td>\n",
       "      <td>36_S37_L001_R2_001.fastq</td>\n",
       "      <td>Stool Patient</td>\n",
       "      <td>PD_S14</td>\n",
       "      <td>PD</td>\n",
       "      <td>DB</td>\n",
       "      <td>NR</td>\n",
       "      <td>Patientstool</td>\n",
       "      <td>postFMT</td>\n",
       "      <td>d14</td>\n",
       "    </tr>\n",
       "    <tr>\n",
       "      <th>3</th>\n",
       "      <td>37</td>\n",
       "      <td>37_S38_L001_R1_001.fastq</td>\n",
       "      <td>37_S38_L001_R2_001.fastq</td>\n",
       "      <td>Stool Patient</td>\n",
       "      <td>PD_S28</td>\n",
       "      <td>PD</td>\n",
       "      <td>DB</td>\n",
       "      <td>NR</td>\n",
       "      <td>Patientstool</td>\n",
       "      <td>postFMT</td>\n",
       "      <td>d28</td>\n",
       "    </tr>\n",
       "    <tr>\n",
       "      <th>4</th>\n",
       "      <td>38</td>\n",
       "      <td>38_S39_L001_R1_001.fastq</td>\n",
       "      <td>38_S39_L001_R2_001.fastq</td>\n",
       "      <td>Stool Patient</td>\n",
       "      <td>PD_S42</td>\n",
       "      <td>PD</td>\n",
       "      <td>DB</td>\n",
       "      <td>NR</td>\n",
       "      <td>Patientstool</td>\n",
       "      <td>postFMT</td>\n",
       "      <td>d42</td>\n",
       "    </tr>\n",
       "  </tbody>\n",
       "</table>\n",
       "</div>"
      ],
      "text/plain": [
       "   #SampleID              Forward_read              Reverse_read  \\\n",
       "0         34  34_S35_L001_R1_001.fastq  34_S35_L001_R2_001.fastq   \n",
       "1         35  35_S36_L001_R1_001.fastq  35_S36_L001_R2_001.fastq   \n",
       "2         36  36_S37_L001_R1_001.fastq  36_S37_L001_R2_001.fastq   \n",
       "3         37  37_S38_L001_R1_001.fastq  37_S38_L001_R2_001.fastq   \n",
       "4         38  38_S39_L001_R1_001.fastq  38_S39_L001_R2_001.fastq   \n",
       "\n",
       "          Matter Identity PatientID DonorID Response    Sampletype  prepost  \\\n",
       "0  Stool Patient  PD_S-10        PD      DB       NR  Patientstool   preABX   \n",
       "1  Stool Patient    PD_S1        PD      DB       NR  Patientstool  postABX   \n",
       "2  Stool Patient   PD_S14        PD      DB       NR  Patientstool  postFMT   \n",
       "3  Stool Patient   PD_S28        PD      DB       NR  Patientstool  postFMT   \n",
       "4  Stool Patient   PD_S42        PD      DB       NR  Patientstool  postFMT   \n",
       "\n",
       "  Sampling_day  \n",
       "0         d-10  \n",
       "1           d1  \n",
       "2          d14  \n",
       "3          d28  \n",
       "4          d42  "
      ]
     },
     "execution_count": 30,
     "metadata": {},
     "output_type": "execute_result"
    }
   ],
   "source": [
    "meta_kump.head()"
   ]
  },
  {
   "cell_type": "markdown",
   "metadata": {},
   "source": [
    "These OTU tables now have the abundance of butyrate producers in the last row. Easy peasy!\n",
    "\n",
    "Let's tidy them up a bit..."
   ]
  },
  {
   "cell_type": "code",
   "execution_count": 37,
   "metadata": {
    "collapsed": false
   },
   "outputs": [],
   "source": [
    "# Goyal 2018\n",
    "tidy_goyal = meta_goyal.join(df_goyal.loc['Traits'], on='sample_alias')\n",
    "\n",
    "# Kump 2018\n",
    "meta_kump['#SampleID'] = meta_kump['#SampleID'].astype(str)\n",
    "tidy_kump = meta_kump.join(df_kump.loc['Traits'], on='#SampleID')\n",
    "\n",
    "# Jacob 2017\n",
    "tidy_jacob = meta_jacob.join(df_jacob.loc['Traits'], on='run_accession')"
   ]
  },
  {
   "cell_type": "code",
   "execution_count": 43,
   "metadata": {
    "collapsed": false
   },
   "outputs": [],
   "source": [
    "# Need to get the average for all Kump donors\n",
    "data_kump = (\n",
    "    tidy_kump\n",
    "        .query('Sampletype == \"Donorstool\"')\n",
    "        .groupby(['DonorID', 'Response', 'PatientID'])\n",
    "        .mean()\n",
    "        ['Traits']\n",
    "    ).reset_index()"
   ]
  },
  {
   "cell_type": "code",
   "execution_count": 51,
   "metadata": {
    "collapsed": false
   },
   "outputs": [
    {
     "data": {
      "image/png": "[encoded data removed]",
      "text/plain": [
       "<Figure size 720x216 with 3 Axes>"
      ]
     },
     "metadata": {},
     "output_type": "display_data"
    }
   ],
   "source": [
    "fig, ax = plt.subplots(1, 3, figsize=(10, 3))\n",
    "\n",
    "boxprops = {'edgecolor': 'gray', 'facecolor': 'w', 'linewidth': 0.8}\n",
    "lineprops = {'color': 'gray', 'linewidth': 0.8}\n",
    "boxplot_kwargs = dict({'boxprops': boxprops, 'medianprops': lineprops,\n",
    "                       'whiskerprops': lineprops, 'capprops': lineprops,\n",
    "                       'width': 0.75})\n",
    "\n",
    "# Jacob 2017\n",
    "a = ax[0]\n",
    "data = tidy_jacob.query('donor_patient == \"donor\"')\n",
    "sns.stripplot(data=data, x='response_w4', y='Traits',\n",
    "              ax=a, order=['Yes', 'No'],\n",
    "              size=6, linewidth=0.2)\n",
    "sns.boxplot(data=data, x='response_w4', y='Traits',\n",
    "            ax=a, order=['Yes', 'No'],\n",
    "            fliersize=0, **boxplot_kwargs)\n",
    "a.set_title('Jacob 2017', fontsize='large')\n",
    "a.set_xlabel('')\n",
    "a.set_ylabel('Donor abundance of\\nbutyrate producers', fontsize='large')\n",
    "a.set_xticklabels(['Response', 'No response'], fontsize='large')\n",
    "a.set_ylim([0, 0.2])\n",
    "\n",
    "# Goyal 2018\n",
    "a = ax[1]\n",
    "data = tidy_goyal.query('time_point == \"donor\"')\n",
    "sns.stripplot(data=data, x='response_m6', y='Traits',\n",
    "              ax=a, order=[True, False],\n",
    "              size=6, linewidth=0.2)\n",
    "sns.boxplot(data=data, x='response_m6', y='Traits',\n",
    "            ax=a, order=[True, False],\n",
    "            fliersize=0,\n",
    "            **boxplot_kwargs)\n",
    "a.set_title('Goyal 2018', fontsize='large')\n",
    "a.set_xlabel('')\n",
    "a.set_ylabel('')\n",
    "a.set_xticklabels(['Response', 'No response'], fontsize='large')\n",
    "a.set_ylim([0, 0.2])\n",
    "\n",
    "# Kump 2018\n",
    "a = ax[2]\n",
    "data = data_kump\n",
    "sns.stripplot(data=data, x='Response', y='Traits',\n",
    "              ax=a, order=['RE', 'NR'],\n",
    "              size=6, linewidth=0.2)\n",
    "sns.boxplot(data=data, x='Response', y='Traits',\n",
    "            ax=a, order=['RE', 'NR'],\n",
    "            fliersize=0,\n",
    "            **boxplot_kwargs)\n",
    "a.set_title('Kump 2018', fontsize='large')\n",
    "a.set_xlabel('')\n",
    "a.set_ylabel('')\n",
    "a.set_xticklabels(['Response', 'No response'], fontsize='large')\n",
    "a.set_ylim([0, 0.2])\n",
    "\n",
    "fig.tight_layout()\n",
    "\n",
    "fig.savefig('../../figures/analysis/fig2.butyrate_producers_ibd.annis_method.png')"
   ]
  },
  {
   "cell_type": "code",
   "execution_count": 40,
   "metadata": {
    "collapsed": false
   },
   "outputs": [
    {
     "data": {
      "text/html": [
       "<div>\n",
       "<style scoped>\n",
       "    .dataframe tbody tr th:only-of-type {\n",
       "        vertical-align: middle;\n",
       "    }\n",
       "\n",
       "    .dataframe tbody tr th {\n",
       "        vertical-align: top;\n",
       "    }\n",
       "\n",
       "    .dataframe thead th {\n",
       "        text-align: right;\n",
       "    }\n",
       "</style>\n",
       "<table border=\"1\" class=\"dataframe\">\n",
       "  <thead>\n",
       "    <tr style=\"text-align: right;\">\n",
       "      <th></th>\n",
       "      <th>#SampleID</th>\n",
       "      <th>Forward_read</th>\n",
       "      <th>Reverse_read</th>\n",
       "      <th>Matter</th>\n",
       "      <th>Identity</th>\n",
       "      <th>PatientID</th>\n",
       "      <th>DonorID</th>\n",
       "      <th>Response</th>\n",
       "      <th>Sampletype</th>\n",
       "      <th>prepost</th>\n",
       "      <th>Sampling_day</th>\n",
       "      <th>Traits</th>\n",
       "    </tr>\n",
       "  </thead>\n",
       "  <tbody>\n",
       "  </tbody>\n",
       "</table>\n",
       "</div>"
      ],
      "text/plain": [
       "Empty DataFrame\n",
       "Columns: [#SampleID, Forward_read, Reverse_read, Matter, Identity, PatientID, DonorID, Response, Sampletype, prepost, Sampling_day, Traits]\n",
       "Index: []"
      ]
     },
     "execution_count": 40,
     "metadata": {},
     "output_type": "execute_result"
    }
   ],
   "source": [
    "data"
   ]
  },
  {
   "cell_type": "code",
   "execution_count": null,
   "metadata": {
    "collapsed": true
   },
   "outputs": [],
   "source": []
  }
 ],
 "metadata": {
  "anaconda-cloud": {},
  "kernelspec": {
   "display_name": "Python [default]",
   "language": "python",
   "name": "python2"
  },
  "language_info": {
   "codemirror_mode": {
    "name": "ipython",
    "version": 2
   },
   "file_extension": ".py",
   "mimetype": "text/x-python",
   "name": "python",
   "nbconvert_exporter": "python",
   "pygments_lexer": "ipython2",
   "version": "2.7.6"
  }
 },
 "nbformat": 4,
 "nbformat_minor": 2
}
