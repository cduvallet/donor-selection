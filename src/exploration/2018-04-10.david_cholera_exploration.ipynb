{
 "cells": [
  {
   "cell_type": "markdown",
   "metadata": {},
   "source": [
    "This is my first exploration of the David et al dataset. This is mostly for me to get a feel for what data I have here."
   ]
  },
  {
   "cell_type": "code",
   "execution_count": 266,
   "metadata": {
    "collapsed": false
   },
   "outputs": [],
   "source": [
    "import pandas as pd\n",
    "import numpy as np\n",
    "\n",
    "from sklearn.decomposition import PCA\n",
    "\n",
    "from skbio.diversity import beta_diversity\n",
    "from sklearn.metrics import pairwise_distances\n",
    "\n",
    "import matplotlib.pyplot as plt\n",
    "import seaborn as sns\n",
    "%matplotlib inline"
   ]
  },
  {
   "cell_type": "code",
   "execution_count": 267,
   "metadata": {
    "collapsed": false
   },
   "outputs": [
    {
     "data": {
      "text/html": [
       "<div>\n",
       "<style scoped>\n",
       "    .dataframe tbody tr th:only-of-type {\n",
       "        vertical-align: middle;\n",
       "    }\n",
       "\n",
       "    .dataframe tbody tr th {\n",
       "        vertical-align: top;\n",
       "    }\n",
       "\n",
       "    .dataframe thead th {\n",
       "        text-align: right;\n",
       "    }\n",
       "</style>\n",
       "<table border=\"1\" class=\"dataframe\">\n",
       "  <thead>\n",
       "    <tr style=\"text-align: right;\">\n",
       "      <th></th>\n",
       "      <th>ETEC26</th>\n",
       "      <th>ETEC67</th>\n",
       "      <th>ETEC25</th>\n",
       "      <th>ETEC51</th>\n",
       "      <th>ETEC1</th>\n",
       "      <th>LD248</th>\n",
       "      <th>ETEC50</th>\n",
       "      <th>LD244</th>\n",
       "      <th>ETEC49</th>\n",
       "      <th>LD5</th>\n",
       "      <th>...</th>\n",
       "      <th>ETEC69</th>\n",
       "      <th>ETEC46</th>\n",
       "      <th>LD272</th>\n",
       "      <th>LD202</th>\n",
       "      <th>LD14</th>\n",
       "      <th>LD239</th>\n",
       "      <th>LD23</th>\n",
       "      <th>ETEC28</th>\n",
       "      <th>ETEC31</th>\n",
       "      <th>LD229</th>\n",
       "    </tr>\n",
       "    <tr>\n",
       "      <th>#OTU ID</th>\n",
       "      <th></th>\n",
       "      <th></th>\n",
       "      <th></th>\n",
       "      <th></th>\n",
       "      <th></th>\n",
       "      <th></th>\n",
       "      <th></th>\n",
       "      <th></th>\n",
       "      <th></th>\n",
       "      <th></th>\n",
       "      <th></th>\n",
       "      <th></th>\n",
       "      <th></th>\n",
       "      <th></th>\n",
       "      <th></th>\n",
       "      <th></th>\n",
       "      <th></th>\n",
       "      <th></th>\n",
       "      <th></th>\n",
       "      <th></th>\n",
       "      <th></th>\n",
       "    </tr>\n",
       "  </thead>\n",
       "  <tbody>\n",
       "    <tr>\n",
       "      <th>354531f07146c620d1609b7b8412e177</th>\n",
       "      <td>23684.0</td>\n",
       "      <td>5984.0</td>\n",
       "      <td>118.0</td>\n",
       "      <td>0.0</td>\n",
       "      <td>4017.0</td>\n",
       "      <td>5591.0</td>\n",
       "      <td>6686.0</td>\n",
       "      <td>240.0</td>\n",
       "      <td>0.0</td>\n",
       "      <td>0.0</td>\n",
       "      <td>...</td>\n",
       "      <td>6596.0</td>\n",
       "      <td>4409.0</td>\n",
       "      <td>1665.0</td>\n",
       "      <td>94.0</td>\n",
       "      <td>141817.0</td>\n",
       "      <td>2659.0</td>\n",
       "      <td>4509.0</td>\n",
       "      <td>7814.0</td>\n",
       "      <td>5570.0</td>\n",
       "      <td>5313.0</td>\n",
       "    </tr>\n",
       "    <tr>\n",
       "      <th>a858f6587e59c332c60be1eb99df8697</th>\n",
       "      <td>12398.0</td>\n",
       "      <td>19310.0</td>\n",
       "      <td>516.0</td>\n",
       "      <td>0.0</td>\n",
       "      <td>328.0</td>\n",
       "      <td>19779.0</td>\n",
       "      <td>1436.0</td>\n",
       "      <td>105.0</td>\n",
       "      <td>20276.0</td>\n",
       "      <td>2900.0</td>\n",
       "      <td>...</td>\n",
       "      <td>3058.0</td>\n",
       "      <td>279.0</td>\n",
       "      <td>111.0</td>\n",
       "      <td>337.0</td>\n",
       "      <td>33287.0</td>\n",
       "      <td>44635.0</td>\n",
       "      <td>241.0</td>\n",
       "      <td>34018.0</td>\n",
       "      <td>10642.0</td>\n",
       "      <td>4422.0</td>\n",
       "    </tr>\n",
       "    <tr>\n",
       "      <th>c9d6d95c333dff7d459025b95baf2a64</th>\n",
       "      <td>10066.0</td>\n",
       "      <td>0.0</td>\n",
       "      <td>0.0</td>\n",
       "      <td>0.0</td>\n",
       "      <td>2640.0</td>\n",
       "      <td>0.0</td>\n",
       "      <td>81.0</td>\n",
       "      <td>0.0</td>\n",
       "      <td>0.0</td>\n",
       "      <td>0.0</td>\n",
       "      <td>...</td>\n",
       "      <td>555.0</td>\n",
       "      <td>2.0</td>\n",
       "      <td>0.0</td>\n",
       "      <td>0.0</td>\n",
       "      <td>0.0</td>\n",
       "      <td>0.0</td>\n",
       "      <td>79.0</td>\n",
       "      <td>0.0</td>\n",
       "      <td>0.0</td>\n",
       "      <td>0.0</td>\n",
       "    </tr>\n",
       "    <tr>\n",
       "      <th>c8a9b099a1b7dfc073984d2d08f9a307</th>\n",
       "      <td>9566.0</td>\n",
       "      <td>2.0</td>\n",
       "      <td>2.0</td>\n",
       "      <td>0.0</td>\n",
       "      <td>0.0</td>\n",
       "      <td>0.0</td>\n",
       "      <td>0.0</td>\n",
       "      <td>0.0</td>\n",
       "      <td>0.0</td>\n",
       "      <td>0.0</td>\n",
       "      <td>...</td>\n",
       "      <td>0.0</td>\n",
       "      <td>0.0</td>\n",
       "      <td>0.0</td>\n",
       "      <td>0.0</td>\n",
       "      <td>0.0</td>\n",
       "      <td>2.0</td>\n",
       "      <td>57.0</td>\n",
       "      <td>0.0</td>\n",
       "      <td>0.0</td>\n",
       "      <td>0.0</td>\n",
       "    </tr>\n",
       "    <tr>\n",
       "      <th>472cf4e6b4bb69615ad5e837b3683020</th>\n",
       "      <td>8993.0</td>\n",
       "      <td>1685.0</td>\n",
       "      <td>961.0</td>\n",
       "      <td>2.0</td>\n",
       "      <td>13560.0</td>\n",
       "      <td>9.0</td>\n",
       "      <td>690.0</td>\n",
       "      <td>314.0</td>\n",
       "      <td>19.0</td>\n",
       "      <td>52.0</td>\n",
       "      <td>...</td>\n",
       "      <td>1898.0</td>\n",
       "      <td>257.0</td>\n",
       "      <td>1839.0</td>\n",
       "      <td>2326.0</td>\n",
       "      <td>2.0</td>\n",
       "      <td>0.0</td>\n",
       "      <td>8488.0</td>\n",
       "      <td>0.0</td>\n",
       "      <td>61.0</td>\n",
       "      <td>5.0</td>\n",
       "    </tr>\n",
       "  </tbody>\n",
       "</table>\n",
       "<p>5 rows × 211 columns</p>\n",
       "</div>"
      ],
      "text/plain": [
       "                                   ETEC26   ETEC67  ETEC25  ETEC51    ETEC1  \\\n",
       "#OTU ID                                                                       \n",
       "354531f07146c620d1609b7b8412e177  23684.0   5984.0   118.0     0.0   4017.0   \n",
       "a858f6587e59c332c60be1eb99df8697  12398.0  19310.0   516.0     0.0    328.0   \n",
       "c9d6d95c333dff7d459025b95baf2a64  10066.0      0.0     0.0     0.0   2640.0   \n",
       "c8a9b099a1b7dfc073984d2d08f9a307   9566.0      2.0     2.0     0.0      0.0   \n",
       "472cf4e6b4bb69615ad5e837b3683020   8993.0   1685.0   961.0     2.0  13560.0   \n",
       "\n",
       "                                    LD248  ETEC50  LD244   ETEC49     LD5  \\\n",
       "#OTU ID                                                                     \n",
       "354531f07146c620d1609b7b8412e177   5591.0  6686.0  240.0      0.0     0.0   \n",
       "a858f6587e59c332c60be1eb99df8697  19779.0  1436.0  105.0  20276.0  2900.0   \n",
       "c9d6d95c333dff7d459025b95baf2a64      0.0    81.0    0.0      0.0     0.0   \n",
       "c8a9b099a1b7dfc073984d2d08f9a307      0.0     0.0    0.0      0.0     0.0   \n",
       "472cf4e6b4bb69615ad5e837b3683020      9.0   690.0  314.0     19.0    52.0   \n",
       "\n",
       "                                   ...    ETEC69  ETEC46   LD272   LD202  \\\n",
       "#OTU ID                            ...                                     \n",
       "354531f07146c620d1609b7b8412e177   ...    6596.0  4409.0  1665.0    94.0   \n",
       "a858f6587e59c332c60be1eb99df8697   ...    3058.0   279.0   111.0   337.0   \n",
       "c9d6d95c333dff7d459025b95baf2a64   ...     555.0     2.0     0.0     0.0   \n",
       "c8a9b099a1b7dfc073984d2d08f9a307   ...       0.0     0.0     0.0     0.0   \n",
       "472cf4e6b4bb69615ad5e837b3683020   ...    1898.0   257.0  1839.0  2326.0   \n",
       "\n",
       "                                      LD14    LD239    LD23   ETEC28   ETEC31  \\\n",
       "#OTU ID                                                                         \n",
       "354531f07146c620d1609b7b8412e177  141817.0   2659.0  4509.0   7814.0   5570.0   \n",
       "a858f6587e59c332c60be1eb99df8697   33287.0  44635.0   241.0  34018.0  10642.0   \n",
       "c9d6d95c333dff7d459025b95baf2a64       0.0      0.0    79.0      0.0      0.0   \n",
       "c8a9b099a1b7dfc073984d2d08f9a307       0.0      2.0    57.0      0.0      0.0   \n",
       "472cf4e6b4bb69615ad5e837b3683020       2.0      0.0  8488.0      0.0     61.0   \n",
       "\n",
       "                                   LD229  \n",
       "#OTU ID                                   \n",
       "354531f07146c620d1609b7b8412e177  5313.0  \n",
       "a858f6587e59c332c60be1eb99df8697  4422.0  \n",
       "c9d6d95c333dff7d459025b95baf2a64     0.0  \n",
       "c8a9b099a1b7dfc073984d2d08f9a307     0.0  \n",
       "472cf4e6b4bb69615ad5e837b3683020     5.0  \n",
       "\n",
       "[5 rows x 211 columns]"
      ]
     },
     "execution_count": 267,
     "metadata": {},
     "output_type": "execute_result"
    }
   ],
   "source": [
    "fotu = '../../data/raw/david/qiime/david.feature_table.txt'\n",
    "fmeta = '../../data/raw/david/'\n",
    "df = pd.read_csv(fotu, sep='\\t', index_col=0, skiprows=1)\n",
    "df.head()"
   ]
  },
  {
   "cell_type": "code",
   "execution_count": 268,
   "metadata": {
    "collapsed": false
   },
   "outputs": [
    {
     "data": {
      "text/html": [
       "<div>\n",
       "<style scoped>\n",
       "    .dataframe tbody tr th:only-of-type {\n",
       "        vertical-align: middle;\n",
       "    }\n",
       "\n",
       "    .dataframe tbody tr th {\n",
       "        vertical-align: top;\n",
       "    }\n",
       "\n",
       "    .dataframe thead th {\n",
       "        text-align: right;\n",
       "    }\n",
       "</style>\n",
       "<table border=\"1\" class=\"dataframe\">\n",
       "  <thead>\n",
       "    <tr style=\"text-align: right;\">\n",
       "      <th></th>\n",
       "      <th>Barcode</th>\n",
       "      <th>Cohort</th>\n",
       "      <th>Health</th>\n",
       "      <th>Household</th>\n",
       "      <th>LinkerPrimerSequence</th>\n",
       "      <th>Mapped Reads</th>\n",
       "      <th>Mapped reads</th>\n",
       "      <th>Sample day (dpp)</th>\n",
       "      <th>SampleID</th>\n",
       "      <th>SampleType</th>\n",
       "      <th>Sequencing run</th>\n",
       "      <th>Subject</th>\n",
       "      <th>Subject / Contact</th>\n",
       "    </tr>\n",
       "    <tr>\n",
       "      <th>SampleID</th>\n",
       "      <th></th>\n",
       "      <th></th>\n",
       "      <th></th>\n",
       "      <th></th>\n",
       "      <th></th>\n",
       "      <th></th>\n",
       "      <th></th>\n",
       "      <th></th>\n",
       "      <th></th>\n",
       "      <th></th>\n",
       "      <th></th>\n",
       "      <th></th>\n",
       "      <th></th>\n",
       "    </tr>\n",
       "  </thead>\n",
       "  <tbody>\n",
       "    <tr>\n",
       "      <th>LD1</th>\n",
       "      <td>GCTTCTCTCACT</td>\n",
       "      <td>Pilot</td>\n",
       "      <td>Diarrhea</td>\n",
       "      <td>NaN</td>\n",
       "      <td>CCGGACTACHVGGGTWTCTAAT</td>\n",
       "      <td>148790.0</td>\n",
       "      <td>NaN</td>\n",
       "      <td>NaN</td>\n",
       "      <td>LD1</td>\n",
       "      <td>Feces</td>\n",
       "      <td>1</td>\n",
       "      <td>4.00</td>\n",
       "      <td>NaN</td>\n",
       "    </tr>\n",
       "    <tr>\n",
       "      <th>LD2</th>\n",
       "      <td>GCGCAATAGTAT</td>\n",
       "      <td>Pilot</td>\n",
       "      <td>Diarrhea</td>\n",
       "      <td>NaN</td>\n",
       "      <td>CCGGACTACHVGGGTWTCTAAT</td>\n",
       "      <td>124473.0</td>\n",
       "      <td>NaN</td>\n",
       "      <td>NaN</td>\n",
       "      <td>LD2</td>\n",
       "      <td>Feces</td>\n",
       "      <td>1</td>\n",
       "      <td>5.00</td>\n",
       "      <td>NaN</td>\n",
       "    </tr>\n",
       "    <tr>\n",
       "      <th>LD3</th>\n",
       "      <td>ATCGTCCGCGAT</td>\n",
       "      <td>Pilot</td>\n",
       "      <td>Diarrhea</td>\n",
       "      <td>NaN</td>\n",
       "      <td>CCGGACTACHVGGGTWTCTAAT</td>\n",
       "      <td>134311.0</td>\n",
       "      <td>NaN</td>\n",
       "      <td>NaN</td>\n",
       "      <td>LD3</td>\n",
       "      <td>Feces</td>\n",
       "      <td>1</td>\n",
       "      <td>7.00</td>\n",
       "      <td>NaN</td>\n",
       "    </tr>\n",
       "    <tr>\n",
       "      <th>LD4</th>\n",
       "      <td>TCGCCAGTGCAT</td>\n",
       "      <td>Pilot</td>\n",
       "      <td>Diarrhea</td>\n",
       "      <td>NaN</td>\n",
       "      <td>CCGGACTACHVGGGTWTCTAAT</td>\n",
       "      <td>132346.0</td>\n",
       "      <td>NaN</td>\n",
       "      <td>NaN</td>\n",
       "      <td>LD4</td>\n",
       "      <td>Feces</td>\n",
       "      <td>1</td>\n",
       "      <td>9.00</td>\n",
       "      <td>NaN</td>\n",
       "    </tr>\n",
       "    <tr>\n",
       "      <th>LD5</th>\n",
       "      <td>GTGCACGATAAT</td>\n",
       "      <td>Pilot</td>\n",
       "      <td>Healthy</td>\n",
       "      <td>NaN</td>\n",
       "      <td>CCGGACTACHVGGGTWTCTAAT</td>\n",
       "      <td>73549.0</td>\n",
       "      <td>NaN</td>\n",
       "      <td>NaN</td>\n",
       "      <td>LD5</td>\n",
       "      <td>Feces</td>\n",
       "      <td>1</td>\n",
       "      <td>4.01</td>\n",
       "      <td>NaN</td>\n",
       "    </tr>\n",
       "  </tbody>\n",
       "</table>\n",
       "</div>"
      ],
      "text/plain": [
       "               Barcode Cohort    Health Household    LinkerPrimerSequence  \\\n",
       "SampleID                                                                    \n",
       "LD1       GCTTCTCTCACT  Pilot  Diarrhea       NaN  CCGGACTACHVGGGTWTCTAAT   \n",
       "LD2       GCGCAATAGTAT  Pilot  Diarrhea       NaN  CCGGACTACHVGGGTWTCTAAT   \n",
       "LD3       ATCGTCCGCGAT  Pilot  Diarrhea       NaN  CCGGACTACHVGGGTWTCTAAT   \n",
       "LD4       TCGCCAGTGCAT  Pilot  Diarrhea       NaN  CCGGACTACHVGGGTWTCTAAT   \n",
       "LD5       GTGCACGATAAT  Pilot   Healthy       NaN  CCGGACTACHVGGGTWTCTAAT   \n",
       "\n",
       "          Mapped Reads  Mapped reads  Sample day (dpp) SampleID SampleType  \\\n",
       "SampleID                                                                     \n",
       "LD1           148790.0           NaN               NaN      LD1      Feces   \n",
       "LD2           124473.0           NaN               NaN      LD2      Feces   \n",
       "LD3           134311.0           NaN               NaN      LD3      Feces   \n",
       "LD4           132346.0           NaN               NaN      LD4      Feces   \n",
       "LD5            73549.0           NaN               NaN      LD5      Feces   \n",
       "\n",
       "          Sequencing run  Subject  Subject / Contact  \n",
       "SampleID                                              \n",
       "LD1                    1     4.00                NaN  \n",
       "LD2                    1     5.00                NaN  \n",
       "LD3                    1     7.00                NaN  \n",
       "LD4                    1     9.00                NaN  \n",
       "LD5                    1     4.01                NaN  "
      ]
     },
     "execution_count": 268,
     "metadata": {},
     "output_type": "execute_result"
    }
   ],
   "source": [
    "fmeta = '../../data/raw/david/david.metadata.txt'\n",
    "meta = pd.read_csv(fmeta, sep='\\t')\n",
    "meta.index = meta['SampleID']\n",
    "meta.head()"
   ]
  },
  {
   "cell_type": "markdown",
   "metadata": {},
   "source": [
    "## Map sample IDs: OTU <--> metadata?"
   ]
  },
  {
   "cell_type": "code",
   "execution_count": 269,
   "metadata": {
    "collapsed": false
   },
   "outputs": [],
   "source": [
    "msamples = meta['SampleID'].values\n",
    "osamples = df.columns"
   ]
  },
  {
   "cell_type": "code",
   "execution_count": 270,
   "metadata": {
    "collapsed": false
   },
   "outputs": [
    {
     "data": {
      "text/plain": [
       "(211, 211, 211)"
      ]
     },
     "execution_count": 270,
     "metadata": {},
     "output_type": "execute_result"
    }
   ],
   "source": [
    "len(msamples), len(osamples), len(set(msamples + osamples))"
   ]
  },
  {
   "cell_type": "code",
   "execution_count": 271,
   "metadata": {
    "collapsed": false
   },
   "outputs": [
    {
     "name": "stdout",
     "output_type": "stream",
     "text": [
      "[]\n",
      "[]\n"
     ]
    }
   ],
   "source": [
    "print([i for i in osamples if i not in msamples])\n",
    "print([i for i in msamples if i not in osamples])"
   ]
  },
  {
   "cell_type": "markdown",
   "metadata": {},
   "source": [
    "Cool! The sample IDs all match! Yay!"
   ]
  },
  {
   "cell_type": "markdown",
   "metadata": {},
   "source": [
    "## Explore the metadata: what samples do we have here?"
   ]
  },
  {
   "cell_type": "code",
   "execution_count": 272,
   "metadata": {
    "collapsed": false
   },
   "outputs": [
    {
     "data": {
      "text/plain": [
       "array(['Feces', 'Swab', nan], dtype=object)"
      ]
     },
     "execution_count": 272,
     "metadata": {},
     "output_type": "execute_result"
    }
   ],
   "source": [
    "meta['SampleType'].unique()"
   ]
  },
  {
   "cell_type": "markdown",
   "metadata": {},
   "source": [
    "The metadata includes both a pilot study with feces and swab samples from 4 diarrhea patients and 9 healthy patients, as well as the main study which has samples from patients at multiple time points, as well as their contacts (also sometimes at multiple time points).\n",
    "\n",
    "Cohort 1 is the 27 cholera patients which were recruited at the hospital. These also had household contacts sampled. These patients are labeled by Household, Person, and days past presentation (dpp). \n",
    "\n",
    "I'm not sure how these patients are coded, but from Figure S1 (below) it looks like the \"index case\" is a different family member. I have two choices: either assume that patient 0 is the index case, or the person who is underlined in Figure S1 is the index case...\n",
    "\n",
    "Cohort 2 is the 10 cholera patients whose samples were collected prior to azithromycin treatment (0 dpp). These patients each had one sample taken, and do not have associated household contacts sampled.\n",
    "\n",
    "The ETEC Cohort is 18 patients who were tracked for up to 6 months after hospitalization.\n",
    "\n",
    "A note that all of the non-pilot study samples are rectal swabs. So if I'm going to include the pilot samples, I should just use the rectal swabs (not feces).\n",
    "\n",
    "Finally, a note that it seems that these samples are from a mix of children and adults. Not sure if this matters to us..."
   ]
  },
  {
   "cell_type": "markdown",
   "metadata": {},
   "source": [
    "![](cohort-screenshot.png)"
   ]
  },
  {
   "cell_type": "markdown",
   "metadata": {},
   "source": [
    "### Check data with reported sample sizes\n",
    "\n",
    "First, let's make sure that this metadata matches what I got from the paper."
   ]
  },
  {
   "cell_type": "code",
   "execution_count": 273,
   "metadata": {
    "collapsed": false
   },
   "outputs": [
    {
     "data": {
      "text/plain": [
       "Cohort\n",
       "1        40\n",
       "2        10\n",
       "ETEC     18\n",
       "Pilot     1\n",
       "dtype: int64"
      ]
     },
     "execution_count": 273,
     "metadata": {},
     "output_type": "execute_result"
    }
   ],
   "source": [
    "meta[['Cohort', 'Household', 'Subject / Contact']].drop_duplicates().groupby(['Cohort']).size()"
   ]
  },
  {
   "cell_type": "code",
   "execution_count": 274,
   "metadata": {
    "collapsed": false
   },
   "outputs": [
    {
     "data": {
      "text/plain": [
       "(13,)"
      ]
     },
     "execution_count": 274,
     "metadata": {},
     "output_type": "execute_result"
    }
   ],
   "source": [
    "meta.query('Cohort == \"1\"')['Household'].unique().shape"
   ]
  },
  {
   "cell_type": "markdown",
   "metadata": {},
   "source": [
    "Okay, looks like we do have 13 households from Cohort 1, 10 patients in cohort 2, and 18 ETEC patients.\n",
    "\n",
    "Looking at Figure 2, seems like all the healthy contacts are the subject IDs that are > 0. (Also when I did the analysis coding patients as in Fig S1, there was no clear separation btw healthy and sick whereas now there is!)"
   ]
  },
  {
   "cell_type": "markdown",
   "metadata": {},
   "source": [
    "### Add healthy/diarrhea status to metadata"
   ]
  },
  {
   "cell_type": "code",
   "execution_count": 275,
   "metadata": {
    "collapsed": false
   },
   "outputs": [],
   "source": [
    "# Add health status\n",
    "def get_health_status(row):\n",
    "    # Labeling from S1, which is wrong\n",
    "    household_map = {'A': 2, 'B': 1, 'C': 0, 'D': 1, \n",
    "                     'E': 0, 'F': 2, 'G': 2, 'H': 0, \n",
    "                     'I': 1, 'J': 2, 'K': 2, 'L': 1, \n",
    "                     'M': 0}\n",
    "    if row['Cohort'] == \"Pilot\":\n",
    "        return row['Health']\n",
    "    elif row['Cohort'] == \"1\":\n",
    "        #if row['Subject / Contact'] == household_map[row['Household']]:\n",
    "        if row['Subject / Contact'] == 0:\n",
    "            return \"Diarrhea\"\n",
    "        else:\n",
    "            return \"Healthy\"\n",
    "    else:\n",
    "        return \"Diarrhea\"\n",
    "        \n",
    "meta['DiseaseState'] = meta.apply(get_health_status, axis=1)"
   ]
  },
  {
   "cell_type": "markdown",
   "metadata": {},
   "source": [
    "# Clean up OTU table\n",
    "\n",
    "First, let's get a sense of what data we have here"
   ]
  },
  {
   "cell_type": "code",
   "execution_count": 276,
   "metadata": {
    "collapsed": false
   },
   "outputs": [
    {
     "data": {
      "text/plain": [
       "<matplotlib.text.Text at 0x120678550>"
      ]
     },
     "execution_count": 276,
     "metadata": {},
     "output_type": "execute_result"
    },
    {
     "data": {
      "image/png": "[encoded data removed]",
      "text/plain": [
       "<matplotlib.figure.Figure at 0x1205ba590>"
      ]
     },
     "metadata": {},
     "output_type": "display_data"
    }
   ],
   "source": [
    "# Reads per sample\n",
    "plt.hist(np.log10(df.sum()))\n",
    "plt.title('log10 Reads per sample')"
   ]
  },
  {
   "cell_type": "markdown",
   "metadata": {},
   "source": [
    "Good, looks like min sample has > 10,000 reads. No need to filter."
   ]
  },
  {
   "cell_type": "code",
   "execution_count": 277,
   "metadata": {
    "collapsed": false
   },
   "outputs": [
    {
     "data": {
      "text/plain": [
       "<matplotlib.text.Text at 0x112ff4150>"
      ]
     },
     "execution_count": 277,
     "metadata": {},
     "output_type": "execute_result"
    },
    {
     "data": {
      "image/png": "[encoded data removed]",
      "text/plain": [
       "<matplotlib.figure.Figure at 0x11fc561d0>"
      ]
     },
     "metadata": {},
     "output_type": "display_data"
    }
   ],
   "source": [
    "plt.hist(np.log10(df.sum(axis=1)))\n",
    "plt.title('log10 Reads per OTU')"
   ]
  },
  {
   "cell_type": "markdown",
   "metadata": {},
   "source": [
    "Minimum number of reads per OTU is 10. I'm guessing qiime had some built-in filtering somewhere? Anyway, I think we're good to just go ahead without cleaning up the data!"
   ]
  },
  {
   "cell_type": "markdown",
   "metadata": {},
   "source": [
    "# PCA\n",
    "\n",
    "First, let's reproduce the PCA plots. They did weighted/unweighted Unifrac and Bray Curtis. I don't want to build a tree, so I'll just do bray curtis."
   ]
  },
  {
   "cell_type": "code",
   "execution_count": 278,
   "metadata": {
    "collapsed": false
   },
   "outputs": [
    {
     "data": {
      "text/html": [
       "<div>\n",
       "<style scoped>\n",
       "    .dataframe tbody tr th:only-of-type {\n",
       "        vertical-align: middle;\n",
       "    }\n",
       "\n",
       "    .dataframe tbody tr th {\n",
       "        vertical-align: top;\n",
       "    }\n",
       "\n",
       "    .dataframe thead th {\n",
       "        text-align: right;\n",
       "    }\n",
       "</style>\n",
       "<table border=\"1\" class=\"dataframe\">\n",
       "  <thead>\n",
       "    <tr style=\"text-align: right;\">\n",
       "      <th>#OTU ID</th>\n",
       "      <th>354531f07146c620d1609b7b8412e177</th>\n",
       "      <th>a858f6587e59c332c60be1eb99df8697</th>\n",
       "      <th>c9d6d95c333dff7d459025b95baf2a64</th>\n",
       "      <th>c8a9b099a1b7dfc073984d2d08f9a307</th>\n",
       "      <th>472cf4e6b4bb69615ad5e837b3683020</th>\n",
       "      <th>90d7949a236bc7dd1fc975fd271a9107</th>\n",
       "      <th>386686a48aa9b4b30a2da76535947cfc</th>\n",
       "      <th>bf7983747c9d16749684b1eec6db224c</th>\n",
       "      <th>e2822fc3ca34201fcf6da2855fce32ff</th>\n",
       "      <th>fa8b2ccbcc74b7e507fe18d25e90268e</th>\n",
       "      <th>...</th>\n",
       "      <th>172ffe3c43cd1fd97f0ca1bcd123036e</th>\n",
       "      <th>0ace5e58a4c734a50db628f9c7ac030d</th>\n",
       "      <th>c0c924f4e5b489f66138f88ad1af6b73</th>\n",
       "      <th>76b9d0ec9b2dffdaf5ea3aa2538a48a9</th>\n",
       "      <th>0c3da651754f17d6e042106bbc3a72e8</th>\n",
       "      <th>41516c8b752cca37e96d3e1193b80c31</th>\n",
       "      <th>d5d772cb2dc1ae13abd0a8b789b47066</th>\n",
       "      <th>ef5a74a8d2cb67bdab8a45554a43fa18</th>\n",
       "      <th>e185cebd996aadf44f95970155c0f52d</th>\n",
       "      <th>d83014e318dfeb49eed2b6fce811c88c</th>\n",
       "    </tr>\n",
       "  </thead>\n",
       "  <tbody>\n",
       "    <tr>\n",
       "      <th>ETEC26</th>\n",
       "      <td>23684.0</td>\n",
       "      <td>12398.0</td>\n",
       "      <td>10066.0</td>\n",
       "      <td>9566.0</td>\n",
       "      <td>8993.0</td>\n",
       "      <td>8757.0</td>\n",
       "      <td>5479.0</td>\n",
       "      <td>4351.0</td>\n",
       "      <td>4094.0</td>\n",
       "      <td>4088.0</td>\n",
       "      <td>...</td>\n",
       "      <td>0.0</td>\n",
       "      <td>0.0</td>\n",
       "      <td>0.0</td>\n",
       "      <td>0.0</td>\n",
       "      <td>0.0</td>\n",
       "      <td>0.0</td>\n",
       "      <td>0.0</td>\n",
       "      <td>0.0</td>\n",
       "      <td>0.0</td>\n",
       "      <td>0.0</td>\n",
       "    </tr>\n",
       "    <tr>\n",
       "      <th>ETEC67</th>\n",
       "      <td>5984.0</td>\n",
       "      <td>19310.0</td>\n",
       "      <td>0.0</td>\n",
       "      <td>2.0</td>\n",
       "      <td>1685.0</td>\n",
       "      <td>0.0</td>\n",
       "      <td>105.0</td>\n",
       "      <td>0.0</td>\n",
       "      <td>0.0</td>\n",
       "      <td>0.0</td>\n",
       "      <td>...</td>\n",
       "      <td>0.0</td>\n",
       "      <td>0.0</td>\n",
       "      <td>0.0</td>\n",
       "      <td>0.0</td>\n",
       "      <td>0.0</td>\n",
       "      <td>0.0</td>\n",
       "      <td>0.0</td>\n",
       "      <td>0.0</td>\n",
       "      <td>0.0</td>\n",
       "      <td>0.0</td>\n",
       "    </tr>\n",
       "    <tr>\n",
       "      <th>ETEC25</th>\n",
       "      <td>118.0</td>\n",
       "      <td>516.0</td>\n",
       "      <td>0.0</td>\n",
       "      <td>2.0</td>\n",
       "      <td>961.0</td>\n",
       "      <td>0.0</td>\n",
       "      <td>0.0</td>\n",
       "      <td>23.0</td>\n",
       "      <td>0.0</td>\n",
       "      <td>0.0</td>\n",
       "      <td>...</td>\n",
       "      <td>0.0</td>\n",
       "      <td>0.0</td>\n",
       "      <td>0.0</td>\n",
       "      <td>0.0</td>\n",
       "      <td>0.0</td>\n",
       "      <td>0.0</td>\n",
       "      <td>0.0</td>\n",
       "      <td>0.0</td>\n",
       "      <td>0.0</td>\n",
       "      <td>0.0</td>\n",
       "    </tr>\n",
       "    <tr>\n",
       "      <th>ETEC51</th>\n",
       "      <td>0.0</td>\n",
       "      <td>0.0</td>\n",
       "      <td>0.0</td>\n",
       "      <td>0.0</td>\n",
       "      <td>2.0</td>\n",
       "      <td>0.0</td>\n",
       "      <td>0.0</td>\n",
       "      <td>688.0</td>\n",
       "      <td>2543.0</td>\n",
       "      <td>0.0</td>\n",
       "      <td>...</td>\n",
       "      <td>0.0</td>\n",
       "      <td>0.0</td>\n",
       "      <td>0.0</td>\n",
       "      <td>0.0</td>\n",
       "      <td>0.0</td>\n",
       "      <td>0.0</td>\n",
       "      <td>0.0</td>\n",
       "      <td>0.0</td>\n",
       "      <td>0.0</td>\n",
       "      <td>0.0</td>\n",
       "    </tr>\n",
       "    <tr>\n",
       "      <th>ETEC1</th>\n",
       "      <td>4017.0</td>\n",
       "      <td>328.0</td>\n",
       "      <td>2640.0</td>\n",
       "      <td>0.0</td>\n",
       "      <td>13560.0</td>\n",
       "      <td>0.0</td>\n",
       "      <td>0.0</td>\n",
       "      <td>0.0</td>\n",
       "      <td>0.0</td>\n",
       "      <td>0.0</td>\n",
       "      <td>...</td>\n",
       "      <td>0.0</td>\n",
       "      <td>0.0</td>\n",
       "      <td>0.0</td>\n",
       "      <td>0.0</td>\n",
       "      <td>0.0</td>\n",
       "      <td>0.0</td>\n",
       "      <td>0.0</td>\n",
       "      <td>0.0</td>\n",
       "      <td>0.0</td>\n",
       "      <td>0.0</td>\n",
       "    </tr>\n",
       "  </tbody>\n",
       "</table>\n",
       "<p>5 rows × 2259 columns</p>\n",
       "</div>"
      ],
      "text/plain": [
       "#OTU ID  354531f07146c620d1609b7b8412e177  a858f6587e59c332c60be1eb99df8697  \\\n",
       "ETEC26                            23684.0                           12398.0   \n",
       "ETEC67                             5984.0                           19310.0   \n",
       "ETEC25                              118.0                             516.0   \n",
       "ETEC51                                0.0                               0.0   \n",
       "ETEC1                              4017.0                             328.0   \n",
       "\n",
       "#OTU ID  c9d6d95c333dff7d459025b95baf2a64  c8a9b099a1b7dfc073984d2d08f9a307  \\\n",
       "ETEC26                            10066.0                            9566.0   \n",
       "ETEC67                                0.0                               2.0   \n",
       "ETEC25                                0.0                               2.0   \n",
       "ETEC51                                0.0                               0.0   \n",
       "ETEC1                              2640.0                               0.0   \n",
       "\n",
       "#OTU ID  472cf4e6b4bb69615ad5e837b3683020  90d7949a236bc7dd1fc975fd271a9107  \\\n",
       "ETEC26                             8993.0                            8757.0   \n",
       "ETEC67                             1685.0                               0.0   \n",
       "ETEC25                              961.0                               0.0   \n",
       "ETEC51                                2.0                               0.0   \n",
       "ETEC1                             13560.0                               0.0   \n",
       "\n",
       "#OTU ID  386686a48aa9b4b30a2da76535947cfc  bf7983747c9d16749684b1eec6db224c  \\\n",
       "ETEC26                             5479.0                            4351.0   \n",
       "ETEC67                              105.0                               0.0   \n",
       "ETEC25                                0.0                              23.0   \n",
       "ETEC51                                0.0                             688.0   \n",
       "ETEC1                                 0.0                               0.0   \n",
       "\n",
       "#OTU ID  e2822fc3ca34201fcf6da2855fce32ff  fa8b2ccbcc74b7e507fe18d25e90268e  \\\n",
       "ETEC26                             4094.0                            4088.0   \n",
       "ETEC67                                0.0                               0.0   \n",
       "ETEC25                                0.0                               0.0   \n",
       "ETEC51                             2543.0                               0.0   \n",
       "ETEC1                                 0.0                               0.0   \n",
       "\n",
       "#OTU ID                ...                 172ffe3c43cd1fd97f0ca1bcd123036e  \\\n",
       "ETEC26                 ...                                              0.0   \n",
       "ETEC67                 ...                                              0.0   \n",
       "ETEC25                 ...                                              0.0   \n",
       "ETEC51                 ...                                              0.0   \n",
       "ETEC1                  ...                                              0.0   \n",
       "\n",
       "#OTU ID  0ace5e58a4c734a50db628f9c7ac030d  c0c924f4e5b489f66138f88ad1af6b73  \\\n",
       "ETEC26                                0.0                               0.0   \n",
       "ETEC67                                0.0                               0.0   \n",
       "ETEC25                                0.0                               0.0   \n",
       "ETEC51                                0.0                               0.0   \n",
       "ETEC1                                 0.0                               0.0   \n",
       "\n",
       "#OTU ID  76b9d0ec9b2dffdaf5ea3aa2538a48a9  0c3da651754f17d6e042106bbc3a72e8  \\\n",
       "ETEC26                                0.0                               0.0   \n",
       "ETEC67                                0.0                               0.0   \n",
       "ETEC25                                0.0                               0.0   \n",
       "ETEC51                                0.0                               0.0   \n",
       "ETEC1                                 0.0                               0.0   \n",
       "\n",
       "#OTU ID  41516c8b752cca37e96d3e1193b80c31  d5d772cb2dc1ae13abd0a8b789b47066  \\\n",
       "ETEC26                                0.0                               0.0   \n",
       "ETEC67                                0.0                               0.0   \n",
       "ETEC25                                0.0                               0.0   \n",
       "ETEC51                                0.0                               0.0   \n",
       "ETEC1                                 0.0                               0.0   \n",
       "\n",
       "#OTU ID  ef5a74a8d2cb67bdab8a45554a43fa18  e185cebd996aadf44f95970155c0f52d  \\\n",
       "ETEC26                                0.0                               0.0   \n",
       "ETEC67                                0.0                               0.0   \n",
       "ETEC25                                0.0                               0.0   \n",
       "ETEC51                                0.0                               0.0   \n",
       "ETEC1                                 0.0                               0.0   \n",
       "\n",
       "#OTU ID  d83014e318dfeb49eed2b6fce811c88c  \n",
       "ETEC26                                0.0  \n",
       "ETEC67                                0.0  \n",
       "ETEC25                                0.0  \n",
       "ETEC51                                0.0  \n",
       "ETEC1                                 0.0  \n",
       "\n",
       "[5 rows x 2259 columns]"
      ]
     },
     "execution_count": 278,
     "metadata": {},
     "output_type": "execute_result"
    }
   ],
   "source": [
    "# Rows should contain samples, columns should have OTUs\n",
    "df = df.T\n",
    "df.head()"
   ]
  },
  {
   "cell_type": "code",
   "execution_count": 279,
   "metadata": {
    "collapsed": false
   },
   "outputs": [],
   "source": [
    "# Calculate beta diversity\n",
    "metric = 'braycurtis'\n",
    "counts = df.astype(int).values\n",
    "sample_ids = df.index.tolist()\n",
    "\n",
    "results = beta_diversity(\n",
    "    metric=metric,\n",
    "    counts=counts,\n",
    "    ids=sample_ids)"
   ]
  },
  {
   "cell_type": "code",
   "execution_count": 280,
   "metadata": {
    "collapsed": false
   },
   "outputs": [],
   "source": [
    "# Do PCA\n",
    "\n",
    "pca = PCA(random_state=12345).fit(results.to_data_frame().values)\n",
    "ypca = pca.transform(results.to_data_frame().values)"
   ]
  },
  {
   "cell_type": "code",
   "execution_count": 281,
   "metadata": {
    "collapsed": false
   },
   "outputs": [
    {
     "data": {
      "text/html": [
       "<div>\n",
       "<style scoped>\n",
       "    .dataframe tbody tr th:only-of-type {\n",
       "        vertical-align: middle;\n",
       "    }\n",
       "\n",
       "    .dataframe tbody tr th {\n",
       "        vertical-align: top;\n",
       "    }\n",
       "\n",
       "    .dataframe thead th {\n",
       "        text-align: right;\n",
       "    }\n",
       "</style>\n",
       "<table border=\"1\" class=\"dataframe\">\n",
       "  <thead>\n",
       "    <tr style=\"text-align: right;\">\n",
       "      <th></th>\n",
       "      <th>PC0</th>\n",
       "      <th>PC1</th>\n",
       "      <th>PC2</th>\n",
       "      <th>PC3</th>\n",
       "      <th>PC4</th>\n",
       "      <th>PC5</th>\n",
       "      <th>PC6</th>\n",
       "      <th>PC7</th>\n",
       "      <th>PC8</th>\n",
       "      <th>PC9</th>\n",
       "      <th>...</th>\n",
       "      <th>PC201</th>\n",
       "      <th>PC202</th>\n",
       "      <th>PC203</th>\n",
       "      <th>PC204</th>\n",
       "      <th>PC205</th>\n",
       "      <th>PC206</th>\n",
       "      <th>PC207</th>\n",
       "      <th>PC208</th>\n",
       "      <th>PC209</th>\n",
       "      <th>PC210</th>\n",
       "    </tr>\n",
       "  </thead>\n",
       "  <tbody>\n",
       "    <tr>\n",
       "      <th>ETEC26</th>\n",
       "      <td>1.507820</td>\n",
       "      <td>0.133218</td>\n",
       "      <td>-0.467868</td>\n",
       "      <td>0.717903</td>\n",
       "      <td>-0.158077</td>\n",
       "      <td>0.025177</td>\n",
       "      <td>-0.093964</td>\n",
       "      <td>-0.063651</td>\n",
       "      <td>-0.056127</td>\n",
       "      <td>-0.204712</td>\n",
       "      <td>...</td>\n",
       "      <td>0.000395</td>\n",
       "      <td>-0.000504</td>\n",
       "      <td>0.002361</td>\n",
       "      <td>0.001084</td>\n",
       "      <td>0.000493</td>\n",
       "      <td>0.000934</td>\n",
       "      <td>0.000065</td>\n",
       "      <td>-0.000234</td>\n",
       "      <td>0.000087</td>\n",
       "      <td>5.585810e-16</td>\n",
       "    </tr>\n",
       "    <tr>\n",
       "      <th>ETEC67</th>\n",
       "      <td>-1.113115</td>\n",
       "      <td>1.074726</td>\n",
       "      <td>-0.472075</td>\n",
       "      <td>0.014069</td>\n",
       "      <td>0.354732</td>\n",
       "      <td>-0.334458</td>\n",
       "      <td>-0.258984</td>\n",
       "      <td>-0.033467</td>\n",
       "      <td>0.085714</td>\n",
       "      <td>-0.080473</td>\n",
       "      <td>...</td>\n",
       "      <td>0.005298</td>\n",
       "      <td>-0.003473</td>\n",
       "      <td>0.002078</td>\n",
       "      <td>-0.000629</td>\n",
       "      <td>0.003530</td>\n",
       "      <td>0.000720</td>\n",
       "      <td>-0.000038</td>\n",
       "      <td>0.000189</td>\n",
       "      <td>0.000035</td>\n",
       "      <td>2.393918e-16</td>\n",
       "    </tr>\n",
       "    <tr>\n",
       "      <th>ETEC25</th>\n",
       "      <td>-0.879131</td>\n",
       "      <td>-0.315904</td>\n",
       "      <td>0.097161</td>\n",
       "      <td>-0.060756</td>\n",
       "      <td>-0.432432</td>\n",
       "      <td>0.296932</td>\n",
       "      <td>0.124939</td>\n",
       "      <td>-0.083480</td>\n",
       "      <td>0.250656</td>\n",
       "      <td>0.155899</td>\n",
       "      <td>...</td>\n",
       "      <td>0.001036</td>\n",
       "      <td>-0.000683</td>\n",
       "      <td>-0.001571</td>\n",
       "      <td>-0.000409</td>\n",
       "      <td>0.000997</td>\n",
       "      <td>0.000012</td>\n",
       "      <td>-0.000167</td>\n",
       "      <td>0.000138</td>\n",
       "      <td>0.000132</td>\n",
       "      <td>5.689893e-16</td>\n",
       "    </tr>\n",
       "    <tr>\n",
       "      <th>ETEC51</th>\n",
       "      <td>1.590205</td>\n",
       "      <td>-1.194567</td>\n",
       "      <td>-0.772463</td>\n",
       "      <td>-0.274118</td>\n",
       "      <td>-0.052992</td>\n",
       "      <td>0.152661</td>\n",
       "      <td>-0.013030</td>\n",
       "      <td>0.199503</td>\n",
       "      <td>-0.167279</td>\n",
       "      <td>0.134995</td>\n",
       "      <td>...</td>\n",
       "      <td>0.000108</td>\n",
       "      <td>0.001097</td>\n",
       "      <td>-0.000631</td>\n",
       "      <td>-0.000534</td>\n",
       "      <td>0.001379</td>\n",
       "      <td>0.000101</td>\n",
       "      <td>0.000135</td>\n",
       "      <td>-0.000040</td>\n",
       "      <td>0.000247</td>\n",
       "      <td>2.532696e-16</td>\n",
       "    </tr>\n",
       "    <tr>\n",
       "      <th>ETEC1</th>\n",
       "      <td>-2.085495</td>\n",
       "      <td>0.584639</td>\n",
       "      <td>-0.412623</td>\n",
       "      <td>-0.074272</td>\n",
       "      <td>0.182162</td>\n",
       "      <td>0.041676</td>\n",
       "      <td>-0.056091</td>\n",
       "      <td>-0.217047</td>\n",
       "      <td>-0.220406</td>\n",
       "      <td>-0.198891</td>\n",
       "      <td>...</td>\n",
       "      <td>0.004491</td>\n",
       "      <td>-0.010730</td>\n",
       "      <td>-0.014388</td>\n",
       "      <td>0.002507</td>\n",
       "      <td>-0.002339</td>\n",
       "      <td>0.001815</td>\n",
       "      <td>0.001423</td>\n",
       "      <td>-0.001903</td>\n",
       "      <td>0.000009</td>\n",
       "      <td>6.349088e-16</td>\n",
       "    </tr>\n",
       "  </tbody>\n",
       "</table>\n",
       "<p>5 rows × 211 columns</p>\n",
       "</div>"
      ],
      "text/plain": [
       "             PC0       PC1       PC2       PC3       PC4       PC5       PC6  \\\n",
       "ETEC26  1.507820  0.133218 -0.467868  0.717903 -0.158077  0.025177 -0.093964   \n",
       "ETEC67 -1.113115  1.074726 -0.472075  0.014069  0.354732 -0.334458 -0.258984   \n",
       "ETEC25 -0.879131 -0.315904  0.097161 -0.060756 -0.432432  0.296932  0.124939   \n",
       "ETEC51  1.590205 -1.194567 -0.772463 -0.274118 -0.052992  0.152661 -0.013030   \n",
       "ETEC1  -2.085495  0.584639 -0.412623 -0.074272  0.182162  0.041676 -0.056091   \n",
       "\n",
       "             PC7       PC8       PC9      ...          PC201     PC202  \\\n",
       "ETEC26 -0.063651 -0.056127 -0.204712      ...       0.000395 -0.000504   \n",
       "ETEC67 -0.033467  0.085714 -0.080473      ...       0.005298 -0.003473   \n",
       "ETEC25 -0.083480  0.250656  0.155899      ...       0.001036 -0.000683   \n",
       "ETEC51  0.199503 -0.167279  0.134995      ...       0.000108  0.001097   \n",
       "ETEC1  -0.217047 -0.220406 -0.198891      ...       0.004491 -0.010730   \n",
       "\n",
       "           PC203     PC204     PC205     PC206     PC207     PC208     PC209  \\\n",
       "ETEC26  0.002361  0.001084  0.000493  0.000934  0.000065 -0.000234  0.000087   \n",
       "ETEC67  0.002078 -0.000629  0.003530  0.000720 -0.000038  0.000189  0.000035   \n",
       "ETEC25 -0.001571 -0.000409  0.000997  0.000012 -0.000167  0.000138  0.000132   \n",
       "ETEC51 -0.000631 -0.000534  0.001379  0.000101  0.000135 -0.000040  0.000247   \n",
       "ETEC1  -0.014388  0.002507 -0.002339  0.001815  0.001423 -0.001903  0.000009   \n",
       "\n",
       "               PC210  \n",
       "ETEC26  5.585810e-16  \n",
       "ETEC67  2.393918e-16  \n",
       "ETEC25  5.689893e-16  \n",
       "ETEC51  2.532696e-16  \n",
       "ETEC1   6.349088e-16  \n",
       "\n",
       "[5 rows x 211 columns]"
      ]
     },
     "execution_count": 281,
     "metadata": {},
     "output_type": "execute_result"
    }
   ],
   "source": [
    "dfpca = pd.DataFrame(data=ypca, index=sample_ids, columns=['PC' + str(i) for i in range(ypca.shape[1])])\n",
    "dfpca.head()"
   ]
  },
  {
   "cell_type": "code",
   "execution_count": 282,
   "metadata": {
    "collapsed": false
   },
   "outputs": [],
   "source": [
    "# Make dataframe for plotting\n",
    "toplot = pd.DataFrame(columns=['sample', 'PC0', 'PC1', 'disease'])\n",
    "toplot['sample'] = dfpca.index\n",
    "toplot['PC0'] = dfpca['PC0'].values\n",
    "toplot['PC1'] = dfpca['PC1'].values\n",
    "toplot = pd.merge(toplot, meta, left_on='sample', right_index=True)\n",
    "toplot = toplot.drop(['LinkerPrimerSequence', 'Mapped Reads', 'Mapped reads'], axis=1)\n",
    "toplot['disease_color'] = toplot['DiseaseState'].apply(lambda x: 'r' if x == \"Diarrhea\" else 'b')"
   ]
  },
  {
   "cell_type": "code",
   "execution_count": 283,
   "metadata": {
    "collapsed": false
   },
   "outputs": [
    {
     "data": {
      "text/plain": [
       "1.0"
      ]
     },
     "execution_count": 283,
     "metadata": {},
     "output_type": "execute_result"
    }
   ],
   "source": [
    "pca.explained_variance_ratio_.sum()"
   ]
  },
  {
   "cell_type": "code",
   "execution_count": 284,
   "metadata": {
    "collapsed": false
   },
   "outputs": [
    {
     "data": {
      "text/plain": [
       "<matplotlib.text.Text at 0x11e871650>"
      ]
     },
     "execution_count": 284,
     "metadata": {},
     "output_type": "execute_result"
    },
    {
     "data": {
      "image/png": "[encoded data removed]",
      "text/plain": [
       "<matplotlib.figure.Figure at 0x113143490>"
      ]
     },
     "metadata": {},
     "output_type": "display_data"
    }
   ],
   "source": [
    "plt.scatter(toplot['PC0'], toplot['PC1'], c=toplot['disease_color'])\n",
    "plt.title(\"PCA of all samples\")\n",
    "plt.xlabel('{:.2f}%'.format(pca.explained_variance_ratio_[0]*100))\n",
    "plt.ylabel('{:.2f}%'.format(pca.explained_variance_ratio_[1]*100))"
   ]
  },
  {
   "cell_type": "markdown",
   "metadata": {},
   "source": [
    "## No ETEC samples\n",
    "\n",
    "This plot doesn't really look like the published one, maybe it's because the other samples are messing up the PCA transformation?"
   ]
  },
  {
   "cell_type": "code",
   "execution_count": 285,
   "metadata": {
    "collapsed": true
   },
   "outputs": [],
   "source": [
    "keep_cohorts = [\"1\", \"2\"]\n",
    "cohort1_results = results\\\n",
    "    .to_data_frame()\\\n",
    "    .loc[\n",
    "        meta.query('Cohort == @keep_cohorts').index, \n",
    "        meta.query('Cohort == @keep_cohorts').index\n",
    "    ]"
   ]
  },
  {
   "cell_type": "code",
   "execution_count": 286,
   "metadata": {
    "collapsed": false
   },
   "outputs": [
    {
     "data": {
      "text/html": [
       "<div>\n",
       "<style scoped>\n",
       "    .dataframe tbody tr th:only-of-type {\n",
       "        vertical-align: middle;\n",
       "    }\n",
       "\n",
       "    .dataframe tbody tr th {\n",
       "        vertical-align: top;\n",
       "    }\n",
       "\n",
       "    .dataframe thead th {\n",
       "        text-align: right;\n",
       "    }\n",
       "</style>\n",
       "<table border=\"1\" class=\"dataframe\">\n",
       "  <thead>\n",
       "    <tr style=\"text-align: right;\">\n",
       "      <th>SampleID</th>\n",
       "      <th>LD200</th>\n",
       "      <th>LD201</th>\n",
       "      <th>LD202</th>\n",
       "      <th>LD203</th>\n",
       "      <th>LD204</th>\n",
       "      <th>LD205</th>\n",
       "      <th>LD206</th>\n",
       "      <th>LD207</th>\n",
       "      <th>LD208</th>\n",
       "      <th>LD209</th>\n",
       "      <th>...</th>\n",
       "      <th>PreRx27</th>\n",
       "      <th>PreRx28</th>\n",
       "      <th>PreRx29</th>\n",
       "      <th>PreRx30</th>\n",
       "      <th>PreRx31</th>\n",
       "      <th>PreRx32</th>\n",
       "      <th>PreRx33</th>\n",
       "      <th>PreRx34</th>\n",
       "      <th>PreRx35</th>\n",
       "      <th>PreRx36</th>\n",
       "    </tr>\n",
       "    <tr>\n",
       "      <th>SampleID</th>\n",
       "      <th></th>\n",
       "      <th></th>\n",
       "      <th></th>\n",
       "      <th></th>\n",
       "      <th></th>\n",
       "      <th></th>\n",
       "      <th></th>\n",
       "      <th></th>\n",
       "      <th></th>\n",
       "      <th></th>\n",
       "      <th></th>\n",
       "      <th></th>\n",
       "      <th></th>\n",
       "      <th></th>\n",
       "      <th></th>\n",
       "      <th></th>\n",
       "      <th></th>\n",
       "      <th></th>\n",
       "      <th></th>\n",
       "      <th></th>\n",
       "      <th></th>\n",
       "    </tr>\n",
       "  </thead>\n",
       "  <tbody>\n",
       "    <tr>\n",
       "      <th>LD200</th>\n",
       "      <td>0.000000</td>\n",
       "      <td>0.995692</td>\n",
       "      <td>0.986777</td>\n",
       "      <td>0.930959</td>\n",
       "      <td>0.930398</td>\n",
       "      <td>0.461895</td>\n",
       "      <td>0.970304</td>\n",
       "      <td>0.880672</td>\n",
       "      <td>0.908170</td>\n",
       "      <td>0.826221</td>\n",
       "      <td>...</td>\n",
       "      <td>0.716705</td>\n",
       "      <td>0.956329</td>\n",
       "      <td>0.954721</td>\n",
       "      <td>0.883043</td>\n",
       "      <td>0.964642</td>\n",
       "      <td>0.815153</td>\n",
       "      <td>0.717430</td>\n",
       "      <td>0.848667</td>\n",
       "      <td>0.928565</td>\n",
       "      <td>0.817738</td>\n",
       "    </tr>\n",
       "    <tr>\n",
       "      <th>LD201</th>\n",
       "      <td>0.995692</td>\n",
       "      <td>0.000000</td>\n",
       "      <td>0.654341</td>\n",
       "      <td>0.627872</td>\n",
       "      <td>0.653652</td>\n",
       "      <td>0.996166</td>\n",
       "      <td>0.867044</td>\n",
       "      <td>0.695159</td>\n",
       "      <td>0.671106</td>\n",
       "      <td>0.843752</td>\n",
       "      <td>...</td>\n",
       "      <td>0.821981</td>\n",
       "      <td>0.753800</td>\n",
       "      <td>0.828867</td>\n",
       "      <td>0.998488</td>\n",
       "      <td>0.997198</td>\n",
       "      <td>0.999273</td>\n",
       "      <td>0.956331</td>\n",
       "      <td>0.987701</td>\n",
       "      <td>0.989050</td>\n",
       "      <td>0.999761</td>\n",
       "    </tr>\n",
       "    <tr>\n",
       "      <th>LD202</th>\n",
       "      <td>0.986777</td>\n",
       "      <td>0.654341</td>\n",
       "      <td>0.000000</td>\n",
       "      <td>0.716193</td>\n",
       "      <td>0.645675</td>\n",
       "      <td>0.995926</td>\n",
       "      <td>0.871599</td>\n",
       "      <td>0.632432</td>\n",
       "      <td>0.626597</td>\n",
       "      <td>0.891560</td>\n",
       "      <td>...</td>\n",
       "      <td>0.741495</td>\n",
       "      <td>0.646296</td>\n",
       "      <td>0.747237</td>\n",
       "      <td>0.996579</td>\n",
       "      <td>0.997908</td>\n",
       "      <td>0.996826</td>\n",
       "      <td>0.959757</td>\n",
       "      <td>0.987590</td>\n",
       "      <td>0.986771</td>\n",
       "      <td>0.998291</td>\n",
       "    </tr>\n",
       "    <tr>\n",
       "      <th>LD203</th>\n",
       "      <td>0.930959</td>\n",
       "      <td>0.627872</td>\n",
       "      <td>0.716193</td>\n",
       "      <td>0.000000</td>\n",
       "      <td>0.569061</td>\n",
       "      <td>0.941520</td>\n",
       "      <td>0.833010</td>\n",
       "      <td>0.714550</td>\n",
       "      <td>0.794784</td>\n",
       "      <td>0.800858</td>\n",
       "      <td>...</td>\n",
       "      <td>0.846443</td>\n",
       "      <td>0.812381</td>\n",
       "      <td>0.844765</td>\n",
       "      <td>0.982896</td>\n",
       "      <td>0.997449</td>\n",
       "      <td>0.975603</td>\n",
       "      <td>0.934040</td>\n",
       "      <td>0.984335</td>\n",
       "      <td>0.974061</td>\n",
       "      <td>0.985099</td>\n",
       "    </tr>\n",
       "    <tr>\n",
       "      <th>LD204</th>\n",
       "      <td>0.930398</td>\n",
       "      <td>0.653652</td>\n",
       "      <td>0.645675</td>\n",
       "      <td>0.569061</td>\n",
       "      <td>0.000000</td>\n",
       "      <td>0.971627</td>\n",
       "      <td>0.880675</td>\n",
       "      <td>0.728118</td>\n",
       "      <td>0.749154</td>\n",
       "      <td>0.835940</td>\n",
       "      <td>...</td>\n",
       "      <td>0.853918</td>\n",
       "      <td>0.751385</td>\n",
       "      <td>0.783205</td>\n",
       "      <td>0.989621</td>\n",
       "      <td>0.996993</td>\n",
       "      <td>0.989697</td>\n",
       "      <td>0.952735</td>\n",
       "      <td>0.982357</td>\n",
       "      <td>0.979858</td>\n",
       "      <td>0.993177</td>\n",
       "    </tr>\n",
       "  </tbody>\n",
       "</table>\n",
       "<p>5 rows × 114 columns</p>\n",
       "</div>"
      ],
      "text/plain": [
       "SampleID     LD200     LD201     LD202     LD203     LD204     LD205  \\\n",
       "SampleID                                                               \n",
       "LD200     0.000000  0.995692  0.986777  0.930959  0.930398  0.461895   \n",
       "LD201     0.995692  0.000000  0.654341  0.627872  0.653652  0.996166   \n",
       "LD202     0.986777  0.654341  0.000000  0.716193  0.645675  0.995926   \n",
       "LD203     0.930959  0.627872  0.716193  0.000000  0.569061  0.941520   \n",
       "LD204     0.930398  0.653652  0.645675  0.569061  0.000000  0.971627   \n",
       "\n",
       "SampleID     LD206     LD207     LD208     LD209    ...      PreRx27  \\\n",
       "SampleID                                            ...                \n",
       "LD200     0.970304  0.880672  0.908170  0.826221    ...     0.716705   \n",
       "LD201     0.867044  0.695159  0.671106  0.843752    ...     0.821981   \n",
       "LD202     0.871599  0.632432  0.626597  0.891560    ...     0.741495   \n",
       "LD203     0.833010  0.714550  0.794784  0.800858    ...     0.846443   \n",
       "LD204     0.880675  0.728118  0.749154  0.835940    ...     0.853918   \n",
       "\n",
       "SampleID   PreRx28   PreRx29   PreRx30   PreRx31   PreRx32   PreRx33  \\\n",
       "SampleID                                                               \n",
       "LD200     0.956329  0.954721  0.883043  0.964642  0.815153  0.717430   \n",
       "LD201     0.753800  0.828867  0.998488  0.997198  0.999273  0.956331   \n",
       "LD202     0.646296  0.747237  0.996579  0.997908  0.996826  0.959757   \n",
       "LD203     0.812381  0.844765  0.982896  0.997449  0.975603  0.934040   \n",
       "LD204     0.751385  0.783205  0.989621  0.996993  0.989697  0.952735   \n",
       "\n",
       "SampleID   PreRx34   PreRx35   PreRx36  \n",
       "SampleID                                \n",
       "LD200     0.848667  0.928565  0.817738  \n",
       "LD201     0.987701  0.989050  0.999761  \n",
       "LD202     0.987590  0.986771  0.998291  \n",
       "LD203     0.984335  0.974061  0.985099  \n",
       "LD204     0.982357  0.979858  0.993177  \n",
       "\n",
       "[5 rows x 114 columns]"
      ]
     },
     "execution_count": 286,
     "metadata": {},
     "output_type": "execute_result"
    }
   ],
   "source": [
    "cohort1_results.head()"
   ]
  },
  {
   "cell_type": "code",
   "execution_count": 287,
   "metadata": {
    "collapsed": false
   },
   "outputs": [],
   "source": [
    "pca1 = PCA(random_state=12345).fit(cohort1_results.values)\n",
    "ypca1 = pca1.transform(cohort1_results.values)\n",
    "\n",
    "dfpca1 = pd.DataFrame(data=ypca1, index=cohort1_results.index, \n",
    "                      columns=['PC' + str(i) for i in range(ypca1.shape[1])])\n",
    "\n",
    "# Make dataframe for plotting\n",
    "toplot1 = pd.DataFrame(columns=['sample', 'PC0', 'PC1', 'disease'])\n",
    "toplot1['sample'] = dfpca1.index\n",
    "toplot1['PC0'] = dfpca1['PC0'].values\n",
    "toplot1['PC1'] = dfpca1['PC1'].values\n",
    "toplot1 = pd.merge(toplot1, meta, left_on='sample', right_index=True)\n",
    "toplot1 = toplot1.drop(['LinkerPrimerSequence', 'Mapped Reads', 'Mapped reads'], axis=1)\n",
    "toplot1['disease_color'] = toplot1['DiseaseState'].apply(lambda x: 'r' if x == \"Diarrhea\" else 'b')"
   ]
  },
  {
   "cell_type": "code",
   "execution_count": 297,
   "metadata": {
    "collapsed": false
   },
   "outputs": [
    {
     "data": {
      "text/plain": [
       "<matplotlib.text.Text at 0x1229a52d0>"
      ]
     },
     "execution_count": 297,
     "metadata": {},
     "output_type": "execute_result"
    },
    {
     "data": {
      "image/png": "[encoded data removed]",
      "text/plain": [
       "<matplotlib.figure.Figure at 0x121ddbbd0>"
      ]
     },
     "metadata": {},
     "output_type": "display_data"
    }
   ],
   "source": [
    "plt.scatter(toplot1['PC0'], toplot1['PC1'], c=toplot1['disease_color'], s=30)\n",
    "plt.title(\"PCA of Cohort 1 and 2 samples\")"
   ]
  },
  {
   "cell_type": "markdown",
   "metadata": {},
   "source": [
    "Let's try to re-make the Fig 1C plot. Need to re-label all healthy samples as \"healthy\", so that only diarrheal patients have the Sample day (dpp) categorization."
   ]
  },
  {
   "cell_type": "code",
   "execution_count": 289,
   "metadata": {
    "collapsed": true
   },
   "outputs": [],
   "source": [
    "def relabel_sample_day(row):\n",
    "    if row['DiseaseState'] == \"Healthy\":\n",
    "        return \"healthy\"\n",
    "    else:\n",
    "        day = row['Sample day (dpp)']\n",
    "        if day == 0 or day == 1:\n",
    "            return day\n",
    "        elif 4 < day < 10:\n",
    "            return 7\n",
    "        elif day > 15:\n",
    "            return 30\n",
    "toplot1['sample_day_disease'] = toplot1.apply(relabel_sample_day, axis=1)"
   ]
  },
  {
   "cell_type": "code",
   "execution_count": 298,
   "metadata": {
    "collapsed": false
   },
   "outputs": [
    {
     "data": {
      "text/plain": [
       "<matplotlib.text.Text at 0x122b4e790>"
      ]
     },
     "execution_count": 298,
     "metadata": {},
     "output_type": "execute_result"
    },
    {
     "data": {
      "image/png": "[encoded data removed]",
      "text/plain": [
       "<matplotlib.figure.Figure at 0x122993e50>"
      ]
     },
     "metadata": {},
     "output_type": "display_data"
    }
   ],
   "source": [
    "keepdays = ['healthy', 0, 1, 7, 30]\n",
    "tmp = toplot1.query('sample_day_disease == @keepdays')\n",
    "sns.lmplot(x='PC0', y='PC1', data=tmp, hue='sample_day_disease', \n",
    "           fit_reg=False, hue_order=[0, 1, 7, 30, 'healthy'],\n",
    "           scatter_kws={\"s\": 35}, palette=\"Set1\")\n",
    "plt.title('Cohort 1/2 samples, colored by dpp')"
   ]
  },
  {
   "cell_type": "code",
   "execution_count": 300,
   "metadata": {
    "collapsed": false
   },
   "outputs": [],
   "source": [
    "toplot1['household-subject'] = toplot1['Household'] + '-' + toplot1['Subject / Contact'].astype(str)"
   ]
  },
  {
   "cell_type": "code",
   "execution_count": 305,
   "metadata": {
    "collapsed": false
   },
   "outputs": [
    {
     "data": {
      "text/plain": [
       "<matplotlib.text.Text at 0x123dfc050>"
      ]
     },
     "execution_count": 305,
     "metadata": {},
     "output_type": "execute_result"
    },
    {
     "data": {
      "image/png": "[encoded data removed]",
      "text/plain": [
       "<matplotlib.figure.Figure at 0x123bdf350>"
      ]
     },
     "metadata": {},
     "output_type": "display_data"
    }
   ],
   "source": [
    "sns.lmplot(x='PC0', y='PC1', data=toplot1, hue='Household', \n",
    "           fit_reg=False,\n",
    "           scatter_kws={\"s\": 45})\n",
    "plt.title('Cohort 1/2 samples, colored by household')"
   ]
  },
  {
   "cell_type": "markdown",
   "metadata": {},
   "source": [
    "Hm, doesn't really look as striking as the paper.\n",
    "\n",
    "I need to find out which samples Lawrence used to make this plot (I have way more healthy samples than he does) - just for a sanity check. Could also consider re-doing this analysis with 97% OTUs..."
   ]
  },
  {
   "cell_type": "code",
   "execution_count": null,
   "metadata": {
    "collapsed": true
   },
   "outputs": [],
   "source": []
  }
 ],
 "metadata": {
  "anaconda-cloud": {},
  "kernelspec": {
   "display_name": "Python [default]",
   "language": "python",
   "name": "python2"
  },
  "language_info": {
   "codemirror_mode": {
    "name": "ipython",
    "version": 2
   },
   "file_extension": ".py",
   "mimetype": "text/x-python",
   "name": "python",
   "nbconvert_exporter": "python",
   "pygments_lexer": "ipython2",
   "version": "2.7.12"
  }
 },
 "nbformat": 4,
 "nbformat_minor": 2
}
